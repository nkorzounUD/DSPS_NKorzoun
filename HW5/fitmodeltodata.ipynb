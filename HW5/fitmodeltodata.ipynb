{
 "cells": [
  {
   "cell_type": "markdown",
   "source": [
    "Prepared by Andrew Crossman @AndrewCrossman, Ben Flaggs @bflaggs, Nik Korzoun @nkorzounUD, Connor Mooney @comooney711"
   ],
   "metadata": {}
  },
  {
   "cell_type": "markdown",
   "source": [
    "# Importing data"
   ],
   "metadata": {}
  },
  {
   "cell_type": "code",
   "execution_count": 4,
   "source": [
    "import numpy as np\n",
    "import scipy as sp\n",
    "from scipy import stats\n",
    "import matplotlib.pylab as plt\n",
    "import pandas as pd\n",
    "%pylab inline"
   ],
   "outputs": [
    {
     "output_type": "stream",
     "name": "stdout",
     "text": [
      "Populating the interactive namespace from numpy and matplotlib\n"
     ]
    }
   ],
   "metadata": {}
  },
  {
   "cell_type": "code",
   "execution_count": 19,
   "source": [
    "# Read csv\n",
    "data = pd.read_csv(\"https://raw.githubusercontent.com/fedhere/DSPS_FBianco/master/HW5/hbl2017.csv\",sep=\",\")\n",
    "\n",
    "# Rename columns\n",
    "data = data[['#ID','x','y','σy', 'σx', 'ρxy']].rename(\n",
    "    {'#ID':'ID','x':'x','y':'y','σy':'yerr', 'σx':'xerr', 'ρxy':'corr'}, axis=1)\n",
    "\n",
    "# Change all data in the dataframe to floats\n",
    "data = data.astype(float)\n",
    "data"
   ],
   "outputs": [
    {
     "output_type": "execute_result",
     "data": {
      "text/html": [
       "<div>\n",
       "<style scoped>\n",
       "    .dataframe tbody tr th:only-of-type {\n",
       "        vertical-align: middle;\n",
       "    }\n",
       "\n",
       "    .dataframe tbody tr th {\n",
       "        vertical-align: top;\n",
       "    }\n",
       "\n",
       "    .dataframe thead th {\n",
       "        text-align: right;\n",
       "    }\n",
       "</style>\n",
       "<table border=\"1\" class=\"dataframe\">\n",
       "  <thead>\n",
       "    <tr style=\"text-align: right;\">\n",
       "      <th></th>\n",
       "      <th>ID</th>\n",
       "      <th>x</th>\n",
       "      <th>y</th>\n",
       "      <th>yerr</th>\n",
       "      <th>xerr</th>\n",
       "      <th>corr</th>\n",
       "    </tr>\n",
       "  </thead>\n",
       "  <tbody>\n",
       "    <tr>\n",
       "      <th>0</th>\n",
       "      <td>1.0</td>\n",
       "      <td>201.0</td>\n",
       "      <td>592.0</td>\n",
       "      <td>61.0</td>\n",
       "      <td>9.0</td>\n",
       "      <td>-0.84</td>\n",
       "    </tr>\n",
       "    <tr>\n",
       "      <th>1</th>\n",
       "      <td>2.0</td>\n",
       "      <td>244.0</td>\n",
       "      <td>401.0</td>\n",
       "      <td>25.0</td>\n",
       "      <td>4.0</td>\n",
       "      <td>0.31</td>\n",
       "    </tr>\n",
       "    <tr>\n",
       "      <th>2</th>\n",
       "      <td>3.0</td>\n",
       "      <td>47.0</td>\n",
       "      <td>583.0</td>\n",
       "      <td>38.0</td>\n",
       "      <td>11.0</td>\n",
       "      <td>0.64</td>\n",
       "    </tr>\n",
       "    <tr>\n",
       "      <th>3</th>\n",
       "      <td>4.0</td>\n",
       "      <td>287.0</td>\n",
       "      <td>402.0</td>\n",
       "      <td>15.0</td>\n",
       "      <td>7.0</td>\n",
       "      <td>-0.27</td>\n",
       "    </tr>\n",
       "    <tr>\n",
       "      <th>4</th>\n",
       "      <td>5.0</td>\n",
       "      <td>203.0</td>\n",
       "      <td>495.0</td>\n",
       "      <td>21.0</td>\n",
       "      <td>5.0</td>\n",
       "      <td>-0.33</td>\n",
       "    </tr>\n",
       "    <tr>\n",
       "      <th>5</th>\n",
       "      <td>6.0</td>\n",
       "      <td>58.0</td>\n",
       "      <td>173.0</td>\n",
       "      <td>15.0</td>\n",
       "      <td>9.0</td>\n",
       "      <td>0.67</td>\n",
       "    </tr>\n",
       "    <tr>\n",
       "      <th>6</th>\n",
       "      <td>7.0</td>\n",
       "      <td>210.0</td>\n",
       "      <td>479.0</td>\n",
       "      <td>27.0</td>\n",
       "      <td>4.0</td>\n",
       "      <td>-0.02</td>\n",
       "    </tr>\n",
       "    <tr>\n",
       "      <th>7</th>\n",
       "      <td>8.0</td>\n",
       "      <td>202.0</td>\n",
       "      <td>504.0</td>\n",
       "      <td>14.0</td>\n",
       "      <td>4.0</td>\n",
       "      <td>-0.05</td>\n",
       "    </tr>\n",
       "    <tr>\n",
       "      <th>8</th>\n",
       "      <td>9.0</td>\n",
       "      <td>198.0</td>\n",
       "      <td>510.0</td>\n",
       "      <td>30.0</td>\n",
       "      <td>11.0</td>\n",
       "      <td>-0.84</td>\n",
       "    </tr>\n",
       "    <tr>\n",
       "      <th>9</th>\n",
       "      <td>10.0</td>\n",
       "      <td>158.0</td>\n",
       "      <td>416.0</td>\n",
       "      <td>16.0</td>\n",
       "      <td>7.0</td>\n",
       "      <td>-0.69</td>\n",
       "    </tr>\n",
       "    <tr>\n",
       "      <th>10</th>\n",
       "      <td>11.0</td>\n",
       "      <td>165.0</td>\n",
       "      <td>393.0</td>\n",
       "      <td>14.0</td>\n",
       "      <td>5.0</td>\n",
       "      <td>0.30</td>\n",
       "    </tr>\n",
       "    <tr>\n",
       "      <th>11</th>\n",
       "      <td>12.0</td>\n",
       "      <td>201.0</td>\n",
       "      <td>442.0</td>\n",
       "      <td>25.0</td>\n",
       "      <td>5.0</td>\n",
       "      <td>-0.46</td>\n",
       "    </tr>\n",
       "    <tr>\n",
       "      <th>12</th>\n",
       "      <td>13.0</td>\n",
       "      <td>157.0</td>\n",
       "      <td>317.0</td>\n",
       "      <td>52.0</td>\n",
       "      <td>5.0</td>\n",
       "      <td>-0.03</td>\n",
       "    </tr>\n",
       "    <tr>\n",
       "      <th>13</th>\n",
       "      <td>14.0</td>\n",
       "      <td>131.0</td>\n",
       "      <td>311.0</td>\n",
       "      <td>16.0</td>\n",
       "      <td>6.0</td>\n",
       "      <td>0.50</td>\n",
       "    </tr>\n",
       "    <tr>\n",
       "      <th>14</th>\n",
       "      <td>15.0</td>\n",
       "      <td>166.0</td>\n",
       "      <td>400.0</td>\n",
       "      <td>34.0</td>\n",
       "      <td>6.0</td>\n",
       "      <td>0.73</td>\n",
       "    </tr>\n",
       "    <tr>\n",
       "      <th>15</th>\n",
       "      <td>16.0</td>\n",
       "      <td>160.0</td>\n",
       "      <td>337.0</td>\n",
       "      <td>31.0</td>\n",
       "      <td>5.0</td>\n",
       "      <td>-0.52</td>\n",
       "    </tr>\n",
       "    <tr>\n",
       "      <th>16</th>\n",
       "      <td>17.0</td>\n",
       "      <td>186.0</td>\n",
       "      <td>423.0</td>\n",
       "      <td>42.0</td>\n",
       "      <td>9.0</td>\n",
       "      <td>0.90</td>\n",
       "    </tr>\n",
       "    <tr>\n",
       "      <th>17</th>\n",
       "      <td>18.0</td>\n",
       "      <td>125.0</td>\n",
       "      <td>334.0</td>\n",
       "      <td>26.0</td>\n",
       "      <td>8.0</td>\n",
       "      <td>0.40</td>\n",
       "    </tr>\n",
       "    <tr>\n",
       "      <th>18</th>\n",
       "      <td>19.0</td>\n",
       "      <td>218.0</td>\n",
       "      <td>533.0</td>\n",
       "      <td>16.0</td>\n",
       "      <td>6.0</td>\n",
       "      <td>-0.78</td>\n",
       "    </tr>\n",
       "    <tr>\n",
       "      <th>19</th>\n",
       "      <td>20.0</td>\n",
       "      <td>146.0</td>\n",
       "      <td>344.0</td>\n",
       "      <td>22.0</td>\n",
       "      <td>5.0</td>\n",
       "      <td>-0.56</td>\n",
       "    </tr>\n",
       "  </tbody>\n",
       "</table>\n",
       "</div>"
      ],
      "text/plain": [
       "      ID      x      y  yerr  xerr  corr\n",
       "0    1.0  201.0  592.0  61.0   9.0 -0.84\n",
       "1    2.0  244.0  401.0  25.0   4.0  0.31\n",
       "2    3.0   47.0  583.0  38.0  11.0  0.64\n",
       "3    4.0  287.0  402.0  15.0   7.0 -0.27\n",
       "4    5.0  203.0  495.0  21.0   5.0 -0.33\n",
       "5    6.0   58.0  173.0  15.0   9.0  0.67\n",
       "6    7.0  210.0  479.0  27.0   4.0 -0.02\n",
       "7    8.0  202.0  504.0  14.0   4.0 -0.05\n",
       "8    9.0  198.0  510.0  30.0  11.0 -0.84\n",
       "9   10.0  158.0  416.0  16.0   7.0 -0.69\n",
       "10  11.0  165.0  393.0  14.0   5.0  0.30\n",
       "11  12.0  201.0  442.0  25.0   5.0 -0.46\n",
       "12  13.0  157.0  317.0  52.0   5.0 -0.03\n",
       "13  14.0  131.0  311.0  16.0   6.0  0.50\n",
       "14  15.0  166.0  400.0  34.0   6.0  0.73\n",
       "15  16.0  160.0  337.0  31.0   5.0 -0.52\n",
       "16  17.0  186.0  423.0  42.0   9.0  0.90\n",
       "17  18.0  125.0  334.0  26.0   8.0  0.40\n",
       "18  19.0  218.0  533.0  16.0   6.0 -0.78\n",
       "19  20.0  146.0  344.0  22.0   5.0 -0.56"
      ]
     },
     "metadata": {},
     "execution_count": 19
    }
   ],
   "metadata": {}
  },
  {
   "cell_type": "markdown",
   "source": [
    "# Exercise 1"
   ],
   "metadata": {}
  },
  {
   "cell_type": "code",
   "execution_count": 34,
   "source": [
    "# only interested in points 5-20\n",
    "e1 = data[data.ID>4]\n",
    "e1.head()\n",
    "#e1.tail()"
   ],
   "outputs": [
    {
     "output_type": "execute_result",
     "data": {
      "text/html": [
       "<div>\n",
       "<style scoped>\n",
       "    .dataframe tbody tr th:only-of-type {\n",
       "        vertical-align: middle;\n",
       "    }\n",
       "\n",
       "    .dataframe tbody tr th {\n",
       "        vertical-align: top;\n",
       "    }\n",
       "\n",
       "    .dataframe thead th {\n",
       "        text-align: right;\n",
       "    }\n",
       "</style>\n",
       "<table border=\"1\" class=\"dataframe\">\n",
       "  <thead>\n",
       "    <tr style=\"text-align: right;\">\n",
       "      <th></th>\n",
       "      <th>ID</th>\n",
       "      <th>x</th>\n",
       "      <th>y</th>\n",
       "      <th>yerr</th>\n",
       "      <th>xerr</th>\n",
       "      <th>corr</th>\n",
       "    </tr>\n",
       "  </thead>\n",
       "  <tbody>\n",
       "    <tr>\n",
       "      <th>4</th>\n",
       "      <td>5.0</td>\n",
       "      <td>203.0</td>\n",
       "      <td>495.0</td>\n",
       "      <td>21.0</td>\n",
       "      <td>5.0</td>\n",
       "      <td>-0.33</td>\n",
       "    </tr>\n",
       "    <tr>\n",
       "      <th>5</th>\n",
       "      <td>6.0</td>\n",
       "      <td>58.0</td>\n",
       "      <td>173.0</td>\n",
       "      <td>15.0</td>\n",
       "      <td>9.0</td>\n",
       "      <td>0.67</td>\n",
       "    </tr>\n",
       "    <tr>\n",
       "      <th>6</th>\n",
       "      <td>7.0</td>\n",
       "      <td>210.0</td>\n",
       "      <td>479.0</td>\n",
       "      <td>27.0</td>\n",
       "      <td>4.0</td>\n",
       "      <td>-0.02</td>\n",
       "    </tr>\n",
       "    <tr>\n",
       "      <th>7</th>\n",
       "      <td>8.0</td>\n",
       "      <td>202.0</td>\n",
       "      <td>504.0</td>\n",
       "      <td>14.0</td>\n",
       "      <td>4.0</td>\n",
       "      <td>-0.05</td>\n",
       "    </tr>\n",
       "    <tr>\n",
       "      <th>8</th>\n",
       "      <td>9.0</td>\n",
       "      <td>198.0</td>\n",
       "      <td>510.0</td>\n",
       "      <td>30.0</td>\n",
       "      <td>11.0</td>\n",
       "      <td>-0.84</td>\n",
       "    </tr>\n",
       "  </tbody>\n",
       "</table>\n",
       "</div>"
      ],
      "text/plain": [
       "    ID      x      y  yerr  xerr  corr\n",
       "4  5.0  203.0  495.0  21.0   5.0 -0.33\n",
       "5  6.0   58.0  173.0  15.0   9.0  0.67\n",
       "6  7.0  210.0  479.0  27.0   4.0 -0.02\n",
       "7  8.0  202.0  504.0  14.0   4.0 -0.05\n",
       "8  9.0  198.0  510.0  30.0  11.0 -0.84"
      ]
     },
     "metadata": {},
     "execution_count": 34
    }
   ],
   "metadata": {}
  },
  {
   "cell_type": "code",
   "execution_count": 94,
   "source": [
    "# plot data\n",
    "plt.errorbar(e1['x'], e1['y'], yerr=e1['yerr'], fmt=\".k\", capsize=2.5)\n",
    "\n",
    "# set up matrices\n",
    "A = np.vander(e1['x'], 2) \n",
    "ATA = np.dot(A.T, A / (e1['yerr'] ** 2)[:, None])\n",
    "cov = np.linalg.inv(ATA) #covariance will give us the errors\n",
    "\n",
    "# linear algebra solution\n",
    "m = np.linalg.solve(ATA, np.dot(A.T, e1['y'] / e1['yerr'] ** 2))\n",
    "print(\"Least-squares estimates:\")\n",
    "print(\"m = {0:.2f} ± {1:.2f}\".format(m[0], np.sqrt(cov[0, 0])))\n",
    "print(\"b = {0:.0f} ± {1:.0f}\".format(m[1], np.sqrt(cov[1, 1])))\n",
    "\n",
    "# plot linear algebra solution\n",
    "x0 = np.linspace(0, 300)\n",
    "plt.plot(x0, m[0] * x0 + m[1], \"k\")\n",
    "plt.xlim(0, 300)\n",
    "plt.ylim(0, 700)\n",
    "plt.xlabel(\"x\")\n",
    "plt.ylabel(\"y\")\n",
    "plt.text(100,200, \"y = (2.24 ± 0.11) x + (34 ± 18)\")"
   ],
   "outputs": [
    {
     "output_type": "stream",
     "name": "stdout",
     "text": [
      "Least-squares estimates:\n",
      "m = 2.24 ± 0.11\n",
      "b = 34 ± 18\n"
     ]
    },
    {
     "output_type": "stream",
     "name": "stderr",
     "text": [
      "/tmp/ipykernel_444762/191731089.py:6: FutureWarning: Support for multi-dimensional indexing (e.g. `obj[:, None]`) is deprecated and will be removed in a future version.  Convert to a numpy array before indexing instead.\n",
      "  ATA = np.dot(A.T, A / (e1['yerr'] ** 2)[:, None])\n"
     ]
    },
    {
     "output_type": "execute_result",
     "data": {
      "text/plain": [
       "Text(100, 200, 'y = (2.24 ± 0.11) x + (34 ± 18)')"
      ]
     },
     "metadata": {},
     "execution_count": 94
    },
    {
     "output_type": "display_data",
     "data": {
      "image/png": "[encoded data removed]",
      "text/plain": [
       "<Figure size 432x288 with 1 Axes>"
      ]
     },
     "metadata": {
      "needs_background": "light"
     }
    }
   ],
   "metadata": {}
  },
  {
   "cell_type": "markdown",
   "source": [
    "## Figure 1:\n",
    "### Plot of data points 5-20 in Table 1 of (Hogg, Bovy, Lang 2017). A fit is performed using linear algebra, and we find the solution $y = (2.24 ± 0.11) x + (34 ± 18)$. Thus, the standard uncertainty variance on the slope of the line, $σ_m^2$, is $(0.11^2) = 0.01$"
   ],
   "metadata": {}
  },
  {
   "cell_type": "markdown",
   "source": [
    "# Exercise 2"
   ],
   "metadata": {}
  },
  {
   "cell_type": "code",
   "execution_count": 96,
   "source": [
    "# now we are interested in all points\n",
    "e2 = data\n",
    "e2.head()"
   ],
   "outputs": [
    {
     "output_type": "execute_result",
     "data": {
      "text/html": [
       "<div>\n",
       "<style scoped>\n",
       "    .dataframe tbody tr th:only-of-type {\n",
       "        vertical-align: middle;\n",
       "    }\n",
       "\n",
       "    .dataframe tbody tr th {\n",
       "        vertical-align: top;\n",
       "    }\n",
       "\n",
       "    .dataframe thead th {\n",
       "        text-align: right;\n",
       "    }\n",
       "</style>\n",
       "<table border=\"1\" class=\"dataframe\">\n",
       "  <thead>\n",
       "    <tr style=\"text-align: right;\">\n",
       "      <th></th>\n",
       "      <th>ID</th>\n",
       "      <th>x</th>\n",
       "      <th>y</th>\n",
       "      <th>yerr</th>\n",
       "      <th>xerr</th>\n",
       "      <th>corr</th>\n",
       "    </tr>\n",
       "  </thead>\n",
       "  <tbody>\n",
       "    <tr>\n",
       "      <th>0</th>\n",
       "      <td>1.0</td>\n",
       "      <td>201.0</td>\n",
       "      <td>592.0</td>\n",
       "      <td>61.0</td>\n",
       "      <td>9.0</td>\n",
       "      <td>-0.84</td>\n",
       "    </tr>\n",
       "    <tr>\n",
       "      <th>1</th>\n",
       "      <td>2.0</td>\n",
       "      <td>244.0</td>\n",
       "      <td>401.0</td>\n",
       "      <td>25.0</td>\n",
       "      <td>4.0</td>\n",
       "      <td>0.31</td>\n",
       "    </tr>\n",
       "    <tr>\n",
       "      <th>2</th>\n",
       "      <td>3.0</td>\n",
       "      <td>47.0</td>\n",
       "      <td>583.0</td>\n",
       "      <td>38.0</td>\n",
       "      <td>11.0</td>\n",
       "      <td>0.64</td>\n",
       "    </tr>\n",
       "    <tr>\n",
       "      <th>3</th>\n",
       "      <td>4.0</td>\n",
       "      <td>287.0</td>\n",
       "      <td>402.0</td>\n",
       "      <td>15.0</td>\n",
       "      <td>7.0</td>\n",
       "      <td>-0.27</td>\n",
       "    </tr>\n",
       "    <tr>\n",
       "      <th>4</th>\n",
       "      <td>5.0</td>\n",
       "      <td>203.0</td>\n",
       "      <td>495.0</td>\n",
       "      <td>21.0</td>\n",
       "      <td>5.0</td>\n",
       "      <td>-0.33</td>\n",
       "    </tr>\n",
       "  </tbody>\n",
       "</table>\n",
       "</div>"
      ],
      "text/plain": [
       "    ID      x      y  yerr  xerr  corr\n",
       "0  1.0  201.0  592.0  61.0   9.0 -0.84\n",
       "1  2.0  244.0  401.0  25.0   4.0  0.31\n",
       "2  3.0   47.0  583.0  38.0  11.0  0.64\n",
       "3  4.0  287.0  402.0  15.0   7.0 -0.27\n",
       "4  5.0  203.0  495.0  21.0   5.0 -0.33"
      ]
     },
     "metadata": {},
     "execution_count": 96
    }
   ],
   "metadata": {}
  },
  {
   "cell_type": "code",
   "execution_count": 100,
   "source": [
    "# plot data\n",
    "plt.errorbar(e2['x'], e2['y'], yerr=e2['yerr'], fmt=\".k\", capsize=2.5)\n",
    "\n",
    "# set up matrices\n",
    "A = np.vander(e2['x'], 2) \n",
    "ATA = np.dot(A.T, A / (e2['yerr'] ** 2)[:, None])\n",
    "cov = np.linalg.inv(ATA) #covariance will give us the errors\n",
    "\n",
    "# linear algebra solution\n",
    "m = np.linalg.solve(ATA, np.dot(A.T, e2['y'] / e2['yerr'] ** 2))\n",
    "print(\"Least-squares estimates:\")\n",
    "print(\"m = {0:.2f} ± {1:.2f}\".format(m[0], np.sqrt(cov[0, 0])))\n",
    "print(\"b = {0:.0f} ± {1:.0f}\".format(m[1], np.sqrt(cov[1, 1])))\n",
    "\n",
    "# plot linear algebra solution\n",
    "x0 = np.linspace(0, 300)\n",
    "plt.plot(x0, m[0] * x0 + m[1], \"k\")\n",
    "plt.xlim(0, 300)\n",
    "plt.ylim(0, 700)\n",
    "plt.xlabel(\"x\")\n",
    "plt.ylabel(\"y\")\n",
    "plt.text(100,200, \"y = (1.008 ± 0.08) x + (213 ± 14)\")"
   ],
   "outputs": [
    {
     "output_type": "stream",
     "name": "stdout",
     "text": [
      "Least-squares estimates:\n",
      "m = 1.08 ± 0.08\n",
      "b = 213 ± 14\n"
     ]
    },
    {
     "output_type": "stream",
     "name": "stderr",
     "text": [
      "/tmp/ipykernel_444762/2071841959.py:6: FutureWarning: Support for multi-dimensional indexing (e.g. `obj[:, None]`) is deprecated and will be removed in a future version.  Convert to a numpy array before indexing instead.\n",
      "  ATA = np.dot(A.T, A / (e2['yerr'] ** 2)[:, None])\n"
     ]
    },
    {
     "output_type": "execute_result",
     "data": {
      "text/plain": [
       "Text(100, 200, 'y = (1.008 ± 0.08) x + (213 ± 14)')"
      ]
     },
     "metadata": {},
     "execution_count": 100
    },
    {
     "output_type": "display_data",
     "data": {
      "image/png": "[encoded data removed]",
      "text/plain": [
       "<Figure size 432x288 with 1 Axes>"
      ]
     },
     "metadata": {
      "needs_background": "light"
     }
    }
   ],
   "metadata": {}
  },
  {
   "cell_type": "markdown",
   "source": [
    "## Figure 2:\n",
    "### Plot of all data points in Table 1 of (Hogg, Bovy, Lang 2017). A fit is performed using linear algebra, and we find the solution $y = (1.008 ± 0.08) x + (213 ± 14)$. Thus, the standard uncertainty variance on the slope of the line, $σ_m^2$, is $(0.08^2) = 0.006$. The uncertainty on the slope of the line is smaller with the new included data points, but the new included points are outliers. These outliers have more significance on the result of the fit as they perhaps should."
   ],
   "metadata": {}
  },
  {
   "cell_type": "markdown",
   "source": [
    "# Exercise 3"
   ],
   "metadata": {}
  },
  {
   "cell_type": "code",
   "execution_count": 101,
   "source": [
    "# only interested in points 5-20\n",
    "e3 = e1\n",
    "e3.head()\n",
    "#e3.tail()"
   ],
   "outputs": [
    {
     "output_type": "execute_result",
     "data": {
      "text/html": [
       "<div>\n",
       "<style scoped>\n",
       "    .dataframe tbody tr th:only-of-type {\n",
       "        vertical-align: middle;\n",
       "    }\n",
       "\n",
       "    .dataframe tbody tr th {\n",
       "        vertical-align: top;\n",
       "    }\n",
       "\n",
       "    .dataframe thead th {\n",
       "        text-align: right;\n",
       "    }\n",
       "</style>\n",
       "<table border=\"1\" class=\"dataframe\">\n",
       "  <thead>\n",
       "    <tr style=\"text-align: right;\">\n",
       "      <th></th>\n",
       "      <th>ID</th>\n",
       "      <th>x</th>\n",
       "      <th>y</th>\n",
       "      <th>yerr</th>\n",
       "      <th>xerr</th>\n",
       "      <th>corr</th>\n",
       "    </tr>\n",
       "  </thead>\n",
       "  <tbody>\n",
       "    <tr>\n",
       "      <th>4</th>\n",
       "      <td>5.0</td>\n",
       "      <td>203.0</td>\n",
       "      <td>495.0</td>\n",
       "      <td>21.0</td>\n",
       "      <td>5.0</td>\n",
       "      <td>-0.33</td>\n",
       "    </tr>\n",
       "    <tr>\n",
       "      <th>5</th>\n",
       "      <td>6.0</td>\n",
       "      <td>58.0</td>\n",
       "      <td>173.0</td>\n",
       "      <td>15.0</td>\n",
       "      <td>9.0</td>\n",
       "      <td>0.67</td>\n",
       "    </tr>\n",
       "    <tr>\n",
       "      <th>6</th>\n",
       "      <td>7.0</td>\n",
       "      <td>210.0</td>\n",
       "      <td>479.0</td>\n",
       "      <td>27.0</td>\n",
       "      <td>4.0</td>\n",
       "      <td>-0.02</td>\n",
       "    </tr>\n",
       "    <tr>\n",
       "      <th>7</th>\n",
       "      <td>8.0</td>\n",
       "      <td>202.0</td>\n",
       "      <td>504.0</td>\n",
       "      <td>14.0</td>\n",
       "      <td>4.0</td>\n",
       "      <td>-0.05</td>\n",
       "    </tr>\n",
       "    <tr>\n",
       "      <th>8</th>\n",
       "      <td>9.0</td>\n",
       "      <td>198.0</td>\n",
       "      <td>510.0</td>\n",
       "      <td>30.0</td>\n",
       "      <td>11.0</td>\n",
       "      <td>-0.84</td>\n",
       "    </tr>\n",
       "  </tbody>\n",
       "</table>\n",
       "</div>"
      ],
      "text/plain": [
       "    ID      x      y  yerr  xerr  corr\n",
       "4  5.0  203.0  495.0  21.0   5.0 -0.33\n",
       "5  6.0   58.0  173.0  15.0   9.0  0.67\n",
       "6  7.0  210.0  479.0  27.0   4.0 -0.02\n",
       "7  8.0  202.0  504.0  14.0   4.0 -0.05\n",
       "8  9.0  198.0  510.0  30.0  11.0 -0.84"
      ]
     },
     "metadata": {},
     "execution_count": 101
    }
   ],
   "metadata": {}
  },
  {
   "cell_type": "code",
   "execution_count": 103,
   "source": [
    "# plot data\n",
    "plt.errorbar(e3['x'], e3['y'], yerr=e3['yerr'], fmt=\".k\", capsize=2.5)\n",
    "\n",
    "# set up matrices\n",
    "# A = np.vander(e3['x'], 3) \n",
    "ATA = np.dot(A.T, A / (e3['yerr'] ** 2)[:, None])\n",
    "cov = np.linalg.inv(ATA) #covariance will give us the errors\n",
    "\n",
    "# linear algebra solution\n",
    "m = np.linalg.solve(ATA, np.dot(A.T, e3['y'] / e3['yerr'] ** 2))\n",
    "print(\"Least-squares estimates:\")\n",
    "print(\"m = {0:.2f} ± {1:.2f}\".format(m[0], np.sqrt(cov[0, 0])))\n",
    "print(\"b = {0:.0f} ± {1:.0f}\".format(m[1], np.sqrt(cov[1, 1])))\n",
    "\n",
    "# plot linear algebra solution\n",
    "x0 = np.linspace(0, 300)\n",
    "plt.plot(x0, m[0] * x0 + m[1], \"k\")\n",
    "plt.xlim(0, 300)\n",
    "plt.ylim(0, 700)\n",
    "plt.xlabel(\"x\")\n",
    "plt.ylabel(\"y\")\n",
    "plt.text(100,200, \"y = (2.24 ± 0.11) x + (34 ± 18)\")"
   ],
   "outputs": [
    {
     "output_type": "stream",
     "name": "stdout",
     "text": [
      "Least-squares estimates:\n",
      "m = 2.24 ± 0.11\n",
      "b = 34 ± 18\n"
     ]
    },
    {
     "output_type": "stream",
     "name": "stderr",
     "text": [
      "/tmp/ipykernel_444762/4263160837.py:6: FutureWarning: Support for multi-dimensional indexing (e.g. `obj[:, None]`) is deprecated and will be removed in a future version.  Convert to a numpy array before indexing instead.\n",
      "  ATA = np.dot(A.T, A / (e3['yerr'] ** 2)[:, None])\n"
     ]
    },
    {
     "output_type": "execute_result",
     "data": {
      "text/plain": [
       "Text(100, 200, 'y = (2.24 ± 0.11) x + (34 ± 18)')"
      ]
     },
     "metadata": {},
     "execution_count": 103
    },
    {
     "output_type": "display_data",
     "data": {
      "image/png": "[encoded data removed]",
      "text/plain": [
       "<Figure size 432x288 with 1 Axes>"
      ]
     },
     "metadata": {
      "needs_background": "light"
     }
    }
   ],
   "metadata": {}
  }
 ],
 "metadata": {
  "orig_nbformat": 4,
  "language_info": {
   "name": "python",
   "version": "3.8.10",
   "mimetype": "text/x-python",
   "codemirror_mode": {
    "name": "ipython",
    "version": 3
   },
   "pygments_lexer": "ipython3",
   "nbconvert_exporter": "python",
   "file_extension": ".py"
  },
  "kernelspec": {
   "name": "python3",
   "display_name": "Python 3.8.10 64-bit"
  },
  "interpreter": {
   "hash": "916dbcbb3f70747c44a77c7bcd40155683ae19c65e1c03b4aa3499c5328201f1"
  }
 },
 "nbformat": 4,
 "nbformat_minor": 2
}