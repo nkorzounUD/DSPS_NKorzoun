{
 "cells": [
  {
   "cell_type": "markdown",
   "metadata": {
    "colab_type": "text",
    "id": "view-in-github"
   },
   "source": [
    "<a href=\"https://colab.research.google.com/github/nkorzounUD/DSPS_NKorzoun/blob/main/HW8/higgsbosonSearch.ipynb\" target=\"_parent\"><img src=\"https://colab.research.google.com/assets/colab-badge.svg\" alt=\"Open In Colab\"/></a>"
   ]
  },
  {
   "cell_type": "code",
   "execution_count": null,
   "metadata": {
    "colab": {
     "base_uri": "https://localhost:8080/"
    },
    "id": "-xpw06PzTsU6",
    "outputId": "31cb21a4-eee2-44ea-ea57-d826129ef11c"
   },
   "outputs": [
    {
     "name": "stdout",
     "output_type": "stream",
     "text": [
      "Mounted at /content/drive\n"
     ]
    }
   ],
   "source": [
    "from google.colab import drive\n",
    "drive.mount('/content/drive')"
   ]
  },
  {
   "cell_type": "code",
   "execution_count": null,
   "metadata": {
    "colab": {
     "base_uri": "https://localhost:8080/"
    },
    "id": "RLMrAsA4X9fg",
    "outputId": "cedcd43c-73c8-432d-ebb4-cc6c3daec2c8"
   },
   "outputs": [
    {
     "name": "stdout",
     "output_type": "stream",
     "text": [
      "/content/drive/MyDrive\n"
     ]
    }
   ],
   "source": [
    "cd /content/drive/MyDrive/"
   ]
  },
  {
   "cell_type": "code",
   "execution_count": null,
   "metadata": {
    "colab": {
     "base_uri": "https://localhost:8080/"
    },
    "id": "P4IDdVYZnyJN",
    "outputId": "9bf945cb-0e07-4979-b420-ca3b469a89f1"
   },
   "outputs": [
    {
     "name": "stdout",
     "output_type": "stream",
     "text": [
      "kaggle.json\n"
     ]
    }
   ],
   "source": [
    "ls .kaggle"
   ]
  },
  {
   "cell_type": "markdown",
   "metadata": {
    "id": "nS4S7msAPK_R"
   },
   "source": [
    "- Download the Higgs boson data from Kaggle (programmatically within the notebook)\n",
    "see how I did it in the Titanic Trees notebook https://github.com/fedhere/DSPS/blob/master/lab9/titanictree.ipynb\n",
    "\n",
    "find the correct API link here https://www.kaggle.com/c/higgs-boson/data\n"
   ]
  },
  {
   "cell_type": "markdown",
   "metadata": {
    "id": "KMuvMJgOnlYo"
   },
   "source": [
    "\n",
    "- Read in the trainind data. Split the provided training data into a training and a test set. \n",
    "The last 2 columns are what you want to predict: \"weight\" and \"label\".\n",
    "Remove them from the input data and create a separate variable label and a separate variable weight, which will be your target variables for, respectively, classification and regression.\n",
    "\n"
   ]
  },
  {
   "cell_type": "code",
   "execution_count": null,
   "metadata": {
    "colab": {
     "base_uri": "https://localhost:8080/"
    },
    "id": "QncFXxr7xogC",
    "outputId": "d387cb8f-a48a-4e02-de9d-4f0654423cfb"
   },
   "outputs": [
    {
     "name": "stdout",
     "output_type": "stream",
     "text": [
      "Populating the interactive namespace from numpy and matplotlib\n"
     ]
    }
   ],
   "source": [
    "import pandas as pd\n",
    "import json\n",
    "import os\n",
    "import pylab as pl\n",
    "from pprint import pprint\n",
    "%pylab inline\n",
    "\n"
   ]
  },
  {
   "cell_type": "code",
   "execution_count": null,
   "metadata": {
    "id": "BL2gKXrDeO5o"
   },
   "outputs": [],
   "source": [
    "from sklearn.model_selection import train_test_split\n",
    "\n",
    "from sklearn.ensemble import RandomForestClassifier\n",
    "from sklearn.ensemble import GradientBoostingClassifier\n",
    "from sklearn.datasets import make_classification\n",
    "\n",
    "from mpl_toolkits.axes_grid1.axes_divider import make_axes_locatable\n",
    "from sklearn.metrics import confusion_matrix\n",
    "\n",
    "from sklearn.ensemble import RandomForestRegressor\n",
    "from sklearn.ensemble import GradientBoostingRegressor\n",
    "\n",
    "from sklearn.model_selection import RandomizedSearchCV\n",
    "\n",
    "from sklearn.metrics import roc_curve"
   ]
  },
  {
   "cell_type": "code",
   "execution_count": null,
   "metadata": {
    "id": "yL0VFZnRYKWe"
   },
   "outputs": [],
   "source": [
    "envs = json.load(open(\".kaggle/kaggle.json\", \"r\"))"
   ]
  },
  {
   "cell_type": "code",
   "execution_count": null,
   "metadata": {
    "id": "azaWdRGBYKL0"
   },
   "outputs": [],
   "source": [
    "os.environ[\"KAGGLE_USERNAME\"] = envs[\"username\"]\n",
    "os.environ[\"KAGGLE_KEY\"] = envs[\"key\"]"
   ]
  },
  {
   "cell_type": "code",
   "execution_count": null,
   "metadata": {
    "colab": {
     "base_uri": "https://localhost:8080/"
    },
    "id": "3Tx4NWs-YRbp",
    "outputId": "22989239-8e5e-4b5f-e5a3-104a1d2c0da6"
   },
   "outputs": [
    {
     "name": "stdout",
     "output_type": "stream",
     "text": [
      "Requirement already satisfied: kaggle in /usr/local/lib/python3.7/dist-packages (1.5.12)\n",
      "Requirement already satisfied: python-dateutil in /usr/local/lib/python3.7/dist-packages (from kaggle) (2.8.2)\n",
      "Requirement already satisfied: tqdm in /usr/local/lib/python3.7/dist-packages (from kaggle) (4.62.3)\n",
      "Requirement already satisfied: requests in /usr/local/lib/python3.7/dist-packages (from kaggle) (2.23.0)\n",
      "Requirement already satisfied: urllib3 in /usr/local/lib/python3.7/dist-packages (from kaggle) (1.24.3)\n",
      "Requirement already satisfied: certifi in /usr/local/lib/python3.7/dist-packages (from kaggle) (2021.10.8)\n",
      "Requirement already satisfied: python-slugify in /usr/local/lib/python3.7/dist-packages (from kaggle) (5.0.2)\n",
      "Requirement already satisfied: six>=1.10 in /usr/local/lib/python3.7/dist-packages (from kaggle) (1.15.0)\n",
      "Requirement already satisfied: text-unidecode>=1.3 in /usr/local/lib/python3.7/dist-packages (from python-slugify->kaggle) (1.3)\n",
      "Requirement already satisfied: chardet<4,>=3.0.2 in /usr/local/lib/python3.7/dist-packages (from requests->kaggle) (3.0.4)\n",
      "Requirement already satisfied: idna<3,>=2.5 in /usr/local/lib/python3.7/dist-packages (from requests->kaggle) (2.10)\n"
     ]
    }
   ],
   "source": [
    "!pip install kaggle"
   ]
  },
  {
   "cell_type": "code",
   "execution_count": null,
   "metadata": {
    "colab": {
     "base_uri": "https://localhost:8080/"
    },
    "id": "ruwIfYU0YbaP",
    "outputId": "02b181ed-c36e-421c-9f6e-8f967e381488"
   },
   "outputs": [
    {
     "name": "stdout",
     "output_type": "stream",
     "text": [
      "Warning: Looks like you're using an outdated API Version, please consider updating (server 1.5.12 / client 1.5.4)\n",
      "ref                                                         title                                              size  lastUpdated          downloadCount  \n",
      "----------------------------------------------------------  ------------------------------------------------  -----  -------------------  -------------  \n",
      "gpreda/reddit-vaccine-myths                                 Reddit Vaccine Myths                              237KB  2021-11-21 16:54:23          16048  \n",
      "crowww/a-large-scale-fish-dataset                           A Large Scale Fish Dataset                          3GB  2021-04-28 17:03:01           9687  \n",
      "imsparsh/musicnet-dataset                                   MusicNet Dataset                                   22GB  2021-02-18 14:12:19           4435  \n",
      "dhruvildave/wikibooks-dataset                               Wikibooks Dataset                                   2GB  2021-10-22 10:48:21           3543  \n",
      "promptcloud/careerbuilder-job-listing-2020                  Careerbuilder Job Listing 2020                     42MB  2021-03-05 06:59:52           2725  \n",
      "fatiimaezzahra/famous-iconic-women                          Famous Iconic Women                               838MB  2021-02-28 14:56:00           1901  \n",
      "nickuzmenkov/nih-chest-xrays-tfrecords                      NIH Chest X-rays TFRecords                         11GB  2021-03-09 04:49:23           1622  \n",
      "mathurinache/twitter-edge-nodes                             Twitter Edge Nodes                                342MB  2021-03-08 06:43:04           1312  \n",
      "alsgroup/end-als                                            End ALS Kaggle Challenge                           12GB  2021-04-08 12:16:37           1103  \n",
      "simiotic/github-code-snippets                               GitHub Code Snippets                                7GB  2021-03-03 11:34:39            502  \n",
      "mathurinache/the-lj-speech-dataset                          The LJ Speech Dataset                               3GB  2021-02-15 09:19:54            484  \n",
      "coloradokb/dandelionimages                                  DandelionImages                                     4GB  2021-02-19 20:03:47           1022  \n",
      "imsparsh/accentdb-core-extended                             AccentDB - Core & Extended                          6GB  2021-02-17 14:22:54            178  \n",
      "stuartjames/lights                                          LightS: Light Specularity Dataset                  18GB  2021-02-18 14:32:26            205  \n",
      "landrykezebou/lvzhdr-tone-mapping-benchmark-dataset-tmonet  LVZ-HDR Tone Mapping Benchmark Dataset (TMO-Net)   24GB  2021-03-01 05:03:40            232  \n",
      "nickuzmenkov/ranzcr-clip-kfold-tfrecords                    RANZCR CLiP KFold TFRecords                         2GB  2021-02-21 13:29:51            161  \n",
      "datasnaek/youtube-new                                       Trending YouTube Video Statistics                 201MB  2019-06-03 00:56:47         158518  \n",
      "zynicide/wine-reviews                                       Wine Reviews                                       51MB  2017-11-27 17:08:04         148876  \n",
      "datasnaek/chess                                             Chess Game Dataset (Lichess)                        3MB  2017-09-04 03:09:09          25241  \n",
      "residentmario/ramen-ratings                                 Ramen Ratings                                      40KB  2018-01-11 16:04:39          30013  \n"
     ]
    }
   ],
   "source": [
    "!kaggle datasets list"
   ]
  },
  {
   "cell_type": "code",
   "execution_count": null,
   "metadata": {
    "colab": {
     "base_uri": "https://localhost:8080/"
    },
    "id": "e2JpitmlZkGS",
    "outputId": "3fbd3308-892c-4928-bf76-906ad27b9301"
   },
   "outputs": [
    {
     "name": "stdout",
     "output_type": "stream",
     "text": [
      "Warning: Looks like you're using an outdated API Version, please consider updating (server 1.5.12 / client 1.5.4)\n",
      "Downloading random_submission.zip to /content/drive/My Drive\n",
      "  0% 0.00/2.58M [00:00<?, ?B/s]\n",
      "100% 2.58M/2.58M [00:00<00:00, 85.2MB/s]\n",
      "Downloading training.zip to /content/drive/My Drive\n",
      " 65% 11.0M/16.9M [00:00<00:00, 115MB/s]\n",
      "100% 16.9M/16.9M [00:00<00:00, 108MB/s]\n",
      "Downloading test.zip to /content/drive/My Drive\n",
      " 95% 33.0M/34.8M [00:00<00:00, 66.9MB/s]\n",
      "100% 34.8M/34.8M [00:00<00:00, 100MB/s] \n",
      "Downloading HiggsBosonCompetition_AMSMetric_rev1.py to /content/drive/My Drive\n",
      "  0% 0.00/3.15k [00:00<?, ?B/s]\n",
      "100% 3.15k/3.15k [00:00<00:00, 445kB/s]\n"
     ]
    }
   ],
   "source": [
    "!kaggle competitions download -c higgs-boson"
   ]
  },
  {
   "cell_type": "code",
   "execution_count": null,
   "metadata": {
    "colab": {
     "base_uri": "https://localhost:8080/"
    },
    "id": "_TvBdOHRaxfH",
    "outputId": "86da7825-5fcd-4eff-d743-c9a3a3d5e3cf"
   },
   "outputs": [
    {
     "name": "stdout",
     "output_type": "stream",
     "text": [
      "total 55682\n",
      "-rw------- 1 root root      151 Aug 23  2020 'Schedule Template.gsheet'\n",
      "-rw------- 1 root root      151 Aug 23  2020 'Weekly Schedule.gsheet'\n",
      "-rw------- 1 root root      151 Oct 14  2020 'Untitled document.gdoc'\n",
      "-rw------- 1 root root      151 Nov 16  2020 'Lab 1 Rubric.gdoc'\n",
      "drwx------ 2 root root     4096 Feb 16  2021 'PC Import'\n",
      "-rw------- 1 root root      151 Mar 29  2021 '20L Breakout Rooms.gsheet'\n",
      "-rw------- 1 root root      151 Aug 30 20:15 \"Fall2021 TA's.gdoc\"\n",
      "-rw------- 1 root root      151 Sep 20 15:18 'PHYS221-021L Lab Partners.gsheet'\n",
      "drwx------ 2 root root     4096 Sep 20 18:31 'Colab Notebooks'\n",
      "-rw------- 1 root root      151 Sep 20 23:01 'PHYS221-024L Lab Partners.gsheet'\n",
      "-rw------- 1 root root      151 Nov  3 15:59 '75el elog.gsheet'\n",
      "-rw------- 1 root root    61194 Nov 12 20:18  train.csv\n",
      "-rw------- 1 root root    28629 Nov 12 20:18  test.csv\n",
      "-rw------- 1 root root     3258 Nov 12 20:18  gender_submission.csv\n",
      "drwx------ 2 root root     4096 Nov 12 20:18  Titanic\n",
      "drwx------ 2 root root     4096 Nov 16 21:20  HiggsBoson\n",
      "-rw------- 1 root root  2702527 Nov 21 22:11  random_submission.zip\n",
      "-rw------- 1 root root 17712751 Nov 21 22:11  training.zip\n",
      "-rw------- 1 root root 36483908 Nov 21 22:11  test.zip\n",
      "-rw------- 1 root root     3223 Nov 21 22:11  HiggsBosonCompetition_AMSMetric_rev1.py\n"
     ]
    }
   ],
   "source": [
    "!ls -ltr"
   ]
  },
  {
   "cell_type": "code",
   "execution_count": null,
   "metadata": {
    "colab": {
     "base_uri": "https://localhost:8080/"
    },
    "id": "Fjhj_CdnZ5GZ",
    "outputId": "51085d70-ca53-458e-dc9e-a595864d7a00"
   },
   "outputs": [
    {
     "name": "stdout",
     "output_type": "stream",
     "text": [
      "mkdir: cannot create directory ‘HiggsBoson’: File exists\n"
     ]
    }
   ],
   "source": [
    "!mkdir HiggsBoson"
   ]
  },
  {
   "cell_type": "code",
   "execution_count": null,
   "metadata": {
    "id": "-UxjopH0Z8bJ"
   },
   "outputs": [],
   "source": [
    "!mv training.zip test.zip random_submission.zip HiggsBosonCompetition_AMSMetric_rev1.py ./HiggsBoson/."
   ]
  },
  {
   "cell_type": "code",
   "execution_count": null,
   "metadata": {
    "colab": {
     "base_uri": "https://localhost:8080/"
    },
    "id": "1zopO7e5Zj51",
    "outputId": "232c9301-8893-4a5f-be63-60ffcc1fdf26"
   },
   "outputs": [
    {
     "name": "stdout",
     "output_type": "stream",
     "text": [
      "/content/drive/My Drive/HiggsBoson\n"
     ]
    }
   ],
   "source": [
    "cd HiggsBoson"
   ]
  },
  {
   "cell_type": "code",
   "execution_count": null,
   "metadata": {
    "colab": {
     "base_uri": "https://localhost:8080/"
    },
    "id": "nmrhlbMObijH",
    "outputId": "acf16498-19d6-4610-d2c9-ebfac0e60ebc"
   },
   "outputs": [
    {
     "name": "stdout",
     "output_type": "stream",
     "text": [
      "HiggsBosonCompetition_AMSMetric_rev1.py  test.csv      training.zip\n",
      "random_submission.csv\t\t\t test.zip\n",
      "random_submission.zip\t\t\t training.csv\n"
     ]
    }
   ],
   "source": [
    "!ls"
   ]
  },
  {
   "cell_type": "code",
   "execution_count": null,
   "metadata": {
    "colab": {
     "base_uri": "https://localhost:8080/"
    },
    "id": "XrnIb-GHbdCa",
    "outputId": "d913e830-1a1f-4cd5-dac4-b712ae27b387"
   },
   "outputs": [
    {
     "name": "stdout",
     "output_type": "stream",
     "text": [
      "Archive:  training.zip\n",
      "replace training.csv? [y]es, [n]o, [A]ll, [N]one, [r]ename: n\n"
     ]
    }
   ],
   "source": [
    "!unzip training.zip"
   ]
  },
  {
   "cell_type": "code",
   "execution_count": null,
   "metadata": {
    "colab": {
     "base_uri": "https://localhost:8080/"
    },
    "id": "x0gnT2qYb3p7",
    "outputId": "d8138609-347b-44ca-dfb7-e258b6f036f2"
   },
   "outputs": [
    {
     "name": "stdout",
     "output_type": "stream",
     "text": [
      "Archive:  test.zip\n",
      "replace test.csv? [y]es, [n]o, [A]ll, [N]one, [r]ename: n\n"
     ]
    }
   ],
   "source": [
    "!unzip test.zip "
   ]
  },
  {
   "cell_type": "code",
   "execution_count": null,
   "metadata": {
    "colab": {
     "base_uri": "https://localhost:8080/"
    },
    "id": "m7Rifrdsb87j",
    "outputId": "a9830b60-edcf-4536-f1f3-61db14a6695b"
   },
   "outputs": [
    {
     "name": "stdout",
     "output_type": "stream",
     "text": [
      "Archive:  random_submission.zip\n",
      "replace random_submission.csv? [y]es, [n]o, [A]ll, [N]one, [r]ename: n\n"
     ]
    }
   ],
   "source": [
    "!unzip random_submission.zip "
   ]
  },
  {
   "cell_type": "code",
   "execution_count": null,
   "metadata": {
    "id": "DFEPP4cNbyxz"
   },
   "outputs": [],
   "source": [
    "!rm test.zip training.zip random_submission.zip"
   ]
  },
  {
   "cell_type": "code",
   "execution_count": null,
   "metadata": {
    "colab": {
     "base_uri": "https://localhost:8080/"
    },
    "id": "DLDetka1cH0E",
    "outputId": "7a71257a-bad8-4384-e728-5bbe785f1086"
   },
   "outputs": [
    {
     "name": "stdout",
     "output_type": "stream",
     "text": [
      "HiggsBosonCompetition_AMSMetric_rev1.py  test.csv\n",
      "random_submission.csv\t\t\t training.csv\n"
     ]
    }
   ],
   "source": [
    "!ls"
   ]
  },
  {
   "cell_type": "code",
   "execution_count": null,
   "metadata": {
    "id": "7LJhpEL1cMI-"
   },
   "outputs": [],
   "source": [
    "# Read in the raw data as a pandas dataframe object\n",
    "higgsdataNoCuts = pd.read_csv(\"training.csv\")"
   ]
  },
  {
   "cell_type": "code",
   "execution_count": null,
   "metadata": {
    "colab": {
     "base_uri": "https://localhost:8080/"
    },
    "id": "6El5WUvNlwTW",
    "outputId": "68a40153-bf1f-4ab5-b41b-e17dde150c57"
   },
   "outputs": [
    {
     "data": {
      "text/plain": [
       "array(['s', 'b'], dtype=object)"
      ]
     },
     "execution_count": 22,
     "metadata": {},
     "output_type": "execute_result"
    }
   ],
   "source": [
    "# Check what the different labels are\n",
    "higgsdataNoCuts.Label.unique()"
   ]
  },
  {
   "cell_type": "code",
   "execution_count": null,
   "metadata": {
    "colab": {
     "base_uri": "https://localhost:8080/",
     "height": 317
    },
    "id": "HuGWbuWgl3pl",
    "outputId": "f5c3228f-443e-4d06-ec59-9b581763f5f4"
   },
   "outputs": [
    {
     "data": {
      "text/html": [
       "<div>\n",
       "<style scoped>\n",
       "    .dataframe tbody tr th:only-of-type {\n",
       "        vertical-align: middle;\n",
       "    }\n",
       "\n",
       "    .dataframe tbody tr th {\n",
       "        vertical-align: top;\n",
       "    }\n",
       "\n",
       "    .dataframe thead th {\n",
       "        text-align: right;\n",
       "    }\n",
       "</style>\n",
       "<table border=\"1\" class=\"dataframe\">\n",
       "  <thead>\n",
       "    <tr style=\"text-align: right;\">\n",
       "      <th></th>\n",
       "      <th>EventId</th>\n",
       "      <th>DER_mass_MMC</th>\n",
       "      <th>DER_mass_transverse_met_lep</th>\n",
       "      <th>DER_mass_vis</th>\n",
       "      <th>DER_pt_h</th>\n",
       "      <th>DER_deltaeta_jet_jet</th>\n",
       "      <th>DER_mass_jet_jet</th>\n",
       "      <th>DER_prodeta_jet_jet</th>\n",
       "      <th>DER_deltar_tau_lep</th>\n",
       "      <th>DER_pt_tot</th>\n",
       "      <th>DER_sum_pt</th>\n",
       "      <th>DER_pt_ratio_lep_tau</th>\n",
       "      <th>DER_met_phi_centrality</th>\n",
       "      <th>DER_lep_eta_centrality</th>\n",
       "      <th>PRI_tau_pt</th>\n",
       "      <th>PRI_tau_eta</th>\n",
       "      <th>PRI_tau_phi</th>\n",
       "      <th>PRI_lep_pt</th>\n",
       "      <th>PRI_lep_eta</th>\n",
       "      <th>PRI_lep_phi</th>\n",
       "      <th>PRI_met</th>\n",
       "      <th>PRI_met_phi</th>\n",
       "      <th>PRI_met_sumet</th>\n",
       "      <th>PRI_jet_num</th>\n",
       "      <th>PRI_jet_leading_pt</th>\n",
       "      <th>PRI_jet_leading_eta</th>\n",
       "      <th>PRI_jet_leading_phi</th>\n",
       "      <th>PRI_jet_subleading_pt</th>\n",
       "      <th>PRI_jet_subleading_eta</th>\n",
       "      <th>PRI_jet_subleading_phi</th>\n",
       "      <th>PRI_jet_all_pt</th>\n",
       "      <th>Weight</th>\n",
       "    </tr>\n",
       "  </thead>\n",
       "  <tbody>\n",
       "    <tr>\n",
       "      <th>count</th>\n",
       "      <td>250000.000000</td>\n",
       "      <td>250000.000000</td>\n",
       "      <td>250000.000000</td>\n",
       "      <td>250000.000000</td>\n",
       "      <td>250000.000000</td>\n",
       "      <td>250000.000000</td>\n",
       "      <td>250000.000000</td>\n",
       "      <td>250000.000000</td>\n",
       "      <td>250000.000000</td>\n",
       "      <td>250000.000000</td>\n",
       "      <td>250000.000000</td>\n",
       "      <td>250000.000000</td>\n",
       "      <td>250000.000000</td>\n",
       "      <td>250000.000000</td>\n",
       "      <td>250000.000000</td>\n",
       "      <td>250000.000000</td>\n",
       "      <td>250000.000000</td>\n",
       "      <td>250000.000000</td>\n",
       "      <td>250000.000000</td>\n",
       "      <td>250000.000000</td>\n",
       "      <td>250000.000000</td>\n",
       "      <td>250000.000000</td>\n",
       "      <td>250000.000000</td>\n",
       "      <td>250000.000000</td>\n",
       "      <td>250000.000000</td>\n",
       "      <td>250000.000000</td>\n",
       "      <td>250000.000000</td>\n",
       "      <td>250000.000000</td>\n",
       "      <td>250000.000000</td>\n",
       "      <td>250000.000000</td>\n",
       "      <td>250000.000000</td>\n",
       "      <td>250000.000000</td>\n",
       "    </tr>\n",
       "    <tr>\n",
       "      <th>mean</th>\n",
       "      <td>224999.500000</td>\n",
       "      <td>-49.023079</td>\n",
       "      <td>49.239819</td>\n",
       "      <td>81.181982</td>\n",
       "      <td>57.895962</td>\n",
       "      <td>-708.420675</td>\n",
       "      <td>-601.237051</td>\n",
       "      <td>-709.356603</td>\n",
       "      <td>2.373100</td>\n",
       "      <td>18.917332</td>\n",
       "      <td>158.432217</td>\n",
       "      <td>1.437609</td>\n",
       "      <td>-0.128305</td>\n",
       "      <td>-708.985189</td>\n",
       "      <td>38.707419</td>\n",
       "      <td>-0.010973</td>\n",
       "      <td>-0.008171</td>\n",
       "      <td>46.660207</td>\n",
       "      <td>-0.019507</td>\n",
       "      <td>0.043543</td>\n",
       "      <td>41.717235</td>\n",
       "      <td>-0.010119</td>\n",
       "      <td>209.797178</td>\n",
       "      <td>0.979176</td>\n",
       "      <td>-348.329567</td>\n",
       "      <td>-399.254314</td>\n",
       "      <td>-399.259788</td>\n",
       "      <td>-692.381204</td>\n",
       "      <td>-709.121609</td>\n",
       "      <td>-709.118631</td>\n",
       "      <td>73.064591</td>\n",
       "      <td>1.646767</td>\n",
       "    </tr>\n",
       "    <tr>\n",
       "      <th>std</th>\n",
       "      <td>72168.927986</td>\n",
       "      <td>406.345647</td>\n",
       "      <td>35.344886</td>\n",
       "      <td>40.828691</td>\n",
       "      <td>63.655682</td>\n",
       "      <td>454.480565</td>\n",
       "      <td>657.972302</td>\n",
       "      <td>453.019877</td>\n",
       "      <td>0.782911</td>\n",
       "      <td>22.273494</td>\n",
       "      <td>115.706115</td>\n",
       "      <td>0.844743</td>\n",
       "      <td>1.193585</td>\n",
       "      <td>453.596721</td>\n",
       "      <td>22.412081</td>\n",
       "      <td>1.214079</td>\n",
       "      <td>1.816763</td>\n",
       "      <td>22.064922</td>\n",
       "      <td>1.264982</td>\n",
       "      <td>1.816611</td>\n",
       "      <td>32.894693</td>\n",
       "      <td>1.812223</td>\n",
       "      <td>126.499506</td>\n",
       "      <td>0.977426</td>\n",
       "      <td>532.962789</td>\n",
       "      <td>489.338286</td>\n",
       "      <td>489.333883</td>\n",
       "      <td>479.875496</td>\n",
       "      <td>453.384624</td>\n",
       "      <td>453.389017</td>\n",
       "      <td>98.015662</td>\n",
       "      <td>1.875103</td>\n",
       "    </tr>\n",
       "    <tr>\n",
       "      <th>min</th>\n",
       "      <td>100000.000000</td>\n",
       "      <td>-999.000000</td>\n",
       "      <td>0.000000</td>\n",
       "      <td>6.329000</td>\n",
       "      <td>0.000000</td>\n",
       "      <td>-999.000000</td>\n",
       "      <td>-999.000000</td>\n",
       "      <td>-999.000000</td>\n",
       "      <td>0.208000</td>\n",
       "      <td>0.000000</td>\n",
       "      <td>46.104000</td>\n",
       "      <td>0.047000</td>\n",
       "      <td>-1.414000</td>\n",
       "      <td>-999.000000</td>\n",
       "      <td>20.000000</td>\n",
       "      <td>-2.499000</td>\n",
       "      <td>-3.142000</td>\n",
       "      <td>26.000000</td>\n",
       "      <td>-2.505000</td>\n",
       "      <td>-3.142000</td>\n",
       "      <td>0.109000</td>\n",
       "      <td>-3.142000</td>\n",
       "      <td>13.678000</td>\n",
       "      <td>0.000000</td>\n",
       "      <td>-999.000000</td>\n",
       "      <td>-999.000000</td>\n",
       "      <td>-999.000000</td>\n",
       "      <td>-999.000000</td>\n",
       "      <td>-999.000000</td>\n",
       "      <td>-999.000000</td>\n",
       "      <td>0.000000</td>\n",
       "      <td>0.001502</td>\n",
       "    </tr>\n",
       "    <tr>\n",
       "      <th>25%</th>\n",
       "      <td>162499.750000</td>\n",
       "      <td>78.100750</td>\n",
       "      <td>19.241000</td>\n",
       "      <td>59.388750</td>\n",
       "      <td>14.068750</td>\n",
       "      <td>-999.000000</td>\n",
       "      <td>-999.000000</td>\n",
       "      <td>-999.000000</td>\n",
       "      <td>1.810000</td>\n",
       "      <td>2.841000</td>\n",
       "      <td>77.550000</td>\n",
       "      <td>0.883000</td>\n",
       "      <td>-1.371000</td>\n",
       "      <td>-999.000000</td>\n",
       "      <td>24.591750</td>\n",
       "      <td>-0.925000</td>\n",
       "      <td>-1.575000</td>\n",
       "      <td>32.375000</td>\n",
       "      <td>-1.014000</td>\n",
       "      <td>-1.522000</td>\n",
       "      <td>21.398000</td>\n",
       "      <td>-1.575000</td>\n",
       "      <td>123.017500</td>\n",
       "      <td>0.000000</td>\n",
       "      <td>-999.000000</td>\n",
       "      <td>-999.000000</td>\n",
       "      <td>-999.000000</td>\n",
       "      <td>-999.000000</td>\n",
       "      <td>-999.000000</td>\n",
       "      <td>-999.000000</td>\n",
       "      <td>0.000000</td>\n",
       "      <td>0.018636</td>\n",
       "    </tr>\n",
       "    <tr>\n",
       "      <th>50%</th>\n",
       "      <td>224999.500000</td>\n",
       "      <td>105.012000</td>\n",
       "      <td>46.524000</td>\n",
       "      <td>73.752000</td>\n",
       "      <td>38.467500</td>\n",
       "      <td>-999.000000</td>\n",
       "      <td>-999.000000</td>\n",
       "      <td>-999.000000</td>\n",
       "      <td>2.491500</td>\n",
       "      <td>12.315500</td>\n",
       "      <td>120.664500</td>\n",
       "      <td>1.280000</td>\n",
       "      <td>-0.356000</td>\n",
       "      <td>-999.000000</td>\n",
       "      <td>31.804000</td>\n",
       "      <td>-0.023000</td>\n",
       "      <td>-0.033000</td>\n",
       "      <td>40.516000</td>\n",
       "      <td>-0.045000</td>\n",
       "      <td>0.086000</td>\n",
       "      <td>34.802000</td>\n",
       "      <td>-0.024000</td>\n",
       "      <td>179.739000</td>\n",
       "      <td>1.000000</td>\n",
       "      <td>38.960000</td>\n",
       "      <td>-1.872000</td>\n",
       "      <td>-2.093000</td>\n",
       "      <td>-999.000000</td>\n",
       "      <td>-999.000000</td>\n",
       "      <td>-999.000000</td>\n",
       "      <td>40.512500</td>\n",
       "      <td>1.156188</td>\n",
       "    </tr>\n",
       "    <tr>\n",
       "      <th>75%</th>\n",
       "      <td>287499.250000</td>\n",
       "      <td>130.606250</td>\n",
       "      <td>73.598000</td>\n",
       "      <td>92.259000</td>\n",
       "      <td>79.169000</td>\n",
       "      <td>0.490000</td>\n",
       "      <td>83.446000</td>\n",
       "      <td>-4.593000</td>\n",
       "      <td>2.961000</td>\n",
       "      <td>27.591000</td>\n",
       "      <td>200.478250</td>\n",
       "      <td>1.777000</td>\n",
       "      <td>1.225000</td>\n",
       "      <td>0.000000</td>\n",
       "      <td>45.017000</td>\n",
       "      <td>0.898000</td>\n",
       "      <td>1.565000</td>\n",
       "      <td>53.390000</td>\n",
       "      <td>0.959000</td>\n",
       "      <td>1.618000</td>\n",
       "      <td>51.895000</td>\n",
       "      <td>1.561000</td>\n",
       "      <td>263.379250</td>\n",
       "      <td>2.000000</td>\n",
       "      <td>75.349000</td>\n",
       "      <td>0.433000</td>\n",
       "      <td>0.503000</td>\n",
       "      <td>33.703000</td>\n",
       "      <td>-2.457000</td>\n",
       "      <td>-2.275000</td>\n",
       "      <td>109.933750</td>\n",
       "      <td>2.404128</td>\n",
       "    </tr>\n",
       "    <tr>\n",
       "      <th>max</th>\n",
       "      <td>349999.000000</td>\n",
       "      <td>1192.026000</td>\n",
       "      <td>690.075000</td>\n",
       "      <td>1349.351000</td>\n",
       "      <td>2834.999000</td>\n",
       "      <td>8.503000</td>\n",
       "      <td>4974.979000</td>\n",
       "      <td>16.690000</td>\n",
       "      <td>5.684000</td>\n",
       "      <td>2834.999000</td>\n",
       "      <td>1852.462000</td>\n",
       "      <td>19.773000</td>\n",
       "      <td>1.414000</td>\n",
       "      <td>1.000000</td>\n",
       "      <td>764.408000</td>\n",
       "      <td>2.497000</td>\n",
       "      <td>3.142000</td>\n",
       "      <td>560.271000</td>\n",
       "      <td>2.503000</td>\n",
       "      <td>3.142000</td>\n",
       "      <td>2842.617000</td>\n",
       "      <td>3.142000</td>\n",
       "      <td>2003.976000</td>\n",
       "      <td>3.000000</td>\n",
       "      <td>1120.573000</td>\n",
       "      <td>4.499000</td>\n",
       "      <td>3.141000</td>\n",
       "      <td>721.456000</td>\n",
       "      <td>4.500000</td>\n",
       "      <td>3.142000</td>\n",
       "      <td>1633.433000</td>\n",
       "      <td>7.822543</td>\n",
       "    </tr>\n",
       "  </tbody>\n",
       "</table>\n",
       "</div>"
      ],
      "text/plain": [
       "             EventId   DER_mass_MMC  ...  PRI_jet_all_pt         Weight\n",
       "count  250000.000000  250000.000000  ...   250000.000000  250000.000000\n",
       "mean   224999.500000     -49.023079  ...       73.064591       1.646767\n",
       "std     72168.927986     406.345647  ...       98.015662       1.875103\n",
       "min    100000.000000    -999.000000  ...        0.000000       0.001502\n",
       "25%    162499.750000      78.100750  ...        0.000000       0.018636\n",
       "50%    224999.500000     105.012000  ...       40.512500       1.156188\n",
       "75%    287499.250000     130.606250  ...      109.933750       2.404128\n",
       "max    349999.000000    1192.026000  ...     1633.433000       7.822543\n",
       "\n",
       "[8 rows x 32 columns]"
      ]
     },
     "execution_count": 23,
     "metadata": {},
     "output_type": "execute_result"
    }
   ],
   "source": [
    "# Inspect raw Higgs data\n",
    "higgsdataNoCuts.describe()"
   ]
  },
  {
   "cell_type": "code",
   "execution_count": null,
   "metadata": {
    "id": "-bB1QX-cmFSG"
   },
   "outputs": [],
   "source": [
    "# Remove the \"NaNs\" from the data set (these are the -999.0 values)\n",
    "\n",
    "higgsdataCut =  higgsdataNoCuts[\n",
    "                        (higgsdataNoCuts.DER_mass_MMC != -999.0) & \n",
    "                        (higgsdataNoCuts.DER_deltaeta_jet_jet != -999.0) & \n",
    "                        (higgsdataNoCuts.DER_mass_jet_jet != -999.0) & \n",
    "                        (higgsdataNoCuts.DER_prodeta_jet_jet != -999.0) & \n",
    "                        (higgsdataNoCuts.DER_lep_eta_centrality != -999.0) & \n",
    "                        (higgsdataNoCuts.PRI_jet_leading_pt != -999.0) & \n",
    "                        (higgsdataNoCuts.PRI_jet_leading_eta != -999.0) & \n",
    "                        (higgsdataNoCuts.PRI_jet_leading_phi != -999.0) &\n",
    "                        (higgsdataNoCuts.PRI_jet_subleading_pt != -999.0) & \n",
    "                        (higgsdataNoCuts.PRI_jet_subleading_eta != -999.0) & \n",
    "                        (higgsdataNoCuts.PRI_jet_subleading_phi != -999.0)\n",
    "                      ]"
   ]
  },
  {
   "cell_type": "code",
   "execution_count": null,
   "metadata": {
    "colab": {
     "base_uri": "https://localhost:8080/",
     "height": 317
    },
    "id": "Xon0KVgrnKQG",
    "outputId": "bc1496a2-b5e0-4324-daa7-a68e2a62030c"
   },
   "outputs": [
    {
     "data": {
      "text/html": [
       "<div>\n",
       "<style scoped>\n",
       "    .dataframe tbody tr th:only-of-type {\n",
       "        vertical-align: middle;\n",
       "    }\n",
       "\n",
       "    .dataframe tbody tr th {\n",
       "        vertical-align: top;\n",
       "    }\n",
       "\n",
       "    .dataframe thead th {\n",
       "        text-align: right;\n",
       "    }\n",
       "</style>\n",
       "<table border=\"1\" class=\"dataframe\">\n",
       "  <thead>\n",
       "    <tr style=\"text-align: right;\">\n",
       "      <th></th>\n",
       "      <th>EventId</th>\n",
       "      <th>DER_mass_MMC</th>\n",
       "      <th>DER_mass_transverse_met_lep</th>\n",
       "      <th>DER_mass_vis</th>\n",
       "      <th>DER_pt_h</th>\n",
       "      <th>DER_deltaeta_jet_jet</th>\n",
       "      <th>DER_mass_jet_jet</th>\n",
       "      <th>DER_prodeta_jet_jet</th>\n",
       "      <th>DER_deltar_tau_lep</th>\n",
       "      <th>DER_pt_tot</th>\n",
       "      <th>DER_sum_pt</th>\n",
       "      <th>DER_pt_ratio_lep_tau</th>\n",
       "      <th>DER_met_phi_centrality</th>\n",
       "      <th>DER_lep_eta_centrality</th>\n",
       "      <th>PRI_tau_pt</th>\n",
       "      <th>PRI_tau_eta</th>\n",
       "      <th>PRI_tau_phi</th>\n",
       "      <th>PRI_lep_pt</th>\n",
       "      <th>PRI_lep_eta</th>\n",
       "      <th>PRI_lep_phi</th>\n",
       "      <th>PRI_met</th>\n",
       "      <th>PRI_met_phi</th>\n",
       "      <th>PRI_met_sumet</th>\n",
       "      <th>PRI_jet_num</th>\n",
       "      <th>PRI_jet_leading_pt</th>\n",
       "      <th>PRI_jet_leading_eta</th>\n",
       "      <th>PRI_jet_leading_phi</th>\n",
       "      <th>PRI_jet_subleading_pt</th>\n",
       "      <th>PRI_jet_subleading_eta</th>\n",
       "      <th>PRI_jet_subleading_phi</th>\n",
       "      <th>PRI_jet_all_pt</th>\n",
       "      <th>Weight</th>\n",
       "    </tr>\n",
       "  </thead>\n",
       "  <tbody>\n",
       "    <tr>\n",
       "      <th>count</th>\n",
       "      <td>68114.000000</td>\n",
       "      <td>68114.000000</td>\n",
       "      <td>68114.000000</td>\n",
       "      <td>68114.000000</td>\n",
       "      <td>68114.000000</td>\n",
       "      <td>68114.000000</td>\n",
       "      <td>68114.000000</td>\n",
       "      <td>68114.000000</td>\n",
       "      <td>68114.000000</td>\n",
       "      <td>68114.000000</td>\n",
       "      <td>68114.000000</td>\n",
       "      <td>68114.000000</td>\n",
       "      <td>68114.000000</td>\n",
       "      <td>68114.000000</td>\n",
       "      <td>68114.000000</td>\n",
       "      <td>68114.000000</td>\n",
       "      <td>68114.000000</td>\n",
       "      <td>68114.000000</td>\n",
       "      <td>68114.000000</td>\n",
       "      <td>68114.000000</td>\n",
       "      <td>68114.000000</td>\n",
       "      <td>68114.000000</td>\n",
       "      <td>68114.000000</td>\n",
       "      <td>68114.000000</td>\n",
       "      <td>68114.000000</td>\n",
       "      <td>68114.000000</td>\n",
       "      <td>68114.000000</td>\n",
       "      <td>68114.000000</td>\n",
       "      <td>68114.000000</td>\n",
       "      <td>68114.000000</td>\n",
       "      <td>68114.000000</td>\n",
       "      <td>68114.000000</td>\n",
       "    </tr>\n",
       "    <tr>\n",
       "      <th>mean</th>\n",
       "      <td>225035.224154</td>\n",
       "      <td>122.816184</td>\n",
       "      <td>35.270300</td>\n",
       "      <td>78.496815</td>\n",
       "      <td>111.430393</td>\n",
       "      <td>2.434232</td>\n",
       "      <td>378.176455</td>\n",
       "      <td>-0.881020</td>\n",
       "      <td>1.996525</td>\n",
       "      <td>27.356644</td>\n",
       "      <td>281.524727</td>\n",
       "      <td>1.480924</td>\n",
       "      <td>0.637307</td>\n",
       "      <td>0.463833</td>\n",
       "      <td>45.716667</td>\n",
       "      <td>-0.003367</td>\n",
       "      <td>0.001104</td>\n",
       "      <td>52.433431</td>\n",
       "      <td>-0.003671</td>\n",
       "      <td>0.041897</td>\n",
       "      <td>54.959294</td>\n",
       "      <td>0.006987</td>\n",
       "      <td>334.677667</td>\n",
       "      <td>2.303711</td>\n",
       "      <td>106.879969</td>\n",
       "      <td>-0.005791</td>\n",
       "      <td>-0.011564</td>\n",
       "      <td>57.915426</td>\n",
       "      <td>-0.012930</td>\n",
       "      <td>-0.004782</td>\n",
       "      <td>183.374631</td>\n",
       "      <td>0.445788</td>\n",
       "    </tr>\n",
       "    <tr>\n",
       "      <th>std</th>\n",
       "      <td>72243.940540</td>\n",
       "      <td>60.751559</td>\n",
       "      <td>30.750262</td>\n",
       "      <td>40.728784</td>\n",
       "      <td>76.318688</td>\n",
       "      <td>1.750700</td>\n",
       "      <td>400.784254</td>\n",
       "      <td>3.592624</td>\n",
       "      <td>0.774636</td>\n",
       "      <td>28.266913</td>\n",
       "      <td>130.245426</td>\n",
       "      <td>1.097985</td>\n",
       "      <td>0.924876</td>\n",
       "      <td>0.398422</td>\n",
       "      <td>29.681876</td>\n",
       "      <td>1.179442</td>\n",
       "      <td>1.818341</td>\n",
       "      <td>28.798872</td>\n",
       "      <td>1.197358</td>\n",
       "      <td>1.815463</td>\n",
       "      <td>42.690672</td>\n",
       "      <td>1.813892</td>\n",
       "      <td>139.867044</td>\n",
       "      <td>0.459863</td>\n",
       "      <td>68.165852</td>\n",
       "      <td>1.746442</td>\n",
       "      <td>1.809276</td>\n",
       "      <td>32.224318</td>\n",
       "      <td>2.044065</td>\n",
       "      <td>1.817247</td>\n",
       "      <td>108.312736</td>\n",
       "      <td>0.747552</td>\n",
       "    </tr>\n",
       "    <tr>\n",
       "      <th>min</th>\n",
       "      <td>100000.000000</td>\n",
       "      <td>9.878000</td>\n",
       "      <td>0.000000</td>\n",
       "      <td>7.330000</td>\n",
       "      <td>0.120000</td>\n",
       "      <td>0.000000</td>\n",
       "      <td>13.602000</td>\n",
       "      <td>-18.066000</td>\n",
       "      <td>0.228000</td>\n",
       "      <td>0.004000</td>\n",
       "      <td>110.601000</td>\n",
       "      <td>0.047000</td>\n",
       "      <td>-1.414000</td>\n",
       "      <td>0.000000</td>\n",
       "      <td>20.000000</td>\n",
       "      <td>-2.496000</td>\n",
       "      <td>-3.141000</td>\n",
       "      <td>26.001000</td>\n",
       "      <td>-2.487000</td>\n",
       "      <td>-3.142000</td>\n",
       "      <td>0.200000</td>\n",
       "      <td>-3.142000</td>\n",
       "      <td>34.323000</td>\n",
       "      <td>2.000000</td>\n",
       "      <td>30.196000</td>\n",
       "      <td>-4.497000</td>\n",
       "      <td>-3.142000</td>\n",
       "      <td>30.000000</td>\n",
       "      <td>-4.500000</td>\n",
       "      <td>-3.142000</td>\n",
       "      <td>60.223000</td>\n",
       "      <td>0.001502</td>\n",
       "    </tr>\n",
       "    <tr>\n",
       "      <th>25%</th>\n",
       "      <td>162349.750000</td>\n",
       "      <td>93.320250</td>\n",
       "      <td>11.320000</td>\n",
       "      <td>57.274250</td>\n",
       "      <td>57.827000</td>\n",
       "      <td>0.897000</td>\n",
       "      <td>113.463000</td>\n",
       "      <td>-2.729000</td>\n",
       "      <td>1.397000</td>\n",
       "      <td>4.218000</td>\n",
       "      <td>192.844250</td>\n",
       "      <td>0.762250</td>\n",
       "      <td>0.191000</td>\n",
       "      <td>0.005000</td>\n",
       "      <td>26.589250</td>\n",
       "      <td>-0.889000</td>\n",
       "      <td>-1.570000</td>\n",
       "      <td>33.280250</td>\n",
       "      <td>-0.908750</td>\n",
       "      <td>-1.518000</td>\n",
       "      <td>27.081000</td>\n",
       "      <td>-1.550000</td>\n",
       "      <td>239.168250</td>\n",
       "      <td>2.000000</td>\n",
       "      <td>60.844500</td>\n",
       "      <td>-1.339000</td>\n",
       "      <td>-1.574000</td>\n",
       "      <td>37.392250</td>\n",
       "      <td>-1.628750</td>\n",
       "      <td>-1.579000</td>\n",
       "      <td>109.472000</td>\n",
       "      <td>0.001503</td>\n",
       "    </tr>\n",
       "    <tr>\n",
       "      <th>50%</th>\n",
       "      <td>225288.000000</td>\n",
       "      <td>113.230000</td>\n",
       "      <td>26.964000</td>\n",
       "      <td>70.930000</td>\n",
       "      <td>94.714000</td>\n",
       "      <td>2.146500</td>\n",
       "      <td>232.370500</td>\n",
       "      <td>-0.284000</td>\n",
       "      <td>1.940000</td>\n",
       "      <td>22.542000</td>\n",
       "      <td>246.719500</td>\n",
       "      <td>1.206000</td>\n",
       "      <td>1.071000</td>\n",
       "      <td>0.469000</td>\n",
       "      <td>36.590500</td>\n",
       "      <td>-0.011000</td>\n",
       "      <td>-0.010000</td>\n",
       "      <td>43.450000</td>\n",
       "      <td>-0.009000</td>\n",
       "      <td>0.077000</td>\n",
       "      <td>44.292000</td>\n",
       "      <td>0.005000</td>\n",
       "      <td>305.170000</td>\n",
       "      <td>2.000000</td>\n",
       "      <td>87.369000</td>\n",
       "      <td>0.000000</td>\n",
       "      <td>-0.032000</td>\n",
       "      <td>48.105500</td>\n",
       "      <td>-0.014000</td>\n",
       "      <td>-0.008000</td>\n",
       "      <td>154.136500</td>\n",
       "      <td>0.064061</td>\n",
       "    </tr>\n",
       "    <tr>\n",
       "      <th>75%</th>\n",
       "      <td>287772.750000</td>\n",
       "      <td>133.455750</td>\n",
       "      <td>52.202750</td>\n",
       "      <td>88.372000</td>\n",
       "      <td>145.824750</td>\n",
       "      <td>3.741000</td>\n",
       "      <td>489.447750</td>\n",
       "      <td>0.921000</td>\n",
       "      <td>2.574000</td>\n",
       "      <td>39.067750</td>\n",
       "      <td>331.105000</td>\n",
       "      <td>1.854000</td>\n",
       "      <td>1.342000</td>\n",
       "      <td>0.883000</td>\n",
       "      <td>54.194250</td>\n",
       "      <td>0.879750</td>\n",
       "      <td>1.580000</td>\n",
       "      <td>61.482000</td>\n",
       "      <td>0.904000</td>\n",
       "      <td>1.609000</td>\n",
       "      <td>69.416250</td>\n",
       "      <td>1.573000</td>\n",
       "      <td>396.382500</td>\n",
       "      <td>3.000000</td>\n",
       "      <td>131.069000</td>\n",
       "      <td>1.330000</td>\n",
       "      <td>1.558000</td>\n",
       "      <td>66.946500</td>\n",
       "      <td>1.604000</td>\n",
       "      <td>1.573000</td>\n",
       "      <td>223.595250</td>\n",
       "      <td>0.744056</td>\n",
       "    </tr>\n",
       "    <tr>\n",
       "      <th>max</th>\n",
       "      <td>349994.000000</td>\n",
       "      <td>988.199000</td>\n",
       "      <td>594.287000</td>\n",
       "      <td>789.538000</td>\n",
       "      <td>1053.807000</td>\n",
       "      <td>8.503000</td>\n",
       "      <td>4974.979000</td>\n",
       "      <td>16.648000</td>\n",
       "      <td>5.579000</td>\n",
       "      <td>466.525000</td>\n",
       "      <td>1852.462000</td>\n",
       "      <td>19.773000</td>\n",
       "      <td>1.414000</td>\n",
       "      <td>1.000000</td>\n",
       "      <td>622.862000</td>\n",
       "      <td>2.497000</td>\n",
       "      <td>3.142000</td>\n",
       "      <td>461.896000</td>\n",
       "      <td>2.499000</td>\n",
       "      <td>3.141000</td>\n",
       "      <td>951.363000</td>\n",
       "      <td>3.142000</td>\n",
       "      <td>2003.976000</td>\n",
       "      <td>3.000000</td>\n",
       "      <td>1120.573000</td>\n",
       "      <td>4.499000</td>\n",
       "      <td>3.141000</td>\n",
       "      <td>721.456000</td>\n",
       "      <td>4.500000</td>\n",
       "      <td>3.142000</td>\n",
       "      <td>1633.433000</td>\n",
       "      <td>7.805035</td>\n",
       "    </tr>\n",
       "  </tbody>\n",
       "</table>\n",
       "</div>"
      ],
      "text/plain": [
       "             EventId  DER_mass_MMC  ...  PRI_jet_all_pt        Weight\n",
       "count   68114.000000  68114.000000  ...    68114.000000  68114.000000\n",
       "mean   225035.224154    122.816184  ...      183.374631      0.445788\n",
       "std     72243.940540     60.751559  ...      108.312736      0.747552\n",
       "min    100000.000000      9.878000  ...       60.223000      0.001502\n",
       "25%    162349.750000     93.320250  ...      109.472000      0.001503\n",
       "50%    225288.000000    113.230000  ...      154.136500      0.064061\n",
       "75%    287772.750000    133.455750  ...      223.595250      0.744056\n",
       "max    349994.000000    988.199000  ...     1633.433000      7.805035\n",
       "\n",
       "[8 rows x 32 columns]"
      ]
     },
     "execution_count": 25,
     "metadata": {},
     "output_type": "execute_result"
    }
   ],
   "source": [
    "# Inspect the cut Higgs data \n",
    "higgsdataCut.describe()"
   ]
  },
  {
   "cell_type": "code",
   "execution_count": null,
   "metadata": {
    "id": "2PIR5Okec-8-"
   },
   "outputs": [],
   "source": [
    "# Create two arrays that contain the ordered list of labels and weights of all\n",
    "# of the data points\n",
    "labels = np.array(higgsdataCut[\"Label\"])\n",
    "weights = np.array(higgsdataCut[\"Weight\"])"
   ]
  },
  {
   "cell_type": "code",
   "execution_count": null,
   "metadata": {
    "colab": {
     "base_uri": "https://localhost:8080/"
    },
    "id": "XDHBAYfxdIZr",
    "outputId": "cd976bf9-1905-495c-bcde-fce63a05fe21"
   },
   "outputs": [
    {
     "data": {
      "text/plain": [
       "array(['s', 'b', 's', ..., 's', 's', 'b'], dtype=object)"
      ]
     },
     "execution_count": 27,
     "metadata": {},
     "output_type": "execute_result"
    }
   ],
   "source": [
    "# Inspect the labels array\n",
    "labels"
   ]
  },
  {
   "cell_type": "code",
   "execution_count": null,
   "metadata": {
    "colab": {
     "base_uri": "https://localhost:8080/"
    },
    "id": "iSSryNKFdUJX",
    "outputId": "e1398b35-1e89-4b85-89d0-913480375666"
   },
   "outputs": [
    {
     "data": {
      "text/plain": [
       "array([0.00265331, 0.08341403, 0.00265331, ..., 0.01863612, 0.0015027 ,\n",
       "       0.06406078])"
      ]
     },
     "execution_count": 28,
     "metadata": {},
     "output_type": "execute_result"
    }
   ],
   "source": [
    "# Inspect the weights array\n",
    "weights"
   ]
  },
  {
   "cell_type": "code",
   "execution_count": null,
   "metadata": {
    "id": "KCQpAysLddNC"
   },
   "outputs": [],
   "source": [
    "# Drop the Weigt and Label columns from the cut higgs data\n",
    "higgsdata = higgsdataCut.drop(columns=['Weight', 'Label'])"
   ]
  },
  {
   "cell_type": "code",
   "execution_count": null,
   "metadata": {
    "colab": {
     "base_uri": "https://localhost:8080/",
     "height": 224
    },
    "id": "XEvDntu2cYA8",
    "outputId": "e430a09b-7c85-47ae-8e12-a65142dd58e7"
   },
   "outputs": [
    {
     "data": {
      "text/html": [
       "<div>\n",
       "<style scoped>\n",
       "    .dataframe tbody tr th:only-of-type {\n",
       "        vertical-align: middle;\n",
       "    }\n",
       "\n",
       "    .dataframe tbody tr th {\n",
       "        vertical-align: top;\n",
       "    }\n",
       "\n",
       "    .dataframe thead th {\n",
       "        text-align: right;\n",
       "    }\n",
       "</style>\n",
       "<table border=\"1\" class=\"dataframe\">\n",
       "  <thead>\n",
       "    <tr style=\"text-align: right;\">\n",
       "      <th></th>\n",
       "      <th>EventId</th>\n",
       "      <th>DER_mass_MMC</th>\n",
       "      <th>DER_mass_transverse_met_lep</th>\n",
       "      <th>DER_mass_vis</th>\n",
       "      <th>DER_pt_h</th>\n",
       "      <th>DER_deltaeta_jet_jet</th>\n",
       "      <th>DER_mass_jet_jet</th>\n",
       "      <th>DER_prodeta_jet_jet</th>\n",
       "      <th>DER_deltar_tau_lep</th>\n",
       "      <th>DER_pt_tot</th>\n",
       "      <th>DER_sum_pt</th>\n",
       "      <th>DER_pt_ratio_lep_tau</th>\n",
       "      <th>DER_met_phi_centrality</th>\n",
       "      <th>DER_lep_eta_centrality</th>\n",
       "      <th>PRI_tau_pt</th>\n",
       "      <th>PRI_tau_eta</th>\n",
       "      <th>PRI_tau_phi</th>\n",
       "      <th>PRI_lep_pt</th>\n",
       "      <th>PRI_lep_eta</th>\n",
       "      <th>PRI_lep_phi</th>\n",
       "      <th>PRI_met</th>\n",
       "      <th>PRI_met_phi</th>\n",
       "      <th>PRI_met_sumet</th>\n",
       "      <th>PRI_jet_num</th>\n",
       "      <th>PRI_jet_leading_pt</th>\n",
       "      <th>PRI_jet_leading_eta</th>\n",
       "      <th>PRI_jet_leading_phi</th>\n",
       "      <th>PRI_jet_subleading_pt</th>\n",
       "      <th>PRI_jet_subleading_eta</th>\n",
       "      <th>PRI_jet_subleading_phi</th>\n",
       "      <th>PRI_jet_all_pt</th>\n",
       "    </tr>\n",
       "  </thead>\n",
       "  <tbody>\n",
       "    <tr>\n",
       "      <th>0</th>\n",
       "      <td>100000</td>\n",
       "      <td>138.470</td>\n",
       "      <td>51.655</td>\n",
       "      <td>97.827</td>\n",
       "      <td>27.980</td>\n",
       "      <td>0.910</td>\n",
       "      <td>124.711</td>\n",
       "      <td>2.666</td>\n",
       "      <td>3.064</td>\n",
       "      <td>41.928</td>\n",
       "      <td>197.760</td>\n",
       "      <td>1.582</td>\n",
       "      <td>1.396</td>\n",
       "      <td>0.200</td>\n",
       "      <td>32.638</td>\n",
       "      <td>1.017</td>\n",
       "      <td>0.381</td>\n",
       "      <td>51.626</td>\n",
       "      <td>2.273</td>\n",
       "      <td>-2.414</td>\n",
       "      <td>16.824</td>\n",
       "      <td>-0.277</td>\n",
       "      <td>258.733</td>\n",
       "      <td>2</td>\n",
       "      <td>67.435</td>\n",
       "      <td>2.150</td>\n",
       "      <td>0.444</td>\n",
       "      <td>46.062</td>\n",
       "      <td>1.240</td>\n",
       "      <td>-2.475</td>\n",
       "      <td>113.497</td>\n",
       "    </tr>\n",
       "    <tr>\n",
       "      <th>5</th>\n",
       "      <td>100005</td>\n",
       "      <td>89.744</td>\n",
       "      <td>13.550</td>\n",
       "      <td>59.149</td>\n",
       "      <td>116.344</td>\n",
       "      <td>2.636</td>\n",
       "      <td>284.584</td>\n",
       "      <td>-0.540</td>\n",
       "      <td>1.362</td>\n",
       "      <td>61.619</td>\n",
       "      <td>278.876</td>\n",
       "      <td>0.588</td>\n",
       "      <td>0.479</td>\n",
       "      <td>0.975</td>\n",
       "      <td>53.651</td>\n",
       "      <td>0.371</td>\n",
       "      <td>1.329</td>\n",
       "      <td>31.565</td>\n",
       "      <td>-0.884</td>\n",
       "      <td>1.857</td>\n",
       "      <td>40.735</td>\n",
       "      <td>2.237</td>\n",
       "      <td>282.849</td>\n",
       "      <td>3</td>\n",
       "      <td>90.547</td>\n",
       "      <td>-2.412</td>\n",
       "      <td>-0.653</td>\n",
       "      <td>56.165</td>\n",
       "      <td>0.224</td>\n",
       "      <td>3.106</td>\n",
       "      <td>193.660</td>\n",
       "    </tr>\n",
       "    <tr>\n",
       "      <th>6</th>\n",
       "      <td>100006</td>\n",
       "      <td>148.754</td>\n",
       "      <td>28.862</td>\n",
       "      <td>107.782</td>\n",
       "      <td>106.130</td>\n",
       "      <td>0.733</td>\n",
       "      <td>158.359</td>\n",
       "      <td>0.113</td>\n",
       "      <td>2.941</td>\n",
       "      <td>2.545</td>\n",
       "      <td>305.967</td>\n",
       "      <td>3.371</td>\n",
       "      <td>1.393</td>\n",
       "      <td>0.791</td>\n",
       "      <td>28.850</td>\n",
       "      <td>1.113</td>\n",
       "      <td>2.409</td>\n",
       "      <td>97.240</td>\n",
       "      <td>0.675</td>\n",
       "      <td>-0.966</td>\n",
       "      <td>38.421</td>\n",
       "      <td>-1.443</td>\n",
       "      <td>294.074</td>\n",
       "      <td>2</td>\n",
       "      <td>123.010</td>\n",
       "      <td>0.864</td>\n",
       "      <td>1.450</td>\n",
       "      <td>56.867</td>\n",
       "      <td>0.131</td>\n",
       "      <td>-2.767</td>\n",
       "      <td>179.877</td>\n",
       "    </tr>\n",
       "    <tr>\n",
       "      <th>11</th>\n",
       "      <td>100011</td>\n",
       "      <td>114.744</td>\n",
       "      <td>10.286</td>\n",
       "      <td>75.712</td>\n",
       "      <td>30.816</td>\n",
       "      <td>2.563</td>\n",
       "      <td>252.599</td>\n",
       "      <td>-1.401</td>\n",
       "      <td>2.888</td>\n",
       "      <td>36.745</td>\n",
       "      <td>239.804</td>\n",
       "      <td>1.061</td>\n",
       "      <td>1.364</td>\n",
       "      <td>0.769</td>\n",
       "      <td>35.976</td>\n",
       "      <td>-0.669</td>\n",
       "      <td>-0.342</td>\n",
       "      <td>38.188</td>\n",
       "      <td>-0.165</td>\n",
       "      <td>2.502</td>\n",
       "      <td>22.385</td>\n",
       "      <td>2.148</td>\n",
       "      <td>290.547</td>\n",
       "      <td>3</td>\n",
       "      <td>76.773</td>\n",
       "      <td>-0.790</td>\n",
       "      <td>0.303</td>\n",
       "      <td>56.876</td>\n",
       "      <td>1.773</td>\n",
       "      <td>-2.079</td>\n",
       "      <td>165.640</td>\n",
       "    </tr>\n",
       "    <tr>\n",
       "      <th>23</th>\n",
       "      <td>100023</td>\n",
       "      <td>141.481</td>\n",
       "      <td>0.736</td>\n",
       "      <td>111.581</td>\n",
       "      <td>174.075</td>\n",
       "      <td>1.955</td>\n",
       "      <td>364.344</td>\n",
       "      <td>-0.923</td>\n",
       "      <td>1.335</td>\n",
       "      <td>6.663</td>\n",
       "      <td>440.859</td>\n",
       "      <td>0.652</td>\n",
       "      <td>1.042</td>\n",
       "      <td>0.207</td>\n",
       "      <td>98.565</td>\n",
       "      <td>0.190</td>\n",
       "      <td>-1.506</td>\n",
       "      <td>64.285</td>\n",
       "      <td>1.405</td>\n",
       "      <td>-0.952</td>\n",
       "      <td>17.960</td>\n",
       "      <td>-0.973</td>\n",
       "      <td>454.785</td>\n",
       "      <td>2</td>\n",
       "      <td>195.533</td>\n",
       "      <td>1.156</td>\n",
       "      <td>1.416</td>\n",
       "      <td>82.477</td>\n",
       "      <td>-0.798</td>\n",
       "      <td>-2.785</td>\n",
       "      <td>278.009</td>\n",
       "    </tr>\n",
       "  </tbody>\n",
       "</table>\n",
       "</div>"
      ],
      "text/plain": [
       "    EventId  DER_mass_MMC  ...  PRI_jet_subleading_phi  PRI_jet_all_pt\n",
       "0    100000       138.470  ...                  -2.475         113.497\n",
       "5    100005        89.744  ...                   3.106         193.660\n",
       "6    100006       148.754  ...                  -2.767         179.877\n",
       "11   100011       114.744  ...                  -2.079         165.640\n",
       "23   100023       141.481  ...                  -2.785         278.009\n",
       "\n",
       "[5 rows x 31 columns]"
      ]
     },
     "execution_count": 30,
     "metadata": {},
     "output_type": "execute_result"
    }
   ],
   "source": [
    "# Inspect the freshly cut Higgs data strucutre\n",
    "higgsdata.head()"
   ]
  },
  {
   "cell_type": "code",
   "execution_count": null,
   "metadata": {
    "colab": {
     "base_uri": "https://localhost:8080/",
     "height": 317
    },
    "id": "g50ICzDgcgg0",
    "outputId": "c027ef37-6181-48a4-a4c5-a5672ab3f2a6"
   },
   "outputs": [
    {
     "data": {
      "text/html": [
       "<div>\n",
       "<style scoped>\n",
       "    .dataframe tbody tr th:only-of-type {\n",
       "        vertical-align: middle;\n",
       "    }\n",
       "\n",
       "    .dataframe tbody tr th {\n",
       "        vertical-align: top;\n",
       "    }\n",
       "\n",
       "    .dataframe thead th {\n",
       "        text-align: right;\n",
       "    }\n",
       "</style>\n",
       "<table border=\"1\" class=\"dataframe\">\n",
       "  <thead>\n",
       "    <tr style=\"text-align: right;\">\n",
       "      <th></th>\n",
       "      <th>EventId</th>\n",
       "      <th>DER_mass_MMC</th>\n",
       "      <th>DER_mass_transverse_met_lep</th>\n",
       "      <th>DER_mass_vis</th>\n",
       "      <th>DER_pt_h</th>\n",
       "      <th>DER_deltaeta_jet_jet</th>\n",
       "      <th>DER_mass_jet_jet</th>\n",
       "      <th>DER_prodeta_jet_jet</th>\n",
       "      <th>DER_deltar_tau_lep</th>\n",
       "      <th>DER_pt_tot</th>\n",
       "      <th>DER_sum_pt</th>\n",
       "      <th>DER_pt_ratio_lep_tau</th>\n",
       "      <th>DER_met_phi_centrality</th>\n",
       "      <th>DER_lep_eta_centrality</th>\n",
       "      <th>PRI_tau_pt</th>\n",
       "      <th>PRI_tau_eta</th>\n",
       "      <th>PRI_tau_phi</th>\n",
       "      <th>PRI_lep_pt</th>\n",
       "      <th>PRI_lep_eta</th>\n",
       "      <th>PRI_lep_phi</th>\n",
       "      <th>PRI_met</th>\n",
       "      <th>PRI_met_phi</th>\n",
       "      <th>PRI_met_sumet</th>\n",
       "      <th>PRI_jet_num</th>\n",
       "      <th>PRI_jet_leading_pt</th>\n",
       "      <th>PRI_jet_leading_eta</th>\n",
       "      <th>PRI_jet_leading_phi</th>\n",
       "      <th>PRI_jet_subleading_pt</th>\n",
       "      <th>PRI_jet_subleading_eta</th>\n",
       "      <th>PRI_jet_subleading_phi</th>\n",
       "      <th>PRI_jet_all_pt</th>\n",
       "    </tr>\n",
       "  </thead>\n",
       "  <tbody>\n",
       "    <tr>\n",
       "      <th>count</th>\n",
       "      <td>68114.000000</td>\n",
       "      <td>68114.000000</td>\n",
       "      <td>68114.000000</td>\n",
       "      <td>68114.000000</td>\n",
       "      <td>68114.000000</td>\n",
       "      <td>68114.000000</td>\n",
       "      <td>68114.000000</td>\n",
       "      <td>68114.000000</td>\n",
       "      <td>68114.000000</td>\n",
       "      <td>68114.000000</td>\n",
       "      <td>68114.000000</td>\n",
       "      <td>68114.000000</td>\n",
       "      <td>68114.000000</td>\n",
       "      <td>68114.000000</td>\n",
       "      <td>68114.000000</td>\n",
       "      <td>68114.000000</td>\n",
       "      <td>68114.000000</td>\n",
       "      <td>68114.000000</td>\n",
       "      <td>68114.000000</td>\n",
       "      <td>68114.000000</td>\n",
       "      <td>68114.000000</td>\n",
       "      <td>68114.000000</td>\n",
       "      <td>68114.000000</td>\n",
       "      <td>68114.000000</td>\n",
       "      <td>68114.000000</td>\n",
       "      <td>68114.000000</td>\n",
       "      <td>68114.000000</td>\n",
       "      <td>68114.000000</td>\n",
       "      <td>68114.000000</td>\n",
       "      <td>68114.000000</td>\n",
       "      <td>68114.000000</td>\n",
       "    </tr>\n",
       "    <tr>\n",
       "      <th>mean</th>\n",
       "      <td>225035.224154</td>\n",
       "      <td>122.816184</td>\n",
       "      <td>35.270300</td>\n",
       "      <td>78.496815</td>\n",
       "      <td>111.430393</td>\n",
       "      <td>2.434232</td>\n",
       "      <td>378.176455</td>\n",
       "      <td>-0.881020</td>\n",
       "      <td>1.996525</td>\n",
       "      <td>27.356644</td>\n",
       "      <td>281.524727</td>\n",
       "      <td>1.480924</td>\n",
       "      <td>0.637307</td>\n",
       "      <td>0.463833</td>\n",
       "      <td>45.716667</td>\n",
       "      <td>-0.003367</td>\n",
       "      <td>0.001104</td>\n",
       "      <td>52.433431</td>\n",
       "      <td>-0.003671</td>\n",
       "      <td>0.041897</td>\n",
       "      <td>54.959294</td>\n",
       "      <td>0.006987</td>\n",
       "      <td>334.677667</td>\n",
       "      <td>2.303711</td>\n",
       "      <td>106.879969</td>\n",
       "      <td>-0.005791</td>\n",
       "      <td>-0.011564</td>\n",
       "      <td>57.915426</td>\n",
       "      <td>-0.012930</td>\n",
       "      <td>-0.004782</td>\n",
       "      <td>183.374631</td>\n",
       "    </tr>\n",
       "    <tr>\n",
       "      <th>std</th>\n",
       "      <td>72243.940540</td>\n",
       "      <td>60.751559</td>\n",
       "      <td>30.750262</td>\n",
       "      <td>40.728784</td>\n",
       "      <td>76.318688</td>\n",
       "      <td>1.750700</td>\n",
       "      <td>400.784254</td>\n",
       "      <td>3.592624</td>\n",
       "      <td>0.774636</td>\n",
       "      <td>28.266913</td>\n",
       "      <td>130.245426</td>\n",
       "      <td>1.097985</td>\n",
       "      <td>0.924876</td>\n",
       "      <td>0.398422</td>\n",
       "      <td>29.681876</td>\n",
       "      <td>1.179442</td>\n",
       "      <td>1.818341</td>\n",
       "      <td>28.798872</td>\n",
       "      <td>1.197358</td>\n",
       "      <td>1.815463</td>\n",
       "      <td>42.690672</td>\n",
       "      <td>1.813892</td>\n",
       "      <td>139.867044</td>\n",
       "      <td>0.459863</td>\n",
       "      <td>68.165852</td>\n",
       "      <td>1.746442</td>\n",
       "      <td>1.809276</td>\n",
       "      <td>32.224318</td>\n",
       "      <td>2.044065</td>\n",
       "      <td>1.817247</td>\n",
       "      <td>108.312736</td>\n",
       "    </tr>\n",
       "    <tr>\n",
       "      <th>min</th>\n",
       "      <td>100000.000000</td>\n",
       "      <td>9.878000</td>\n",
       "      <td>0.000000</td>\n",
       "      <td>7.330000</td>\n",
       "      <td>0.120000</td>\n",
       "      <td>0.000000</td>\n",
       "      <td>13.602000</td>\n",
       "      <td>-18.066000</td>\n",
       "      <td>0.228000</td>\n",
       "      <td>0.004000</td>\n",
       "      <td>110.601000</td>\n",
       "      <td>0.047000</td>\n",
       "      <td>-1.414000</td>\n",
       "      <td>0.000000</td>\n",
       "      <td>20.000000</td>\n",
       "      <td>-2.496000</td>\n",
       "      <td>-3.141000</td>\n",
       "      <td>26.001000</td>\n",
       "      <td>-2.487000</td>\n",
       "      <td>-3.142000</td>\n",
       "      <td>0.200000</td>\n",
       "      <td>-3.142000</td>\n",
       "      <td>34.323000</td>\n",
       "      <td>2.000000</td>\n",
       "      <td>30.196000</td>\n",
       "      <td>-4.497000</td>\n",
       "      <td>-3.142000</td>\n",
       "      <td>30.000000</td>\n",
       "      <td>-4.500000</td>\n",
       "      <td>-3.142000</td>\n",
       "      <td>60.223000</td>\n",
       "    </tr>\n",
       "    <tr>\n",
       "      <th>25%</th>\n",
       "      <td>162349.750000</td>\n",
       "      <td>93.320250</td>\n",
       "      <td>11.320000</td>\n",
       "      <td>57.274250</td>\n",
       "      <td>57.827000</td>\n",
       "      <td>0.897000</td>\n",
       "      <td>113.463000</td>\n",
       "      <td>-2.729000</td>\n",
       "      <td>1.397000</td>\n",
       "      <td>4.218000</td>\n",
       "      <td>192.844250</td>\n",
       "      <td>0.762250</td>\n",
       "      <td>0.191000</td>\n",
       "      <td>0.005000</td>\n",
       "      <td>26.589250</td>\n",
       "      <td>-0.889000</td>\n",
       "      <td>-1.570000</td>\n",
       "      <td>33.280250</td>\n",
       "      <td>-0.908750</td>\n",
       "      <td>-1.518000</td>\n",
       "      <td>27.081000</td>\n",
       "      <td>-1.550000</td>\n",
       "      <td>239.168250</td>\n",
       "      <td>2.000000</td>\n",
       "      <td>60.844500</td>\n",
       "      <td>-1.339000</td>\n",
       "      <td>-1.574000</td>\n",
       "      <td>37.392250</td>\n",
       "      <td>-1.628750</td>\n",
       "      <td>-1.579000</td>\n",
       "      <td>109.472000</td>\n",
       "    </tr>\n",
       "    <tr>\n",
       "      <th>50%</th>\n",
       "      <td>225288.000000</td>\n",
       "      <td>113.230000</td>\n",
       "      <td>26.964000</td>\n",
       "      <td>70.930000</td>\n",
       "      <td>94.714000</td>\n",
       "      <td>2.146500</td>\n",
       "      <td>232.370500</td>\n",
       "      <td>-0.284000</td>\n",
       "      <td>1.940000</td>\n",
       "      <td>22.542000</td>\n",
       "      <td>246.719500</td>\n",
       "      <td>1.206000</td>\n",
       "      <td>1.071000</td>\n",
       "      <td>0.469000</td>\n",
       "      <td>36.590500</td>\n",
       "      <td>-0.011000</td>\n",
       "      <td>-0.010000</td>\n",
       "      <td>43.450000</td>\n",
       "      <td>-0.009000</td>\n",
       "      <td>0.077000</td>\n",
       "      <td>44.292000</td>\n",
       "      <td>0.005000</td>\n",
       "      <td>305.170000</td>\n",
       "      <td>2.000000</td>\n",
       "      <td>87.369000</td>\n",
       "      <td>0.000000</td>\n",
       "      <td>-0.032000</td>\n",
       "      <td>48.105500</td>\n",
       "      <td>-0.014000</td>\n",
       "      <td>-0.008000</td>\n",
       "      <td>154.136500</td>\n",
       "    </tr>\n",
       "    <tr>\n",
       "      <th>75%</th>\n",
       "      <td>287772.750000</td>\n",
       "      <td>133.455750</td>\n",
       "      <td>52.202750</td>\n",
       "      <td>88.372000</td>\n",
       "      <td>145.824750</td>\n",
       "      <td>3.741000</td>\n",
       "      <td>489.447750</td>\n",
       "      <td>0.921000</td>\n",
       "      <td>2.574000</td>\n",
       "      <td>39.067750</td>\n",
       "      <td>331.105000</td>\n",
       "      <td>1.854000</td>\n",
       "      <td>1.342000</td>\n",
       "      <td>0.883000</td>\n",
       "      <td>54.194250</td>\n",
       "      <td>0.879750</td>\n",
       "      <td>1.580000</td>\n",
       "      <td>61.482000</td>\n",
       "      <td>0.904000</td>\n",
       "      <td>1.609000</td>\n",
       "      <td>69.416250</td>\n",
       "      <td>1.573000</td>\n",
       "      <td>396.382500</td>\n",
       "      <td>3.000000</td>\n",
       "      <td>131.069000</td>\n",
       "      <td>1.330000</td>\n",
       "      <td>1.558000</td>\n",
       "      <td>66.946500</td>\n",
       "      <td>1.604000</td>\n",
       "      <td>1.573000</td>\n",
       "      <td>223.595250</td>\n",
       "    </tr>\n",
       "    <tr>\n",
       "      <th>max</th>\n",
       "      <td>349994.000000</td>\n",
       "      <td>988.199000</td>\n",
       "      <td>594.287000</td>\n",
       "      <td>789.538000</td>\n",
       "      <td>1053.807000</td>\n",
       "      <td>8.503000</td>\n",
       "      <td>4974.979000</td>\n",
       "      <td>16.648000</td>\n",
       "      <td>5.579000</td>\n",
       "      <td>466.525000</td>\n",
       "      <td>1852.462000</td>\n",
       "      <td>19.773000</td>\n",
       "      <td>1.414000</td>\n",
       "      <td>1.000000</td>\n",
       "      <td>622.862000</td>\n",
       "      <td>2.497000</td>\n",
       "      <td>3.142000</td>\n",
       "      <td>461.896000</td>\n",
       "      <td>2.499000</td>\n",
       "      <td>3.141000</td>\n",
       "      <td>951.363000</td>\n",
       "      <td>3.142000</td>\n",
       "      <td>2003.976000</td>\n",
       "      <td>3.000000</td>\n",
       "      <td>1120.573000</td>\n",
       "      <td>4.499000</td>\n",
       "      <td>3.141000</td>\n",
       "      <td>721.456000</td>\n",
       "      <td>4.500000</td>\n",
       "      <td>3.142000</td>\n",
       "      <td>1633.433000</td>\n",
       "    </tr>\n",
       "  </tbody>\n",
       "</table>\n",
       "</div>"
      ],
      "text/plain": [
       "             EventId  DER_mass_MMC  ...  PRI_jet_subleading_phi  PRI_jet_all_pt\n",
       "count   68114.000000  68114.000000  ...            68114.000000    68114.000000\n",
       "mean   225035.224154    122.816184  ...               -0.004782      183.374631\n",
       "std     72243.940540     60.751559  ...                1.817247      108.312736\n",
       "min    100000.000000      9.878000  ...               -3.142000       60.223000\n",
       "25%    162349.750000     93.320250  ...               -1.579000      109.472000\n",
       "50%    225288.000000    113.230000  ...               -0.008000      154.136500\n",
       "75%    287772.750000    133.455750  ...                1.573000      223.595250\n",
       "max    349994.000000    988.199000  ...                3.142000     1633.433000\n",
       "\n",
       "[8 rows x 31 columns]"
      ]
     },
     "execution_count": 31,
     "metadata": {},
     "output_type": "execute_result"
    }
   ],
   "source": [
    "# Inspect the Higgs data \n",
    "higgsdata.describe()"
   ]
  },
  {
   "cell_type": "markdown",
   "metadata": {
    "id": "sLK2qoS_oW_j"
   },
   "source": [
    "- Use a Random Forest and a Gradiend Boosted Tree Classifier model to predict the label of the particles. get the score of the model on the training and test set and comment on the result for each model.\n"
   ]
  },
  {
   "cell_type": "code",
   "execution_count": null,
   "metadata": {
    "id": "wBivg89hhe2m"
   },
   "outputs": [],
   "source": [
    "# Create the training and test sets from the cut Higgs data\n",
    "X_train, X_test, y_train, y_test = train_test_split(higgsdata.values, labels, test_size=0.2)"
   ]
  },
  {
   "cell_type": "code",
   "execution_count": null,
   "metadata": {
    "colab": {
     "base_uri": "https://localhost:8080/"
    },
    "id": "Htf_qENzNNcV",
    "outputId": "9eabc97e-f798-453b-abcc-7ddf622d3931"
   },
   "outputs": [
    {
     "name": "stdout",
     "output_type": "stream",
     "text": [
      "Parameters currently in use (RF):\n",
      "\n",
      "{'bootstrap': True,\n",
      " 'ccp_alpha': 0.0,\n",
      " 'class_weight': None,\n",
      " 'criterion': 'gini',\n",
      " 'max_depth': 8,\n",
      " 'max_features': 'auto',\n",
      " 'max_leaf_nodes': None,\n",
      " 'max_samples': None,\n",
      " 'min_impurity_decrease': 0.0,\n",
      " 'min_samples_leaf': 1,\n",
      " 'min_samples_split': 2,\n",
      " 'min_weight_fraction_leaf': 0.0,\n",
      " 'n_estimators': 100,\n",
      " 'n_jobs': None,\n",
      " 'oob_score': False,\n",
      " 'random_state': 0,\n",
      " 'verbose': 0,\n",
      " 'warm_start': False}\n"
     ]
    }
   ],
   "source": [
    "# Create a random forest with a max depth of 8\n",
    "rf = RandomForestClassifier(random_state=0, max_depth=8)\n",
    "print('Parameters currently in use (RF):\\n')\n",
    "pprint(rf.get_params())"
   ]
  },
  {
   "cell_type": "code",
   "execution_count": null,
   "metadata": {
    "colab": {
     "base_uri": "https://localhost:8080/"
    },
    "id": "2eNZHaTYy89c",
    "outputId": "d50957c9-3fb1-4878-b848-4834f661f3d8"
   },
   "outputs": [
    {
     "name": "stdout",
     "output_type": "stream",
     "text": [
      "Parameters currently in use (GBT):\n",
      "\n",
      "{'ccp_alpha': 0.0,\n",
      " 'criterion': 'friedman_mse',\n",
      " 'init': None,\n",
      " 'learning_rate': 0.1,\n",
      " 'loss': 'deviance',\n",
      " 'max_depth': 8,\n",
      " 'max_features': None,\n",
      " 'max_leaf_nodes': None,\n",
      " 'min_impurity_decrease': 0.0,\n",
      " 'min_samples_leaf': 1,\n",
      " 'min_samples_split': 2,\n",
      " 'min_weight_fraction_leaf': 0.0,\n",
      " 'n_estimators': 100,\n",
      " 'n_iter_no_change': None,\n",
      " 'random_state': 69420,\n",
      " 'subsample': 1.0,\n",
      " 'tol': 0.0001,\n",
      " 'validation_fraction': 0.1,\n",
      " 'verbose': 0,\n",
      " 'warm_start': False}\n"
     ]
    }
   ],
   "source": [
    "# Create a gradient forest with a max depth of 8\n",
    "gbt = GradientBoostingClassifier(random_state=69420, max_depth=8)\n",
    "print('Parameters currently in use (GBT):\\n')\n",
    "pprint(gbt.get_params())"
   ]
  },
  {
   "cell_type": "code",
   "execution_count": null,
   "metadata": {
    "colab": {
     "base_uri": "https://localhost:8080/"
    },
    "id": "f4Mub5WOzDYU",
    "outputId": "eb9fe593-e61d-4119-d6be-62fc97a84eac"
   },
   "outputs": [
    {
     "data": {
      "text/plain": [
       "GradientBoostingClassifier(max_depth=8, random_state=69420)"
      ]
     },
     "execution_count": 35,
     "metadata": {},
     "output_type": "execute_result"
    }
   ],
   "source": [
    "# Run the tests on the training data\n",
    "rf.fit(X_train, y_train)\n",
    "gbt.fit(X_train, y_train)"
   ]
  },
  {
   "cell_type": "markdown",
   "metadata": {
    "id": "3C_3_nhoPhQY"
   },
   "source": [
    "calculate the  scores for the training and test sets and evaluate  overtraining etc"
   ]
  },
  {
   "cell_type": "code",
   "execution_count": null,
   "metadata": {
    "colab": {
     "base_uri": "https://localhost:8080/"
    },
    "id": "yz3A54YTqXw1",
    "outputId": "0b052ef2-6029-4f02-ef74-d7d55c9e393b"
   },
   "outputs": [
    {
     "data": {
      "text/plain": [
       "(0.8482318180984015, 0.8324891727226015)"
      ]
     },
     "execution_count": 36,
     "metadata": {},
     "output_type": "execute_result"
    }
   ],
   "source": [
    "# Compare the training set score to the test set for the random forest\n",
    "rf.score(X_train, y_train), rf.score(X_test, y_test)"
   ]
  },
  {
   "cell_type": "code",
   "execution_count": null,
   "metadata": {
    "colab": {
     "base_uri": "https://localhost:8080/"
    },
    "id": "XWq7CNUBsWcG",
    "outputId": "6b69114e-eed0-4bf4-8a6c-de94bdb8091a"
   },
   "outputs": [
    {
     "data": {
      "text/plain": [
       "(0.9221155787194215, 0.8444542318138443)"
      ]
     },
     "execution_count": 37,
     "metadata": {},
     "output_type": "execute_result"
    }
   ],
   "source": [
    "# Compare the training set score to the test set for the gradient forest\n",
    "gbt.score(X_train, y_train), gbt.score(X_test, y_test)"
   ]
  },
  {
   "cell_type": "markdown",
   "metadata": {
    "id": "m-z48ILJjRn8"
   },
   "source": [
    "# The scores from the random forest classifier indicate that overtraining is not occurring because the training set score and the testing set score only differ by ~1%\n",
    "\n",
    "# The scores from the gradient boosted classifier also indicate that overtraining is not occuring because the training set score and the testing set score only differ by ~8%. This is certainly much closer to the 10% difference required to claim that overtraining is occurring but not quite there. Hence, the model is a good fit.\n"
   ]
  },
  {
   "cell_type": "markdown",
   "metadata": {
    "id": "6aiULt4TP8kn"
   },
   "source": [
    "- Produce a confusion matrix for each model and compare them\n",
    "\n",
    "\n",
    " \n",
    "\n"
   ]
  },
  {
   "cell_type": "code",
   "execution_count": null,
   "metadata": {
    "id": "ak3gnF6duviH"
   },
   "outputs": [],
   "source": [
    "# I creaded this function (mostly copied from sklearn examples). \n",
    "# You can use it to create the confusion matrix\n",
    "def plot_confusion_matrix(y_true, y_pred,\n",
    "                          normalize=False,\n",
    "                          title='',\n",
    "                          cmap=pl.cm.bone):\n",
    "    \"\"\"\n",
    "    This function prints and plots the confusion matrix.\n",
    "    Normalization can be applied by setting `normalize=True`.\n",
    "    \"\"\"         \n",
    "    if normalize:\n",
    "          title = title + ' Normalized confusion matrix'\n",
    "    else:\n",
    "          title = title + ' Confusion matrix, without normalization'\n",
    "\n",
    "    # Compute confusion matrix\n",
    "    cm = confusion_matrix(y_true, y_pred)\n",
    "    # plot it\n",
    "    fig, ax = plt.subplots(1, 1)\n",
    "    fig.subplots_adjust()\n",
    "    im = ax.imshow(cm, cmap=cmap)\n",
    "    ax_divider = make_axes_locatable(ax)\n",
    "    # add an axes to the right of the main axes.\n",
    "    pl.xticks([0, 1], labels=[\"N\", \"P\"])\n",
    "    pl.ylim(-0.5,1.5)\n",
    "    pl.yticks([0,1], labels=[\"N\", \"P\"])    \n",
    "    pl.title(title)\n",
    "    cax = ax_divider.append_axes(\"right\", size=\"10%\", pad=\"2%\")\n",
    "    cb = colorbar(im, cax=cax)\n",
    "    "
   ]
  },
  {
   "cell_type": "code",
   "execution_count": null,
   "metadata": {
    "colab": {
     "base_uri": "https://localhost:8080/",
     "height": 281
    },
    "id": "v2Iv-qQ9upEr",
    "outputId": "7972061f-ab28-4ed3-e1bb-34cbc14f54a7"
   },
   "outputs": [
    {
     "data": {
      "image/png": "[encoded data removed]",
      "text/plain": [
       "<Figure size 432x288 with 2 Axes>"
      ]
     },
     "metadata": {
      "needs_background": "light"
     },
     "output_type": "display_data"
    }
   ],
   "source": [
    "# Create a confusion matrix from the random forest classfier\n",
    "plot_confusion_matrix(y_test,rf.predict(X_test),title='RF')"
   ]
  },
  {
   "cell_type": "markdown",
   "metadata": {
    "id": "7Niu1yfYkNsB"
   },
   "source": [
    "# **Figure 1:**\n",
    "\n",
    "# This is the confusion matrix for the random forest classifier against the test data. The false positive and false negative rates are equally small compared to the true positive and true negative rate whoich indicates that the algorithm performs with high precision."
   ]
  },
  {
   "cell_type": "code",
   "execution_count": null,
   "metadata": {
    "colab": {
     "base_uri": "https://localhost:8080/",
     "height": 281
    },
    "id": "5AvJAaBAvXwA",
    "outputId": "f99ece31-5842-4c7e-ae34-413ac73602ce"
   },
   "outputs": [
    {
     "data": {
      "image/png": "[encoded data removed]",
      "text/plain": [
       "<Figure size 432x288 with 2 Axes>"
      ]
     },
     "metadata": {
      "needs_background": "light"
     },
     "output_type": "display_data"
    }
   ],
   "source": [
    "# Create a confusion matrix from the gradient booster classfier\n",
    "plot_confusion_matrix(y_test,gbt.predict(X_test),title='GBT')"
   ]
  },
  {
   "cell_type": "markdown",
   "metadata": {
    "id": "ZdHqKmajkKqN"
   },
   "source": [
    "# **Figure 2:**\n",
    "\n",
    "# This is the confusion matrix for the gradient boosting classifier. The resulting confusion plot is visually indistinguishable from the plot generated by the random forest classifier. Hence, both algorithms are in agreement with one another."
   ]
  },
  {
   "cell_type": "markdown",
   "metadata": {
    "id": "TbZQ3kMSQFK6"
   },
   "source": [
    "\n",
    "- Use a Random Forest and a Gradiend Boosted Tree Regressor model to predict the weight of the particles. Compare the model performance on training and test setsm\n"
   ]
  },
  {
   "cell_type": "code",
   "execution_count": null,
   "metadata": {
    "id": "p_6uYj243Be_"
   },
   "outputs": [],
   "source": [
    "# Create a new set of training and test data\n",
    "traindata_weights, testdata_weights, train_weights, test_weights = train_test_split(higgsdata.values, weights, test_size=0.2)"
   ]
  },
  {
   "cell_type": "code",
   "execution_count": null,
   "metadata": {
    "colab": {
     "base_uri": "https://localhost:8080/"
    },
    "id": "UkanVFfO3HBe",
    "outputId": "43781bed-b322-4735-eedb-88bb287070d3"
   },
   "outputs": [
    {
     "data": {
      "text/plain": [
       "GradientBoostingRegressor(max_depth=8, random_state=69420)"
      ]
     },
     "execution_count": 42,
     "metadata": {},
     "output_type": "execute_result"
    }
   ],
   "source": [
    "# Create a random forest regressor and a gradient boosting regressor and train\n",
    "# them with the training data made above\n",
    "rfR = RandomForestRegressor(n_estimators=100, max_depth=8,\n",
    "                            random_state=0)\n",
    "rfR.fit(traindata_weights, train_weights)\n",
    "gbtR = GradientBoostingRegressor(n_estimators=100, max_depth=8,\n",
    "                                 random_state=69420)\n",
    "gbtR.fit(traindata_weights, train_weights)"
   ]
  },
  {
   "cell_type": "code",
   "execution_count": null,
   "metadata": {
    "colab": {
     "base_uri": "https://localhost:8080/"
    },
    "id": "_LFnYIGQzWFf",
    "outputId": "ed0aa8e3-c284-4461-835b-69c57fb466a6"
   },
   "outputs": [
    {
     "name": "stdout",
     "output_type": "stream",
     "text": [
      "0.505579369761301\n",
      "0.4247755484457939\n"
     ]
    }
   ],
   "source": [
    "# Compare the training set score to the test set for the random \n",
    "# forest regressor\n",
    "print(rfR.score(traindata_weights, train_weights))\n",
    "print(rfR.score(testdata_weights, test_weights))"
   ]
  },
  {
   "cell_type": "code",
   "execution_count": null,
   "metadata": {
    "colab": {
     "base_uri": "https://localhost:8080/"
    },
    "id": "O54Q9vO6zV1F",
    "outputId": "7f6237ec-a784-4895-8a43-8f50a367d6f2"
   },
   "outputs": [
    {
     "name": "stdout",
     "output_type": "stream",
     "text": [
      "0.7265002852394746\n",
      "0.4475511540965993\n"
     ]
    }
   ],
   "source": [
    "# Compare the training set score to the test set for the gradient\n",
    "# boosting regressor\n",
    "print(gbtR.score(traindata_weights, train_weights))\n",
    "print(gbtR.score(testdata_weights, test_weights))"
   ]
  },
  {
   "cell_type": "markdown",
   "metadata": {
    "id": "n1LqZcLEor0c"
   },
   "source": [
    "# Based on the testing data scores from the two models it is quite clear that the performances for both models are quite poor. The random forest regressor has a score of ~50% for the training set and ~43% for the testing set which are terrible performance scores for the algorithm. The gradient boosted regressor has a training score of ~72% and a testing score of ~46% which are also not good performance scores for the algorithm. The random forest regressor algorithm is close to overfitting because of the difference of 7% between the training and testing sets. The gradient boosted algorithm is definitely overfitting; however, because the difference between the training and testing sets is ~26% which surpasses the 10% difference threshold accepted for overfitting."
   ]
  },
  {
   "cell_type": "code",
   "execution_count": null,
   "metadata": {
    "colab": {
     "base_uri": "https://localhost:8080/"
    },
    "id": "7liiVi_g27uL",
    "outputId": "d6f59b88-b3e0-4a9e-ef8d-ad2d3ad0b19b"
   },
   "outputs": [
    {
     "data": {
      "text/plain": [
       "array([0.46454132, 0.80711125, 0.54114628, ..., 0.36844119, 0.09094743,\n",
       "       0.24550931])"
      ]
     },
     "execution_count": 45,
     "metadata": {},
     "output_type": "execute_result"
    }
   ],
   "source": [
    "# Find teh predicted data for the random forest regression\n",
    "rfR.predict(testdata_weights)"
   ]
  },
  {
   "cell_type": "code",
   "execution_count": null,
   "metadata": {
    "colab": {
     "base_uri": "https://localhost:8080/"
    },
    "id": "C2R6nGLy3b4H",
    "outputId": "8c637a2f-5d49-4c55-b962-238aef2d469c"
   },
   "outputs": [
    {
     "data": {
      "text/plain": [
       "array([0.81032887, 0.83208198, 0.75006635, ..., 0.44776533, 0.00527549,\n",
       "       0.1532886 ])"
      ]
     },
     "execution_count": 46,
     "metadata": {},
     "output_type": "execute_result"
    }
   ],
   "source": [
    "# Find the predicted data for the gradient booster regression\n",
    "gbtR.predict(testdata_weights)"
   ]
  },
  {
   "cell_type": "markdown",
   "metadata": {
    "id": "CKvyqcFr3Z3d"
   },
   "source": [
    " Calculate the L2 and L1 loss functions for the fitted regression models (see slides for the definition) and discuss the results"
   ]
  },
  {
   "cell_type": "code",
   "execution_count": null,
   "metadata": {
    "id": "CAMTAgRTIeHq"
   },
   "outputs": [],
   "source": [
    "def L1(y_true, y_pred):\n",
    "  ''' Defines the L1 distance\n",
    "  Parameters:\n",
    "  y_true   -- contains the true y data\n",
    "  y_pred   -- contains the predicted y data\n",
    "  '''\n",
    "  L1 = np.sum(np.abs(y_true - y_pred))\n",
    "  return L1\n",
    "\n",
    "def L2(y_true, y_pred):\n",
    "  ''' Defines the L2 distance\n",
    "  Parameters:\n",
    "  y_true   -- contains the true y data\n",
    "  y_pred   -- contains the predicted y data\n",
    "  '''\n",
    "  L2 = np.sum((y_true - y_pred)**2)\n",
    "  return L2"
   ]
  },
  {
   "cell_type": "code",
   "execution_count": null,
   "metadata": {
    "colab": {
     "base_uri": "https://localhost:8080/"
    },
    "id": "0krZl_B28826",
    "outputId": "8d1bdcab-8cfe-491c-914b-88539ca728a2"
   },
   "outputs": [
    {
     "name": "stdout",
     "output_type": "stream",
     "text": [
      "4761.89463752738\n",
      "4474.980633061305\n"
     ]
    }
   ],
   "source": [
    "# Compare the predicted and tested loss function values\n",
    "print(L1(test_weights, rfR.predict(testdata_weights)))\n",
    "print(L2(test_weights, rfR.predict(testdata_weights)))"
   ]
  },
  {
   "cell_type": "code",
   "execution_count": null,
   "metadata": {
    "colab": {
     "base_uri": "https://localhost:8080/"
    },
    "id": "qBPnmCRn9khf",
    "outputId": "41f42ae4-cc59-4b2b-aa6e-128564706388"
   },
   "outputs": [
    {
     "name": "stdout",
     "output_type": "stream",
     "text": [
      "4567.410153526288\n",
      "4297.796937343544\n"
     ]
    }
   ],
   "source": [
    "# Compare the predicted and tested loss function values\n",
    "print(L1(test_weights, gbtR.predict(testdata_weights)))\n",
    "print(L2(test_weights, gbtR.predict(testdata_weights)))"
   ]
  },
  {
   "cell_type": "markdown",
   "metadata": {
    "id": "Mi1QY2l8pcZQ"
   },
   "source": [
    "# Both L1 and L2 are loss functions that compare the predicted versus the true test weights. A lower value of L2 than L1 for both classifiers means that the difference between the actual and predicted weights must often be less than 1 which is a good sanity check. A lower value for both L1 and L2 indicates an improvement in quality in splits from all the trees in a forest. Therefore, using the Gradient Boosting Classifier is a better way to combine decision trees."
   ]
  },
  {
   "cell_type": "markdown",
   "metadata": {
    "id": "c38At7ayYd_5"
   },
   "source": [
    "- For the Random Forest classifier, find the 4 most important features based on the simple unoptimized model you created earlier on. Use the documentation to find out what they are. We have not talked abotu the physics of this problem at all but the Kaggle challenge description should provide enogh information for you to comment on this result is somewhat superficially.\n",
    "\n",
    "    You can use ```rf.feature_importance_``` on the trained model to extract the relative importance of each feature (a number from 0 to 1) and then choose the features that have the 4 highest numbers (the numpy function ```argsort()``` is helpful here!)\n",
    "\n",
    "- Explore the parameter space with the sklearn module ```sklearn.model_selection.RandomizedSearchCV``` *fitting only those 4 features*\n",
    "\n",
    "    Follow this example to set up the parameter search. Set the estimators to 10 and 100, (the number of trees) and the max depth to 3, and 10, and None (let it be unconstrained). Set bootstrap to both True and False. Set the number of features to consider at every split to both \"autp\" and \"sqrt\". Use ```pprint``` like I did earlier in this notebook to print the parameters set\n",
    "\n",
    "**this takes some computational time! so do not start this at the last minute!!**\n",
    "\n",
    " \n",
    "\n"
   ]
  },
  {
   "cell_type": "code",
   "execution_count": null,
   "metadata": {
    "colab": {
     "base_uri": "https://localhost:8080/"
    },
    "id": "BRQsaKlPI4hw",
    "outputId": "9399dabc-36fc-4409-c884-00783353baf9"
   },
   "outputs": [
    {
     "data": {
      "text/plain": [
       "array([0.00108281, 0.33859796, 0.05413644, 0.12416711, 0.01653467,\n",
       "       0.05433808, 0.05995325, 0.07782081, 0.035082  , 0.02169945,\n",
       "       0.00530558, 0.01264782, 0.03866319, 0.06345995, 0.02582649,\n",
       "       0.00298764, 0.00121944, 0.00440936, 0.0033111 , 0.00109345,\n",
       "       0.01484018, 0.00109219, 0.00398631, 0.01662642, 0.00369387,\n",
       "       0.00297484, 0.00105916, 0.00327724, 0.00421018, 0.00126761,\n",
       "       0.0046354 ])"
      ]
     },
     "execution_count": 50,
     "metadata": {},
     "output_type": "execute_result"
    }
   ],
   "source": [
    "rf.feature_importances_"
   ]
  },
  {
   "cell_type": "code",
   "execution_count": null,
   "metadata": {
    "colab": {
     "base_uri": "https://localhost:8080/"
    },
    "id": "Pwpgh4yV117-",
    "outputId": "cb451c60-c742-4090-c775-3e1e1ce09397"
   },
   "outputs": [
    {
     "name": "stdout",
     "output_type": "stream",
     "text": [
      "Important feautures: DER_mass_MMC, DER_mass_vis, DER_prodeta_jet_jet, DER_lep_eta_centrality\n"
     ]
    }
   ],
   "source": [
    "#find most important features\n",
    "rf.feature_importances_\n",
    "features=[np.argsort(rf.feature_importances_)[-1],\n",
    "          np.argsort(rf.feature_importances_)[-2],\n",
    "          np.argsort(rf.feature_importances_)[-3],\n",
    "          np.argsort(rf.feature_importances_)[-4]]\n",
    "print(\n",
    "      \"Important feautures: \"+higgsdata.columns[features[0]]+', '\n",
    "      +higgsdata.columns[features[1]]+', '\n",
    "      +higgsdata.columns[features[2]]+', '\n",
    "      +higgsdata.columns[features[3]]\n",
    "      )"
   ]
  },
  {
   "cell_type": "markdown",
   "metadata": {
    "id": "bVZT1A0pkqNW"
   },
   "source": [
    "#The four most important features are the the following: the estimated mass of the Higgs boson candidate, the invariant mass of the hadronic tau and the electron, the product of the pseudorapidities of the two jets, and the centrality of the pseudorapidity of the lepton with respect to the two jets.\n",
    "\n",
    "#Therefore, except for the estimated mass of the boson, the most important features to help distinguish between bosons decaying into two taus are ones which focus on the second background event that has an electronn and tau its decay.\n",
    "\n",
    "#It is important to note that all four of these values were quantities derived from the raw data because the quantities are labeled with `DER`. "
   ]
  },
  {
   "cell_type": "code",
   "execution_count": null,
   "metadata": {
    "id": "l9QQv7Rfpqmk"
   },
   "outputs": [],
   "source": [
    "random_grid = {'n_estimators': [10, 100],\n",
    "               'max_depth': [3, 10, None],\n",
    "               'bootstrap': [True, False],\n",
    "               'max_features': ['auto', 'sqrt']\n",
    "               } "
   ]
  },
  {
   "cell_type": "code",
   "execution_count": null,
   "metadata": {
    "colab": {
     "base_uri": "https://localhost:8080/"
    },
    "id": "t-QQqGlp5ty3",
    "outputId": "fdddd921-0d55-4050-f232-a8a38e5843be"
   },
   "outputs": [
    {
     "name": "stdout",
     "output_type": "stream",
     "text": [
      "{'bootstrap': [True, False],\n",
      " 'max_depth': [3, 10, None],\n",
      " 'max_features': ['auto', 'sqrt'],\n",
      " 'n_estimators': [10, 100]}\n"
     ]
    }
   ],
   "source": [
    "pprint(random_grid)"
   ]
  },
  {
   "cell_type": "markdown",
   "metadata": {
    "id": "SfdKk4Pk7tTz"
   },
   "source": [
    " mine and your best features do not necessarily have to be the same because our models may be different (different parameters, different random seed etc)"
   ]
  },
  {
   "cell_type": "code",
   "execution_count": null,
   "metadata": {
    "id": "Wgh8TOENZn6p"
   },
   "outputs": [],
   "source": [
    "# Make an array of the features\n",
    "higgsdataBestFourFeatures = higgsdata.iloc[:, features]"
   ]
  },
  {
   "cell_type": "code",
   "execution_count": null,
   "metadata": {
    "colab": {
     "base_uri": "https://localhost:8080/",
     "height": 419
    },
    "id": "syb1uqTXszGg",
    "outputId": "77ab7271-2c74-46f2-fdb6-7f09e002b5e7"
   },
   "outputs": [
    {
     "data": {
      "text/html": [
       "<div>\n",
       "<style scoped>\n",
       "    .dataframe tbody tr th:only-of-type {\n",
       "        vertical-align: middle;\n",
       "    }\n",
       "\n",
       "    .dataframe tbody tr th {\n",
       "        vertical-align: top;\n",
       "    }\n",
       "\n",
       "    .dataframe thead th {\n",
       "        text-align: right;\n",
       "    }\n",
       "</style>\n",
       "<table border=\"1\" class=\"dataframe\">\n",
       "  <thead>\n",
       "    <tr style=\"text-align: right;\">\n",
       "      <th></th>\n",
       "      <th>DER_mass_MMC</th>\n",
       "      <th>DER_mass_vis</th>\n",
       "      <th>DER_prodeta_jet_jet</th>\n",
       "      <th>DER_lep_eta_centrality</th>\n",
       "    </tr>\n",
       "  </thead>\n",
       "  <tbody>\n",
       "    <tr>\n",
       "      <th>0</th>\n",
       "      <td>138.470</td>\n",
       "      <td>97.827</td>\n",
       "      <td>2.666</td>\n",
       "      <td>0.200</td>\n",
       "    </tr>\n",
       "    <tr>\n",
       "      <th>5</th>\n",
       "      <td>89.744</td>\n",
       "      <td>59.149</td>\n",
       "      <td>-0.540</td>\n",
       "      <td>0.975</td>\n",
       "    </tr>\n",
       "    <tr>\n",
       "      <th>6</th>\n",
       "      <td>148.754</td>\n",
       "      <td>107.782</td>\n",
       "      <td>0.113</td>\n",
       "      <td>0.791</td>\n",
       "    </tr>\n",
       "    <tr>\n",
       "      <th>11</th>\n",
       "      <td>114.744</td>\n",
       "      <td>75.712</td>\n",
       "      <td>-1.401</td>\n",
       "      <td>0.769</td>\n",
       "    </tr>\n",
       "    <tr>\n",
       "      <th>23</th>\n",
       "      <td>141.481</td>\n",
       "      <td>111.581</td>\n",
       "      <td>-0.923</td>\n",
       "      <td>0.207</td>\n",
       "    </tr>\n",
       "    <tr>\n",
       "      <th>...</th>\n",
       "      <td>...</td>\n",
       "      <td>...</td>\n",
       "      <td>...</td>\n",
       "      <td>...</td>\n",
       "    </tr>\n",
       "    <tr>\n",
       "      <th>249976</th>\n",
       "      <td>137.371</td>\n",
       "      <td>92.603</td>\n",
       "      <td>-2.384</td>\n",
       "      <td>0.503</td>\n",
       "    </tr>\n",
       "    <tr>\n",
       "      <th>249980</th>\n",
       "      <td>119.934</td>\n",
       "      <td>88.751</td>\n",
       "      <td>1.836</td>\n",
       "      <td>0.000</td>\n",
       "    </tr>\n",
       "    <tr>\n",
       "      <th>249985</th>\n",
       "      <td>126.151</td>\n",
       "      <td>95.258</td>\n",
       "      <td>-0.240</td>\n",
       "      <td>0.027</td>\n",
       "    </tr>\n",
       "    <tr>\n",
       "      <th>249993</th>\n",
       "      <td>130.075</td>\n",
       "      <td>66.781</td>\n",
       "      <td>-0.207</td>\n",
       "      <td>0.000</td>\n",
       "    </tr>\n",
       "    <tr>\n",
       "      <th>249994</th>\n",
       "      <td>217.020</td>\n",
       "      <td>62.824</td>\n",
       "      <td>-0.014</td>\n",
       "      <td>0.000</td>\n",
       "    </tr>\n",
       "  </tbody>\n",
       "</table>\n",
       "<p>68114 rows × 4 columns</p>\n",
       "</div>"
      ],
      "text/plain": [
       "        DER_mass_MMC  DER_mass_vis  DER_prodeta_jet_jet  DER_lep_eta_centrality\n",
       "0            138.470        97.827                2.666                   0.200\n",
       "5             89.744        59.149               -0.540                   0.975\n",
       "6            148.754       107.782                0.113                   0.791\n",
       "11           114.744        75.712               -1.401                   0.769\n",
       "23           141.481       111.581               -0.923                   0.207\n",
       "...              ...           ...                  ...                     ...\n",
       "249976       137.371        92.603               -2.384                   0.503\n",
       "249980       119.934        88.751                1.836                   0.000\n",
       "249985       126.151        95.258               -0.240                   0.027\n",
       "249993       130.075        66.781               -0.207                   0.000\n",
       "249994       217.020        62.824               -0.014                   0.000\n",
       "\n",
       "[68114 rows x 4 columns]"
      ]
     },
     "execution_count": 55,
     "metadata": {},
     "output_type": "execute_result"
    }
   ],
   "source": [
    "# Inspect the features\n",
    "higgsdataBestFourFeatures"
   ]
  },
  {
   "cell_type": "code",
   "execution_count": null,
   "metadata": {
    "id": "vY5T9WGmwtGO"
   },
   "outputs": [],
   "source": [
    "# Create the training and testing data sets\n",
    "traindata, testdata, train_labels, test_labels = train_test_split(\n",
    "                                      higgsdataBestFourFeatures.values, labels,\n",
    "                                      test_size=0.2\n",
    "                                    )"
   ]
  },
  {
   "cell_type": "code",
   "execution_count": null,
   "metadata": {
    "colab": {
     "base_uri": "https://localhost:8080/"
    },
    "id": "DBZ0lZ9hsL5A",
    "outputId": "b9cf577f-7162-4d2a-d402-ed113368898d"
   },
   "outputs": [
    {
     "name": "stdout",
     "output_type": "stream",
     "text": [
      "Parameters currently in use (RF best):\n",
      "\n",
      "{'bootstrap': True,\n",
      " 'ccp_alpha': 0.0,\n",
      " 'class_weight': None,\n",
      " 'criterion': 'gini',\n",
      " 'max_depth': None,\n",
      " 'max_features': 'auto',\n",
      " 'max_leaf_nodes': None,\n",
      " 'max_samples': None,\n",
      " 'min_impurity_decrease': 0.0,\n",
      " 'min_samples_leaf': 1,\n",
      " 'min_samples_split': 2,\n",
      " 'min_weight_fraction_leaf': 0.0,\n",
      " 'n_estimators': 100,\n",
      " 'n_jobs': None,\n",
      " 'oob_score': False,\n",
      " 'random_state': 0,\n",
      " 'verbose': 0,\n",
      " 'warm_start': False}\n"
     ]
    }
   ],
   "source": [
    "# Run a random forest classifier on the label data\n",
    "rfBest = RandomForestClassifier(random_state=0)\n",
    "print('Parameters currently in use (RF best):\\n')\n",
    "pprint(rfBest.get_params())"
   ]
  },
  {
   "cell_type": "code",
   "execution_count": null,
   "metadata": {
    "id": "1AJ70oqZPvL_"
   },
   "outputs": [],
   "source": [
    "# Use the random grid to search for best hyperparameters\n",
    "# First create the base model to tune\n",
    "# Random search of parameters, using 3 fold cross validation, \n",
    "# search across 24 different combinations\n",
    "random_search = RandomizedSearchCV(estimator = rfBest, param_distributions=random_grid,\n",
    "                                   n_iter=1, cv=3)\n"
   ]
  },
  {
   "cell_type": "markdown",
   "metadata": {
    "id": "T3W60KM1Jb5r"
   },
   "source": [
    "Note that this may take a long time! It took 1 hour for me to run this. Dont start at the last minute!!"
   ]
  },
  {
   "cell_type": "code",
   "execution_count": null,
   "metadata": {
    "colab": {
     "base_uri": "https://localhost:8080/"
    },
    "id": "nCzypqyrtsEg",
    "outputId": "ca897d23-d9cf-486e-f6e2-1daae0078950"
   },
   "outputs": [
    {
     "data": {
      "text/plain": [
       "RandomizedSearchCV(cv=3, estimator=RandomForestClassifier(random_state=0),\n",
       "                   n_iter=1,\n",
       "                   param_distributions={'bootstrap': [True, False],\n",
       "                                        'max_depth': [3, 10, None],\n",
       "                                        'max_features': ['auto', 'sqrt'],\n",
       "                                        'n_estimators': [10, 100]})"
      ]
     },
     "execution_count": 60,
     "metadata": {},
     "output_type": "execute_result"
    }
   ],
   "source": [
    "# Run the fitting model\n",
    "random_search.fit(traindata, train_labels)            "
   ]
  },
  {
   "cell_type": "code",
   "execution_count": null,
   "metadata": {
    "colab": {
     "base_uri": "https://localhost:8080/"
    },
    "id": "4GfLrtvPBVT7",
    "outputId": "ee8cce07-b606-4981-d188-944a8441c384"
   },
   "outputs": [
    {
     "name": "stdout",
     "output_type": "stream",
     "text": [
      "Tuned RF  Parameters: {'n_estimators': 100, 'max_features': 'auto', 'max_depth': None, 'bootstrap': True}\n",
      "Best score is 0.7960214005926876\n"
     ]
    }
   ],
   "source": [
    "print(\"Tuned RF  Parameters: {}\".format(random_search.best_params_))\n",
    "print(\"Best score is {}\".format(random_search.best_score_))\n"
   ]
  },
  {
   "cell_type": "code",
   "execution_count": null,
   "metadata": {
    "id": "WaHvlFa27EV4"
   },
   "outputs": [],
   "source": [
    "df = pd.DataFrame(random_search.cv_results_)"
   ]
  },
  {
   "cell_type": "code",
   "execution_count": null,
   "metadata": {
    "colab": {
     "base_uri": "https://localhost:8080/",
     "height": 151
    },
    "id": "6pcXfIzb7eEw",
    "outputId": "ad7798f4-f724-4b1a-ea32-dff79302fa95"
   },
   "outputs": [
    {
     "data": {
      "text/html": [
       "<div>\n",
       "<style scoped>\n",
       "    .dataframe tbody tr th:only-of-type {\n",
       "        vertical-align: middle;\n",
       "    }\n",
       "\n",
       "    .dataframe tbody tr th {\n",
       "        vertical-align: top;\n",
       "    }\n",
       "\n",
       "    .dataframe thead th {\n",
       "        text-align: right;\n",
       "    }\n",
       "</style>\n",
       "<table border=\"1\" class=\"dataframe\">\n",
       "  <thead>\n",
       "    <tr style=\"text-align: right;\">\n",
       "      <th></th>\n",
       "      <th>mean_fit_time</th>\n",
       "      <th>std_fit_time</th>\n",
       "      <th>mean_score_time</th>\n",
       "      <th>std_score_time</th>\n",
       "      <th>param_n_estimators</th>\n",
       "      <th>param_max_features</th>\n",
       "      <th>param_max_depth</th>\n",
       "      <th>param_bootstrap</th>\n",
       "      <th>params</th>\n",
       "      <th>split0_test_score</th>\n",
       "      <th>split1_test_score</th>\n",
       "      <th>split2_test_score</th>\n",
       "      <th>mean_test_score</th>\n",
       "      <th>std_test_score</th>\n",
       "      <th>rank_test_score</th>\n",
       "    </tr>\n",
       "  </thead>\n",
       "  <tbody>\n",
       "    <tr>\n",
       "      <th>0</th>\n",
       "      <td>9.319821</td>\n",
       "      <td>0.061896</td>\n",
       "      <td>0.46333</td>\n",
       "      <td>0.000926</td>\n",
       "      <td>100</td>\n",
       "      <td>auto</td>\n",
       "      <td>None</td>\n",
       "      <td>True</td>\n",
       "      <td>{'n_estimators': 100, 'max_features': 'auto', ...</td>\n",
       "      <td>0.794208</td>\n",
       "      <td>0.795695</td>\n",
       "      <td>0.798161</td>\n",
       "      <td>0.796021</td>\n",
       "      <td>0.00163</td>\n",
       "      <td>1</td>\n",
       "    </tr>\n",
       "  </tbody>\n",
       "</table>\n",
       "</div>"
      ],
      "text/plain": [
       "   mean_fit_time  std_fit_time  ...  std_test_score  rank_test_score\n",
       "0       9.319821      0.061896  ...         0.00163                1\n",
       "\n",
       "[1 rows x 15 columns]"
      ]
     },
     "execution_count": 63,
     "metadata": {},
     "output_type": "execute_result"
    }
   ],
   "source": [
    "df"
   ]
  },
  {
   "cell_type": "markdown",
   "metadata": {
    "id": "e1r9zN9yI-at"
   },
   "source": [
    "# Extra Credit: Plot a simple 3-point ROC curve for the model with the best parameters found in the previous step. Describe it. "
   ]
  },
  {
   "cell_type": "code",
   "execution_count": null,
   "metadata": {
    "colab": {
     "base_uri": "https://localhost:8080/"
    },
    "id": "Wl2NKYAy9LYt",
    "outputId": "30a4b849-9b94-4f09-af72-98c066d7092d"
   },
   "outputs": [
    {
     "data": {
      "text/plain": [
       "RandomForestClassifier(random_state=0)"
      ]
     },
     "execution_count": 64,
     "metadata": {},
     "output_type": "execute_result"
    }
   ],
   "source": [
    "rfBest.fit(traindata, train_labels.flatten()==\"s\")"
   ]
  },
  {
   "cell_type": "code",
   "execution_count": null,
   "metadata": {
    "colab": {
     "base_uri": "https://localhost:8080/",
     "height": 634
    },
    "id": "Ap4ZcVFm7zyD",
    "outputId": "8b85e793-83d8-46eb-b603-84b050d665fd"
   },
   "outputs": [
    {
     "data": {
      "image/png": "[encoded data removed]",
      "text/plain": [
       "<Figure size 720x720 with 1 Axes>"
      ]
     },
     "metadata": {
      "needs_background": "light"
     },
     "output_type": "display_data"
    }
   ],
   "source": [
    "# The random forest model by itself\n",
    "y_pred_grd_rfcat = rfBest.predict_proba(testdata)[:, 1]\n",
    "\n",
    "fpr_rf, tpr_rf, _ = roc_curve(test_labels.flatten()==\"s\", rfBest.predict(testdata))\n",
    "\n",
    "plt.figure(1, figsize=(10, 10))\n",
    "plt.plot([0, 1], [0, 1], 'k--')\n",
    "plt.plot(fpr_rf, tpr_rf, label='RF')\n",
    "plt.xlabel('False positive rate', fontsize=18)\n",
    "plt.ylabel('True positive rate', fontsize=18)\n",
    "plt.title('ROC curve', fontsize=18)\n",
    "plt.legend(loc='best', fontsize=18)\n",
    "plt.show()\n"
   ]
  },
  {
   "cell_type": "markdown",
   "metadata": {
    "id": "pJnP0brpqOF0"
   },
   "source": [
    "#**Figure 3:** Probability of a true positive versus a false positive. A completely random classifier should give points lying along the diagonal, where the true positive rate equals the false positive rate. The fact that the curve bows toward the ideal point of (0,1) indicates that the random forest classifier has predictive power."
   ]
  },
  {
   "cell_type": "markdown",
   "metadata": {},
   "source": [
    "---"
   ]
  },
  {
   "cell_type": "markdown",
   "metadata": {},
   "source": [
    "<h1 style=\"color:red\"> Awesome ! only forgot to do the last part, generate an kaggle output file as required and report the result </h1>\n"
   ]
  }
 ],
 "metadata": {
  "colab": {
   "collapsed_sections": [],
   "include_colab_link": true,
   "name": "higgsbosonSearch.ipynb",
   "provenance": []
  },
  "kernelspec": {
   "display_name": "Python 3",
   "language": "python",
   "name": "python3"
  },
  "language_info": {
   "codemirror_mode": {
    "name": "ipython",
    "version": 3
   },
   "file_extension": ".py",
   "mimetype": "text/x-python",
   "name": "python",
   "nbconvert_exporter": "python",
   "pygments_lexer": "ipython3",
   "version": "3.6.8"
  }
 },
 "nbformat": 4,
 "nbformat_minor": 1
}
