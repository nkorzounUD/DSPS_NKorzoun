{
  "nbformat": 4,
  "nbformat_minor": 0,
  "metadata": {
    "colab": {
      "name": "HW4_Problem_1.ipynb",
      "provenance": [],
      "authorship_tag": "ABX9TyNyPM3QxKmoY805Gm0Ap+MY",
      "include_colab_link": true
    },
    "kernelspec": {
      "name": "python3",
      "display_name": "Python 3"
    },
    "language_info": {
      "name": "python"
    }
  },
  "cells": [
    {
      "cell_type": "markdown",
      "metadata": {
        "id": "view-in-github",
        "colab_type": "text"
      },
      "source": [
        "<a href=\"https://colab.research.google.com/github/nkorzounUD/DSPS_NKorzoun/blob/main/HW4/HW4_Problem_1.ipynb\" target=\"_parent\"><img src=\"https://colab.research.google.com/assets/colab-badge.svg\" alt=\"Open In Colab\"/></a>"
      ]
    },
    {
      "cell_type": "markdown",
      "metadata": {
        "id": "Kv8Mib7RyXft"
      },
      "source": [
        "Created by Andrew Crossman @AndrewCrossman for DSPS Homework 4\n",
        "\n",
        "**Problem 1 From** [Hogg and Foreman-Mackey 2017](https://arxiv.org/pdf/1710.06068.pdf)\n",
        "\n",
        "The chosen distribution shall be: *Laplace*"
      ]
    },
    {
      "cell_type": "code",
      "metadata": {
        "colab": {
          "base_uri": "https://localhost:8080/"
        },
        "id": "xaZBl3jdx3sC",
        "outputId": "9c29174d-e1ad-4f30-c291-f54d8abe9059"
      },
      "source": [
        "import numpy as np\n",
        "import scipy as sp\n",
        "from scipy import stats\n",
        "import matplotlib.pylab as plt\n",
        "%pylab inline\n",
        "#plt.style.use(\"https://raw.githubusercontent.com/fedhere/DSPS/master/fbb.mplstyle\")"
      ],
      "execution_count": 1,
      "outputs": [
        {
          "output_type": "stream",
          "name": "stdout",
          "text": [
            "Populating the interactive namespace from numpy and matplotlib\n"
          ]
        },
        {
          "output_type": "stream",
          "name": "stderr",
          "text": [
            "/usr/local/lib/python3.7/dist-packages/IPython/core/magics/pylab.py:161: UserWarning: pylab import has clobbered these variables: ['plt']\n",
            "`%matplotlib` prevents importing * from pylab and numpy\n",
            "  \"\\n`%matplotlib` prevents importing * from pylab and numpy\"\n"
          ]
        }
      ]
    },
    {
      "cell_type": "code",
      "metadata": {
        "id": "1fwZdIliZ1uB"
      },
      "source": [
        "def makePlots(means,vars,skews,kurts,x,xlabel,mean,var,skew,kurt):\n",
        "  ''' This Function produces a 2x2 plot that shows the means, skews, vars, and\n",
        "  kurts vs x\n",
        "\n",
        "  Parameters:\n",
        "  means   -- a list of means for each value of k\n",
        "  vars    -- a list of varainces for each value of k\n",
        "  skews   -- a list of skews for each value of k\n",
        "  kurts   -- a list of kurtosis for each value of k\n",
        "  '''\n",
        "  fig1, ((ax1, ax2), (ax3, ax4)) = plt.subplots(2,2, figsize=(8,8))\n",
        "  ax1.scatter(x,means, alpha=0.5, label=\"Sampled Mean\")\n",
        "  ax1.axhline(mean, color='k', label=\"Analytical Mean\")\n",
        "  ax1.set_xscale('log')\n",
        "  ax1.set_title(\"Mean Value vs \"+xlabel)\n",
        "  ax1.set_xlabel(xlabel)\n",
        "  ax1.set_ylabel(\"Mean Value\")\n",
        "  ax1.grid()\n",
        "  ax1.legend(loc=\"lower right\")\n",
        "\n",
        "  ax2.scatter(x, vars, alpha=0.5, label=\"Sampled Variance\")\n",
        "  ax2.axhline(var, color='k', label=\"Analytical Variance\")\n",
        "  ax2.set_xscale('log')\n",
        "  ax2.set_title(\"Variance vs \"+xlabel)\n",
        "  ax2.set_xlabel(xlabel)\n",
        "  ax2.set_ylabel(\"Variance\")\n",
        "  ax2.grid()\n",
        "  ax2.legend(loc=\"upper right\")\n",
        "\n",
        "  ax3.scatter(x, skews, alpha=0.5, label=\"Sampled Skewness\")\n",
        "  ax3.axhline(skew, color='k', label=\"Analytical Skewness\")\n",
        "  ax3.set_xscale('log')\n",
        "  ax3.set_title(\"Skewness vs \"+xlabel)\n",
        "  ax3.set_xlabel(xlabel)\n",
        "  ax3.set_ylabel(\"Skewness\")\n",
        "  ax3.grid()\n",
        "  ax3.legend(loc=\"lower right\")\n",
        "\n",
        "  ax4.scatter(x, kurts, alpha=0.5, label=\"Sampled Kurtosis\")\n",
        "  ax4.axhline(kurt, color='k', label=\"Analytical Kurtosis\")\n",
        "  ax4.set_xscale('log')\n",
        "  ax4.set_title(\"Kurtosis vs \"+xlabel)\n",
        "  ax4.set_xlabel(xlabel)\n",
        "  ax4.set_ylabel(\"Kurtosis\")\n",
        "  ax4.grid()\n",
        "  ax4.legend(loc=\"lower right\")\n",
        "\n",
        "  fig1.tight_layout()\n",
        "  return ()"
      ],
      "execution_count": 2,
      "outputs": []
    },
    {
      "cell_type": "code",
      "metadata": {
        "id": "cBPLUeEFYcrc"
      },
      "source": [
        "def FindExp(dis,k):\n",
        "  ''' This function finds the expectation value of a distribution\n",
        "\n",
        "  Parameters:\n",
        "  dis   -- a distributions values\n",
        "  k     -- the value used to find each element of dis\n",
        "\n",
        "  Returns:\n",
        "  Expectation value of distribution\n",
        "  '''\n",
        "  return (np.sum(np.multiply(dis,k))/len(k))"
      ],
      "execution_count": 3,
      "outputs": []
    },
    {
      "cell_type": "code",
      "metadata": {
        "id": "l1PXrOsmZp6k"
      },
      "source": [
        "def FindVar(dis,k,mean):\n",
        "  ''' This function finds the variance of a distribution\n",
        "\n",
        "  Parameters:\n",
        "  dis   -- a distributions values\n",
        "  k     -- the value used to find each element of dis\n",
        "  mean  -- the expectation value of the distribtuion\n",
        "\n",
        "  Returns:\n",
        "  Variance of distribution\n",
        "  '''\n",
        "  temp1 = [x - mean for x in k]\n",
        "  temp2 = np.multiply(temp1,temp1)\n",
        "  temp3 = np.multiply(temp2,dis)\n",
        "  #return (np.sum((k-mean)**2 * dis)/len(k))\n",
        "  #return (np.sum(np.multiply(np.multiply(k-mean,k-mean),dis)/len(k)))\n",
        "  return (np.sum(temp3)/len(k))"
      ],
      "execution_count": 23,
      "outputs": []
    },
    {
      "cell_type": "code",
      "metadata": {
        "id": "qvrPOCSBdsPi"
      },
      "source": [
        "def FindSkew(dis,k,mean,var):\n",
        "  ''' This function finds the skewness of a distribution\n",
        "\n",
        "  Parameters:\n",
        "  dis   -- a distributions values\n",
        "  k     -- the value used to find each element of dis\n",
        "  mean  -- the expectation value of the distribution\n",
        "  var   -- the variance of the distribution\n",
        "\n",
        "  Returns:\n",
        "  Skewness of distribution\n",
        "  '''\n",
        "  cubed = np.sum(np.multiply(dis,k**3))/len(k)\n",
        "  numer = cubed + (3*mean*var) - (mean**3)\n",
        "  denom = var**(3/2)\n",
        "  return (numer/denom)"
      ],
      "execution_count": 6,
      "outputs": []
    },
    {
      "cell_type": "code",
      "metadata": {
        "id": "P4yF0I_NfuAV"
      },
      "source": [
        "def FindKurt(dis,k,mean,var,skew):\n",
        "  ''' This function finds the skewness of a distribution\n",
        "\n",
        "  Parameters:\n",
        "  dis   -- a distributions values\n",
        "  k     -- the value used to find each element of dis\n",
        "  mean  -- the expectation value of the distribution\n",
        "  var   -- the variance of the distribution\n",
        "  skew  -- the skewness of the distribution\n",
        "\n",
        "  Returns:\n",
        "  Kurtosis of distribution\n",
        "  '''\n",
        "  return (np.sum((k-mean)**4 * dis)/(len(k)*var**2))"
      ],
      "execution_count": 7,
      "outputs": []
    },
    {
      "cell_type": "code",
      "metadata": {
        "colab": {
          "base_uri": "https://localhost:8080/",
          "height": 602
        },
        "id": "gLq-t0YIua13",
        "outputId": "e8f38dab-e03b-42cd-d25e-f7f4e5959d80"
      },
      "source": [
        "# Set seed to allow for replicability of work\n",
        "np.random.seed(69)\n",
        "# make an array of the number of elements to use for each run\n",
        "x = np.array([4**i for i in range(11)],dtype=int)\n",
        "# arrays to be filled with the mean, variance, skewness, and kurtosis of the \n",
        "# samples whose sizes are found in x\n",
        "means, vars, skews, kurts = [], [], [], []\n",
        "true_mean, true_var, true_skew, true_kurt = sp.stats.laplace.stats(\n",
        "                                            moments='mvsk'\n",
        "                                            )\n",
        "for i in x:\n",
        "  k = np.random.rand(i)-.5\n",
        "  dis = sp.stats.laplace.pdf(k)\n",
        "\n",
        "  mean = FindExp(dis,k)\n",
        "  means.append(FindExp(dis,k))\n",
        "\n",
        "  var = FindVar(dis,k,mean)\n",
        "  vars.append(FindVar(dis,k,mean))\n",
        "\n",
        "  skew = FindSkew(dis,k,mean,var)\n",
        "  skews.append(FindSkew(dis,k,mean,var))\n",
        "\n",
        "  kurts.append(FindKurt(dis,k,mean,var,skew))\n",
        "  #vars.append(dis.var())\n",
        "  #skews.append(sp.stats.skew(dis))\n",
        "  #kurts.append(sp.stats.kurtosis(dis))\n",
        "print(true_mean,true_var,true_skew,true_kurt)\n",
        "makePlots(means,vars,skews,kurts,x,\"k\",true_mean,true_var,true_skew,true_kurt);"
      ],
      "execution_count": 24,
      "outputs": [
        {
          "output_type": "stream",
          "name": "stdout",
          "text": [
            "0.0 2.0 0.0 3.0\n"
          ]
        },
        {
          "output_type": "display_data",
          "data": {
            "image/png": "[encoded data removed]",
            "text/plain": [
              "<Figure size 576x576 with 4 Axes>"
            ]
          },
          "metadata": {
            "needs_background": "light"
          }
        }
      ]
    },
    {
      "cell_type": "markdown",
      "metadata": {
        "id": "2vrv2vbSjOlO"
      },
      "source": [
        "**CAPTIONS 1:**\n",
        "\n",
        "*In the above plots we can see the central limit theorem at work. As our sample size increases to inifinity we find that the Mean and Variance of the sample tend to their analytical values (i.e. the values of the entire population). The Skewness and Kurtosis on the otherhand do not, even after much effort was put forth to correct the issue. Because it is well know that they should tend to their analytical answer; however, this indicates that there exists an error in the code. Noticeably, when the sample size is small we see that their are large differences between the sampled values and the analytical ones but as the sample increases this differences become nearly indiscernable.*"
      ]
    }
  ]
}