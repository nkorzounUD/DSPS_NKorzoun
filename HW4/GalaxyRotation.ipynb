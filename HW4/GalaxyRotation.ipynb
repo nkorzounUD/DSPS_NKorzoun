{
  "nbformat": 4,
  "nbformat_minor": 2,
  "metadata": {
    "colab": {
      "name": "Copy of GalaxyRotation.ipynb",
      "provenance": [],
      "collapsed_sections": [
        "6me5k4c1OdDY"
      ],
      "include_colab_link": true
    },
    "kernelspec": {
      "display_name": "Python 3 (ipykernel)",
      "language": "python",
      "name": "python3"
    },
    "nbTranslate": {
      "displayLangs": [
        "*"
      ],
      "hotkey": "alt-t",
      "langInMainMenu": true,
      "sourceLang": "en",
      "targetLang": "fr",
      "useGoogleTranslate": true
    },
    "toc": {
      "base_numbering": 1,
      "colors": {
        "hover_highlight": "#DAA520",
        "running_highlight": "#FF0000",
        "selected_highlight": "#FFD700"
      },
      "moveMenuLeft": true,
      "nav_menu": {},
      "navigate_menu": true,
      "number_sections": true,
      "sideBar": true,
      "skip_h1_title": false,
      "threshold": 4,
      "title_cell": "Table of Contents",
      "title_sidebar": "Contents",
      "toc_cell": false,
      "toc_position": {
        "height": "calc(100% - 180px)",
        "left": "10px",
        "top": "150px",
        "width": "165px"
      },
      "toc_section_display": true,
      "toc_window_display": true
    }
  },
  "cells": [
    {
      "cell_type": "markdown",
      "source": [
        "<a href=\"https://colab.research.google.com/github/comooney711/DSPS_CMooney/blob/main/HW4/Copy_of_GalaxyRotation.ipynb\" target=\"_parent\"><img src=\"https://colab.research.google.com/assets/colab-badge.svg\" alt=\"Open In Colab\"/></a>"
      ],
      "metadata": {
        "id": "view-in-github",
        "colab_type": "text"
      }
    },
    {
      "cell_type": "markdown",
      "source": [
        "prepared by federica b bianco @fedhere\n",
        "for UDel DSPS PHYS 467/667\n",
        "\n",
        "Amended by Andrew Crossman @AndrewCrossman, Ben Flaggs @bflaggs, Nik Korzoun @nkorzounUD\n",
        "# testing the significance of Dark Matter"
      ],
      "metadata": {
        "id": "rxa6Xa3jOdCI",
        "run_control": {
          "frozen": false,
          "read_only": false
        }
      }
    },
    {
      "cell_type": "code",
      "execution_count": 127,
      "source": [
        "import pandas as pd\n",
        "import numpy as np\n",
        "import pylab as pl\n",
        "%pylab inline\n",
        "#package I will use for constants and units conversion \n",
        "import astropy\n",
        "from astropy import units as u"
      ],
      "outputs": [
        {
          "output_type": "stream",
          "name": "stdout",
          "text": [
            "Populating the interactive namespace from numpy and matplotlib\n"
          ]
        }
      ],
      "metadata": {
        "ExecuteTime": {
          "end_time": "2019-09-16T17:54:57.244596Z",
          "start_time": "2019-09-16T17:54:57.231090Z"
        },
        "colab": {
          "base_uri": "https://localhost:8080/"
        },
        "id": "Ya2RaOGbOdCJ",
        "run_control": {
          "frozen": false,
          "read_only": false
        },
        "outputId": "49c15f38-fb42-440e-a834-35726fa7a595"
      }
    },
    {
      "cell_type": "markdown",
      "source": [
        "In 1970 Vera Rubin published a seminal paper: she measured the rotational speed of HII regions in several galaxies and how it changed as a function of distance to the center of the galaxy. If we believe Newtonian gravity (or GR) we expect that _once all of the mass is included_, i.e. at a radius distance from the center of the galaxy larger than the radius of the galaxy itself, the rotational speed will be proportional to $v\\propto\\frac{1}/{r}$"
      ],
      "metadata": {
        "id": "4qp8A2TG1Gwb",
        "run_control": {
          "frozen": false,
          "read_only": false
        }
      }
    },
    {
      "cell_type": "markdown",
      "source": [
        "## Propagation of  uncertainties rules\n",
        "\n",
        "below are the basic rules for propagation of uncertainties - use [this as reference](https://github.com/fedhere/DSPS/blob/master/resources/Managing%20Errors%20and%20Uncertainty.pdf)"
      ],
      "metadata": {
        "id": "j-BDrNseOdCR",
        "run_control": {
          "frozen": false,
          "read_only": false
        }
      }
    },
    {
      "cell_type": "markdown",
      "source": [
        "\n",
        "\n",
        "\n",
        "$$\n",
        "\\begin{eqnarray}\n",
        "z = x  \\pm y  ~| & ~  &dz = \\sqrt{dx^2 + dy^2} \n",
        "\\\\\n",
        "z = x * y  ~| & ~& dz = |xy|  \\sqrt{\\left(\\frac{dx}{x}\\right)^2 + \n",
        "                                \\left(\\frac{dy}{y}\\right)^2} \\\\\n",
        "z = x / y  ~| & ~& dz = \\left|\\frac{x}{y}\\right| \\sqrt{\\left(\\frac{dx}{x}\\right)^2 + \n",
        "                                                   \\left(\\frac{dy}{y}\\right)^2} \\\\\n",
        "z = x^n ~| & ~& dz = |n| ~ x^{n-1}  dx \\\\\n",
        "z = \\mathrm{c}x ~| & ~& dz = |\\mathrm{c}| ~dx \\\\\n",
        "z = f(x, y) ~| & ~& dz = \\sqrt{\\left(\\frac{\\partial f}{\\partial x}\\right)^2 dx^2 +\\left(\\frac{\\partial f}{\\partial y}\\right)^2 dy^2} \\\\\n",
        "\\end{eqnarray}\n",
        "$$\n"
      ],
      "metadata": {
        "id": "iCrFipBzOzqp",
        "run_control": {
          "frozen": false,
          "read_only": false
        }
      }
    },
    {
      "cell_type": "markdown",
      "source": [
        "# let's assume a Newtonian framework: \n",
        "the velocity of a body in orbit depends only on the gravitational field of the mass that attracts it, and we can assume that mass is concentrated in the center of mass of (the center for simplicity) the system\n",
        "\n",
        "with G the gravitational constant, $r$ the radius, and $m(r)$ the mass contained within that radius we have the orbital velocity $v$:\n"
      ],
      "metadata": {
        "id": "WcF0zlWCOdCX",
        "run_control": {
          "frozen": false,
          "read_only": false
        }
      }
    },
    {
      "cell_type": "markdown",
      "source": [
        "\n",
        "$v^2 = \\frac{G \\cdot m(r)}{r}$\n"
      ],
      "metadata": {
        "id": "ZON0DKl5Qm2S",
        "run_control": {
          "frozen": false,
          "read_only": false
        }
      }
    },
    {
      "cell_type": "markdown",
      "source": [
        "Derive this $v^2\\propto\\frac{1}{r}$ from Newton's law $F~=~\\frac{GMm}{r^2}$. Write each formula and describe each step. You can use latex (you really just need to know ```\\frac{}``` and ```^```) and this reference\n",
        "https://www.physicsclassroom.com/calcpad/circgrav"
      ],
      "metadata": {
        "id": "lVfy9lJ21xMT",
        "run_control": {
          "frozen": false,
          "read_only": false
        }
      }
    },
    {
      "cell_type": "markdown",
      "source": [
        "**SOLUTION:**\n",
        "\n",
        "*When an object rotates in a circle it feels a force excerted on it radially inwards. This is know as the Centripetal Force whose magnitude is given as:*\n",
        "\n",
        "$F_{c}=\\frac{m\\cdot V^2}{r}$ \n",
        "\n",
        "*When that Centripetal Force is caused by gravity, such as in the case of a star rotating at the edges of a galaxy, then we can equate it to the gravitational force:*\n",
        "\n",
        "$F_{c}=\\frac{M_{1} \\cdot V^2}{r}$\n",
        "$=\\frac{G\\cdot M_{1}\\cdot M_{2}}{r^2}$\n",
        "$=F_{G}$\n",
        "\n",
        "*Now if we isolate $V$, and assume that $ M_{2} $ is a function of $r$ (i.e. $M_{2}=m(r)$), then we find that:*\n",
        "\n",
        "$V^2=\\frac{G \\cdot m(r)}{r}$\n",
        "\n",
        "*Hence,*\n",
        "\n",
        "$V^2\\propto \\frac{1}{r}$"
      ],
      "metadata": {
        "id": "HEB7hQojuAQt",
        "run_control": {
          "frozen": false,
          "read_only": false
        }
      }
    },
    {
      "cell_type": "markdown",
      "source": [
        "## M31 rotational curve"
      ],
      "metadata": {
        "id": "KQAEJtWuOdCb",
        "run_control": {
          "frozen": false,
          "read_only": false
        }
      }
    },
    {
      "cell_type": "markdown",
      "source": [
        "# Galaxy Rotational Curves\n",
        "The data comes from [SOFUE 2015](http://www.ioa.s.u-tokyo.ac.jp/~sofue/htdocs/2015m31/2015-pasj-M31MW-DH.pdf)\n",
        "The data are plotted in Figure 3 and 4 for M31 and the Milky Way respectively, and hosted on [this website](http://www.ioa.s.u-tokyo.ac.jp/~sofue/htdocs/2015m31/)\n",
        "As described in the paper: \n",
        "Long and short bars represent modified standard deviations and errors, respectively\n",
        "\n",
        "#### Please read the last paragraphs of Section 2.1 of the paper to understand the meaning of these uncertainties:\n",
        "\n",
        "![figures](https://github.com/fedhere/DSPS_FBianco/blob/master/HW4/figures.png?raw=1)\n",
        "\n"
      ],
      "metadata": {
        "ExecuteTime": {
          "end_time": "2019-08-02T01:34:15.029084Z",
          "start_time": "2019-08-02T01:34:15.026604Z"
        },
        "id": "BTaXzFYeOdCc",
        "run_control": {
          "frozen": false,
          "read_only": false
        }
      }
    },
    {
      "cell_type": "markdown",
      "source": [
        "\n",
        "\n",
        "![text](https://github.com/fedhere/DSPS_FBianco/blob/master/HW4/text.png?raw=1)\n",
        "\n",
        "### data ingestion\n",
        "Get the data from the github repository https://github.com/fedhere/DSPS/tree/master/HW4 : there are 2 files: mw.csv and m31.csv. Start with M31, the Andromeda galaxy, Vera Rubin's original target."
      ],
      "metadata": {
        "ExecuteTime": {
          "end_time": "2019-09-22T00:10:02.465470Z",
          "start_time": "2019-09-22T00:10:02.455255Z"
        },
        "run_control": {
          "frozen": false,
          "read_only": false
        },
        "id": "Tc3HlIKieSTj"
      }
    },
    {
      "cell_type": "markdown",
      "source": [
        "Note that the data contains 2 types of uncertainties: one significantly smaller than the other. The ```dv``` uncertainty is the propagation of the uncertainty in the location of the HII line. The uncertainty called ```err``` if the full error budget:  including _all_ sources of uncertainty and not just the uncertainty in measuring the location of the line. Retain both, you will test your hypothesis with each one to see if it matters which uncertainty you choose"
      ],
      "metadata": {
        "id": "_iFrkUYEV1SS",
        "run_control": {
          "frozen": false,
          "read_only": false
        }
      }
    },
    {
      "cell_type": "code",
      "execution_count": 128,
      "source": [
        "# your code here\n",
        "m31 = pd.read_csv(\"https://raw.githubusercontent.com/fedhere/DSPS_FBianco/master/HW4/m31.csv\",sep=\",\")"
      ],
      "outputs": [],
      "metadata": {
        "id": "PFYBlhUjt8_e",
        "run_control": {
          "frozen": false,
          "read_only": false
        }
      }
    },
    {
      "cell_type": "code",
      "execution_count": 129,
      "source": [
        "m31.head()"
      ],
      "outputs": [
        {
          "output_type": "execute_result",
          "data": {
            "text/html": [
              "<div>\n",
              "<style scoped>\n",
              "    .dataframe tbody tr th:only-of-type {\n",
              "        vertical-align: middle;\n",
              "    }\n",
              "\n",
              "    .dataframe tbody tr th {\n",
              "        vertical-align: top;\n",
              "    }\n",
              "\n",
              "    .dataframe thead th {\n",
              "        text-align: right;\n",
              "    }\n",
              "</style>\n",
              "<table border=\"1\" class=\"dataframe\">\n",
              "  <thead>\n",
              "    <tr style=\"text-align: right;\">\n",
              "      <th></th>\n",
              "      <th>#M31</th>\n",
              "      <th>Grand</th>\n",
              "      <th>Rotation</th>\n",
              "      <th>Curve</th>\n",
              "    </tr>\n",
              "  </thead>\n",
              "  <tbody>\n",
              "    <tr>\n",
              "      <th>0</th>\n",
              "      <td>#R(kpc</td>\n",
              "      <td>V(km/s)</td>\n",
              "      <td>St.dev.</td>\n",
              "      <td>St.error</td>\n",
              "    </tr>\n",
              "    <tr>\n",
              "      <th>1</th>\n",
              "      <td>0.100</td>\n",
              "      <td>183.939</td>\n",
              "      <td>0.000</td>\n",
              "      <td>0.000</td>\n",
              "    </tr>\n",
              "    <tr>\n",
              "      <th>2</th>\n",
              "      <td>0.120</td>\n",
              "      <td>190.710</td>\n",
              "      <td>10.265</td>\n",
              "      <td>12.191</td>\n",
              "    </tr>\n",
              "    <tr>\n",
              "      <th>3</th>\n",
              "      <td>0.144</td>\n",
              "      <td>204.141</td>\n",
              "      <td>22.634</td>\n",
              "      <td>21.808</td>\n",
              "    </tr>\n",
              "    <tr>\n",
              "      <th>4</th>\n",
              "      <td>0.173</td>\n",
              "      <td>207.601</td>\n",
              "      <td>4.573</td>\n",
              "      <td>4.200</td>\n",
              "    </tr>\n",
              "  </tbody>\n",
              "</table>\n",
              "</div>"
            ],
            "text/plain": [
              "     #M31    Grand Rotation     Curve\n",
              "0  #R(kpc  V(km/s)  St.dev.  St.error\n",
              "1   0.100  183.939    0.000     0.000\n",
              "2   0.120  190.710   10.265    12.191\n",
              "3   0.144  204.141   22.634    21.808\n",
              "4   0.173  207.601    4.573     4.200"
            ]
          },
          "metadata": {},
          "execution_count": 129
        }
      ],
      "metadata": {
        "colab": {
          "base_uri": "https://localhost:8080/",
          "height": 200
        },
        "id": "luL5UrsNQ1M1",
        "run_control": {
          "frozen": false,
          "read_only": false
        },
        "outputId": "33828f88-857f-4308-acb8-f5625d930d1f"
      }
    },
    {
      "cell_type": "code",
      "execution_count": 130,
      "source": [
        "# Rename columns\n",
        "m31 = m31[['#M31', 'Grand', 'Rotation', 'Curve']].rename(\n",
        "    {'#M31':\"r\", 'Grand':\"v\", 'Rotation':\"dv\", 'Curve':\"err\"}, axis=1)\n",
        "\n",
        "# Remove first row (no data in first row)\n",
        "m31 = m31.iloc[1:]\n",
        "m31 = m31.reset_index().drop(['index'], axis=1)\n",
        "\n",
        "\n",
        "# Change all data in the dataframe to floats\n",
        "m31 = m31.astype(float)"
      ],
      "outputs": [],
      "metadata": {
        "id": "f3RU5zMwSUJk"
      }
    },
    {
      "cell_type": "code",
      "execution_count": 131,
      "source": [
        "m31.describe()"
      ],
      "outputs": [
        {
          "output_type": "execute_result",
          "data": {
            "text/html": [
              "<div>\n",
              "<style scoped>\n",
              "    .dataframe tbody tr th:only-of-type {\n",
              "        vertical-align: middle;\n",
              "    }\n",
              "\n",
              "    .dataframe tbody tr th {\n",
              "        vertical-align: top;\n",
              "    }\n",
              "\n",
              "    .dataframe thead th {\n",
              "        text-align: right;\n",
              "    }\n",
              "</style>\n",
              "<table border=\"1\" class=\"dataframe\">\n",
              "  <thead>\n",
              "    <tr style=\"text-align: right;\">\n",
              "      <th></th>\n",
              "      <th>r</th>\n",
              "      <th>v</th>\n",
              "      <th>dv</th>\n",
              "      <th>err</th>\n",
              "    </tr>\n",
              "  </thead>\n",
              "  <tbody>\n",
              "    <tr>\n",
              "      <th>count</th>\n",
              "      <td>55.000000</td>\n",
              "      <td>55.000000</td>\n",
              "      <td>55.000000</td>\n",
              "      <td>55.000000</td>\n",
              "    </tr>\n",
              "    <tr>\n",
              "      <th>mean</th>\n",
              "      <td>205.853182</td>\n",
              "      <td>226.079255</td>\n",
              "      <td>55.034818</td>\n",
              "      <td>16.165855</td>\n",
              "    </tr>\n",
              "    <tr>\n",
              "      <th>std</th>\n",
              "      <td>415.523904</td>\n",
              "      <td>42.799892</td>\n",
              "      <td>49.254792</td>\n",
              "      <td>14.876951</td>\n",
              "    </tr>\n",
              "    <tr>\n",
              "      <th>min</th>\n",
              "      <td>0.100000</td>\n",
              "      <td>121.974000</td>\n",
              "      <td>0.000000</td>\n",
              "      <td>0.000000</td>\n",
              "    </tr>\n",
              "    <tr>\n",
              "      <th>25%</th>\n",
              "      <td>1.177000</td>\n",
              "      <td>208.894500</td>\n",
              "      <td>11.945500</td>\n",
              "      <td>3.224000</td>\n",
              "    </tr>\n",
              "    <tr>\n",
              "      <th>50%</th>\n",
              "      <td>13.737000</td>\n",
              "      <td>229.124000</td>\n",
              "      <td>30.697000</td>\n",
              "      <td>12.065000</td>\n",
              "    </tr>\n",
              "    <tr>\n",
              "      <th>75%</th>\n",
              "      <td>161.675000</td>\n",
              "      <td>244.102500</td>\n",
              "      <td>99.980000</td>\n",
              "      <td>23.641000</td>\n",
              "    </tr>\n",
              "    <tr>\n",
              "      <th>max</th>\n",
              "      <td>1887.071000</td>\n",
              "      <td>414.942000</td>\n",
              "      <td>147.835000</td>\n",
              "      <td>54.110000</td>\n",
              "    </tr>\n",
              "  </tbody>\n",
              "</table>\n",
              "</div>"
            ],
            "text/plain": [
              "                 r           v          dv        err\n",
              "count    55.000000   55.000000   55.000000  55.000000\n",
              "mean    205.853182  226.079255   55.034818  16.165855\n",
              "std     415.523904   42.799892   49.254792  14.876951\n",
              "min       0.100000  121.974000    0.000000   0.000000\n",
              "25%       1.177000  208.894500   11.945500   3.224000\n",
              "50%      13.737000  229.124000   30.697000  12.065000\n",
              "75%     161.675000  244.102500   99.980000  23.641000\n",
              "max    1887.071000  414.942000  147.835000  54.110000"
            ]
          },
          "metadata": {},
          "execution_count": 131
        }
      ],
      "metadata": {
        "ExecuteTime": {
          "end_time": "2019-08-02T01:35:26.395158Z",
          "start_time": "2019-08-02T01:35:26.373338Z"
        },
        "colab": {
          "base_uri": "https://localhost:8080/",
          "height": 290
        },
        "id": "QsNRokb1OdCh",
        "run_control": {
          "frozen": false,
          "read_only": false
        },
        "outputId": "a1b42b47-402e-460a-b9d5-de393b658caf"
      }
    },
    {
      "cell_type": "code",
      "execution_count": 132,
      "source": [
        "m31.head()"
      ],
      "outputs": [
        {
          "output_type": "execute_result",
          "data": {
            "text/html": [
              "<div>\n",
              "<style scoped>\n",
              "    .dataframe tbody tr th:only-of-type {\n",
              "        vertical-align: middle;\n",
              "    }\n",
              "\n",
              "    .dataframe tbody tr th {\n",
              "        vertical-align: top;\n",
              "    }\n",
              "\n",
              "    .dataframe thead th {\n",
              "        text-align: right;\n",
              "    }\n",
              "</style>\n",
              "<table border=\"1\" class=\"dataframe\">\n",
              "  <thead>\n",
              "    <tr style=\"text-align: right;\">\n",
              "      <th></th>\n",
              "      <th>r</th>\n",
              "      <th>v</th>\n",
              "      <th>dv</th>\n",
              "      <th>err</th>\n",
              "    </tr>\n",
              "  </thead>\n",
              "  <tbody>\n",
              "    <tr>\n",
              "      <th>0</th>\n",
              "      <td>0.100</td>\n",
              "      <td>183.939</td>\n",
              "      <td>0.000</td>\n",
              "      <td>0.000</td>\n",
              "    </tr>\n",
              "    <tr>\n",
              "      <th>1</th>\n",
              "      <td>0.120</td>\n",
              "      <td>190.710</td>\n",
              "      <td>10.265</td>\n",
              "      <td>12.191</td>\n",
              "    </tr>\n",
              "    <tr>\n",
              "      <th>2</th>\n",
              "      <td>0.144</td>\n",
              "      <td>204.141</td>\n",
              "      <td>22.634</td>\n",
              "      <td>21.808</td>\n",
              "    </tr>\n",
              "    <tr>\n",
              "      <th>3</th>\n",
              "      <td>0.173</td>\n",
              "      <td>207.601</td>\n",
              "      <td>4.573</td>\n",
              "      <td>4.200</td>\n",
              "    </tr>\n",
              "    <tr>\n",
              "      <th>4</th>\n",
              "      <td>0.207</td>\n",
              "      <td>210.188</td>\n",
              "      <td>3.943</td>\n",
              "      <td>3.258</td>\n",
              "    </tr>\n",
              "  </tbody>\n",
              "</table>\n",
              "</div>"
            ],
            "text/plain": [
              "       r        v      dv     err\n",
              "0  0.100  183.939   0.000   0.000\n",
              "1  0.120  190.710  10.265  12.191\n",
              "2  0.144  204.141  22.634  21.808\n",
              "3  0.173  207.601   4.573   4.200\n",
              "4  0.207  210.188   3.943   3.258"
            ]
          },
          "metadata": {},
          "execution_count": 132
        }
      ],
      "metadata": {
        "colab": {
          "base_uri": "https://localhost:8080/",
          "height": 200
        },
        "id": "Ut9icR_YSOw5",
        "outputId": "7039d1d2-b326-44d7-cc2f-6607d16af9d3"
      }
    },
    {
      "cell_type": "markdown",
      "source": [
        "from https://en.wikipedia.org/wiki/Andromeda_Galaxy get the extent of the luminous component of M31 (Andromeda). The distance of the Galaxy multiplied by the angular size will give you this information from basic trigonometry (make sure you convert the units properly, using astropy). Make sure you include the uncertainties! uncertainties in the distance will give you the uncertainty in the size\n",
        "   \n",
        " "
      ],
      "metadata": {
        "id": "Vv0Ut6vOOdCk",
        "run_control": {
          "frozen": false,
          "read_only": false
        }
      }
    },
    {
      "cell_type": "code",
      "execution_count": 133,
      "source": [
        "apparentSizeM31 = 3.167 #deg\n",
        "distanceM31 = 765 #kpc "
      ],
      "outputs": [],
      "metadata": {
        "id": "kvIFr6D778ri",
        "run_control": {
          "frozen": false,
          "read_only": false
        }
      }
    },
    {
      "cell_type": "code",
      "execution_count": 134,
      "source": [
        "m31angS = apparentSizeM31 * u.degree\n",
        "print(\"Angular Size of the visible component of Andromeda: {:.2f}\".format(m31angS.to(u.rad)  ))"
      ],
      "outputs": [
        {
          "output_type": "stream",
          "name": "stdout",
          "text": [
            "Angular Size of the visible component of Andromeda: 0.06 rad\n"
          ]
        }
      ],
      "metadata": {
        "ExecuteTime": {
          "end_time": "2019-08-02T01:35:41.413407Z",
          "start_time": "2019-08-02T01:35:41.408764Z"
        },
        "colab": {
          "base_uri": "https://localhost:8080/"
        },
        "id": "tzGNh98hOdCl",
        "run_control": {
          "frozen": false,
          "read_only": false
        },
        "outputId": "6b259fe5-896e-49de-85c7-5fed1386782a"
      }
    },
    {
      "cell_type": "markdown",
      "source": [
        "Please make sure you print a sensible number of decimal digits! you have a  number of significant digits set by the number of digit in the info you get from wikipedia"
      ],
      "metadata": {
        "id": "cOw0Y4KNWTOZ",
        "run_control": {
          "frozen": false,
          "read_only": false
        }
      }
    },
    {
      "cell_type": "markdown",
      "source": [
        "The distance, from Wikipedia, will have an uncertainty. Convert both to kiloparsecs Kpc"
      ],
      "metadata": {
        "id": "hF2wXZ988QgS",
        "run_control": {
          "frozen": false,
          "read_only": false
        }
      }
    },
    {
      "cell_type": "code",
      "execution_count": 135,
      "source": [
        "sigmaDistanceM31 = 28 #kpc"
      ],
      "outputs": [],
      "metadata": {
        "ExecuteTime": {
          "end_time": "2019-08-02T01:35:42.257553Z",
          "start_time": "2019-08-02T01:35:42.254539Z"
        },
        "id": "7-nEP6KrOdCo",
        "run_control": {
          "frozen": false,
          "read_only": false
        }
      }
    },
    {
      "cell_type": "code",
      "execution_count": 136,
      "source": [
        "m31size = m31angS.to(u.rad).value * distanceM31 * u.kpc\n",
        "sigmaM31size = abs(m31size) * np.sqrt((sigmaDistanceM31 / distanceM31)**2)\n",
        "print(f\"Size of the visible component of Andromeda: {m31size:.2f} +/- {sigmaM31size:.2f}\" )"
      ],
      "outputs": [
        {
          "output_type": "stream",
          "name": "stdout",
          "text": [
            "Size of the visible component of Andromeda: 42.29 kpc +/- 1.55 kpc\n"
          ]
        }
      ],
      "metadata": {
        "ExecuteTime": {
          "end_time": "2019-08-02T01:35:42.815232Z",
          "start_time": "2019-08-02T01:35:42.810316Z"
        },
        "colab": {
          "base_uri": "https://localhost:8080/"
        },
        "id": "0y_V9AuFOdCv",
        "run_control": {
          "frozen": false,
          "read_only": false
        },
        "outputId": "d2ee097b-089a-43de-cd23-0484fe0ece29"
      }
    },
    {
      "cell_type": "markdown",
      "source": [
        "Print the distance like I printed the angular size. \n",
        "\n",
        "To get the physical size of the visible component of andtomeda you can use simple trigonometry: $y = r * sin(\\alpha) ~ \\sim ~ r \\alpha $ for small angles \n",
        "\n",
        "\n",
        "Print the physical size of the Andromeda galaxy (remember decimal digits, proper formatting etc etc). \n"
      ],
      "metadata": {
        "id": "_pTXgdTL8jv6",
        "run_control": {
          "frozen": false,
          "read_only": false
        }
      }
    },
    {
      "cell_type": "markdown",
      "source": [
        "### find the first measurement  in your data table that includes all the luminous mass. \n",
        "\n",
        "What is the smallest radius in your data where the luminous mass is completely included and what is the veolcity at that radius?\n",
        "You can do it by broadcasting (see homework 3)"
      ],
      "metadata": {
        "id": "97o52hRhOdCy",
        "run_control": {
          "frozen": false,
          "read_only": false
        }
      }
    },
    {
      "cell_type": "markdown",
      "source": [
        "We expect the velocity to decrease as 1/r if all mass is included: the velocity at a radius twice as far as the radius that includes all the mass should be a factor 2 slower, three times as far a factor 3 slower. "
      ],
      "metadata": {
        "id": "TVWiU84XOdDA",
        "run_control": {
          "frozen": false,
          "read_only": false
        }
      }
    },
    {
      "cell_type": "markdown",
      "source": [
        "write a function that \n",
        "\n",
        "1. finds the smallest radius in the dataset that is at least N times the radius of the visible galaxy, \n",
        "\n",
        "2. takes as arguments:\n",
        "    - the data and \n",
        "    - N \n",
        "    - the size of the luminous component of the galaxy\n",
        " \n",
        "2. Returns the value of the radius and its uncertainty and the velocity and its uncertainty"
      ],
      "metadata": {
        "id": "b096Ax33SiXl",
        "run_control": {
          "frozen": false,
          "read_only": false
        }
      }
    },
    {
      "cell_type": "code",
      "execution_count": 137,
      "source": [
        "test = m31[m31.r > 2*m31size] #why twice the size, shouldn't the radius be greater than half the size?\n",
        "test = test.reset_index().drop(['index'], axis=1)\n",
        "test.head()"
      ],
      "outputs": [
        {
          "output_type": "execute_result",
          "data": {
            "text/html": [
              "<div>\n",
              "<style scoped>\n",
              "    .dataframe tbody tr th:only-of-type {\n",
              "        vertical-align: middle;\n",
              "    }\n",
              "\n",
              "    .dataframe tbody tr th {\n",
              "        vertical-align: top;\n",
              "    }\n",
              "\n",
              "    .dataframe thead th {\n",
              "        text-align: right;\n",
              "    }\n",
              "</style>\n",
              "<table border=\"1\" class=\"dataframe\">\n",
              "  <thead>\n",
              "    <tr style=\"text-align: right;\">\n",
              "      <th></th>\n",
              "      <th>r</th>\n",
              "      <th>v</th>\n",
              "      <th>dv</th>\n",
              "      <th>err</th>\n",
              "    </tr>\n",
              "  </thead>\n",
              "  <tbody>\n",
              "    <tr>\n",
              "      <th>0</th>\n",
              "      <td>85.056</td>\n",
              "      <td>206.603</td>\n",
              "      <td>135.003</td>\n",
              "      <td>27.258</td>\n",
              "    </tr>\n",
              "    <tr>\n",
              "      <th>1</th>\n",
              "      <td>102.068</td>\n",
              "      <td>213.002</td>\n",
              "      <td>132.456</td>\n",
              "      <td>29.321</td>\n",
              "    </tr>\n",
              "    <tr>\n",
              "      <th>2</th>\n",
              "      <td>122.481</td>\n",
              "      <td>197.383</td>\n",
              "      <td>105.727</td>\n",
              "      <td>23.358</td>\n",
              "    </tr>\n",
              "    <tr>\n",
              "      <th>3</th>\n",
              "      <td>146.977</td>\n",
              "      <td>177.521</td>\n",
              "      <td>81.762</td>\n",
              "      <td>16.662</td>\n",
              "    </tr>\n",
              "    <tr>\n",
              "      <th>4</th>\n",
              "      <td>176.373</td>\n",
              "      <td>165.325</td>\n",
              "      <td>74.652</td>\n",
              "      <td>15.706</td>\n",
              "    </tr>\n",
              "  </tbody>\n",
              "</table>\n",
              "</div>"
            ],
            "text/plain": [
              "         r        v       dv     err\n",
              "0   85.056  206.603  135.003  27.258\n",
              "1  102.068  213.002  132.456  29.321\n",
              "2  122.481  197.383  105.727  23.358\n",
              "3  146.977  177.521   81.762  16.662\n",
              "4  176.373  165.325   74.652  15.706"
            ]
          },
          "metadata": {},
          "execution_count": 137
        }
      ],
      "metadata": {
        "colab": {
          "base_uri": "https://localhost:8080/",
          "height": 200
        },
        "id": "UhERH3cZV9Va",
        "outputId": "906f310f-22b8-459e-b46c-607a358b8e12"
      }
    },
    {
      "cell_type": "code",
      "execution_count": 138,
      "source": [
        "minr = test[\"r\"].iloc[0]\n",
        "print(minr)"
      ],
      "outputs": [
        {
          "output_type": "stream",
          "name": "stdout",
          "text": [
            "85.056\n"
          ]
        }
      ],
      "metadata": {
        "colab": {
          "base_uri": "https://localhost:8080/"
        },
        "id": "wKdIB-w2WhK6",
        "outputId": "c8f56140-ae4a-4ad0-816c-716cec85803d"
      }
    },
    {
      "cell_type": "code",
      "execution_count": 139,
      "source": [
        "def getradii(gal, gsize, n):\n",
        "  '''Gets the radius and velocity with respective uncertainties.\n",
        "\n",
        "  Parameters:\n",
        "  gal   -- name of the pandas dataframe for the galaxy  \n",
        "  gsize -- size of the luminous component of the galaxy\n",
        "  n     -- find radius at this value times gsize\n",
        "\n",
        "  Returns:\n",
        "  minR      -- minimum radius greater than n*gsize\n",
        "  sigmaMinR -- uncertainty in the minimum radius\n",
        "  vel       -- velocity at the minimum radius\n",
        "  sigmaVel  -- uncertainty in the velocity\n",
        "  '''\n",
        "\n",
        "  dfCut = gal[gal.r > n * gsize]\n",
        "  dfCut = dfCut.reset_index().drop(['index'], axis=1)\n",
        "\n",
        "  minidx = int( dfCut[\"r\"].idxmin() )\n",
        "  minR = dfCut[\"r\"].iloc[minidx]\n",
        "\n",
        "  sigmaMinR = dfCut[\"err\"].iloc[minidx]\n",
        "\n",
        "  vel = dfCut[\"v\"].iloc[minidx]\n",
        "  sigmaVel = dfCut[\"dv\"].iloc[minidx]\n",
        "\n",
        "  return minR, sigmaMinR, vel, sigmaVel\n"
      ],
      "outputs": [],
      "metadata": {
        "ExecuteTime": {
          "end_time": "2019-08-02T02:07:26.053511Z",
          "start_time": "2019-08-02T02:07:26.046677Z"
        },
        "id": "-_O34Bb7OdC2",
        "run_control": {
          "frozen": false,
          "read_only": false
        }
      }
    },
    {
      "cell_type": "code",
      "execution_count": 140,
      "source": [
        "# Test the function here (delete later)\n",
        "testR, testsigR, testV, testsigV = getradii(m31, m31size, 2)\n",
        "print(testR) # Compare output to output from above to make sure they are the same\n",
        "#print(testsigR)"
      ],
      "outputs": [
        {
          "output_type": "stream",
          "name": "stdout",
          "text": [
            "85.056\n"
          ]
        }
      ],
      "metadata": {
        "colab": {
          "base_uri": "https://localhost:8080/"
        },
        "id": "psTmn9bCX1jg",
        "outputId": "9eccfd3a-7d04-45b9-c97e-eb310f1f0214"
      }
    },
    {
      "cell_type": "code",
      "execution_count": 141,
      "source": [
        "m31.head()"
      ],
      "outputs": [
        {
          "output_type": "execute_result",
          "data": {
            "text/html": [
              "<div>\n",
              "<style scoped>\n",
              "    .dataframe tbody tr th:only-of-type {\n",
              "        vertical-align: middle;\n",
              "    }\n",
              "\n",
              "    .dataframe tbody tr th {\n",
              "        vertical-align: top;\n",
              "    }\n",
              "\n",
              "    .dataframe thead th {\n",
              "        text-align: right;\n",
              "    }\n",
              "</style>\n",
              "<table border=\"1\" class=\"dataframe\">\n",
              "  <thead>\n",
              "    <tr style=\"text-align: right;\">\n",
              "      <th></th>\n",
              "      <th>r</th>\n",
              "      <th>v</th>\n",
              "      <th>dv</th>\n",
              "      <th>err</th>\n",
              "    </tr>\n",
              "  </thead>\n",
              "  <tbody>\n",
              "    <tr>\n",
              "      <th>0</th>\n",
              "      <td>0.100</td>\n",
              "      <td>183.939</td>\n",
              "      <td>0.000</td>\n",
              "      <td>0.000</td>\n",
              "    </tr>\n",
              "    <tr>\n",
              "      <th>1</th>\n",
              "      <td>0.120</td>\n",
              "      <td>190.710</td>\n",
              "      <td>10.265</td>\n",
              "      <td>12.191</td>\n",
              "    </tr>\n",
              "    <tr>\n",
              "      <th>2</th>\n",
              "      <td>0.144</td>\n",
              "      <td>204.141</td>\n",
              "      <td>22.634</td>\n",
              "      <td>21.808</td>\n",
              "    </tr>\n",
              "    <tr>\n",
              "      <th>3</th>\n",
              "      <td>0.173</td>\n",
              "      <td>207.601</td>\n",
              "      <td>4.573</td>\n",
              "      <td>4.200</td>\n",
              "    </tr>\n",
              "    <tr>\n",
              "      <th>4</th>\n",
              "      <td>0.207</td>\n",
              "      <td>210.188</td>\n",
              "      <td>3.943</td>\n",
              "      <td>3.258</td>\n",
              "    </tr>\n",
              "  </tbody>\n",
              "</table>\n",
              "</div>"
            ],
            "text/plain": [
              "       r        v      dv     err\n",
              "0  0.100  183.939   0.000   0.000\n",
              "1  0.120  190.710  10.265  12.191\n",
              "2  0.144  204.141  22.634  21.808\n",
              "3  0.173  207.601   4.573   4.200\n",
              "4  0.207  210.188   3.943   3.258"
            ]
          },
          "metadata": {},
          "execution_count": 141
        }
      ],
      "metadata": {
        "colab": {
          "base_uri": "https://localhost:8080/",
          "height": 200
        },
        "id": "om3rtF_jYp-a",
        "outputId": "d74a5a4e-6273-4aa4-f5b6-9f925faefeaa"
      }
    },
    {
      "cell_type": "markdown",
      "source": [
        "### data visualization"
      ],
      "metadata": {
        "ExecuteTime": {
          "end_time": "2019-08-01T18:13:58.231637Z",
          "start_time": "2019-08-01T18:13:58.229447Z"
        },
        "id": "ogu_iquzOdC5",
        "run_control": {
          "frozen": false,
          "read_only": false
        }
      }
    },
    {
      "cell_type": "markdown",
      "source": [
        "make a plot that shows\n",
        "\n",
        "1. the rotational curve of the galaxy (as a line)\n",
        "\n",
        "2. each velocity as an errorbar with error equal to err in the same color as the line in 1\n",
        "\n",
        "3. each velocity as an errorbar with error equal to dv in  the same color but a different line thickness\n",
        "\n",
        "\n",
        "4. the datapoint corresponding to N=1, 2, 3 each in a different color. \n",
        "\n",
        "5. add a legend that indicates the meaning of each color (```pl.legend()```)\n",
        "\n",
        "6. add a text that indicates the velocity and its uncertainty (dv and err) just below the largest errorbar (```pl.text()```)\n",
        "\n",
        "7. limit the x axis to the \"relevant\" portion of the data"
      ],
      "metadata": {
        "id": "kJ6MujVJUyel",
        "run_control": {
          "frozen": false,
          "read_only": false
        }
      }
    },
    {
      "cell_type": "code",
      "execution_count": 151,
      "source": [
        "m31size.value\n",
        "tmp = m31[m31['r'] < 150]\n",
        "max = tmp[\"dv\"].idxmax()\n",
        "tmp.iloc[max]"
      ],
      "outputs": [
        {
          "output_type": "execute_result",
          "data": {
            "text/plain": [
              "r       85.056\n",
              "v      206.603\n",
              "dv     135.003\n",
              "err     27.258\n",
              "Name: 37, dtype: float64"
            ]
          },
          "metadata": {},
          "execution_count": 151
        }
      ],
      "metadata": {
        "colab": {
          "base_uri": "https://localhost:8080/"
        },
        "id": "0kz0-pJD4--t",
        "outputId": "31f5c75c-e7a4-4ca1-ddfc-f2d4536f6e49"
      }
    },
    {
      "cell_type": "code",
      "execution_count": 177,
      "source": [
        "def plotGal(gal, rds):\n",
        "\n",
        "  minR1, sigmaMinR1, vel1, sigmaVel1 = getradii(gal, rds, 1)\n",
        "  minR2, sigmaMinR2, vel2, sigmaVel2 = getradii(gal, rds, 2)\n",
        "  minR3, sigmaMinR3, vel3, sigmaVel3 = getradii(gal, rds, 3)\n",
        "\n",
        "  rarray=np.array([minR1, minR2, minR3])\n",
        "  varray=np.array([vel1, vel2, vel3])\n",
        "\n",
        "  dfCut = gal\n",
        "  #dfCut = gal[gal.r > rds]\n",
        "  #dfCut = dfCut.reset_index().drop(['index'], axis=1)\n",
        "  \n",
        "  plt.figure(figsize=(10, 7))\n",
        "  pts1 = plt.scatter(rarray[0], varray[0], color = ['yellow'], s=100, zorder=10, label = '1 * Galaxy Radius')\n",
        "  pts2 = plt.scatter(rarray[1], varray[1], color = ['green'], s=100, zorder=10, label = '2 * Galaxy Radius')\n",
        "  pts3 = plt.scatter(rarray[2], varray[2], color = ['purple'], s=100, zorder=10, label = '3 * Galaxy Radius')\n",
        "\n",
        "  err1 = plt.errorbar(dfCut[\"r\"],dfCut[\"v\"],yerr = dfCut[\"dv\"], capsize=4, label = 'Full uncertainty')\n",
        "  err2 = plt.errorbar(dfCut[\"r\"],dfCut[\"v\"],yerr = dfCut[\"err\"], fmt = 'r ', elinewidth=4, capsize=4, label = 'HII uncertainty')\n",
        "  plt.xlim([0, 200])\n",
        "\n",
        "  pts_legend = plt.legend(handles=[pts1,pts2,pts3], loc=1)\n",
        "  ax = plt.gca().add_artist(pts_legend)\n",
        "  plt.legend(handles=[err1,err2], loc=4)\n",
        "  \n",
        "  plt.xlabel(\"R (kpc)\")\n",
        "  plt.ylabel(\"v (km/s)\")\n",
        "  # uncomment to combine legends\n",
        "  # plt.legend()\n",
        "\n",
        "  plt.text(72,56,\"dv = 135.003 km/s\")\n",
        "  plt.text(72,40, \"err = 27.258 km/s\")\n",
        "  plt.show()\n",
        "\n",
        "  return\n",
        "\n",
        "plotGal(m31, m31size.value)"
      ],
      "outputs": [
        {
          "output_type": "display_data",
          "data": {
            "image/png": "[encoded data removed]",
            "text/plain": [
              "<Figure size 720x504 with 1 Axes>"
            ]
          },
          "metadata": {
            "needs_background": "light"
          }
        }
      ],
      "metadata": {
        "ExecuteTime": {
          "end_time": "2019-08-02T03:01:27.556063Z",
          "start_time": "2019-08-02T03:01:27.302184Z"
        },
        "colab": {
          "base_uri": "https://localhost:8080/",
          "height": 442
        },
        "id": "7IMXYY8BOdC6",
        "run_control": {
          "frozen": false,
          "read_only": false
        },
        "outputId": "4eb25cda-5ec9-4664-ba58-01d37514a1a5"
      }
    },
    {
      "cell_type": "markdown",
      "source": [
        "Write a function that for a given dataset and a given luminous radius and a given N \n",
        "  \n",
        "  1) uses the function above to find the radius at least as large as needed and the velocity at that radius, \n",
        "  \n",
        "  2) states the expected drop in rotational velocities according to Newton's law $v^2\\propto 1/r$\n",
        "  \n",
        "  3) calculates the ratio of radii and the ratio of velocities at N radii from the center N=1 and N=N (input, e.g. 2, 3 etc) with uncertainties, \n",
        "  \n",
        "  4) and stated whether that ratio is consistent within the uncertainties with Newton's law $v^2 \\propto 1/r$\n",
        "  \n",
        "Your function should print \n",
        "\n",
        "     - the expected ratio based on the radii, \n",
        "     - the calculated ratio using ```dv```, and its uncertainty, - \n",
        "     - the 2-$\\sigma$ upper and lower limits of the calculated ratio\n",
        "     - whether the expected ratio is within the $2-\\sigma$ of the calculated ratio, \n",
        "  5) and the same using ```err```  instead of ```dv```"
      ],
      "metadata": {
        "id": "bIbv3YrhTo0X",
        "run_control": {
          "frozen": false,
          "read_only": false
        }
      }
    },
    {
      "cell_type": "code",
      "execution_count": 144,
      "source": [
        "def vratios(gal, gsize, n, err='dv'):\n",
        "  '''Prints whether the expected and experimental rotational velocity ratios are in agreement\n",
        "\n",
        "  Parameters:\n",
        "  gal   -- name of the pandas dataframe for the galaxy  \n",
        "  gsize -- size of the luminous component of the galaxy\n",
        "  n     -- find radius at this value times gsize\n",
        "  err {'dv' , 'err' }  -- type of uncertainty to use to qualify agreement\n",
        "  '''\n",
        "  minR_1, sigmaMinR_1, vel_1, sigmaVel_1 = getradii(gal, gsize, 1)\n",
        "  minR_n, sigmaMinR_n, vel_n, sigmaVel_n = getradii(gal, gsize, n)\n",
        "\n",
        "  # expected ratio from radii\n",
        "  expected = (1/minR_n)/(1/minR_1)\n",
        "  # calculated ratio from velocities\n",
        "  vel2_1 = (vel_1)*(vel_1)\n",
        "  vel2_n = (vel_n)*(vel_n)\n",
        "  calculated = vel2_n / vel2_1\n",
        "\n",
        "  if(err=='dv'):\n",
        "    tmp1 = vel2_1 * np.sqrt(2* ((sigmaVel_1)*(sigmaVel_1)) / ((vel_1)*(vel_1))) #propogate error from squaring\n",
        "    tmp2 = vel2_n * np.sqrt(2* ((sigmaVel_n)*(sigmaVel_n)) / ((vel_n)*(vel_n))) #propogate error from squaring\n",
        "  elif(err=='err'):\n",
        "    tmp1 = vel2_1 * np.sqrt(2* ((sigmaMinR_1)*(sigmaMinR_1)) / ((vel_1)*(vel_1))) #propogate error from squaring\n",
        "    tmp2 = vel2_n * np.sqrt(2* ((sigmaMinR_n)*(sigmaMinR_n)) / ((vel_n)*(vel_n))) #propogate error from squaring\n",
        "  else:\n",
        "    print(\"Unrecognised error, err or dv expected. Terminating function\")\n",
        "    return\n",
        "\n",
        "  calculated1sigma = calculated * np.sqrt(((tmp1)*(tmp1))/((vel2_1)*(vel2_1)) + ((tmp2)*(tmp2))/((vel2_n)*(vel2_n))) #propogate error from division\n",
        "  # calculated1sigma = ((sigmaVel_n*sigmaVel_n)/((sigmaVel_1)*(sigmaVel_1))) # dont propogate error?\n",
        "  # calculated1sigma = ((sigmaMinR_n*sigmaMinR_n)/((sigmaMinR_1)*(sigmaMinR_1))) # dont propogate error?\n",
        "  calculated2sigma = 2*calculated1sigma\n",
        "\n",
        "  #print calculations and conclude agreement\n",
        "  print(\"Expected 1/r drop from \" +str(n)+ f\" galaxy radii to one radius: {expected:.2f}\")\n",
        "  print(\"Calculated v^2 drop from \" +str(n)+ f\" galaxy radii to one radius: {calculated:.2f} +/- {calculated2sigma:.2f}\")\n",
        "  if(expected > calculated - calculated2sigma and expected < calculated + calculated2sigma):\n",
        "    print(\"Expected drop is within 2 sigma of the calculated ratio: values are in agreement\")\n",
        "  else:\n",
        "    print(\"Expected drop is not within 2 sigma of the calculated ratio: values are not in agreement\")\n",
        "    "
      ],
      "outputs": [],
      "metadata": {
        "ExecuteTime": {
          "end_time": "2019-08-02T02:22:18.485172Z",
          "start_time": "2019-08-02T02:22:18.477807Z"
        },
        "id": "1hhTw8N4OdDB",
        "run_control": {
          "frozen": false,
          "read_only": false
        }
      }
    },
    {
      "cell_type": "code",
      "execution_count": 145,
      "source": [
        "# your code here\n",
        "vratios(m31, m31size.value, 1,err='dv')\n",
        "print(\"--------------------------------\")\n",
        "vratios(m31, m31size.value, 1,err='err')\n",
        "print(\"--------------------------------\")\n",
        "\n",
        "vratios(m31, m31size.value, 2,err='dv')\n",
        "print(\"--------------------------------\")\n",
        "vratios(m31, m31size.value, 2,err='err')\n",
        "print(\"--------------------------------\")\n",
        "\n",
        "vratios(m31, m31size.value, 3,err='dv')\n",
        "print(\"--------------------------------\")\n",
        "vratios(m31, m31size.value, 3,err='err')\n",
        "print(\"--------------------------------\")"
      ],
      "outputs": [
        {
          "output_type": "stream",
          "name": "stdout",
          "text": [
            "Expected 1/r drop from 1 galaxy radii to one radius: 1.00\n",
            "Calculated v^2 drop from 1 galaxy radii to one radius: 1.00 +/- 1.85\n",
            "Expected drop is within 2 sigma of the calculated ratio: values are in agreement\n",
            "--------------------------------\n",
            "Expected 1/r drop from 1 galaxy radii to one radius: 1.00\n",
            "Calculated v^2 drop from 1 galaxy radii to one radius: 1.00 +/- 0.40\n",
            "Expected drop is within 2 sigma of the calculated ratio: values are in agreement\n",
            "--------------------------------\n",
            "Expected 1/r drop from 2 galaxy radii to one radius: 0.58\n",
            "Calculated v^2 drop from 2 galaxy radii to one radius: 0.76 +/- 1.72\n",
            "Expected drop is within 2 sigma of the calculated ratio: values are in agreement\n",
            "--------------------------------\n",
            "Expected 1/r drop from 2 galaxy radii to one radius: 0.58\n",
            "Calculated v^2 drop from 2 galaxy radii to one radius: 0.76 +/- 0.36\n",
            "Expected drop is within 2 sigma of the calculated ratio: values are in agreement\n",
            "--------------------------------\n",
            "Expected 1/r drop from 3 galaxy radii to one radius: 0.33\n",
            "Calculated v^2 drop from 3 galaxy radii to one radius: 0.56 +/- 1.03\n",
            "Expected drop is within 2 sigma of the calculated ratio: values are in agreement\n",
            "--------------------------------\n",
            "Expected 1/r drop from 3 galaxy radii to one radius: 0.33\n",
            "Calculated v^2 drop from 3 galaxy radii to one radius: 0.56 +/- 0.22\n",
            "Expected drop is not within 2 sigma of the calculated ratio: values are not in agreement\n",
            "--------------------------------\n"
          ]
        }
      ],
      "metadata": {
        "ExecuteTime": {
          "end_time": "2019-08-02T02:22:20.233692Z",
          "start_time": "2019-08-02T02:22:20.225631Z"
        },
        "id": "8TPkTIthOdDI",
        "run_control": {
          "frozen": false,
          "read_only": false
        }
      }
    },
    {
      "cell_type": "markdown",
      "source": [
        "### Discuss!"
      ],
      "metadata": {
        "ExecuteTime": {
          "end_time": "2019-08-02T00:36:41.637045Z",
          "start_time": "2019-08-02T00:36:41.634825Z"
        },
        "id": "6me5k4c1OdDY",
        "run_control": {
          "frozen": false,
          "read_only": false
        }
      }
    },
    {
      "cell_type": "markdown",
      "source": [
        "### The calculated velocities agree with the expected 1/r drop when strictly looking at the uncertainty in the location of the HII line, but when taking all uncertainty into account, the velocities are no longer in agreement once 3 galaxy radii have been reached - indicating the Newtonian model is incomplete for the Andromeda galaxy."
      ],
      "metadata": {}
    },
    {
      "cell_type": "markdown",
      "source": [
        "## do the same for the Milky Way. If your functions were create properly you should be able to reuse them seamlessly"
      ],
      "metadata": {
        "id": "QIHRn8UlOdDZ",
        "run_control": {
          "frozen": false,
          "read_only": false
        }
      }
    },
    {
      "cell_type": "code",
      "execution_count": 149,
      "source": [
        "# read data\n",
        "mw = pd.read_csv(\"https://raw.githubusercontent.com/fedhere/DSPS_FBianco/master/HW4/mw.csv\",sep=\",\")\n",
        "\n",
        "# Rename columns\n",
        "mw = mw[['#MW', 'Grand', 'Rotation', 'Curve']].rename(\n",
        "    {'#MW':\"r\", 'Grand':\"v\", 'Rotation':\"dv\", 'Curve':\"err\"}, axis=1)\n",
        "\n",
        "# Remove first row (no data in first row)\n",
        "mw = mw.iloc[1:]\n",
        "mw = mw.reset_index().drop(['index'], axis=1)\n",
        "\n",
        "# Change all data in the dataframe to floats\n",
        "mw = mw.astype(float)\n",
        "\n",
        "mw.head()"
      ],
      "outputs": [
        {
          "output_type": "execute_result",
          "data": {
            "text/html": [
              "<div>\n",
              "<style scoped>\n",
              "    .dataframe tbody tr th:only-of-type {\n",
              "        vertical-align: middle;\n",
              "    }\n",
              "\n",
              "    .dataframe tbody tr th {\n",
              "        vertical-align: top;\n",
              "    }\n",
              "\n",
              "    .dataframe thead th {\n",
              "        text-align: right;\n",
              "    }\n",
              "</style>\n",
              "<table border=\"1\" class=\"dataframe\">\n",
              "  <thead>\n",
              "    <tr style=\"text-align: right;\">\n",
              "      <th></th>\n",
              "      <th>r</th>\n",
              "      <th>v</th>\n",
              "      <th>dv</th>\n",
              "      <th>err</th>\n",
              "    </tr>\n",
              "  </thead>\n",
              "  <tbody>\n",
              "    <tr>\n",
              "      <th>0</th>\n",
              "      <td>0.010</td>\n",
              "      <td>119.061</td>\n",
              "      <td>41.832</td>\n",
              "      <td>32.714</td>\n",
              "    </tr>\n",
              "    <tr>\n",
              "      <th>1</th>\n",
              "      <td>0.012</td>\n",
              "      <td>115.268</td>\n",
              "      <td>35.199</td>\n",
              "      <td>17.100</td>\n",
              "    </tr>\n",
              "    <tr>\n",
              "      <th>2</th>\n",
              "      <td>0.014</td>\n",
              "      <td>117.392</td>\n",
              "      <td>35.152</td>\n",
              "      <td>14.429</td>\n",
              "    </tr>\n",
              "    <tr>\n",
              "      <th>3</th>\n",
              "      <td>0.017</td>\n",
              "      <td>118.475</td>\n",
              "      <td>35.252</td>\n",
              "      <td>14.870</td>\n",
              "    </tr>\n",
              "    <tr>\n",
              "      <th>4</th>\n",
              "      <td>0.021</td>\n",
              "      <td>110.386</td>\n",
              "      <td>33.817</td>\n",
              "      <td>14.427</td>\n",
              "    </tr>\n",
              "  </tbody>\n",
              "</table>\n",
              "</div>"
            ],
            "text/plain": [
              "       r        v      dv     err\n",
              "0  0.010  119.061  41.832  32.714\n",
              "1  0.012  115.268  35.199  17.100\n",
              "2  0.014  117.392  35.152  14.429\n",
              "3  0.017  118.475  35.252  14.870\n",
              "4  0.021  110.386  33.817  14.427"
            ]
          },
          "metadata": {},
          "execution_count": 149
        }
      ],
      "metadata": {
        "id": "NVp9cJzv-Dic",
        "run_control": {
          "frozen": false,
          "read_only": false
        }
      }
    },
    {
      "cell_type": "code",
      "execution_count": 161,
      "source": [
        "# get size in parsecs\n",
        "\n",
        "# From https://en.wikipedia.org/wiki/Milky_Way\n",
        "mwsize= 185 #kly\n",
        "\n",
        "mwsize = (mwsize * u.klyr).to(u.kpc)\n",
        "mwsize.value"
      ],
      "outputs": [
        {
          "output_type": "execute_result",
          "data": {
            "text/plain": [
              "56.721257850326865"
            ]
          },
          "metadata": {},
          "execution_count": 161
        }
      ],
      "metadata": {}
    },
    {
      "cell_type": "code",
      "execution_count": 178,
      "source": [
        "# plot\n",
        "plotGal(mw, mwsize.value) #dont know an easy way to remove text without affecting first graph"
      ],
      "outputs": [
        {
          "output_type": "display_data",
          "data": {
            "image/png": "[encoded data removed]",
            "text/plain": [
              "<Figure size 720x504 with 1 Axes>"
            ]
          },
          "metadata": {
            "needs_background": "light"
          }
        }
      ],
      "metadata": {}
    },
    {
      "cell_type": "code",
      "execution_count": 169,
      "source": [
        "# agreement?\n",
        "vratios(mw, mwsize.value, 5,err='dv')\n",
        "print(\"--------------------------------\")\n",
        "vratios(mw, mwsize.value, 5,err='err')\n",
        "print(\"--------------------------------\")\n",
        "\n",
        "vratios(mw, mwsize.value, 9,err='dv')\n",
        "print(\"--------------------------------\")\n",
        "vratios(mw, mwsize.value, 9,err='err')\n",
        "print(\"--------------------------------\")\n",
        "\n",
        "vratios(mw, mwsize.value, 10,err='dv')\n",
        "print(\"--------------------------------\")\n",
        "vratios(mw, mwsize.value, 10,err='err')\n",
        "print(\"--------------------------------\")"
      ],
      "outputs": [
        {
          "output_type": "stream",
          "name": "stdout",
          "text": [
            "Expected 1/r drop from 5 galaxy radii to one radius: 0.13\n",
            "Calculated v^2 drop from 5 galaxy radii to one radius: 0.27 +/- 1.30\n",
            "Expected drop is within 2 sigma of the calculated ratio: values are in agreement\n",
            "--------------------------------\n",
            "Expected 1/r drop from 5 galaxy radii to one radius: 0.13\n",
            "Calculated v^2 drop from 5 galaxy radii to one radius: 0.27 +/- 0.80\n",
            "Expected drop is within 2 sigma of the calculated ratio: values are in agreement\n",
            "--------------------------------\n",
            "Expected 1/r drop from 9 galaxy radii to one radius: 0.11\n",
            "Calculated v^2 drop from 9 galaxy radii to one radius: 0.55 +/- 1.53\n",
            "Expected drop is within 2 sigma of the calculated ratio: values are in agreement\n",
            "--------------------------------\n",
            "Expected 1/r drop from 9 galaxy radii to one radius: 0.11\n",
            "Calculated v^2 drop from 9 galaxy radii to one radius: 0.55 +/- 0.70\n",
            "Expected drop is within 2 sigma of the calculated ratio: values are in agreement\n",
            "--------------------------------\n",
            "Expected 1/r drop from 10 galaxy radii to one radius: 0.09\n",
            "Calculated v^2 drop from 10 galaxy radii to one radius: 0.79 +/- 1.60\n",
            "Expected drop is within 2 sigma of the calculated ratio: values are in agreement\n",
            "--------------------------------\n",
            "Expected 1/r drop from 10 galaxy radii to one radius: 0.09\n",
            "Calculated v^2 drop from 10 galaxy radii to one radius: 0.79 +/- 0.53\n",
            "Expected drop is not within 2 sigma of the calculated ratio: values are not in agreement\n",
            "--------------------------------\n"
          ]
        }
      ],
      "metadata": {}
    },
    {
      "cell_type": "markdown",
      "source": [
        "### The calculated velocities agree with the expected 1/r drop when strictly looking at the uncertainty in the location of the HII line, but when taking all uncertainty into account, the velocities are no longer in agreement once 10 galaxy radii have been reached - indicating the Newtonian model is incomplete for the Milky Way galaxy and whatever the cause (dark matter) has a stronger effect on the Andomeda galaxy than the Milky Way."
      ],
      "metadata": {}
    }
  ]
}