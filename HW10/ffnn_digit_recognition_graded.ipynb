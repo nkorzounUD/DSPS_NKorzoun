{
 "cells": [
  {
   "cell_type": "markdown",
   "metadata": {
    "colab_type": "text",
    "id": "view-in-github"
   },
   "source": [
    "<a href=\"https://colab.research.google.com/github/nkorzounUD/DSPS_NKorzoun/blob/main/HW10/ffnn_digit_recognition.ipynb\" target=\"_parent\"><img src=\"https://colab.research.google.com/assets/colab-badge.svg\" alt=\"Open In Colab\"/></a>"
   ]
  },
  {
   "cell_type": "markdown",
   "metadata": {
    "id": "H4otaGu2TDvP"
   },
   "source": [
    "# Must change runtime to GPU!!!!!\n",
    "\n",
    "### Do this by...\n",
    "Runtime -> Change runtime type -> GPU"
   ]
  },
  {
   "cell_type": "markdown",
   "metadata": {
    "id": "nOJavHFKTV5d"
   },
   "source": [
    "### Must do this before doing anything or else you will have to rerun everything."
   ]
  },
  {
   "cell_type": "code",
   "execution_count": 1,
   "metadata": {
    "id": "qHwKMLDBXQUj"
   },
   "outputs": [],
   "source": [
    "import keras\n",
    "from keras.datasets import mnist\n",
    "from keras.models import Sequential\n",
    "from keras.layers import Dense\n",
    "\n",
    "from keras import optimizers\n",
    "\n",
    "import pylab as pl\n",
    "import numpy as np\n",
    "import matplotlib.pyplot as plt\n",
    "\n"
   ]
  },
  {
   "cell_type": "code",
   "execution_count": 2,
   "metadata": {
    "colab": {
     "base_uri": "https://localhost:8080/"
    },
    "id": "_b41_84aTdmg",
    "outputId": "82844cfe-e3aa-4860-a3b8-9ef2839d322b"
   },
   "outputs": [
    {
     "data": {
      "text/plain": [
       "((array([[[0, 0, 0, ..., 0, 0, 0],\n",
       "          [0, 0, 0, ..., 0, 0, 0],\n",
       "          [0, 0, 0, ..., 0, 0, 0],\n",
       "          ...,\n",
       "          [0, 0, 0, ..., 0, 0, 0],\n",
       "          [0, 0, 0, ..., 0, 0, 0],\n",
       "          [0, 0, 0, ..., 0, 0, 0]],\n",
       "  \n",
       "         [[0, 0, 0, ..., 0, 0, 0],\n",
       "          [0, 0, 0, ..., 0, 0, 0],\n",
       "          [0, 0, 0, ..., 0, 0, 0],\n",
       "          ...,\n",
       "          [0, 0, 0, ..., 0, 0, 0],\n",
       "          [0, 0, 0, ..., 0, 0, 0],\n",
       "          [0, 0, 0, ..., 0, 0, 0]],\n",
       "  \n",
       "         [[0, 0, 0, ..., 0, 0, 0],\n",
       "          [0, 0, 0, ..., 0, 0, 0],\n",
       "          [0, 0, 0, ..., 0, 0, 0],\n",
       "          ...,\n",
       "          [0, 0, 0, ..., 0, 0, 0],\n",
       "          [0, 0, 0, ..., 0, 0, 0],\n",
       "          [0, 0, 0, ..., 0, 0, 0]],\n",
       "  \n",
       "         ...,\n",
       "  \n",
       "         [[0, 0, 0, ..., 0, 0, 0],\n",
       "          [0, 0, 0, ..., 0, 0, 0],\n",
       "          [0, 0, 0, ..., 0, 0, 0],\n",
       "          ...,\n",
       "          [0, 0, 0, ..., 0, 0, 0],\n",
       "          [0, 0, 0, ..., 0, 0, 0],\n",
       "          [0, 0, 0, ..., 0, 0, 0]],\n",
       "  \n",
       "         [[0, 0, 0, ..., 0, 0, 0],\n",
       "          [0, 0, 0, ..., 0, 0, 0],\n",
       "          [0, 0, 0, ..., 0, 0, 0],\n",
       "          ...,\n",
       "          [0, 0, 0, ..., 0, 0, 0],\n",
       "          [0, 0, 0, ..., 0, 0, 0],\n",
       "          [0, 0, 0, ..., 0, 0, 0]],\n",
       "  \n",
       "         [[0, 0, 0, ..., 0, 0, 0],\n",
       "          [0, 0, 0, ..., 0, 0, 0],\n",
       "          [0, 0, 0, ..., 0, 0, 0],\n",
       "          ...,\n",
       "          [0, 0, 0, ..., 0, 0, 0],\n",
       "          [0, 0, 0, ..., 0, 0, 0],\n",
       "          [0, 0, 0, ..., 0, 0, 0]]], dtype=uint8),\n",
       "  array([5, 0, 4, ..., 5, 6, 8], dtype=uint8)),\n",
       " (array([[[0, 0, 0, ..., 0, 0, 0],\n",
       "          [0, 0, 0, ..., 0, 0, 0],\n",
       "          [0, 0, 0, ..., 0, 0, 0],\n",
       "          ...,\n",
       "          [0, 0, 0, ..., 0, 0, 0],\n",
       "          [0, 0, 0, ..., 0, 0, 0],\n",
       "          [0, 0, 0, ..., 0, 0, 0]],\n",
       "  \n",
       "         [[0, 0, 0, ..., 0, 0, 0],\n",
       "          [0, 0, 0, ..., 0, 0, 0],\n",
       "          [0, 0, 0, ..., 0, 0, 0],\n",
       "          ...,\n",
       "          [0, 0, 0, ..., 0, 0, 0],\n",
       "          [0, 0, 0, ..., 0, 0, 0],\n",
       "          [0, 0, 0, ..., 0, 0, 0]],\n",
       "  \n",
       "         [[0, 0, 0, ..., 0, 0, 0],\n",
       "          [0, 0, 0, ..., 0, 0, 0],\n",
       "          [0, 0, 0, ..., 0, 0, 0],\n",
       "          ...,\n",
       "          [0, 0, 0, ..., 0, 0, 0],\n",
       "          [0, 0, 0, ..., 0, 0, 0],\n",
       "          [0, 0, 0, ..., 0, 0, 0]],\n",
       "  \n",
       "         ...,\n",
       "  \n",
       "         [[0, 0, 0, ..., 0, 0, 0],\n",
       "          [0, 0, 0, ..., 0, 0, 0],\n",
       "          [0, 0, 0, ..., 0, 0, 0],\n",
       "          ...,\n",
       "          [0, 0, 0, ..., 0, 0, 0],\n",
       "          [0, 0, 0, ..., 0, 0, 0],\n",
       "          [0, 0, 0, ..., 0, 0, 0]],\n",
       "  \n",
       "         [[0, 0, 0, ..., 0, 0, 0],\n",
       "          [0, 0, 0, ..., 0, 0, 0],\n",
       "          [0, 0, 0, ..., 0, 0, 0],\n",
       "          ...,\n",
       "          [0, 0, 0, ..., 0, 0, 0],\n",
       "          [0, 0, 0, ..., 0, 0, 0],\n",
       "          [0, 0, 0, ..., 0, 0, 0]],\n",
       "  \n",
       "         [[0, 0, 0, ..., 0, 0, 0],\n",
       "          [0, 0, 0, ..., 0, 0, 0],\n",
       "          [0, 0, 0, ..., 0, 0, 0],\n",
       "          ...,\n",
       "          [0, 0, 0, ..., 0, 0, 0],\n",
       "          [0, 0, 0, ..., 0, 0, 0],\n",
       "          [0, 0, 0, ..., 0, 0, 0]]], dtype=uint8),\n",
       "  array([7, 2, 1, ..., 4, 5, 6], dtype=uint8)))"
      ]
     },
     "execution_count": 2,
     "metadata": {},
     "output_type": "execute_result"
    }
   ],
   "source": [
    "mnist.load_data()"
   ]
  },
  {
   "cell_type": "code",
   "execution_count": 3,
   "metadata": {
    "colab": {
     "base_uri": "https://localhost:8080/"
    },
    "id": "Blrm8rQhXjVF",
    "outputId": "622b133f-1709-4ad6-ecda-4b6eba72a51a"
   },
   "outputs": [
    {
     "data": {
      "text/plain": [
       "2"
      ]
     },
     "execution_count": 3,
     "metadata": {},
     "output_type": "execute_result"
    }
   ],
   "source": [
    "len(mnist.load_data())"
   ]
  },
  {
   "cell_type": "code",
   "execution_count": 4,
   "metadata": {
    "id": "VlkvixGjX7bT"
   },
   "outputs": [],
   "source": [
    "(x_train, _), (x_test, _) = mnist.load_data()"
   ]
  },
  {
   "cell_type": "code",
   "execution_count": 5,
   "metadata": {
    "colab": {
     "base_uri": "https://localhost:8080/"
    },
    "id": "NLGPQnTeYShY",
    "outputId": "6ad46b56-1705-4305-86f9-2e2fc5bc63fe"
   },
   "outputs": [
    {
     "data": {
      "text/plain": [
       "(60000, 28, 28)"
      ]
     },
     "execution_count": 5,
     "metadata": {},
     "output_type": "execute_result"
    }
   ],
   "source": [
    "# First value is how many training images we have\n",
    "x_train.shape"
   ]
  },
  {
   "cell_type": "code",
   "execution_count": 6,
   "metadata": {
    "colab": {
     "base_uri": "https://localhost:8080/"
    },
    "id": "Dyw66TWdUz0p",
    "outputId": "61910364-dce0-4eee-86b6-bcb972ea2dfd"
   },
   "outputs": [
    {
     "data": {
      "text/plain": [
       "(10000, 28, 28)"
      ]
     },
     "execution_count": 6,
     "metadata": {},
     "output_type": "execute_result"
    }
   ],
   "source": [
    "# First value is how many testing images we have\n",
    "x_test.shape"
   ]
  },
  {
   "cell_type": "code",
   "execution_count": 7,
   "metadata": {
    "id": "sx_pNfT2YUH3"
   },
   "outputs": [],
   "source": [
    "nimg, img_row, img_col = x_train.shape"
   ]
  },
  {
   "cell_type": "code",
   "execution_count": 8,
   "metadata": {
    "colab": {
     "base_uri": "https://localhost:8080/",
     "height": 265
    },
    "id": "outVN6NNYe8x",
    "outputId": "e827819e-9425-4b53-f1cc-6ffcfc705f04"
   },
   "outputs": [
    {
     "data": {
      "image/png": "[encoded data removed]",
      "text/plain": [
       "<Figure size 432x288 with 1 Axes>"
      ]
     },
     "metadata": {
      "needs_background": "light"
     },
     "output_type": "display_data"
    }
   ],
   "source": [
    "pl.imshow(x_train[0]);"
   ]
  },
  {
   "cell_type": "markdown",
   "metadata": {
    "id": "8qv4xt6myn1j"
   },
   "source": [
    "#Figure 1:\n",
    "##This is the first of 60000 training images which we will use in our model to predict a digit."
   ]
  },
  {
   "cell_type": "code",
   "execution_count": 9,
   "metadata": {
    "colab": {
     "base_uri": "https://localhost:8080/"
    },
    "id": "GpRUVQS1YhS-",
    "outputId": "05212644-9d60-4e4d-f109-27abca96bb79"
   },
   "outputs": [
    {
     "data": {
      "text/plain": [
       "255"
      ]
     },
     "execution_count": 9,
     "metadata": {},
     "output_type": "execute_result"
    }
   ],
   "source": [
    "x_train.max()"
   ]
  },
  {
   "cell_type": "code",
   "execution_count": 10,
   "metadata": {
    "colab": {
     "base_uri": "https://localhost:8080/"
    },
    "id": "TSKepOi2ZF9f",
    "outputId": "25c20a2c-1dc9-4d7e-caab-909972a6b3df"
   },
   "outputs": [
    {
     "data": {
      "text/plain": [
       "dtype('uint8')"
      ]
     },
     "execution_count": 10,
     "metadata": {},
     "output_type": "execute_result"
    }
   ],
   "source": [
    "x_train.dtype"
   ]
  },
  {
   "cell_type": "code",
   "execution_count": 11,
   "metadata": {
    "id": "GN255XcEZHrz"
   },
   "outputs": [],
   "source": [
    "# Normalize so that image values are now from 0 to 1 instead of 0 to 255\n",
    "\n",
    "# Same normalization for the training and test set\n",
    "x_train = (x_train.astype(float) / 255)\n",
    "\n",
    "# Normalize and reshape x_test also\n",
    "x_test = (x_test.astype(float) / 255)"
   ]
  },
  {
   "cell_type": "code",
   "execution_count": 12,
   "metadata": {
    "colab": {
     "base_uri": "https://localhost:8080/"
    },
    "id": "QBacXVUZVQGW",
    "outputId": "980df6db-c290-4ab0-b4ca-a1f553764d26"
   },
   "outputs": [
    {
     "data": {
      "text/plain": [
       "(0.0, 1.0)"
      ]
     },
     "execution_count": 12,
     "metadata": {},
     "output_type": "execute_result"
    }
   ],
   "source": [
    "# Make sure normalization worked for training set\n",
    "x_train.min(), x_train.max()"
   ]
  },
  {
   "cell_type": "code",
   "execution_count": 13,
   "metadata": {
    "colab": {
     "base_uri": "https://localhost:8080/"
    },
    "id": "W4ZBGHs0VTyN",
    "outputId": "b5bede2b-b956-4288-9196-5f8e130d221e"
   },
   "outputs": [
    {
     "data": {
      "text/plain": [
       "(0.0, 1.0)"
      ]
     },
     "execution_count": 13,
     "metadata": {},
     "output_type": "execute_result"
    }
   ],
   "source": [
    "# Make sure normalization is the same for the testing set\n",
    "x_test.min(), x_test.max()"
   ]
  },
  {
   "cell_type": "code",
   "execution_count": 14,
   "metadata": {
    "colab": {
     "base_uri": "https://localhost:8080/"
    },
    "id": "8HvuO3qTZb5p",
    "outputId": "c1b01ef1-01f3-43e8-9b0a-e43f7fa7212e"
   },
   "outputs": [
    {
     "data": {
      "text/plain": [
       "(60000, 784)"
      ]
     },
     "execution_count": 14,
     "metadata": {},
     "output_type": "execute_result"
    }
   ],
   "source": [
    "x_train.reshape(nimg, img_row*img_col).shape"
   ]
  },
  {
   "cell_type": "code",
   "execution_count": 15,
   "metadata": {
    "colab": {
     "base_uri": "https://localhost:8080/"
    },
    "id": "RXt9PSoGecbX",
    "outputId": "4e62710f-72c4-4e50-a1ed-3d549b70a2ce"
   },
   "outputs": [
    {
     "data": {
      "text/plain": [
       "(60000, 784)"
      ]
     },
     "execution_count": 15,
     "metadata": {},
     "output_type": "execute_result"
    }
   ],
   "source": [
    "# Reshape training set so that it is one-dimensional for a single image\n",
    "# (can now be input into our model)\n",
    "\n",
    "x_train = x_train.reshape(nimg, img_row*img_col)\n",
    "x_train.shape"
   ]
  },
  {
   "cell_type": "code",
   "execution_count": 16,
   "metadata": {
    "colab": {
     "base_uri": "https://localhost:8080/"
    },
    "id": "QDC_YlbGUuYn",
    "outputId": "6a04704a-51cb-4d88-f971-eaaf7adb2f54"
   },
   "outputs": [
    {
     "data": {
      "text/plain": [
       "(10000, 28, 28)"
      ]
     },
     "execution_count": 16,
     "metadata": {},
     "output_type": "execute_result"
    }
   ],
   "source": [
    "x_test.shape"
   ]
  },
  {
   "cell_type": "code",
   "execution_count": 17,
   "metadata": {
    "id": "NxxChGG_efvt"
   },
   "outputs": [],
   "source": [
    "# Also reshape testing set so it is one-dimensional for a single image\n",
    "x_test = x_test.reshape(x_test.shape[0], img_row*img_col)"
   ]
  },
  {
   "cell_type": "code",
   "execution_count": 18,
   "metadata": {
    "id": "TEh7feqZZk0H"
   },
   "outputs": [],
   "source": [
    "# The y_train data must be a copy of our x_train data\n",
    "# This is because our model is an encoder\n",
    "# (encoder = transform data to a lower dimensional representation)\n",
    "y_train = x_train.copy()"
   ]
  },
  {
   "cell_type": "code",
   "execution_count": 19,
   "metadata": {
    "id": "hpz9XSZcbn56"
   },
   "outputs": [],
   "source": [
    "# Creates model\n",
    "model_digits = Sequential()"
   ]
  },
  {
   "cell_type": "code",
   "execution_count": 20,
   "metadata": {
    "id": "K1YdQHdmcTU_"
   },
   "outputs": [],
   "source": [
    "# Add model layers\n",
    "# Here we encode 28^2 = 784 dimensions down to 64 dimensions then de-encode\n",
    "\n",
    "# Encoding...\n",
    "#model_digits.add(Dense(256, activation=\"relu\", input_dim=img_row*img_col))\n",
    "model_digits.add(Dense(128, activation=\"relu\", input_dim=img_row*img_col))\n",
    "model_digits.add(Dense(64, activation=\"relu\"))\n",
    "\n",
    "# De-encoding... (last activation must be linear)\n",
    "model_digits.add(Dense(128, activation=\"relu\"))\n",
    "#model_digits.add(Dense(img_row*img_col, activation=\"linear\"))\n",
    "# Do activation=\"sigmoid\" for better results\n",
    "model_digits.add(Dense(img_row*img_col, activation=\"sigmoid\"))"
   ]
  },
  {
   "cell_type": "code",
   "execution_count": 21,
   "metadata": {
    "id": "ZPhicGZRdSxg"
   },
   "outputs": [],
   "source": [
    "# Choose optimizer and loss function\n",
    "# Can change these to try getting better results for our FFNN\n",
    "# From slides, best combo looks like opt=adadelta and loss=binary_crossentropy\n",
    "# where activation function must be \"sigmoid\" instead of \"relu\"\n",
    "\n",
    "model_digits.compile(optimizer=\"adadelta\", loss=\"mean_squared_error\")"
   ]
  },
  {
   "cell_type": "code",
   "execution_count": 22,
   "metadata": {
    "colab": {
     "base_uri": "https://localhost:8080/"
    },
    "id": "t6qFENUMdmb4",
    "outputId": "a8f0e598-6e8d-4b4b-8349-2ec687d70294"
   },
   "outputs": [
    {
     "name": "stdout",
     "output_type": "stream",
     "text": [
      "Model: \"sequential\"\n",
      "_________________________________________________________________\n",
      " Layer (type)                Output Shape              Param #   \n",
      "=================================================================\n",
      " dense (Dense)               (None, 128)               100480    \n",
      "                                                                 \n",
      " dense_1 (Dense)             (None, 64)                8256      \n",
      "                                                                 \n",
      " dense_2 (Dense)             (None, 128)               8320      \n",
      "                                                                 \n",
      " dense_3 (Dense)             (None, 784)               101136    \n",
      "                                                                 \n",
      "=================================================================\n",
      "Total params: 218,192\n",
      "Trainable params: 218,192\n",
      "Non-trainable params: 0\n",
      "_________________________________________________________________\n"
     ]
    }
   ],
   "source": [
    "model_digits.summary()"
   ]
  },
  {
   "cell_type": "code",
   "execution_count": 23,
   "metadata": {
    "colab": {
     "base_uri": "https://localhost:8080/"
    },
    "id": "fYCzpCkadqg0",
    "outputId": "409e2ed6-c7c3-4968-a578-acaef8da2a24"
   },
   "outputs": [
    {
     "name": "stdout",
     "output_type": "stream",
     "text": [
      "Epoch 1/20\n",
      "600/600 [==============================] - 3s 4ms/step - loss: 0.2315 - val_loss: 0.2315\n",
      "Epoch 2/20\n",
      "600/600 [==============================] - 2s 4ms/step - loss: 0.2314 - val_loss: 0.2314\n",
      "Epoch 3/20\n",
      "600/600 [==============================] - 2s 4ms/step - loss: 0.2313 - val_loss: 0.2313\n",
      "Epoch 4/20\n",
      "600/600 [==============================] - 2s 4ms/step - loss: 0.2312 - val_loss: 0.2312\n",
      "Epoch 5/20\n",
      "600/600 [==============================] - 2s 4ms/step - loss: 0.2311 - val_loss: 0.2311\n",
      "Epoch 6/20\n",
      "600/600 [==============================] - 2s 4ms/step - loss: 0.2310 - val_loss: 0.2310\n",
      "Epoch 7/20\n",
      "600/600 [==============================] - 2s 4ms/step - loss: 0.2309 - val_loss: 0.2309\n",
      "Epoch 8/20\n",
      "600/600 [==============================] - 2s 4ms/step - loss: 0.2308 - val_loss: 0.2309\n",
      "Epoch 9/20\n",
      "600/600 [==============================] - 2s 4ms/step - loss: 0.2307 - val_loss: 0.2308\n",
      "Epoch 10/20\n",
      "600/600 [==============================] - 2s 4ms/step - loss: 0.2306 - val_loss: 0.2307\n",
      "Epoch 11/20\n",
      "600/600 [==============================] - 2s 4ms/step - loss: 0.2305 - val_loss: 0.2306\n",
      "Epoch 12/20\n",
      "600/600 [==============================] - 2s 4ms/step - loss: 0.2304 - val_loss: 0.2305\n",
      "Epoch 13/20\n",
      "600/600 [==============================] - 2s 4ms/step - loss: 0.2303 - val_loss: 0.2304\n",
      "Epoch 14/20\n",
      "600/600 [==============================] - 2s 4ms/step - loss: 0.2302 - val_loss: 0.2303\n",
      "Epoch 15/20\n",
      "600/600 [==============================] - 2s 4ms/step - loss: 0.2301 - val_loss: 0.2302\n",
      "Epoch 16/20\n",
      "600/600 [==============================] - 2s 4ms/step - loss: 0.2300 - val_loss: 0.2301\n",
      "Epoch 17/20\n",
      "600/600 [==============================] - 2s 4ms/step - loss: 0.2299 - val_loss: 0.2300\n",
      "Epoch 18/20\n",
      "600/600 [==============================] - 2s 4ms/step - loss: 0.2298 - val_loss: 0.2299\n",
      "Epoch 19/20\n",
      "600/600 [==============================] - 2s 4ms/step - loss: 0.2297 - val_loss: 0.2298\n",
      "Epoch 20/20\n",
      "600/600 [==============================] - 2s 4ms/step - loss: 0.2296 - val_loss: 0.2297\n"
     ]
    }
   ],
   "source": [
    "# Architecture is x_train x_train instead of x_train y_train bc it's an encoder\n",
    "ffnn_digit=model_digits.fit(x_train, x_train, validation_data=(x_test, x_test),\n",
    "                            epochs=20, batch_size=100, verbose=1)"
   ]
  },
  {
   "cell_type": "code",
   "execution_count": 24,
   "metadata": {
    "colab": {
     "base_uri": "https://localhost:8080/"
    },
    "id": "482foTozfFjN",
    "outputId": "917f75eb-7da3-471d-ea31-05e78492665c"
   },
   "outputs": [
    {
     "data": {
      "text/plain": [
       "{'loss': [0.23146790266036987,\n",
       "  0.23137016594409943,\n",
       "  0.2312733680009842,\n",
       "  0.23117659986019135,\n",
       "  0.2310808300971985,\n",
       "  0.2309851348400116,\n",
       "  0.23088975250720978,\n",
       "  0.23079423606395721,\n",
       "  0.23069901764392853,\n",
       "  0.23060369491577148,\n",
       "  0.23050791025161743,\n",
       "  0.23041197657585144,\n",
       "  0.23031556606292725,\n",
       "  0.23021861910820007,\n",
       "  0.23012064397335052,\n",
       "  0.2300223410129547,\n",
       "  0.22992317378520966,\n",
       "  0.22982266545295715,\n",
       "  0.2297212928533554,\n",
       "  0.22961856424808502],\n",
       " 'val_loss': [0.23153163492679596,\n",
       "  0.23143306374549866,\n",
       "  0.23133516311645508,\n",
       "  0.23123781383037567,\n",
       "  0.23114074766635895,\n",
       "  0.2310439944267273,\n",
       "  0.23094740509986877,\n",
       "  0.230850949883461,\n",
       "  0.23075449466705322,\n",
       "  0.23065774142742157,\n",
       "  0.2305608093738556,\n",
       "  0.23046338558197021,\n",
       "  0.23036552965641022,\n",
       "  0.2302669882774353,\n",
       "  0.23016779124736786,\n",
       "  0.23006780445575714,\n",
       "  0.22996672987937927,\n",
       "  0.22986458241939545,\n",
       "  0.22976122796535492,\n",
       "  0.22965644299983978]}"
      ]
     },
     "execution_count": 24,
     "metadata": {},
     "output_type": "execute_result"
    }
   ],
   "source": [
    "ffnn_digit.history"
   ]
  },
  {
   "cell_type": "code",
   "execution_count": 25,
   "metadata": {
    "id": "z4YcVft8fS24"
   },
   "outputs": [],
   "source": [
    "out_loss = ffnn_digit.history['loss']\n",
    "out_val_loss = ffnn_digit.history['val_loss']"
   ]
  },
  {
   "cell_type": "code",
   "execution_count": 26,
   "metadata": {
    "colab": {
     "base_uri": "https://localhost:8080/"
    },
    "id": "ObDVC5DLf-Fp",
    "outputId": "e1780e6f-032c-4ab6-ed5a-d36c746954ba"
   },
   "outputs": [
    {
     "data": {
      "text/plain": [
       "(20, 20)"
      ]
     },
     "execution_count": 26,
     "metadata": {},
     "output_type": "execute_result"
    }
   ],
   "source": [
    "len(out_loss), len(out_val_loss)"
   ]
  },
  {
   "cell_type": "code",
   "execution_count": 27,
   "metadata": {
    "id": "GxQ-tvwpgKi9"
   },
   "outputs": [],
   "source": [
    "epoch_num = np.linspace(1, len(out_loss), len(out_loss), endpoint=True)"
   ]
  },
  {
   "cell_type": "code",
   "execution_count": 28,
   "metadata": {
    "colab": {
     "base_uri": "https://localhost:8080/"
    },
    "id": "B4Ju7jlcgl1o",
    "outputId": "7ac8eeef-614f-4459-a799-3917bcc75538"
   },
   "outputs": [
    {
     "data": {
      "text/plain": [
       "array([ 1.,  2.,  3.,  4.,  5.,  6.,  7.,  8.,  9., 10., 11., 12., 13.,\n",
       "       14., 15., 16., 17., 18., 19., 20.])"
      ]
     },
     "execution_count": 28,
     "metadata": {},
     "output_type": "execute_result"
    }
   ],
   "source": [
    "# Make sure epoch number is defined correctly\n",
    "epoch_num"
   ]
  },
  {
   "cell_type": "code",
   "execution_count": 29,
   "metadata": {
    "id": "lgmyW9gHgsAH"
   },
   "outputs": [],
   "source": [
    "out_loss = np.array(out_loss)\n",
    "out_val_loss = np.array(out_val_loss)"
   ]
  },
  {
   "cell_type": "code",
   "execution_count": 30,
   "metadata": {
    "colab": {
     "base_uri": "https://localhost:8080/"
    },
    "id": "amvBzKRugzHg",
    "outputId": "b7efaf0f-4dd9-4510-9337-0755f6c49922"
   },
   "outputs": [
    {
     "data": {
      "text/plain": [
       "(array([0.2314679 , 0.23137017, 0.23127337, 0.2311766 , 0.23108083,\n",
       "        0.23098513, 0.23088975, 0.23079424, 0.23069902, 0.23060369,\n",
       "        0.23050791, 0.23041198, 0.23031557, 0.23021862, 0.23012064,\n",
       "        0.23002234, 0.22992317, 0.22982267, 0.22972129, 0.22961856]),\n",
       " array([0.23153163, 0.23143306, 0.23133516, 0.23123781, 0.23114075,\n",
       "        0.23104399, 0.23094741, 0.23085095, 0.23075449, 0.23065774,\n",
       "        0.23056081, 0.23046339, 0.23036553, 0.23026699, 0.23016779,\n",
       "        0.2300678 , 0.22996673, 0.22986458, 0.22976123, 0.22965644]))"
      ]
     },
     "execution_count": 30,
     "metadata": {},
     "output_type": "execute_result"
    }
   ],
   "source": [
    "out_loss, out_val_loss"
   ]
  },
  {
   "cell_type": "code",
   "execution_count": 31,
   "metadata": {
    "colab": {
     "base_uri": "https://localhost:8080/",
     "height": 614
    },
    "id": "Y_oHqo5bhAFm",
    "outputId": "3ba1ba1a-fc98-43c7-d6f6-dc078fa1f7e8"
   },
   "outputs": [
    {
     "data": {
      "image/png": "[encoded data removed]",
      "text/plain": [
       "<Figure size 720x720 with 1 Axes>"
      ]
     },
     "metadata": {
      "needs_background": "light"
     },
     "output_type": "display_data"
    }
   ],
   "source": [
    "plt.figure(figsize=(10, 10))\n",
    "\n",
    "plt.plot(epoch_num, out_loss, color='red', linestyle='solid',\n",
    "         label='train loss')\n",
    "plt.plot(epoch_num, out_val_loss, color='blue', linestyle='solid',\n",
    "         label='val loss')\n",
    "\n",
    "plt.xlabel('epoch', fontsize=18)\n",
    "plt.ylabel('loss', fontsize=18)\n",
    "plt.legend(loc='best', fontsize=18)\n",
    "plt.show()"
   ]
  },
  {
   "cell_type": "markdown",
   "metadata": {
    "id": "C5hi8iy_yrfH"
   },
   "source": [
    "#Figure 2:\n",
    "##Loss function of the neural network. A decreasing loss function shows that the neural network is convering to a more acurate solution. This function has not plateued yet, indicating that the neural network is still learning."
   ]
  },
  {
   "cell_type": "markdown",
   "metadata": {
    "id": "_e97pOlS-5Ue"
   },
   "source": [
    "# Need to train more, try epoch=50\n",
    "# Also change optimzer and learning rate"
   ]
  },
  {
   "cell_type": "code",
   "execution_count": 32,
   "metadata": {
    "id": "K3r7zxFLEsXn"
   },
   "outputs": [],
   "source": [
    "opt = keras.optimizers.adam_v2.Adam(learning_rate=0.01)"
   ]
  },
  {
   "cell_type": "code",
   "execution_count": 33,
   "metadata": {
    "id": "_Bk7bQVQugzI"
   },
   "outputs": [],
   "source": [
    "model_digits.compile(optimizer=opt, loss=\"mean_squared_error\")"
   ]
  },
  {
   "cell_type": "code",
   "execution_count": 34,
   "metadata": {
    "colab": {
     "base_uri": "https://localhost:8080/"
    },
    "id": "7on-gLu7BDkO",
    "outputId": "e71ba8b7-8e5e-4651-c5d4-3914b5d2c208"
   },
   "outputs": [
    {
     "name": "stdout",
     "output_type": "stream",
     "text": [
      "Epoch 1/100\n",
      "600/600 [==============================] - 3s 4ms/step - loss: 0.0224 - val_loss: 0.0118\n",
      "Epoch 2/100\n",
      "600/600 [==============================] - 2s 3ms/step - loss: 0.0112 - val_loss: 0.0102\n",
      "Epoch 3/100\n",
      "600/600 [==============================] - 2s 3ms/step - loss: 0.0098 - val_loss: 0.0092\n",
      "Epoch 4/100\n",
      "600/600 [==============================] - 2s 4ms/step - loss: 0.0091 - val_loss: 0.0087\n",
      "Epoch 5/100\n",
      "600/600 [==============================] - 2s 3ms/step - loss: 0.0087 - val_loss: 0.0081\n",
      "Epoch 6/100\n",
      "600/600 [==============================] - 2s 3ms/step - loss: 0.0084 - val_loss: 0.0086\n",
      "Epoch 7/100\n",
      "600/600 [==============================] - 2s 3ms/step - loss: 0.0083 - val_loss: 0.0079\n",
      "Epoch 8/100\n",
      "600/600 [==============================] - 2s 4ms/step - loss: 0.0082 - val_loss: 0.0078\n",
      "Epoch 9/100\n",
      "600/600 [==============================] - 2s 3ms/step - loss: 0.0081 - val_loss: 0.0083\n",
      "Epoch 10/100\n",
      "600/600 [==============================] - 2s 4ms/step - loss: 0.0080 - val_loss: 0.0077\n",
      "Epoch 11/100\n",
      "600/600 [==============================] - 2s 4ms/step - loss: 0.0080 - val_loss: 0.0079\n",
      "Epoch 12/100\n",
      "600/600 [==============================] - 2s 4ms/step - loss: 0.0079 - val_loss: 0.0078\n",
      "Epoch 13/100\n",
      "600/600 [==============================] - 2s 4ms/step - loss: 0.0079 - val_loss: 0.0080\n",
      "Epoch 14/100\n",
      "600/600 [==============================] - 2s 3ms/step - loss: 0.0078 - val_loss: 0.0073\n",
      "Epoch 15/100\n",
      "600/600 [==============================] - 2s 3ms/step - loss: 0.0078 - val_loss: 0.0078\n",
      "Epoch 16/100\n",
      "600/600 [==============================] - 2s 3ms/step - loss: 0.0077 - val_loss: 0.0077\n",
      "Epoch 17/100\n",
      "600/600 [==============================] - 2s 3ms/step - loss: 0.0078 - val_loss: 0.0074\n",
      "Epoch 18/100\n",
      "600/600 [==============================] - 2s 3ms/step - loss: 0.0077 - val_loss: 0.0076\n",
      "Epoch 19/100\n",
      "600/600 [==============================] - 2s 4ms/step - loss: 0.0078 - val_loss: 0.0077\n",
      "Epoch 20/100\n",
      "600/600 [==============================] - 2s 3ms/step - loss: 0.0077 - val_loss: 0.0074\n",
      "Epoch 21/100\n",
      "600/600 [==============================] - 2s 4ms/step - loss: 0.0077 - val_loss: 0.0081\n",
      "Epoch 22/100\n",
      "600/600 [==============================] - 2s 3ms/step - loss: 0.0076 - val_loss: 0.0078\n",
      "Epoch 23/100\n",
      "600/600 [==============================] - 2s 3ms/step - loss: 0.0077 - val_loss: 0.0075\n",
      "Epoch 24/100\n",
      "600/600 [==============================] - 2s 3ms/step - loss: 0.0077 - val_loss: 0.0074\n",
      "Epoch 25/100\n",
      "600/600 [==============================] - 2s 4ms/step - loss: 0.0076 - val_loss: 0.0072\n",
      "Epoch 26/100\n",
      "600/600 [==============================] - 2s 3ms/step - loss: 0.0076 - val_loss: 0.0080\n",
      "Epoch 27/100\n",
      "600/600 [==============================] - 2s 4ms/step - loss: 0.0076 - val_loss: 0.0075\n",
      "Epoch 28/100\n",
      "600/600 [==============================] - 2s 3ms/step - loss: 0.0076 - val_loss: 0.0077\n",
      "Epoch 29/100\n",
      "600/600 [==============================] - 2s 4ms/step - loss: 0.0076 - val_loss: 0.0077\n",
      "Epoch 30/100\n",
      "600/600 [==============================] - 2s 3ms/step - loss: 0.0075 - val_loss: 0.0076\n",
      "Epoch 31/100\n",
      "600/600 [==============================] - 2s 3ms/step - loss: 0.0076 - val_loss: 0.0074\n",
      "Epoch 32/100\n",
      "600/600 [==============================] - 2s 3ms/step - loss: 0.0075 - val_loss: 0.0076\n",
      "Epoch 33/100\n",
      "600/600 [==============================] - 2s 4ms/step - loss: 0.0076 - val_loss: 0.0071\n",
      "Epoch 34/100\n",
      "600/600 [==============================] - 2s 3ms/step - loss: 0.0075 - val_loss: 0.0076\n",
      "Epoch 35/100\n",
      "600/600 [==============================] - 2s 3ms/step - loss: 0.0075 - val_loss: 0.0081\n",
      "Epoch 36/100\n",
      "600/600 [==============================] - 2s 4ms/step - loss: 0.0075 - val_loss: 0.0074\n",
      "Epoch 37/100\n",
      "600/600 [==============================] - 2s 3ms/step - loss: 0.0075 - val_loss: 0.0073\n",
      "Epoch 38/100\n",
      "600/600 [==============================] - 2s 4ms/step - loss: 0.0075 - val_loss: 0.0079\n",
      "Epoch 39/100\n",
      "600/600 [==============================] - 2s 4ms/step - loss: 0.0075 - val_loss: 0.0076\n",
      "Epoch 40/100\n",
      "600/600 [==============================] - 2s 3ms/step - loss: 0.0075 - val_loss: 0.0073\n",
      "Epoch 41/100\n",
      "600/600 [==============================] - 2s 4ms/step - loss: 0.0075 - val_loss: 0.0072\n",
      "Epoch 42/100\n",
      "600/600 [==============================] - 2s 3ms/step - loss: 0.0075 - val_loss: 0.0073\n",
      "Epoch 43/100\n",
      "600/600 [==============================] - 2s 4ms/step - loss: 0.0074 - val_loss: 0.0077\n",
      "Epoch 44/100\n",
      "600/600 [==============================] - 2s 3ms/step - loss: 0.0074 - val_loss: 0.0073\n",
      "Epoch 45/100\n",
      "600/600 [==============================] - 2s 4ms/step - loss: 0.0075 - val_loss: 0.0077\n",
      "Epoch 46/100\n",
      "600/600 [==============================] - 2s 3ms/step - loss: 0.0074 - val_loss: 0.0074\n",
      "Epoch 47/100\n",
      "600/600 [==============================] - 2s 3ms/step - loss: 0.0075 - val_loss: 0.0076\n",
      "Epoch 48/100\n",
      "600/600 [==============================] - 2s 3ms/step - loss: 0.0074 - val_loss: 0.0074\n",
      "Epoch 49/100\n",
      "600/600 [==============================] - 2s 4ms/step - loss: 0.0074 - val_loss: 0.0071\n",
      "Epoch 50/100\n",
      "600/600 [==============================] - 2s 3ms/step - loss: 0.0074 - val_loss: 0.0073\n",
      "Epoch 51/100\n",
      "600/600 [==============================] - 2s 4ms/step - loss: 0.0074 - val_loss: 0.0076\n",
      "Epoch 52/100\n",
      "600/600 [==============================] - 2s 3ms/step - loss: 0.0075 - val_loss: 0.0074\n",
      "Epoch 53/100\n",
      "600/600 [==============================] - 2s 3ms/step - loss: 0.0074 - val_loss: 0.0075\n",
      "Epoch 54/100\n",
      "600/600 [==============================] - 2s 3ms/step - loss: 0.0074 - val_loss: 0.0071\n",
      "Epoch 55/100\n",
      "600/600 [==============================] - 2s 3ms/step - loss: 0.0074 - val_loss: 0.0073\n",
      "Epoch 56/100\n",
      "600/600 [==============================] - 2s 3ms/step - loss: 0.0074 - val_loss: 0.0073\n",
      "Epoch 57/100\n",
      "600/600 [==============================] - 2s 3ms/step - loss: 0.0074 - val_loss: 0.0074\n",
      "Epoch 58/100\n",
      "600/600 [==============================] - 2s 3ms/step - loss: 0.0074 - val_loss: 0.0071\n",
      "Epoch 59/100\n",
      "600/600 [==============================] - 2s 3ms/step - loss: 0.0074 - val_loss: 0.0076\n",
      "Epoch 60/100\n",
      "600/600 [==============================] - 2s 4ms/step - loss: 0.0074 - val_loss: 0.0072\n",
      "Epoch 61/100\n",
      "600/600 [==============================] - 2s 4ms/step - loss: 0.0074 - val_loss: 0.0075\n",
      "Epoch 62/100\n",
      "600/600 [==============================] - 2s 3ms/step - loss: 0.0074 - val_loss: 0.0075\n",
      "Epoch 63/100\n",
      "600/600 [==============================] - 2s 4ms/step - loss: 0.0074 - val_loss: 0.0071\n",
      "Epoch 64/100\n",
      "600/600 [==============================] - 2s 3ms/step - loss: 0.0074 - val_loss: 0.0073\n",
      "Epoch 65/100\n",
      "600/600 [==============================] - 2s 4ms/step - loss: 0.0074 - val_loss: 0.0074\n",
      "Epoch 66/100\n",
      "600/600 [==============================] - 2s 3ms/step - loss: 0.0074 - val_loss: 0.0072\n",
      "Epoch 67/100\n",
      "600/600 [==============================] - 2s 4ms/step - loss: 0.0075 - val_loss: 0.0070\n",
      "Epoch 68/100\n",
      "600/600 [==============================] - 2s 3ms/step - loss: 0.0073 - val_loss: 0.0070\n",
      "Epoch 69/100\n",
      "600/600 [==============================] - 2s 4ms/step - loss: 0.0074 - val_loss: 0.0075\n",
      "Epoch 70/100\n",
      "600/600 [==============================] - 2s 3ms/step - loss: 0.0074 - val_loss: 0.0069\n",
      "Epoch 71/100\n",
      "600/600 [==============================] - 2s 3ms/step - loss: 0.0074 - val_loss: 0.0070\n",
      "Epoch 72/100\n",
      "600/600 [==============================] - 2s 3ms/step - loss: 0.0074 - val_loss: 0.0071\n",
      "Epoch 73/100\n",
      "600/600 [==============================] - 2s 4ms/step - loss: 0.0074 - val_loss: 0.0071\n",
      "Epoch 74/100\n",
      "600/600 [==============================] - 2s 3ms/step - loss: 0.0073 - val_loss: 0.0070\n",
      "Epoch 75/100\n",
      "600/600 [==============================] - 2s 3ms/step - loss: 0.0074 - val_loss: 0.0071\n",
      "Epoch 76/100\n",
      "600/600 [==============================] - 2s 3ms/step - loss: 0.0073 - val_loss: 0.0074\n",
      "Epoch 77/100\n",
      "600/600 [==============================] - 2s 3ms/step - loss: 0.0074 - val_loss: 0.0075\n",
      "Epoch 78/100\n",
      "600/600 [==============================] - 2s 4ms/step - loss: 0.0073 - val_loss: 0.0071\n",
      "Epoch 79/100\n",
      "600/600 [==============================] - 2s 3ms/step - loss: 0.0073 - val_loss: 0.0077\n",
      "Epoch 80/100\n",
      "600/600 [==============================] - 2s 3ms/step - loss: 0.0074 - val_loss: 0.0074\n",
      "Epoch 81/100\n",
      "600/600 [==============================] - 2s 4ms/step - loss: 0.0074 - val_loss: 0.0075\n",
      "Epoch 82/100\n",
      "600/600 [==============================] - 2s 4ms/step - loss: 0.0073 - val_loss: 0.0073\n",
      "Epoch 83/100\n",
      "600/600 [==============================] - 2s 4ms/step - loss: 0.0073 - val_loss: 0.0071\n",
      "Epoch 84/100\n",
      "600/600 [==============================] - 2s 4ms/step - loss: 0.0074 - val_loss: 0.0071\n",
      "Epoch 85/100\n",
      "600/600 [==============================] - 2s 4ms/step - loss: 0.0074 - val_loss: 0.0071\n",
      "Epoch 86/100\n",
      "600/600 [==============================] - 2s 4ms/step - loss: 0.0073 - val_loss: 0.0070\n",
      "Epoch 87/100\n",
      "600/600 [==============================] - 2s 4ms/step - loss: 0.0073 - val_loss: 0.0074\n",
      "Epoch 88/100\n",
      "600/600 [==============================] - 2s 4ms/step - loss: 0.0074 - val_loss: 0.0073\n",
      "Epoch 89/100\n",
      "600/600 [==============================] - 2s 4ms/step - loss: 0.0073 - val_loss: 0.0074\n",
      "Epoch 90/100\n",
      "600/600 [==============================] - 2s 4ms/step - loss: 0.0073 - val_loss: 0.0076\n",
      "Epoch 91/100\n",
      "600/600 [==============================] - 2s 4ms/step - loss: 0.0074 - val_loss: 0.0075\n",
      "Epoch 92/100\n",
      "600/600 [==============================] - 2s 4ms/step - loss: 0.0073 - val_loss: 0.0071\n",
      "Epoch 93/100\n",
      "600/600 [==============================] - 2s 3ms/step - loss: 0.0073 - val_loss: 0.0071\n",
      "Epoch 94/100\n",
      "600/600 [==============================] - 2s 3ms/step - loss: 0.0073 - val_loss: 0.0073\n",
      "Epoch 95/100\n",
      "600/600 [==============================] - 2s 3ms/step - loss: 0.0073 - val_loss: 0.0071\n",
      "Epoch 96/100\n",
      "600/600 [==============================] - 2s 4ms/step - loss: 0.0074 - val_loss: 0.0073\n",
      "Epoch 97/100\n",
      "600/600 [==============================] - 2s 4ms/step - loss: 0.0073 - val_loss: 0.0073\n",
      "Epoch 98/100\n",
      "600/600 [==============================] - 2s 4ms/step - loss: 0.0073 - val_loss: 0.0074\n",
      "Epoch 99/100\n",
      "600/600 [==============================] - 2s 4ms/step - loss: 0.0073 - val_loss: 0.0070\n",
      "Epoch 100/100\n",
      "600/600 [==============================] - 2s 4ms/step - loss: 0.0073 - val_loss: 0.0071\n"
     ]
    }
   ],
   "source": [
    "# Architecture is x_train x_train instead of x_train y_train bc it's an encoder\n",
    "ffnn_digit200=model_digits_adam.fit(x_train, x_train, validation_data=(x_test, x_test),\n",
    "                            epochs=100, batch_size=100, verbose=1)"
   ]
  },
  {
   "cell_type": "code",
   "execution_count": 35,
   "metadata": {
    "id": "YxdzxuxMBUiA"
   },
   "outputs": [],
   "source": [
    "out_loss = ffnn_digit200.history['loss']\n",
    "out_val_loss = ffnn_digit200.history['val_loss']"
   ]
  },
  {
   "cell_type": "code",
   "execution_count": 36,
   "metadata": {
    "id": "PIk5S8ZkBU8g"
   },
   "outputs": [],
   "source": [
    "epoch_num = np.linspace(1, len(out_loss), len(out_loss), endpoint=True)"
   ]
  },
  {
   "cell_type": "code",
   "execution_count": 42,
   "metadata": {
    "colab": {
     "base_uri": "https://localhost:8080/",
     "height": 614
    },
    "id": "BOnS8RqIBY3r",
    "outputId": "f8e3d742-b58c-4904-844d-7a319ee511a8"
   },
   "outputs": [
    {
     "data": {
      "image/png": "[encoded data removed]",
      "text/plain": [
       "<Figure size 720x720 with 1 Axes>"
      ]
     },
     "metadata": {
      "needs_background": "light"
     },
     "output_type": "display_data"
    }
   ],
   "source": [
    "plt.figure(figsize=(10, 10))\n",
    "\n",
    "plt.plot(epoch_num, out_loss, color='red', linestyle='solid',\n",
    "         label='train loss')\n",
    "plt.plot(epoch_num, out_val_loss, color='blue', linestyle='solid',\n",
    "         label='val loss')\n",
    "\n",
    "plt.xlabel('epoch', fontsize=18)\n",
    "plt.ylabel('loss', fontsize=18)\n",
    "plt.legend(loc='best', fontsize=18)\n",
    "plt.show()"
   ]
  },
  {
   "cell_type": "markdown",
   "metadata": {
    "id": "9Hj9YqVq1RwK"
   },
   "source": [
    "#Figure 3:\n",
    "##Loss function of the new neural network. The loss function is noisy, but still trends downward. After enough epochs, the loss function does not change by a substantial degree, so we can be confident this neural network has converged to an approximate solution."
   ]
  },
  {
   "cell_type": "markdown",
   "metadata": {
    "id": "VW1s337b_nr5"
   },
   "source": [
    "# Now predict what we would get from our FFNN"
   ]
  },
  {
   "cell_type": "code",
   "execution_count": 44,
   "metadata": {
    "id": "6OnjbtgO_rH7"
   },
   "outputs": [],
   "source": [
    "output_image64 = model_digits.predict(x_test)"
   ]
  },
  {
   "cell_type": "code",
   "execution_count": 45,
   "metadata": {
    "id": "J3eQiFn3_sgL"
   },
   "outputs": [],
   "source": [
    "def compareinout(i, outim, testimg, initialshape=(28,28)):\n",
    "  '''\n",
    "  Function to plot the input and the target.\n",
    "  Plots the ith training data point.\n",
    "\n",
    "  Parameters:\n",
    "  i -> Index of training data to plot\n",
    "  outim -> Name of the predicted (target) image\n",
    "  testing -> Name of the testing data set to predict\n",
    "  initialshape -> Shape of the output image\n",
    "  '''\n",
    "  fig = plt.figure(figsize=(10,5))\n",
    "  ax = fig.add_subplot(121) \n",
    "  ax.imshow(testimg[i].reshape(initialshape) , cmap=\"bone\")\n",
    "  ax.get_xaxis().set_visible(False)\n",
    "  ax.get_yaxis().set_visible(False)\n",
    "  ax = fig.add_subplot(122) \n",
    "  ax.imshow(outim[i].reshape(initialshape) , cmap=\"bone\")\n",
    "  ax.get_xaxis().set_visible(False)\n",
    "  ax.get_yaxis().set_visible(False)\n"
   ]
  },
  {
   "cell_type": "code",
   "execution_count": 46,
   "metadata": {
    "colab": {
     "base_uri": "https://localhost:8080/",
     "height": 1000
    },
    "id": "5PZB9q4B_0u0",
    "outputId": "2207868c-497f-42cb-8eba-3b255b2ce0d2"
   },
   "outputs": [
    {
     "data": {
      "image/png": "[encoded data removed]",
      "text/plain": [
       "<Figure size 720x360 with 2 Axes>"
      ]
     },
     "metadata": {
      "needs_background": "light"
     },
     "output_type": "display_data"
    },
    {
     "data": {
      "image/png": "[encoded data removed]",
      "text/plain": [
       "<Figure size 720x360 with 2 Axes>"
      ]
     },
     "metadata": {
      "needs_background": "light"
     },
     "output_type": "display_data"
    },
    {
     "data": {
      "image/png": "[encoded data removed]",
      "text/plain": [
       "<Figure size 720x360 with 2 Axes>"
      ]
     },
     "metadata": {
      "needs_background": "light"
     },
     "output_type": "display_data"
    },
    {
     "data": {
      "image/png": "[encoded data removed]",
      "text/plain": [
       "<Figure size 720x360 with 2 Axes>"
      ]
     },
     "metadata": {
      "needs_background": "light"
     },
     "output_type": "display_data"
    },
    {
     "data": {
      "image/png": "[encoded data removed]",
      "text/plain": [
       "<Figure size 720x360 with 2 Axes>"
      ]
     },
     "metadata": {
      "needs_background": "light"
     },
     "output_type": "display_data"
    },
    {
     "data": {
      "image/png": "[encoded data removed]",
      "text/plain": [
       "<Figure size 720x360 with 2 Axes>"
      ]
     },
     "metadata": {
      "needs_background": "light"
     },
     "output_type": "display_data"
    },
    {
     "data": {
      "image/png": "[encoded data removed]",
      "text/plain": [
       "<Figure size 720x360 with 2 Axes>"
      ]
     },
     "metadata": {
      "needs_background": "light"
     },
     "output_type": "display_data"
    },
    {
     "data": {
      "image/png": "[encoded data removed]",
      "text/plain": [
       "<Figure size 720x360 with 2 Axes>"
      ]
     },
     "metadata": {
      "needs_background": "light"
     },
     "output_type": "display_data"
    },
    {
     "data": {
      "image/png": "[encoded data removed]",
      "text/plain": [
       "<Figure size 720x360 with 2 Axes>"
      ]
     },
     "metadata": {
      "needs_background": "light"
     },
     "output_type": "display_data"
    },
    {
     "data": {
      "image/png": "[encoded data removed]",
      "text/plain": [
       "<Figure size 720x360 with 2 Axes>"
      ]
     },
     "metadata": {
      "needs_background": "light"
     },
     "output_type": "display_data"
    }
   ],
   "source": [
    "for i in range(10):\n",
    "  compareinout(i, output_image64, x_test)\n"
   ]
  },
  {
   "cell_type": "markdown",
   "metadata": {
    "id": "BhL55VP-18li"
   },
   "source": [
    "#Figure 4:\n",
    "##The left column plots the original data that the neural net is aiming to reproduce. The right column shows the result of the learning. The images are not a perfect match, but the boundaries are very closely approximated. Some notable missing features appear in the second and fourth from last images. The four is missing some of its tail at the base, and the five is more closed than the original."
   ]
  },
  {
   "cell_type": "markdown",
   "metadata": {},
   "source": [
    "---"
   ]
  },
  {
   "cell_type": "markdown",
   "metadata": {},
   "source": [
    "<h1 style=\"color:red\"> Good ! but this is not a model for digit recognition, output need to be the actual number represented in the image (-3pt)</h1>\n"
   ]
  }
 ],
 "metadata": {
  "accelerator": "GPU",
  "colab": {
   "collapsed_sections": [],
   "include_colab_link": true,
   "name": "ffnn_digit_recognition.ipynb",
   "provenance": []
  },
  "kernelspec": {
   "display_name": "Python 3",
   "language": "python",
   "name": "python3"
  },
  "language_info": {
   "codemirror_mode": {
    "name": "ipython",
    "version": 3
   },
   "file_extension": ".py",
   "mimetype": "text/x-python",
   "name": "python",
   "nbconvert_exporter": "python",
   "pygments_lexer": "ipython3",
   "version": "3.6.8"
  }
 },
 "nbformat": 4,
 "nbformat_minor": 1
}
