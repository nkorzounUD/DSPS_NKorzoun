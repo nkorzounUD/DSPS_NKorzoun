{
  "nbformat": 4,
  "nbformat_minor": 0,
  "metadata": {
    "colab": {
      "name": "ffnn_digit_recognition.ipynb",
      "provenance": [],
      "collapsed_sections": [],
      "include_colab_link": true
    },
    "kernelspec": {
      "name": "python3",
      "display_name": "Python 3"
    },
    "language_info": {
      "name": "python"
    },
    "accelerator": "GPU"
  },
  "cells": [
    {
      "cell_type": "markdown",
      "metadata": {
        "id": "view-in-github",
        "colab_type": "text"
      },
      "source": [
        "<a href=\"https://colab.research.google.com/github/nkorzounUD/DSPS_NKorzoun/blob/main/HW10/ffnn_digit_recognition.ipynb\" target=\"_parent\"><img src=\"https://colab.research.google.com/assets/colab-badge.svg\" alt=\"Open In Colab\"/></a>"
      ]
    },
    {
      "cell_type": "markdown",
      "metadata": {
        "id": "H4otaGu2TDvP"
      },
      "source": [
        "# Must change runtime to GPU!!!!!\n",
        "\n",
        "### Do this by...\n",
        "Runtime -> Change runtime type -> GPU"
      ]
    },
    {
      "cell_type": "markdown",
      "metadata": {
        "id": "nOJavHFKTV5d"
      },
      "source": [
        "### Must do this before doing anything or else you will have to rerun everything."
      ]
    },
    {
      "cell_type": "code",
      "metadata": {
        "id": "qHwKMLDBXQUj"
      },
      "source": [
        "import keras\n",
        "from keras.datasets import mnist\n",
        "from keras.models import Sequential\n",
        "from keras.layers import Dense\n",
        "\n",
        "import pylab as pl\n",
        "import numpy as np\n",
        "import matplotlib.pyplot as plt\n",
        "\n"
      ],
      "execution_count": 3,
      "outputs": []
    },
    {
      "cell_type": "code",
      "metadata": {
        "colab": {
          "base_uri": "https://localhost:8080/"
        },
        "id": "_b41_84aTdmg",
        "outputId": "a238c540-c0ad-4b42-a9f0-d0b4d068fedc"
      },
      "source": [
        "mnist.load_data()"
      ],
      "execution_count": 4,
      "outputs": [
        {
          "output_type": "execute_result",
          "data": {
            "text/plain": [
              "((array([[[0, 0, 0, ..., 0, 0, 0],\n",
              "          [0, 0, 0, ..., 0, 0, 0],\n",
              "          [0, 0, 0, ..., 0, 0, 0],\n",
              "          ...,\n",
              "          [0, 0, 0, ..., 0, 0, 0],\n",
              "          [0, 0, 0, ..., 0, 0, 0],\n",
              "          [0, 0, 0, ..., 0, 0, 0]],\n",
              "  \n",
              "         [[0, 0, 0, ..., 0, 0, 0],\n",
              "          [0, 0, 0, ..., 0, 0, 0],\n",
              "          [0, 0, 0, ..., 0, 0, 0],\n",
              "          ...,\n",
              "          [0, 0, 0, ..., 0, 0, 0],\n",
              "          [0, 0, 0, ..., 0, 0, 0],\n",
              "          [0, 0, 0, ..., 0, 0, 0]],\n",
              "  \n",
              "         [[0, 0, 0, ..., 0, 0, 0],\n",
              "          [0, 0, 0, ..., 0, 0, 0],\n",
              "          [0, 0, 0, ..., 0, 0, 0],\n",
              "          ...,\n",
              "          [0, 0, 0, ..., 0, 0, 0],\n",
              "          [0, 0, 0, ..., 0, 0, 0],\n",
              "          [0, 0, 0, ..., 0, 0, 0]],\n",
              "  \n",
              "         ...,\n",
              "  \n",
              "         [[0, 0, 0, ..., 0, 0, 0],\n",
              "          [0, 0, 0, ..., 0, 0, 0],\n",
              "          [0, 0, 0, ..., 0, 0, 0],\n",
              "          ...,\n",
              "          [0, 0, 0, ..., 0, 0, 0],\n",
              "          [0, 0, 0, ..., 0, 0, 0],\n",
              "          [0, 0, 0, ..., 0, 0, 0]],\n",
              "  \n",
              "         [[0, 0, 0, ..., 0, 0, 0],\n",
              "          [0, 0, 0, ..., 0, 0, 0],\n",
              "          [0, 0, 0, ..., 0, 0, 0],\n",
              "          ...,\n",
              "          [0, 0, 0, ..., 0, 0, 0],\n",
              "          [0, 0, 0, ..., 0, 0, 0],\n",
              "          [0, 0, 0, ..., 0, 0, 0]],\n",
              "  \n",
              "         [[0, 0, 0, ..., 0, 0, 0],\n",
              "          [0, 0, 0, ..., 0, 0, 0],\n",
              "          [0, 0, 0, ..., 0, 0, 0],\n",
              "          ...,\n",
              "          [0, 0, 0, ..., 0, 0, 0],\n",
              "          [0, 0, 0, ..., 0, 0, 0],\n",
              "          [0, 0, 0, ..., 0, 0, 0]]], dtype=uint8),\n",
              "  array([5, 0, 4, ..., 5, 6, 8], dtype=uint8)),\n",
              " (array([[[0, 0, 0, ..., 0, 0, 0],\n",
              "          [0, 0, 0, ..., 0, 0, 0],\n",
              "          [0, 0, 0, ..., 0, 0, 0],\n",
              "          ...,\n",
              "          [0, 0, 0, ..., 0, 0, 0],\n",
              "          [0, 0, 0, ..., 0, 0, 0],\n",
              "          [0, 0, 0, ..., 0, 0, 0]],\n",
              "  \n",
              "         [[0, 0, 0, ..., 0, 0, 0],\n",
              "          [0, 0, 0, ..., 0, 0, 0],\n",
              "          [0, 0, 0, ..., 0, 0, 0],\n",
              "          ...,\n",
              "          [0, 0, 0, ..., 0, 0, 0],\n",
              "          [0, 0, 0, ..., 0, 0, 0],\n",
              "          [0, 0, 0, ..., 0, 0, 0]],\n",
              "  \n",
              "         [[0, 0, 0, ..., 0, 0, 0],\n",
              "          [0, 0, 0, ..., 0, 0, 0],\n",
              "          [0, 0, 0, ..., 0, 0, 0],\n",
              "          ...,\n",
              "          [0, 0, 0, ..., 0, 0, 0],\n",
              "          [0, 0, 0, ..., 0, 0, 0],\n",
              "          [0, 0, 0, ..., 0, 0, 0]],\n",
              "  \n",
              "         ...,\n",
              "  \n",
              "         [[0, 0, 0, ..., 0, 0, 0],\n",
              "          [0, 0, 0, ..., 0, 0, 0],\n",
              "          [0, 0, 0, ..., 0, 0, 0],\n",
              "          ...,\n",
              "          [0, 0, 0, ..., 0, 0, 0],\n",
              "          [0, 0, 0, ..., 0, 0, 0],\n",
              "          [0, 0, 0, ..., 0, 0, 0]],\n",
              "  \n",
              "         [[0, 0, 0, ..., 0, 0, 0],\n",
              "          [0, 0, 0, ..., 0, 0, 0],\n",
              "          [0, 0, 0, ..., 0, 0, 0],\n",
              "          ...,\n",
              "          [0, 0, 0, ..., 0, 0, 0],\n",
              "          [0, 0, 0, ..., 0, 0, 0],\n",
              "          [0, 0, 0, ..., 0, 0, 0]],\n",
              "  \n",
              "         [[0, 0, 0, ..., 0, 0, 0],\n",
              "          [0, 0, 0, ..., 0, 0, 0],\n",
              "          [0, 0, 0, ..., 0, 0, 0],\n",
              "          ...,\n",
              "          [0, 0, 0, ..., 0, 0, 0],\n",
              "          [0, 0, 0, ..., 0, 0, 0],\n",
              "          [0, 0, 0, ..., 0, 0, 0]]], dtype=uint8),\n",
              "  array([7, 2, 1, ..., 4, 5, 6], dtype=uint8)))"
            ]
          },
          "metadata": {},
          "execution_count": 4
        }
      ]
    },
    {
      "cell_type": "code",
      "metadata": {
        "colab": {
          "base_uri": "https://localhost:8080/"
        },
        "id": "Blrm8rQhXjVF",
        "outputId": "294d7102-08e6-40d0-e8f2-c68a1f597460"
      },
      "source": [
        "len(mnist.load_data())"
      ],
      "execution_count": 5,
      "outputs": [
        {
          "output_type": "execute_result",
          "data": {
            "text/plain": [
              "2"
            ]
          },
          "metadata": {},
          "execution_count": 5
        }
      ]
    },
    {
      "cell_type": "code",
      "metadata": {
        "id": "VlkvixGjX7bT"
      },
      "source": [
        "(x_train, _), (x_test, _) = mnist.load_data()"
      ],
      "execution_count": 6,
      "outputs": []
    },
    {
      "cell_type": "code",
      "metadata": {
        "colab": {
          "base_uri": "https://localhost:8080/"
        },
        "id": "NLGPQnTeYShY",
        "outputId": "739e99ee-a976-483e-aceb-99f65405727b"
      },
      "source": [
        "# First value is how many training images we have\n",
        "x_train.shape"
      ],
      "execution_count": 7,
      "outputs": [
        {
          "output_type": "execute_result",
          "data": {
            "text/plain": [
              "(60000, 28, 28)"
            ]
          },
          "metadata": {},
          "execution_count": 7
        }
      ]
    },
    {
      "cell_type": "code",
      "metadata": {
        "colab": {
          "base_uri": "https://localhost:8080/"
        },
        "id": "Dyw66TWdUz0p",
        "outputId": "17b200fe-02e0-4343-96f9-6347cc6fbe61"
      },
      "source": [
        "# First value is how many testing images we have\n",
        "x_test.shape"
      ],
      "execution_count": 8,
      "outputs": [
        {
          "output_type": "execute_result",
          "data": {
            "text/plain": [
              "(10000, 28, 28)"
            ]
          },
          "metadata": {},
          "execution_count": 8
        }
      ]
    },
    {
      "cell_type": "code",
      "metadata": {
        "id": "sx_pNfT2YUH3"
      },
      "source": [
        "nimg, img_row, img_col = x_train.shape"
      ],
      "execution_count": 9,
      "outputs": []
    },
    {
      "cell_type": "code",
      "metadata": {
        "colab": {
          "base_uri": "https://localhost:8080/",
          "height": 265
        },
        "id": "outVN6NNYe8x",
        "outputId": "57044d20-0116-4b2c-ee25-79bd987b70b0"
      },
      "source": [
        "pl.imshow(x_train[0]);"
      ],
      "execution_count": 10,
      "outputs": [
        {
          "output_type": "display_data",
          "data": {
            "image/png": "[encoded data removed]",
            "text/plain": [
              "<Figure size 432x288 with 1 Axes>"
            ]
          },
          "metadata": {
            "needs_background": "light"
          }
        }
      ]
    },
    {
      "cell_type": "markdown",
      "metadata": {
        "id": "CcIT9-xDTrz-"
      },
      "source": [
        "# Figure 1:\n",
        "### This is the first of 60000 training images which we will use in our model to predict a digit."
      ]
    },
    {
      "cell_type": "code",
      "metadata": {
        "colab": {
          "base_uri": "https://localhost:8080/"
        },
        "id": "GpRUVQS1YhS-",
        "outputId": "e32d0ab8-bf74-48bf-b30f-92955500ab24"
      },
      "source": [
        "x_train.max()"
      ],
      "execution_count": 11,
      "outputs": [
        {
          "output_type": "execute_result",
          "data": {
            "text/plain": [
              "255"
            ]
          },
          "metadata": {},
          "execution_count": 11
        }
      ]
    },
    {
      "cell_type": "code",
      "metadata": {
        "colab": {
          "base_uri": "https://localhost:8080/"
        },
        "id": "TSKepOi2ZF9f",
        "outputId": "71e090d1-826f-4526-996e-3068a476b80c"
      },
      "source": [
        "x_train.dtype"
      ],
      "execution_count": 12,
      "outputs": [
        {
          "output_type": "execute_result",
          "data": {
            "text/plain": [
              "dtype('uint8')"
            ]
          },
          "metadata": {},
          "execution_count": 12
        }
      ]
    },
    {
      "cell_type": "code",
      "metadata": {
        "id": "GN255XcEZHrz"
      },
      "source": [
        "# Normalize so that image values are now from 0 to 1 instead of 0 to 255\n",
        "\n",
        "# Same normalization for the training and test set\n",
        "x_train = (x_train.astype(float) / 255)\n",
        "\n",
        "# Normalize and reshape x_test also\n",
        "x_test = (x_test.astype(float) / 255)"
      ],
      "execution_count": 13,
      "outputs": []
    },
    {
      "cell_type": "code",
      "metadata": {
        "colab": {
          "base_uri": "https://localhost:8080/"
        },
        "id": "QBacXVUZVQGW",
        "outputId": "1d00574f-14e0-4534-a57b-f5aeb05524fc"
      },
      "source": [
        "# Make sure normalization worked for training set\n",
        "x_train.min(), x_train.max()"
      ],
      "execution_count": 14,
      "outputs": [
        {
          "output_type": "execute_result",
          "data": {
            "text/plain": [
              "(0.0, 1.0)"
            ]
          },
          "metadata": {},
          "execution_count": 14
        }
      ]
    },
    {
      "cell_type": "code",
      "metadata": {
        "colab": {
          "base_uri": "https://localhost:8080/"
        },
        "id": "W4ZBGHs0VTyN",
        "outputId": "df4fa289-d0d2-45c3-d0ce-91dd738fe08b"
      },
      "source": [
        "# Make sure normalization is the same for the testing set\n",
        "x_test.min(), x_test.max()"
      ],
      "execution_count": 15,
      "outputs": [
        {
          "output_type": "execute_result",
          "data": {
            "text/plain": [
              "(0.0, 1.0)"
            ]
          },
          "metadata": {},
          "execution_count": 15
        }
      ]
    },
    {
      "cell_type": "code",
      "metadata": {
        "colab": {
          "base_uri": "https://localhost:8080/"
        },
        "id": "8HvuO3qTZb5p",
        "outputId": "21c1441c-1230-4569-adda-42d3f5f9322e"
      },
      "source": [
        "x_train.reshape(nimg, img_row*img_col).shape"
      ],
      "execution_count": 16,
      "outputs": [
        {
          "output_type": "execute_result",
          "data": {
            "text/plain": [
              "(60000, 784)"
            ]
          },
          "metadata": {},
          "execution_count": 16
        }
      ]
    },
    {
      "cell_type": "code",
      "metadata": {
        "id": "RXt9PSoGecbX",
        "colab": {
          "base_uri": "https://localhost:8080/"
        },
        "outputId": "28ae3ee6-6683-42ad-8adf-23f7a2e8c16c"
      },
      "source": [
        "# Reshape training set so that it is one-dimensional for a single image\n",
        "# (can now be input into our model)\n",
        "\n",
        "x_train = x_train.reshape(nimg, img_row*img_col)\n",
        "x_train.shape"
      ],
      "execution_count": 17,
      "outputs": [
        {
          "output_type": "execute_result",
          "data": {
            "text/plain": [
              "(60000, 784)"
            ]
          },
          "metadata": {},
          "execution_count": 17
        }
      ]
    },
    {
      "cell_type": "code",
      "metadata": {
        "colab": {
          "base_uri": "https://localhost:8080/"
        },
        "id": "QDC_YlbGUuYn",
        "outputId": "fa3f1893-0f76-4c67-880b-5bbe2ea6a92e"
      },
      "source": [
        "x_test.shape"
      ],
      "execution_count": 18,
      "outputs": [
        {
          "output_type": "execute_result",
          "data": {
            "text/plain": [
              "(10000, 28, 28)"
            ]
          },
          "metadata": {},
          "execution_count": 18
        }
      ]
    },
    {
      "cell_type": "code",
      "metadata": {
        "id": "NxxChGG_efvt"
      },
      "source": [
        "# Also reshape testing set so it is one-dimensional for a single image\n",
        "x_test = x_test.reshape(x_test.shape[0], img_row*img_col)"
      ],
      "execution_count": 19,
      "outputs": []
    },
    {
      "cell_type": "code",
      "metadata": {
        "id": "TEh7feqZZk0H"
      },
      "source": [
        "# The y_train data must be a copy of our x_train data\n",
        "# This is because our model is an encoder\n",
        "# (encoder = transform data to a lower dimensional representation)\n",
        "y_train = x_train.copy()"
      ],
      "execution_count": 20,
      "outputs": []
    },
    {
      "cell_type": "code",
      "metadata": {
        "id": "hpz9XSZcbn56"
      },
      "source": [
        "# Creates model\n",
        "model_digits = Sequential()"
      ],
      "execution_count": 21,
      "outputs": []
    },
    {
      "cell_type": "code",
      "metadata": {
        "id": "K1YdQHdmcTU_"
      },
      "source": [
        "# Add model layers\n",
        "# Here we encode 28^2 = 784 dimensions down to 64 dimensions then de-encode\n",
        "\n",
        "# Encoding...\n",
        "#model_digits.add(Dense(256, activation=\"relu\", input_dim=img_row*img_col))\n",
        "model_digits.add(Dense(128, activation=\"sigmoid\", input_dim=img_row*img_col))\n",
        "model_digits.add(Dense(64, activation=\"sigmoid\"))\n",
        "\n",
        "# De-encoding... (last activation must be linear)\n",
        "model_digits.add(Dense(128, activation=\"sigmoid\"))\n",
        "model_digits.add(Dense(img_row*img_col, activation=\"linear\"))"
      ],
      "execution_count": 22,
      "outputs": []
    },
    {
      "cell_type": "code",
      "metadata": {
        "id": "ZPhicGZRdSxg"
      },
      "source": [
        "# Choose optimizer and loss function\n",
        "# Can change these to try getting better results for our FFNN\n",
        "# From slides, best combo looks like opt=adadelta and loss=binary_crossentropy\n",
        "# where activation function must be \"sigmoid\" instead of \"relu\"\n",
        "\n",
        "model_digits.compile(optimizer=\"adadelta\", loss=\"mean_squared_error\")"
      ],
      "execution_count": 23,
      "outputs": []
    },
    {
      "cell_type": "code",
      "metadata": {
        "colab": {
          "base_uri": "https://localhost:8080/"
        },
        "id": "t6qFENUMdmb4",
        "outputId": "6e05155c-1b5f-4592-9132-9897a79ceec0"
      },
      "source": [
        "model_digits.summary()"
      ],
      "execution_count": 24,
      "outputs": [
        {
          "output_type": "stream",
          "name": "stdout",
          "text": [
            "Model: \"sequential\"\n",
            "_________________________________________________________________\n",
            " Layer (type)                Output Shape              Param #   \n",
            "=================================================================\n",
            " dense (Dense)               (None, 128)               100480    \n",
            "                                                                 \n",
            " dense_1 (Dense)             (None, 64)                8256      \n",
            "                                                                 \n",
            " dense_2 (Dense)             (None, 128)               8320      \n",
            "                                                                 \n",
            " dense_3 (Dense)             (None, 784)               101136    \n",
            "                                                                 \n",
            "=================================================================\n",
            "Total params: 218,192\n",
            "Trainable params: 218,192\n",
            "Non-trainable params: 0\n",
            "_________________________________________________________________\n"
          ]
        }
      ]
    },
    {
      "cell_type": "code",
      "metadata": {
        "colab": {
          "base_uri": "https://localhost:8080/"
        },
        "id": "fYCzpCkadqg0",
        "outputId": "534eb578-9d97-47e6-fac3-424d9cdbb9bf"
      },
      "source": [
        "# Architecture is x_train x_train instead of x_train y_train bc it's an encoder\n",
        "ffnn_digit=model_digits.fit(x_train, x_train, validation_data=(x_test, x_test),\n",
        "                            epochs=100, batch_size=100, verbose=1)"
      ],
      "execution_count": 25,
      "outputs": [
        {
          "output_type": "stream",
          "name": "stdout",
          "text": [
            "Epoch 1/100\n",
            "600/600 [==============================] - 4s 4ms/step - loss: 0.1787 - val_loss: 0.1745\n",
            "Epoch 2/100\n",
            "600/600 [==============================] - 2s 4ms/step - loss: 0.1670 - val_loss: 0.1633\n",
            "Epoch 3/100\n",
            "600/600 [==============================] - 2s 4ms/step - loss: 0.1565 - val_loss: 0.1534\n",
            "Epoch 4/100\n",
            "600/600 [==============================] - 2s 4ms/step - loss: 0.1472 - val_loss: 0.1445\n",
            "Epoch 5/100\n",
            "600/600 [==============================] - 2s 4ms/step - loss: 0.1389 - val_loss: 0.1366\n",
            "Epoch 6/100\n",
            "600/600 [==============================] - 2s 4ms/step - loss: 0.1315 - val_loss: 0.1295\n",
            "Epoch 7/100\n",
            "600/600 [==============================] - 2s 4ms/step - loss: 0.1249 - val_loss: 0.1232\n",
            "Epoch 8/100\n",
            "600/600 [==============================] - 2s 4ms/step - loss: 0.1190 - val_loss: 0.1176\n",
            "Epoch 9/100\n",
            "600/600 [==============================] - 2s 4ms/step - loss: 0.1137 - val_loss: 0.1125\n",
            "Epoch 10/100\n",
            "600/600 [==============================] - 2s 3ms/step - loss: 0.1090 - val_loss: 0.1080\n",
            "Epoch 11/100\n",
            "600/600 [==============================] - 2s 4ms/step - loss: 0.1047 - val_loss: 0.1040\n",
            "Epoch 12/100\n",
            "600/600 [==============================] - 2s 4ms/step - loss: 0.1009 - val_loss: 0.1003\n",
            "Epoch 13/100\n",
            "600/600 [==============================] - 2s 4ms/step - loss: 0.0975 - val_loss: 0.0970\n",
            "Epoch 14/100\n",
            "600/600 [==============================] - 2s 4ms/step - loss: 0.0945 - val_loss: 0.0941\n",
            "Epoch 15/100\n",
            "600/600 [==============================] - 2s 3ms/step - loss: 0.0917 - val_loss: 0.0914\n",
            "Epoch 16/100\n",
            "600/600 [==============================] - 2s 3ms/step - loss: 0.0893 - val_loss: 0.0891\n",
            "Epoch 17/100\n",
            "600/600 [==============================] - 2s 4ms/step - loss: 0.0870 - val_loss: 0.0869\n",
            "Epoch 18/100\n",
            "600/600 [==============================] - 2s 4ms/step - loss: 0.0850 - val_loss: 0.0850\n",
            "Epoch 19/100\n",
            "600/600 [==============================] - 2s 4ms/step - loss: 0.0833 - val_loss: 0.0833\n",
            "Epoch 20/100\n",
            "600/600 [==============================] - 2s 4ms/step - loss: 0.0816 - val_loss: 0.0817\n",
            "Epoch 21/100\n",
            "600/600 [==============================] - 2s 4ms/step - loss: 0.0802 - val_loss: 0.0803\n",
            "Epoch 22/100\n",
            "600/600 [==============================] - 2s 4ms/step - loss: 0.0789 - val_loss: 0.0790\n",
            "Epoch 23/100\n",
            "600/600 [==============================] - 2s 4ms/step - loss: 0.0777 - val_loss: 0.0779\n",
            "Epoch 24/100\n",
            "600/600 [==============================] - 2s 4ms/step - loss: 0.0767 - val_loss: 0.0769\n",
            "Epoch 25/100\n",
            "600/600 [==============================] - 2s 4ms/step - loss: 0.0757 - val_loss: 0.0759\n",
            "Epoch 26/100\n",
            "600/600 [==============================] - 2s 3ms/step - loss: 0.0749 - val_loss: 0.0751\n",
            "Epoch 27/100\n",
            "600/600 [==============================] - 2s 4ms/step - loss: 0.0741 - val_loss: 0.0744\n",
            "Epoch 28/100\n",
            "600/600 [==============================] - 2s 4ms/step - loss: 0.0734 - val_loss: 0.0737\n",
            "Epoch 29/100\n",
            "600/600 [==============================] - 2s 4ms/step - loss: 0.0728 - val_loss: 0.0731\n",
            "Epoch 30/100\n",
            "600/600 [==============================] - 2s 4ms/step - loss: 0.0722 - val_loss: 0.0725\n",
            "Epoch 31/100\n",
            "600/600 [==============================] - 2s 3ms/step - loss: 0.0717 - val_loss: 0.0720\n",
            "Epoch 32/100\n",
            "600/600 [==============================] - 2s 4ms/step - loss: 0.0713 - val_loss: 0.0716\n",
            "Epoch 33/100\n",
            "600/600 [==============================] - 2s 3ms/step - loss: 0.0709 - val_loss: 0.0712\n",
            "Epoch 34/100\n",
            "600/600 [==============================] - 2s 4ms/step - loss: 0.0705 - val_loss: 0.0708\n",
            "Epoch 35/100\n",
            "600/600 [==============================] - 2s 4ms/step - loss: 0.0702 - val_loss: 0.0705\n",
            "Epoch 36/100\n",
            "600/600 [==============================] - 2s 4ms/step - loss: 0.0699 - val_loss: 0.0702\n",
            "Epoch 37/100\n",
            "600/600 [==============================] - 2s 4ms/step - loss: 0.0696 - val_loss: 0.0699\n",
            "Epoch 38/100\n",
            "600/600 [==============================] - 2s 4ms/step - loss: 0.0694 - val_loss: 0.0697\n",
            "Epoch 39/100\n",
            "600/600 [==============================] - 2s 4ms/step - loss: 0.0691 - val_loss: 0.0695\n",
            "Epoch 40/100\n",
            "600/600 [==============================] - 2s 4ms/step - loss: 0.0690 - val_loss: 0.0693\n",
            "Epoch 41/100\n",
            "600/600 [==============================] - 2s 4ms/step - loss: 0.0688 - val_loss: 0.0691\n",
            "Epoch 42/100\n",
            "600/600 [==============================] - 2s 4ms/step - loss: 0.0686 - val_loss: 0.0690\n",
            "Epoch 43/100\n",
            "600/600 [==============================] - 2s 4ms/step - loss: 0.0685 - val_loss: 0.0688\n",
            "Epoch 44/100\n",
            "600/600 [==============================] - 2s 4ms/step - loss: 0.0684 - val_loss: 0.0687\n",
            "Epoch 45/100\n",
            "600/600 [==============================] - 2s 4ms/step - loss: 0.0682 - val_loss: 0.0686\n",
            "Epoch 46/100\n",
            "600/600 [==============================] - 2s 4ms/step - loss: 0.0681 - val_loss: 0.0685\n",
            "Epoch 47/100\n",
            "600/600 [==============================] - 2s 4ms/step - loss: 0.0681 - val_loss: 0.0684\n",
            "Epoch 48/100\n",
            "600/600 [==============================] - 2s 4ms/step - loss: 0.0680 - val_loss: 0.0683\n",
            "Epoch 49/100\n",
            "600/600 [==============================] - 2s 4ms/step - loss: 0.0679 - val_loss: 0.0682\n",
            "Epoch 50/100\n",
            "600/600 [==============================] - 2s 4ms/step - loss: 0.0678 - val_loss: 0.0681\n",
            "Epoch 51/100\n",
            "600/600 [==============================] - 2s 4ms/step - loss: 0.0678 - val_loss: 0.0681\n",
            "Epoch 52/100\n",
            "600/600 [==============================] - 2s 4ms/step - loss: 0.0677 - val_loss: 0.0680\n",
            "Epoch 53/100\n",
            "600/600 [==============================] - 2s 4ms/step - loss: 0.0677 - val_loss: 0.0680\n",
            "Epoch 54/100\n",
            "600/600 [==============================] - 2s 4ms/step - loss: 0.0676 - val_loss: 0.0679\n",
            "Epoch 55/100\n",
            "600/600 [==============================] - 2s 4ms/step - loss: 0.0676 - val_loss: 0.0679\n",
            "Epoch 56/100\n",
            "600/600 [==============================] - 2s 4ms/step - loss: 0.0676 - val_loss: 0.0678\n",
            "Epoch 57/100\n",
            "600/600 [==============================] - 2s 4ms/step - loss: 0.0675 - val_loss: 0.0678\n",
            "Epoch 58/100\n",
            "600/600 [==============================] - 2s 4ms/step - loss: 0.0675 - val_loss: 0.0678\n",
            "Epoch 59/100\n",
            "600/600 [==============================] - 2s 4ms/step - loss: 0.0675 - val_loss: 0.0677\n",
            "Epoch 60/100\n",
            "600/600 [==============================] - 2s 4ms/step - loss: 0.0674 - val_loss: 0.0677\n",
            "Epoch 61/100\n",
            "600/600 [==============================] - 2s 4ms/step - loss: 0.0674 - val_loss: 0.0677\n",
            "Epoch 62/100\n",
            "600/600 [==============================] - 2s 4ms/step - loss: 0.0674 - val_loss: 0.0677\n",
            "Epoch 63/100\n",
            "600/600 [==============================] - 2s 4ms/step - loss: 0.0674 - val_loss: 0.0677\n",
            "Epoch 64/100\n",
            "600/600 [==============================] - 2s 4ms/step - loss: 0.0674 - val_loss: 0.0676\n",
            "Epoch 65/100\n",
            "600/600 [==============================] - 2s 4ms/step - loss: 0.0674 - val_loss: 0.0676\n",
            "Epoch 66/100\n",
            "600/600 [==============================] - 2s 4ms/step - loss: 0.0674 - val_loss: 0.0676\n",
            "Epoch 67/100\n",
            "600/600 [==============================] - 2s 4ms/step - loss: 0.0673 - val_loss: 0.0676\n",
            "Epoch 68/100\n",
            "600/600 [==============================] - 2s 4ms/step - loss: 0.0673 - val_loss: 0.0676\n",
            "Epoch 69/100\n",
            "600/600 [==============================] - 2s 4ms/step - loss: 0.0673 - val_loss: 0.0676\n",
            "Epoch 70/100\n",
            "600/600 [==============================] - 2s 4ms/step - loss: 0.0673 - val_loss: 0.0676\n",
            "Epoch 71/100\n",
            "600/600 [==============================] - 2s 4ms/step - loss: 0.0673 - val_loss: 0.0676\n",
            "Epoch 72/100\n",
            "600/600 [==============================] - 2s 4ms/step - loss: 0.0673 - val_loss: 0.0676\n",
            "Epoch 73/100\n",
            "600/600 [==============================] - 2s 4ms/step - loss: 0.0673 - val_loss: 0.0675\n",
            "Epoch 74/100\n",
            "600/600 [==============================] - 2s 4ms/step - loss: 0.0673 - val_loss: 0.0675\n",
            "Epoch 75/100\n",
            "600/600 [==============================] - 2s 4ms/step - loss: 0.0673 - val_loss: 0.0675\n",
            "Epoch 76/100\n",
            "600/600 [==============================] - 2s 4ms/step - loss: 0.0673 - val_loss: 0.0675\n",
            "Epoch 77/100\n",
            "600/600 [==============================] - 2s 4ms/step - loss: 0.0673 - val_loss: 0.0675\n",
            "Epoch 78/100\n",
            "600/600 [==============================] - 2s 4ms/step - loss: 0.0673 - val_loss: 0.0675\n",
            "Epoch 79/100\n",
            "600/600 [==============================] - 2s 4ms/step - loss: 0.0673 - val_loss: 0.0675\n",
            "Epoch 80/100\n",
            "600/600 [==============================] - 2s 4ms/step - loss: 0.0673 - val_loss: 0.0675\n",
            "Epoch 81/100\n",
            "600/600 [==============================] - 2s 4ms/step - loss: 0.0673 - val_loss: 0.0675\n",
            "Epoch 82/100\n",
            "600/600 [==============================] - 2s 4ms/step - loss: 0.0673 - val_loss: 0.0675\n",
            "Epoch 83/100\n",
            "600/600 [==============================] - 2s 4ms/step - loss: 0.0673 - val_loss: 0.0675\n",
            "Epoch 84/100\n",
            "600/600 [==============================] - 2s 4ms/step - loss: 0.0673 - val_loss: 0.0675\n",
            "Epoch 85/100\n",
            "600/600 [==============================] - 2s 4ms/step - loss: 0.0673 - val_loss: 0.0675\n",
            "Epoch 86/100\n",
            "600/600 [==============================] - 2s 4ms/step - loss: 0.0673 - val_loss: 0.0675\n",
            "Epoch 87/100\n",
            "600/600 [==============================] - 2s 4ms/step - loss: 0.0673 - val_loss: 0.0675\n",
            "Epoch 88/100\n",
            "600/600 [==============================] - 2s 4ms/step - loss: 0.0673 - val_loss: 0.0675\n",
            "Epoch 89/100\n",
            "600/600 [==============================] - 2s 4ms/step - loss: 0.0673 - val_loss: 0.0675\n",
            "Epoch 90/100\n",
            "600/600 [==============================] - 2s 4ms/step - loss: 0.0673 - val_loss: 0.0675\n",
            "Epoch 91/100\n",
            "600/600 [==============================] - 2s 4ms/step - loss: 0.0673 - val_loss: 0.0675\n",
            "Epoch 92/100\n",
            "600/600 [==============================] - 2s 4ms/step - loss: 0.0673 - val_loss: 0.0675\n",
            "Epoch 93/100\n",
            "600/600 [==============================] - 2s 4ms/step - loss: 0.0673 - val_loss: 0.0675\n",
            "Epoch 94/100\n",
            "600/600 [==============================] - 2s 4ms/step - loss: 0.0673 - val_loss: 0.0675\n",
            "Epoch 95/100\n",
            "600/600 [==============================] - 2s 4ms/step - loss: 0.0673 - val_loss: 0.0675\n",
            "Epoch 96/100\n",
            "600/600 [==============================] - 2s 4ms/step - loss: 0.0672 - val_loss: 0.0675\n",
            "Epoch 97/100\n",
            "600/600 [==============================] - 2s 4ms/step - loss: 0.0672 - val_loss: 0.0675\n",
            "Epoch 98/100\n",
            "600/600 [==============================] - 2s 4ms/step - loss: 0.0672 - val_loss: 0.0675\n",
            "Epoch 99/100\n",
            "600/600 [==============================] - 2s 4ms/step - loss: 0.0672 - val_loss: 0.0675\n",
            "Epoch 100/100\n",
            "600/600 [==============================] - 2s 4ms/step - loss: 0.0672 - val_loss: 0.0675\n"
          ]
        }
      ]
    },
    {
      "cell_type": "code",
      "metadata": {
        "colab": {
          "base_uri": "https://localhost:8080/"
        },
        "id": "482foTozfFjN",
        "outputId": "8abf41b7-4412-41ce-ef2c-5c5271772432"
      },
      "source": [
        "ffnn_digit.history"
      ],
      "execution_count": 26,
      "outputs": [
        {
          "output_type": "execute_result",
          "data": {
            "text/plain": [
              "{'loss': [0.17869234085083008,\n",
              "  0.1670261025428772,\n",
              "  0.1565416306257248,\n",
              "  0.1472087949514389,\n",
              "  0.13890114426612854,\n",
              "  0.13149723410606384,\n",
              "  0.12488986551761627,\n",
              "  0.11898647248744965,\n",
              "  0.11370638757944107,\n",
              "  0.10897906124591827,\n",
              "  0.10474307090044022,\n",
              "  0.10094472765922546,\n",
              "  0.09753657132387161,\n",
              "  0.09447719901800156,\n",
              "  0.09172959625720978,\n",
              "  0.08926112949848175,\n",
              "  0.08704287558794022,\n",
              "  0.08504872769117355,\n",
              "  0.08325585722923279,\n",
              "  0.08164356648921967,\n",
              "  0.08019351214170456,\n",
              "  0.07888936251401901,\n",
              "  0.07771634310483932,\n",
              "  0.07666095346212387,\n",
              "  0.07571177929639816,\n",
              "  0.07485783100128174,\n",
              "  0.07408969849348068,\n",
              "  0.07339874655008316,\n",
              "  0.07277726382017136,\n",
              "  0.07221820950508118,\n",
              "  0.07171545922756195,\n",
              "  0.07126329094171524,\n",
              "  0.07085669040679932,\n",
              "  0.07049094140529633,\n",
              "  0.07016219943761826,\n",
              "  0.06986649334430695,\n",
              "  0.06960071623325348,\n",
              "  0.06936176866292953,\n",
              "  0.06914697587490082,\n",
              "  0.06895390152931213,\n",
              "  0.06878036260604858,\n",
              "  0.06862439960241318,\n",
              "  0.06848429888486862,\n",
              "  0.06835828721523285,\n",
              "  0.06824513524770737,\n",
              "  0.06814340502023697,\n",
              "  0.0680520161986351,\n",
              "  0.06796997785568237,\n",
              "  0.06789618730545044,\n",
              "  0.06782993674278259,\n",
              "  0.06777039915323257,\n",
              "  0.06771697849035263,\n",
              "  0.06766894459724426,\n",
              "  0.06762584298849106,\n",
              "  0.06758712232112885,\n",
              "  0.067552350461483,\n",
              "  0.06752107292413712,\n",
              "  0.0674930065870285,\n",
              "  0.06746785342693329,\n",
              "  0.06744518876075745,\n",
              "  0.06742487102746964,\n",
              "  0.06740661710500717,\n",
              "  0.06739024817943573,\n",
              "  0.06737551838159561,\n",
              "  0.06736224889755249,\n",
              "  0.06735040247440338,\n",
              "  0.06733977049589157,\n",
              "  0.06733021140098572,\n",
              "  0.06732158362865448,\n",
              "  0.06731383502483368,\n",
              "  0.06730693578720093,\n",
              "  0.06730067729949951,\n",
              "  0.06729511171579361,\n",
              "  0.06729009747505188,\n",
              "  0.06728556752204895,\n",
              "  0.06728152185678482,\n",
              "  0.06727786362171173,\n",
              "  0.06727463006973267,\n",
              "  0.0672716498374939,\n",
              "  0.06726900488138199,\n",
              "  0.06726661324501038,\n",
              "  0.06726446002721786,\n",
              "  0.06726253777742386,\n",
              "  0.06726086139678955,\n",
              "  0.06725925952196121,\n",
              "  0.06725788861513138,\n",
              "  0.0672566294670105,\n",
              "  0.06725548207759857,\n",
              "  0.06725446879863739,\n",
              "  0.06725360453128815,\n",
              "  0.06725270301103592,\n",
              "  0.06725195795297623,\n",
              "  0.06725132465362549,\n",
              "  0.06725072115659714,\n",
              "  0.06725014746189117,\n",
              "  0.06724972277879715,\n",
              "  0.06724923104047775,\n",
              "  0.06724878400564194,\n",
              "  0.06724845618009567,\n",
              "  0.06724809855222702],\n",
              " 'val_loss': [0.17452313005924225,\n",
              "  0.16334377229213715,\n",
              "  0.15337476134300232,\n",
              "  0.14449991285800934,\n",
              "  0.13659147918224335,\n",
              "  0.12953457236289978,\n",
              "  0.12322954088449478,\n",
              "  0.11758950352668762,\n",
              "  0.11253934353590012,\n",
              "  0.10801278054714203,\n",
              "  0.10395222157239914,\n",
              "  0.10030732303857803,\n",
              "  0.09703360497951508,\n",
              "  0.09409171342849731,\n",
              "  0.09144678711891174,\n",
              "  0.089068204164505,\n",
              "  0.08692830055952072,\n",
              "  0.08500250428915024,\n",
              "  0.08326905220746994,\n",
              "  0.08170843124389648,\n",
              "  0.08030317723751068,\n",
              "  0.07903771102428436,\n",
              "  0.07789787650108337,\n",
              "  0.0768711268901825,\n",
              "  0.07594624906778336,\n",
              "  0.07511301338672638,\n",
              "  0.07436228543519974,\n",
              "  0.0736859068274498,\n",
              "  0.07307645678520203,\n",
              "  0.07252730429172516,\n",
              "  0.07203245162963867,\n",
              "  0.0715864896774292,\n",
              "  0.07118456065654755,\n",
              "  0.0708223506808281,\n",
              "  0.07049588114023209,\n",
              "  0.07020165771245956,\n",
              "  0.06993641704320908,\n",
              "  0.0696972981095314,\n",
              "  0.069481760263443,\n",
              "  0.06928743422031403,\n",
              "  0.06911222636699677,\n",
              "  0.06895424425601959,\n",
              "  0.06881173700094223,\n",
              "  0.0686832070350647,\n",
              "  0.06856724619865417,\n",
              "  0.06846266239881516,\n",
              "  0.06836829334497452,\n",
              "  0.06828311830759048,\n",
              "  0.06820621341466904,\n",
              "  0.0681367963552475,\n",
              "  0.06807412207126617,\n",
              "  0.06801749020814896,\n",
              "  0.06796637177467346,\n",
              "  0.06792017817497253,\n",
              "  0.06787838041782379,\n",
              "  0.06784065812826157,\n",
              "  0.06780648976564407,\n",
              "  0.06777557730674744,\n",
              "  0.06774762272834778,\n",
              "  0.06772232055664062,\n",
              "  0.0676993876695633,\n",
              "  0.06767862290143967,\n",
              "  0.06765982508659363,\n",
              "  0.06764276325702667,\n",
              "  0.06762729585170746,\n",
              "  0.06761324405670166,\n",
              "  0.06760051846504211,\n",
              "  0.06758896261453629,\n",
              "  0.06757846474647522,\n",
              "  0.06756890565156937,\n",
              "  0.06756019592285156,\n",
              "  0.06755229830741882,\n",
              "  0.067545086145401,\n",
              "  0.06753851473331451,\n",
              "  0.06753251701593399,\n",
              "  0.06752707809209824,\n",
              "  0.0675220862030983,\n",
              "  0.06751751899719238,\n",
              "  0.0675133764743805,\n",
              "  0.06750956177711487,\n",
              "  0.0675060898065567,\n",
              "  0.06750287115573883,\n",
              "  0.06749998033046722,\n",
              "  0.06749727576971054,\n",
              "  0.06749483197927475,\n",
              "  0.06749258935451508,\n",
              "  0.06749048084020615,\n",
              "  0.06748855859041214,\n",
              "  0.06748681515455246,\n",
              "  0.06748518347740173,\n",
              "  0.06748371571302414,\n",
              "  0.06748229265213013,\n",
              "  0.06748103350400925,\n",
              "  0.06747985631227493,\n",
              "  0.06747876107692719,\n",
              "  0.0674777626991272,\n",
              "  0.06747684627771378,\n",
              "  0.06747595220804214,\n",
              "  0.06747516244649887,\n",
              "  0.06747440993785858]}"
            ]
          },
          "metadata": {},
          "execution_count": 26
        }
      ]
    },
    {
      "cell_type": "code",
      "metadata": {
        "id": "z4YcVft8fS24"
      },
      "source": [
        "out_loss = ffnn_digit.history['loss']\n",
        "out_val_loss = ffnn_digit.history['val_loss']"
      ],
      "execution_count": 27,
      "outputs": []
    },
    {
      "cell_type": "code",
      "metadata": {
        "colab": {
          "base_uri": "https://localhost:8080/"
        },
        "id": "ObDVC5DLf-Fp",
        "outputId": "b7a13738-92aa-41de-e2fb-2f5376d398b1"
      },
      "source": [
        "len(out_loss), len(out_val_loss)"
      ],
      "execution_count": 28,
      "outputs": [
        {
          "output_type": "execute_result",
          "data": {
            "text/plain": [
              "(100, 100)"
            ]
          },
          "metadata": {},
          "execution_count": 28
        }
      ]
    },
    {
      "cell_type": "code",
      "metadata": {
        "id": "GxQ-tvwpgKi9"
      },
      "source": [
        "epoch_num = np.linspace(1, len(out_loss), len(out_loss), endpoint=True)"
      ],
      "execution_count": 29,
      "outputs": []
    },
    {
      "cell_type": "code",
      "metadata": {
        "colab": {
          "base_uri": "https://localhost:8080/"
        },
        "id": "B4Ju7jlcgl1o",
        "outputId": "f4606b14-26ea-4173-db33-f7b5e9856eb5"
      },
      "source": [
        "# Make sure epoch number is defined correctly\n",
        "epoch_num"
      ],
      "execution_count": 30,
      "outputs": [
        {
          "output_type": "execute_result",
          "data": {
            "text/plain": [
              "array([  1.,   2.,   3.,   4.,   5.,   6.,   7.,   8.,   9.,  10.,  11.,\n",
              "        12.,  13.,  14.,  15.,  16.,  17.,  18.,  19.,  20.,  21.,  22.,\n",
              "        23.,  24.,  25.,  26.,  27.,  28.,  29.,  30.,  31.,  32.,  33.,\n",
              "        34.,  35.,  36.,  37.,  38.,  39.,  40.,  41.,  42.,  43.,  44.,\n",
              "        45.,  46.,  47.,  48.,  49.,  50.,  51.,  52.,  53.,  54.,  55.,\n",
              "        56.,  57.,  58.,  59.,  60.,  61.,  62.,  63.,  64.,  65.,  66.,\n",
              "        67.,  68.,  69.,  70.,  71.,  72.,  73.,  74.,  75.,  76.,  77.,\n",
              "        78.,  79.,  80.,  81.,  82.,  83.,  84.,  85.,  86.,  87.,  88.,\n",
              "        89.,  90.,  91.,  92.,  93.,  94.,  95.,  96.,  97.,  98.,  99.,\n",
              "       100.])"
            ]
          },
          "metadata": {},
          "execution_count": 30
        }
      ]
    },
    {
      "cell_type": "code",
      "metadata": {
        "id": "lgmyW9gHgsAH"
      },
      "source": [
        "out_loss = np.array(out_loss)\n",
        "out_val_loss = np.array(out_val_loss)"
      ],
      "execution_count": 31,
      "outputs": []
    },
    {
      "cell_type": "code",
      "metadata": {
        "colab": {
          "base_uri": "https://localhost:8080/"
        },
        "id": "amvBzKRugzHg",
        "outputId": "b9f07334-61c3-46f1-e018-01cdde9532c9"
      },
      "source": [
        "out_loss, out_val_loss"
      ],
      "execution_count": 32,
      "outputs": [
        {
          "output_type": "execute_result",
          "data": {
            "text/plain": [
              "(array([0.17869234, 0.1670261 , 0.15654163, 0.14720879, 0.13890114,\n",
              "        0.13149723, 0.12488987, 0.11898647, 0.11370639, 0.10897906,\n",
              "        0.10474307, 0.10094473, 0.09753657, 0.0944772 , 0.0917296 ,\n",
              "        0.08926113, 0.08704288, 0.08504873, 0.08325586, 0.08164357,\n",
              "        0.08019351, 0.07888936, 0.07771634, 0.07666095, 0.07571178,\n",
              "        0.07485783, 0.0740897 , 0.07339875, 0.07277726, 0.07221821,\n",
              "        0.07171546, 0.07126329, 0.07085669, 0.07049094, 0.0701622 ,\n",
              "        0.06986649, 0.06960072, 0.06936177, 0.06914698, 0.0689539 ,\n",
              "        0.06878036, 0.0686244 , 0.0684843 , 0.06835829, 0.06824514,\n",
              "        0.06814341, 0.06805202, 0.06796998, 0.06789619, 0.06782994,\n",
              "        0.0677704 , 0.06771698, 0.06766894, 0.06762584, 0.06758712,\n",
              "        0.06755235, 0.06752107, 0.06749301, 0.06746785, 0.06744519,\n",
              "        0.06742487, 0.06740662, 0.06739025, 0.06737552, 0.06736225,\n",
              "        0.0673504 , 0.06733977, 0.06733021, 0.06732158, 0.06731384,\n",
              "        0.06730694, 0.06730068, 0.06729511, 0.0672901 , 0.06728557,\n",
              "        0.06728152, 0.06727786, 0.06727463, 0.06727165, 0.067269  ,\n",
              "        0.06726661, 0.06726446, 0.06726254, 0.06726086, 0.06725926,\n",
              "        0.06725789, 0.06725663, 0.06725548, 0.06725447, 0.0672536 ,\n",
              "        0.0672527 , 0.06725196, 0.06725132, 0.06725072, 0.06725015,\n",
              "        0.06724972, 0.06724923, 0.06724878, 0.06724846, 0.0672481 ]),\n",
              " array([0.17452313, 0.16334377, 0.15337476, 0.14449991, 0.13659148,\n",
              "        0.12953457, 0.12322954, 0.1175895 , 0.11253934, 0.10801278,\n",
              "        0.10395222, 0.10030732, 0.0970336 , 0.09409171, 0.09144679,\n",
              "        0.0890682 , 0.0869283 , 0.0850025 , 0.08326905, 0.08170843,\n",
              "        0.08030318, 0.07903771, 0.07789788, 0.07687113, 0.07594625,\n",
              "        0.07511301, 0.07436229, 0.07368591, 0.07307646, 0.0725273 ,\n",
              "        0.07203245, 0.07158649, 0.07118456, 0.07082235, 0.07049588,\n",
              "        0.07020166, 0.06993642, 0.0696973 , 0.06948176, 0.06928743,\n",
              "        0.06911223, 0.06895424, 0.06881174, 0.06868321, 0.06856725,\n",
              "        0.06846266, 0.06836829, 0.06828312, 0.06820621, 0.0681368 ,\n",
              "        0.06807412, 0.06801749, 0.06796637, 0.06792018, 0.06787838,\n",
              "        0.06784066, 0.06780649, 0.06777558, 0.06774762, 0.06772232,\n",
              "        0.06769939, 0.06767862, 0.06765983, 0.06764276, 0.0676273 ,\n",
              "        0.06761324, 0.06760052, 0.06758896, 0.06757846, 0.06756891,\n",
              "        0.0675602 , 0.0675523 , 0.06754509, 0.06753851, 0.06753252,\n",
              "        0.06752708, 0.06752209, 0.06751752, 0.06751338, 0.06750956,\n",
              "        0.06750609, 0.06750287, 0.06749998, 0.06749728, 0.06749483,\n",
              "        0.06749259, 0.06749048, 0.06748856, 0.06748682, 0.06748518,\n",
              "        0.06748372, 0.06748229, 0.06748103, 0.06747986, 0.06747876,\n",
              "        0.06747776, 0.06747685, 0.06747595, 0.06747516, 0.06747441]))"
            ]
          },
          "metadata": {},
          "execution_count": 32
        }
      ]
    },
    {
      "cell_type": "code",
      "metadata": {
        "colab": {
          "base_uri": "https://localhost:8080/",
          "height": 614
        },
        "id": "Y_oHqo5bhAFm",
        "outputId": "763763ef-4543-45d9-b983-ae4a2747042c"
      },
      "source": [
        "plt.figure(figsize=(10, 10))\n",
        "\n",
        "plt.plot(epoch_num, out_loss, color='red', linestyle='solid',\n",
        "         label='train loss')\n",
        "plt.plot(epoch_num, out_val_loss, color='blue', linestyle='solid',\n",
        "         label='val loss')\n",
        "\n",
        "plt.xlabel('epoch', fontsize=18)\n",
        "plt.ylabel('loss', fontsize=18)\n",
        "plt.legend(loc='best', fontsize=18)\n",
        "plt.show()"
      ],
      "execution_count": 39,
      "outputs": [
        {
          "output_type": "display_data",
          "data": {
            "image/png": "[encoded data removed]",
            "text/plain": [
              "<Figure size 720x720 with 1 Axes>"
            ]
          },
          "metadata": {
            "needs_background": "light"
          }
        }
      ]
    },
    {
      "cell_type": "markdown",
      "metadata": {
        "id": "F9raKaeSyIwN"
      },
      "source": [
        "# Figure 2:\n",
        "### Plot of loss functions for training and data sets. The neural net has accomplished most of its learning by epoch 50."
      ]
    },
    {
      "cell_type": "markdown",
      "metadata": {
        "id": "1211f197xUKY"
      },
      "source": [
        "# Difficult to resolve difference, let's zoom in"
      ]
    },
    {
      "cell_type": "code",
      "metadata": {
        "colab": {
          "base_uri": "https://localhost:8080/",
          "height": 618
        },
        "id": "nh6qza1Kxbxs",
        "outputId": "06f776c1-b8fe-4b31-c6c6-13cc7df8daae"
      },
      "source": [
        "plt.figure(figsize=(10, 10))\n",
        "\n",
        "plt.plot(epoch_num, out_loss, color='red', linestyle='solid',\n",
        "         label='train loss')\n",
        "plt.plot(epoch_num, out_val_loss, color='blue', linestyle='solid',\n",
        "         label='val loss')\n",
        "\n",
        "plt.xlabel('epoch', fontsize=18)\n",
        "plt.ylabel('loss', fontsize=18)\n",
        "plt.legend(loc='best', fontsize=18)\n",
        "plt.xlim(20,80)\n",
        "plt.ylim(0.065,0.08)\n",
        "plt.show()"
      ],
      "execution_count": 50,
      "outputs": [
        {
          "output_type": "display_data",
          "data": {
            "image/png": "[encoded data removed]",
            "text/plain": [
              "<Figure size 720x720 with 1 Axes>"
            ]
          },
          "metadata": {
            "needs_background": "light"
          }
        }
      ]
    },
    {
      "cell_type": "markdown",
      "metadata": {
        "id": "8pBNidsxzA3c"
      },
      "source": [
        "# Figure 3:\n",
        "### A zoomed in plot of figure 2. The traning loss and value loss do not crossover. To avoid overfitting, we can safely cut the neural net off at 50 epochs since the loss does not change by more than a few percent beyond this point."
      ]
    },
    {
      "cell_type": "markdown",
      "metadata": {
        "id": "KZuMBg-hiOYP"
      },
      "source": [
        "### Also we need to find someway to compare the input digit image with what our FFNN predicts.\n"
      ]
    },
    {
      "cell_type": "code",
      "metadata": {
        "id": "lMMgsOf8iKee"
      },
      "source": [
        ""
      ],
      "execution_count": 33,
      "outputs": []
    }
  ]
}