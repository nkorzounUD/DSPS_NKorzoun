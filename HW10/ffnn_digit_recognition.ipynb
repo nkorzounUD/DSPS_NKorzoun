{
  "nbformat": 4,
  "nbformat_minor": 0,
  "metadata": {
    "colab": {
      "name": "ffnn_digit_recognition.ipynb",
      "provenance": [],
      "collapsed_sections": [],
      "include_colab_link": true
    },
    "kernelspec": {
      "name": "python3",
      "display_name": "Python 3"
    },
    "language_info": {
      "name": "python"
    },
    "accelerator": "GPU"
  },
  "cells": [
    {
      "cell_type": "markdown",
      "metadata": {
        "id": "view-in-github",
        "colab_type": "text"
      },
      "source": [
        "<a href=\"https://colab.research.google.com/github/nkorzounUD/DSPS_NKorzoun/blob/main/HW10/ffnn_digit_recognition.ipynb\" target=\"_parent\"><img src=\"https://colab.research.google.com/assets/colab-badge.svg\" alt=\"Open In Colab\"/></a>"
      ]
    },
    {
      "cell_type": "markdown",
      "metadata": {
        "id": "H4otaGu2TDvP"
      },
      "source": [
        "# Must change runtime to GPU!!!!!\n",
        "\n",
        "### Do this by...\n",
        "Runtime -> Change runtime type -> GPU"
      ]
    },
    {
      "cell_type": "markdown",
      "metadata": {
        "id": "nOJavHFKTV5d"
      },
      "source": [
        "### Must do this before doing anything or else you will have to rerun everything."
      ]
    },
    {
      "cell_type": "code",
      "metadata": {
        "id": "qHwKMLDBXQUj"
      },
      "source": [
        "import keras\n",
        "from keras.datasets import mnist\n",
        "from keras.models import Sequential\n",
        "from keras.layers import Dense\n",
        "\n",
        "from keras import optimizers\n",
        "\n",
        "import pylab as pl\n",
        "import numpy as np\n",
        "import matplotlib.pyplot as plt\n",
        "\n"
      ],
      "execution_count": 1,
      "outputs": []
    },
    {
      "cell_type": "code",
      "metadata": {
        "colab": {
          "base_uri": "https://localhost:8080/"
        },
        "id": "_b41_84aTdmg",
        "outputId": "c323f7c4-9779-4efa-e0ae-4b6c79c77066"
      },
      "source": [
        "mnist.load_data()"
      ],
      "execution_count": 2,
      "outputs": [
        {
          "output_type": "stream",
          "name": "stdout",
          "text": [
            "Downloading data from https://storage.googleapis.com/tensorflow/tf-keras-datasets/mnist.npz\n",
            "11493376/11490434 [==============================] - 0s 0us/step\n",
            "11501568/11490434 [==============================] - 0s 0us/step\n"
          ]
        },
        {
          "output_type": "execute_result",
          "data": {
            "text/plain": [
              "((array([[[0, 0, 0, ..., 0, 0, 0],\n",
              "          [0, 0, 0, ..., 0, 0, 0],\n",
              "          [0, 0, 0, ..., 0, 0, 0],\n",
              "          ...,\n",
              "          [0, 0, 0, ..., 0, 0, 0],\n",
              "          [0, 0, 0, ..., 0, 0, 0],\n",
              "          [0, 0, 0, ..., 0, 0, 0]],\n",
              "  \n",
              "         [[0, 0, 0, ..., 0, 0, 0],\n",
              "          [0, 0, 0, ..., 0, 0, 0],\n",
              "          [0, 0, 0, ..., 0, 0, 0],\n",
              "          ...,\n",
              "          [0, 0, 0, ..., 0, 0, 0],\n",
              "          [0, 0, 0, ..., 0, 0, 0],\n",
              "          [0, 0, 0, ..., 0, 0, 0]],\n",
              "  \n",
              "         [[0, 0, 0, ..., 0, 0, 0],\n",
              "          [0, 0, 0, ..., 0, 0, 0],\n",
              "          [0, 0, 0, ..., 0, 0, 0],\n",
              "          ...,\n",
              "          [0, 0, 0, ..., 0, 0, 0],\n",
              "          [0, 0, 0, ..., 0, 0, 0],\n",
              "          [0, 0, 0, ..., 0, 0, 0]],\n",
              "  \n",
              "         ...,\n",
              "  \n",
              "         [[0, 0, 0, ..., 0, 0, 0],\n",
              "          [0, 0, 0, ..., 0, 0, 0],\n",
              "          [0, 0, 0, ..., 0, 0, 0],\n",
              "          ...,\n",
              "          [0, 0, 0, ..., 0, 0, 0],\n",
              "          [0, 0, 0, ..., 0, 0, 0],\n",
              "          [0, 0, 0, ..., 0, 0, 0]],\n",
              "  \n",
              "         [[0, 0, 0, ..., 0, 0, 0],\n",
              "          [0, 0, 0, ..., 0, 0, 0],\n",
              "          [0, 0, 0, ..., 0, 0, 0],\n",
              "          ...,\n",
              "          [0, 0, 0, ..., 0, 0, 0],\n",
              "          [0, 0, 0, ..., 0, 0, 0],\n",
              "          [0, 0, 0, ..., 0, 0, 0]],\n",
              "  \n",
              "         [[0, 0, 0, ..., 0, 0, 0],\n",
              "          [0, 0, 0, ..., 0, 0, 0],\n",
              "          [0, 0, 0, ..., 0, 0, 0],\n",
              "          ...,\n",
              "          [0, 0, 0, ..., 0, 0, 0],\n",
              "          [0, 0, 0, ..., 0, 0, 0],\n",
              "          [0, 0, 0, ..., 0, 0, 0]]], dtype=uint8),\n",
              "  array([5, 0, 4, ..., 5, 6, 8], dtype=uint8)),\n",
              " (array([[[0, 0, 0, ..., 0, 0, 0],\n",
              "          [0, 0, 0, ..., 0, 0, 0],\n",
              "          [0, 0, 0, ..., 0, 0, 0],\n",
              "          ...,\n",
              "          [0, 0, 0, ..., 0, 0, 0],\n",
              "          [0, 0, 0, ..., 0, 0, 0],\n",
              "          [0, 0, 0, ..., 0, 0, 0]],\n",
              "  \n",
              "         [[0, 0, 0, ..., 0, 0, 0],\n",
              "          [0, 0, 0, ..., 0, 0, 0],\n",
              "          [0, 0, 0, ..., 0, 0, 0],\n",
              "          ...,\n",
              "          [0, 0, 0, ..., 0, 0, 0],\n",
              "          [0, 0, 0, ..., 0, 0, 0],\n",
              "          [0, 0, 0, ..., 0, 0, 0]],\n",
              "  \n",
              "         [[0, 0, 0, ..., 0, 0, 0],\n",
              "          [0, 0, 0, ..., 0, 0, 0],\n",
              "          [0, 0, 0, ..., 0, 0, 0],\n",
              "          ...,\n",
              "          [0, 0, 0, ..., 0, 0, 0],\n",
              "          [0, 0, 0, ..., 0, 0, 0],\n",
              "          [0, 0, 0, ..., 0, 0, 0]],\n",
              "  \n",
              "         ...,\n",
              "  \n",
              "         [[0, 0, 0, ..., 0, 0, 0],\n",
              "          [0, 0, 0, ..., 0, 0, 0],\n",
              "          [0, 0, 0, ..., 0, 0, 0],\n",
              "          ...,\n",
              "          [0, 0, 0, ..., 0, 0, 0],\n",
              "          [0, 0, 0, ..., 0, 0, 0],\n",
              "          [0, 0, 0, ..., 0, 0, 0]],\n",
              "  \n",
              "         [[0, 0, 0, ..., 0, 0, 0],\n",
              "          [0, 0, 0, ..., 0, 0, 0],\n",
              "          [0, 0, 0, ..., 0, 0, 0],\n",
              "          ...,\n",
              "          [0, 0, 0, ..., 0, 0, 0],\n",
              "          [0, 0, 0, ..., 0, 0, 0],\n",
              "          [0, 0, 0, ..., 0, 0, 0]],\n",
              "  \n",
              "         [[0, 0, 0, ..., 0, 0, 0],\n",
              "          [0, 0, 0, ..., 0, 0, 0],\n",
              "          [0, 0, 0, ..., 0, 0, 0],\n",
              "          ...,\n",
              "          [0, 0, 0, ..., 0, 0, 0],\n",
              "          [0, 0, 0, ..., 0, 0, 0],\n",
              "          [0, 0, 0, ..., 0, 0, 0]]], dtype=uint8),\n",
              "  array([7, 2, 1, ..., 4, 5, 6], dtype=uint8)))"
            ]
          },
          "metadata": {},
          "execution_count": 2
        }
      ]
    },
    {
      "cell_type": "code",
      "metadata": {
        "colab": {
          "base_uri": "https://localhost:8080/"
        },
        "id": "Blrm8rQhXjVF",
        "outputId": "4cc3876e-db67-4471-eaf4-079a8f1f0268"
      },
      "source": [
        "len(mnist.load_data())"
      ],
      "execution_count": 3,
      "outputs": [
        {
          "output_type": "execute_result",
          "data": {
            "text/plain": [
              "2"
            ]
          },
          "metadata": {},
          "execution_count": 3
        }
      ]
    },
    {
      "cell_type": "code",
      "metadata": {
        "id": "VlkvixGjX7bT"
      },
      "source": [
        "(x_train, _), (x_test, _) = mnist.load_data()"
      ],
      "execution_count": 4,
      "outputs": []
    },
    {
      "cell_type": "code",
      "metadata": {
        "colab": {
          "base_uri": "https://localhost:8080/"
        },
        "id": "NLGPQnTeYShY",
        "outputId": "d2e3c7c8-b956-4182-d4ae-b62d8828aa45"
      },
      "source": [
        "# First value is how many training images we have\n",
        "x_train.shape"
      ],
      "execution_count": 5,
      "outputs": [
        {
          "output_type": "execute_result",
          "data": {
            "text/plain": [
              "(60000, 28, 28)"
            ]
          },
          "metadata": {},
          "execution_count": 5
        }
      ]
    },
    {
      "cell_type": "code",
      "metadata": {
        "colab": {
          "base_uri": "https://localhost:8080/"
        },
        "id": "Dyw66TWdUz0p",
        "outputId": "28b369af-ceff-4dda-ae0f-61d1cbd4434c"
      },
      "source": [
        "# First value is how many testing images we have\n",
        "x_test.shape"
      ],
      "execution_count": 6,
      "outputs": [
        {
          "output_type": "execute_result",
          "data": {
            "text/plain": [
              "(10000, 28, 28)"
            ]
          },
          "metadata": {},
          "execution_count": 6
        }
      ]
    },
    {
      "cell_type": "code",
      "metadata": {
        "id": "sx_pNfT2YUH3"
      },
      "source": [
        "nimg, img_row, img_col = x_train.shape"
      ],
      "execution_count": 7,
      "outputs": []
    },
    {
      "cell_type": "code",
      "metadata": {
        "colab": {
          "base_uri": "https://localhost:8080/",
          "height": 265
        },
        "id": "outVN6NNYe8x",
        "outputId": "590a43b0-b372-4f90-8c01-cc9515e6d41a"
      },
      "source": [
        "pl.imshow(x_train[0]);"
      ],
      "execution_count": 8,
      "outputs": [
        {
          "output_type": "display_data",
          "data": {
            "image/png": "[encoded data removed]",
            "text/plain": [
              "<Figure size 432x288 with 1 Axes>"
            ]
          },
          "metadata": {
            "needs_background": "light"
          }
        }
      ]
    },
    {
      "cell_type": "markdown",
      "metadata": {
        "id": "CcIT9-xDTrz-"
      },
      "source": [
        "This is the first of 60000 training images which we will use in our model to predict a digit."
      ]
    },
    {
      "cell_type": "code",
      "metadata": {
        "colab": {
          "base_uri": "https://localhost:8080/"
        },
        "id": "GpRUVQS1YhS-",
        "outputId": "fb3d1f46-d0fe-40cb-b5c5-7982842fa21f"
      },
      "source": [
        "x_train.max()"
      ],
      "execution_count": 9,
      "outputs": [
        {
          "output_type": "execute_result",
          "data": {
            "text/plain": [
              "255"
            ]
          },
          "metadata": {},
          "execution_count": 9
        }
      ]
    },
    {
      "cell_type": "code",
      "metadata": {
        "colab": {
          "base_uri": "https://localhost:8080/"
        },
        "id": "TSKepOi2ZF9f",
        "outputId": "50f9a7e3-2e5a-4a72-d999-5fe3c784a986"
      },
      "source": [
        "x_train.dtype"
      ],
      "execution_count": 10,
      "outputs": [
        {
          "output_type": "execute_result",
          "data": {
            "text/plain": [
              "dtype('uint8')"
            ]
          },
          "metadata": {},
          "execution_count": 10
        }
      ]
    },
    {
      "cell_type": "code",
      "metadata": {
        "id": "GN255XcEZHrz"
      },
      "source": [
        "# Normalize so that image values are now from 0 to 1 instead of 0 to 255\n",
        "\n",
        "# Same normalization for the training and test set\n",
        "x_train = (x_train.astype(float) / 255)\n",
        "\n",
        "# Normalize and reshape x_test also\n",
        "x_test = (x_test.astype(float) / 255)"
      ],
      "execution_count": 11,
      "outputs": []
    },
    {
      "cell_type": "code",
      "metadata": {
        "colab": {
          "base_uri": "https://localhost:8080/"
        },
        "id": "QBacXVUZVQGW",
        "outputId": "d8cf3021-208a-498c-bcb4-ea7391e576d6"
      },
      "source": [
        "# Make sure normalization worked for training set\n",
        "x_train.min(), x_train.max()"
      ],
      "execution_count": 12,
      "outputs": [
        {
          "output_type": "execute_result",
          "data": {
            "text/plain": [
              "(0.0, 1.0)"
            ]
          },
          "metadata": {},
          "execution_count": 12
        }
      ]
    },
    {
      "cell_type": "code",
      "metadata": {
        "colab": {
          "base_uri": "https://localhost:8080/"
        },
        "id": "W4ZBGHs0VTyN",
        "outputId": "139b4716-0d40-49fd-a1d3-bc7f07d7fded"
      },
      "source": [
        "# Make sure normalization is the same for the testing set\n",
        "x_test.min(), x_test.max()"
      ],
      "execution_count": 13,
      "outputs": [
        {
          "output_type": "execute_result",
          "data": {
            "text/plain": [
              "(0.0, 1.0)"
            ]
          },
          "metadata": {},
          "execution_count": 13
        }
      ]
    },
    {
      "cell_type": "code",
      "metadata": {
        "colab": {
          "base_uri": "https://localhost:8080/"
        },
        "id": "8HvuO3qTZb5p",
        "outputId": "06dd1507-f9f3-4a33-930f-fd0221bf2ba4"
      },
      "source": [
        "x_train.reshape(nimg, img_row*img_col).shape"
      ],
      "execution_count": 14,
      "outputs": [
        {
          "output_type": "execute_result",
          "data": {
            "text/plain": [
              "(60000, 784)"
            ]
          },
          "metadata": {},
          "execution_count": 14
        }
      ]
    },
    {
      "cell_type": "code",
      "metadata": {
        "id": "RXt9PSoGecbX",
        "colab": {
          "base_uri": "https://localhost:8080/"
        },
        "outputId": "2a785153-a622-4e2a-b9c2-f1a19f277b4d"
      },
      "source": [
        "# Reshape training set so that it is one-dimensional for a single image\n",
        "# (can now be input into our model)\n",
        "\n",
        "x_train = x_train.reshape(nimg, img_row*img_col)\n",
        "x_train.shape"
      ],
      "execution_count": 15,
      "outputs": [
        {
          "output_type": "execute_result",
          "data": {
            "text/plain": [
              "(60000, 784)"
            ]
          },
          "metadata": {},
          "execution_count": 15
        }
      ]
    },
    {
      "cell_type": "code",
      "metadata": {
        "colab": {
          "base_uri": "https://localhost:8080/"
        },
        "id": "QDC_YlbGUuYn",
        "outputId": "8cdc109a-0ce2-445d-d8b2-5d0f5f081cc4"
      },
      "source": [
        "x_test.shape"
      ],
      "execution_count": 16,
      "outputs": [
        {
          "output_type": "execute_result",
          "data": {
            "text/plain": [
              "(10000, 28, 28)"
            ]
          },
          "metadata": {},
          "execution_count": 16
        }
      ]
    },
    {
      "cell_type": "code",
      "metadata": {
        "id": "NxxChGG_efvt"
      },
      "source": [
        "# Also reshape testing set so it is one-dimensional for a single image\n",
        "x_test = x_test.reshape(x_test.shape[0], img_row*img_col)"
      ],
      "execution_count": 17,
      "outputs": []
    },
    {
      "cell_type": "code",
      "metadata": {
        "id": "TEh7feqZZk0H"
      },
      "source": [
        "# The y_train data must be a copy of our x_train data\n",
        "# This is because our model is an encoder\n",
        "# (encoder = transform data to a lower dimensional representation)\n",
        "y_train = x_train.copy()"
      ],
      "execution_count": 18,
      "outputs": []
    },
    {
      "cell_type": "code",
      "metadata": {
        "id": "hpz9XSZcbn56"
      },
      "source": [
        "# Creates model\n",
        "model_digits = Sequential()"
      ],
      "execution_count": 19,
      "outputs": []
    },
    {
      "cell_type": "code",
      "metadata": {
        "id": "K1YdQHdmcTU_"
      },
      "source": [
        "# Add model layers\n",
        "# Here we encode 28^2 = 784 dimensions down to 64 dimensions then de-encode\n",
        "\n",
        "# Encoding...\n",
        "#model_digits.add(Dense(256, activation=\"relu\", input_dim=img_row*img_col))\n",
        "model_digits.add(Dense(128, activation=\"relu\", input_dim=img_row*img_col))\n",
        "model_digits.add(Dense(64, activation=\"relu\"))\n",
        "\n",
        "# De-encoding... (last activation must be linear)\n",
        "model_digits.add(Dense(128, activation=\"relu\"))\n",
        "#model_digits.add(Dense(img_row*img_col, activation=\"linear\"))\n",
        "# Do activation=\"sigmoid\" for better results\n",
        "model_digits.add(Dense(img_row*img_col, activation=\"sigmoid\"))"
      ],
      "execution_count": 20,
      "outputs": []
    },
    {
      "cell_type": "code",
      "metadata": {
        "id": "ZPhicGZRdSxg"
      },
      "source": [
        "# Choose optimizer and loss function\n",
        "# Can change these to try getting better results for our FFNN\n",
        "# From slides, best combo looks like opt=adadelta and loss=binary_crossentropy\n",
        "# where activation function must be \"sigmoid\" instead of \"relu\"\n",
        "\n",
        "model_digits.compile(optimizer=\"adadelta\", loss=\"mean_squared_error\")"
      ],
      "execution_count": 21,
      "outputs": []
    },
    {
      "cell_type": "code",
      "metadata": {
        "colab": {
          "base_uri": "https://localhost:8080/"
        },
        "id": "t6qFENUMdmb4",
        "outputId": "601e0d35-22fd-4b93-bf18-37611ccca686"
      },
      "source": [
        "model_digits.summary()"
      ],
      "execution_count": 22,
      "outputs": [
        {
          "output_type": "stream",
          "name": "stdout",
          "text": [
            "Model: \"sequential\"\n",
            "_________________________________________________________________\n",
            " Layer (type)                Output Shape              Param #   \n",
            "=================================================================\n",
            " dense (Dense)               (None, 128)               100480    \n",
            "                                                                 \n",
            " dense_1 (Dense)             (None, 64)                8256      \n",
            "                                                                 \n",
            " dense_2 (Dense)             (None, 128)               8320      \n",
            "                                                                 \n",
            " dense_3 (Dense)             (None, 784)               101136    \n",
            "                                                                 \n",
            "=================================================================\n",
            "Total params: 218,192\n",
            "Trainable params: 218,192\n",
            "Non-trainable params: 0\n",
            "_________________________________________________________________\n"
          ]
        }
      ]
    },
    {
      "cell_type": "code",
      "metadata": {
        "colab": {
          "base_uri": "https://localhost:8080/"
        },
        "id": "fYCzpCkadqg0",
        "outputId": "bb85b017-6b46-4159-fb0f-982c7cb6a4ba"
      },
      "source": [
        "# Architecture is x_train x_train instead of x_train y_train bc it's an encoder\n",
        "ffnn_digit=model_digits.fit(x_train, x_train, validation_data=(x_test, x_test),\n",
        "                            epochs=20, batch_size=100, verbose=1)"
      ],
      "execution_count": 23,
      "outputs": [
        {
          "output_type": "stream",
          "name": "stdout",
          "text": [
            "Epoch 1/20\n",
            "600/600 [==============================] - 4s 4ms/step - loss: 0.2321 - val_loss: 0.2321\n",
            "Epoch 2/20\n",
            "600/600 [==============================] - 2s 4ms/step - loss: 0.2320 - val_loss: 0.2320\n",
            "Epoch 3/20\n",
            "600/600 [==============================] - 2s 4ms/step - loss: 0.2318 - val_loss: 0.2319\n",
            "Epoch 4/20\n",
            "600/600 [==============================] - 2s 4ms/step - loss: 0.2317 - val_loss: 0.2317\n",
            "Epoch 5/20\n",
            "600/600 [==============================] - 2s 4ms/step - loss: 0.2316 - val_loss: 0.2316\n",
            "Epoch 6/20\n",
            "600/600 [==============================] - 2s 4ms/step - loss: 0.2314 - val_loss: 0.2315\n",
            "Epoch 7/20\n",
            "600/600 [==============================] - 2s 4ms/step - loss: 0.2313 - val_loss: 0.2314\n",
            "Epoch 8/20\n",
            "600/600 [==============================] - 2s 3ms/step - loss: 0.2312 - val_loss: 0.2312\n",
            "Epoch 9/20\n",
            "600/600 [==============================] - 2s 4ms/step - loss: 0.2311 - val_loss: 0.2311\n",
            "Epoch 10/20\n",
            "600/600 [==============================] - 2s 4ms/step - loss: 0.2310 - val_loss: 0.2310\n",
            "Epoch 11/20\n",
            "600/600 [==============================] - 2s 3ms/step - loss: 0.2308 - val_loss: 0.2309\n",
            "Epoch 12/20\n",
            "600/600 [==============================] - 2s 4ms/step - loss: 0.2307 - val_loss: 0.2307\n",
            "Epoch 13/20\n",
            "600/600 [==============================] - 2s 3ms/step - loss: 0.2306 - val_loss: 0.2306\n",
            "Epoch 14/20\n",
            "600/600 [==============================] - 2s 4ms/step - loss: 0.2305 - val_loss: 0.2305\n",
            "Epoch 15/20\n",
            "600/600 [==============================] - 2s 4ms/step - loss: 0.2304 - val_loss: 0.2304\n",
            "Epoch 16/20\n",
            "600/600 [==============================] - 2s 4ms/step - loss: 0.2302 - val_loss: 0.2303\n",
            "Epoch 17/20\n",
            "600/600 [==============================] - 2s 3ms/step - loss: 0.2301 - val_loss: 0.2301\n",
            "Epoch 18/20\n",
            "600/600 [==============================] - 2s 4ms/step - loss: 0.2300 - val_loss: 0.2300\n",
            "Epoch 19/20\n",
            "600/600 [==============================] - 2s 3ms/step - loss: 0.2299 - val_loss: 0.2299\n",
            "Epoch 20/20\n",
            "600/600 [==============================] - 2s 3ms/step - loss: 0.2297 - val_loss: 0.2298\n"
          ]
        }
      ]
    },
    {
      "cell_type": "code",
      "metadata": {
        "colab": {
          "base_uri": "https://localhost:8080/"
        },
        "id": "482foTozfFjN",
        "outputId": "1f8f9e30-c0f4-4aef-8347-8ecdcd299dcc"
      },
      "source": [
        "ffnn_digit.history"
      ],
      "execution_count": 24,
      "outputs": [
        {
          "output_type": "execute_result",
          "data": {
            "text/plain": [
              "{'loss': [0.23208752274513245,\n",
              "  0.23195576667785645,\n",
              "  0.23182646930217743,\n",
              "  0.2316989004611969,\n",
              "  0.23157314956188202,\n",
              "  0.23144878447055817,\n",
              "  0.23132574558258057,\n",
              "  0.23120370507240295,\n",
              "  0.23108215630054474,\n",
              "  0.23096151649951935,\n",
              "  0.23084114491939545,\n",
              "  0.2307208925485611,\n",
              "  0.2306002378463745,\n",
              "  0.23047955334186554,\n",
              "  0.23035839200019836,\n",
              "  0.23023638129234314,\n",
              "  0.23011358082294464,\n",
              "  0.229989692568779,\n",
              "  0.2298644632101059,\n",
              "  0.22973772883415222],\n",
              " 'val_loss': [0.23211349546909332,\n",
              "  0.23198242485523224,\n",
              "  0.23185355961322784,\n",
              "  0.23172666132450104,\n",
              "  0.23160137236118317,\n",
              "  0.23147743940353394,\n",
              "  0.23135463893413544,\n",
              "  0.2312326729297638,\n",
              "  0.23111122846603394,\n",
              "  0.23099033534526825,\n",
              "  0.23086969554424286,\n",
              "  0.23074902594089508,\n",
              "  0.230628103017807,\n",
              "  0.2305067628622055,\n",
              "  0.23038484156131744,\n",
              "  0.23026211559772491,\n",
              "  0.23013842105865479,\n",
              "  0.2300136536359787,\n",
              "  0.22988726198673248,\n",
              "  0.2297593206167221]}"
            ]
          },
          "metadata": {},
          "execution_count": 24
        }
      ]
    },
    {
      "cell_type": "code",
      "metadata": {
        "id": "z4YcVft8fS24"
      },
      "source": [
        "out_loss = ffnn_digit.history['loss']\n",
        "out_val_loss = ffnn_digit.history['val_loss']"
      ],
      "execution_count": 25,
      "outputs": []
    },
    {
      "cell_type": "code",
      "metadata": {
        "colab": {
          "base_uri": "https://localhost:8080/"
        },
        "id": "ObDVC5DLf-Fp",
        "outputId": "9759724d-c1ef-4501-ccff-d1ed0e0bf768"
      },
      "source": [
        "len(out_loss), len(out_val_loss)"
      ],
      "execution_count": 26,
      "outputs": [
        {
          "output_type": "execute_result",
          "data": {
            "text/plain": [
              "(20, 20)"
            ]
          },
          "metadata": {},
          "execution_count": 26
        }
      ]
    },
    {
      "cell_type": "code",
      "metadata": {
        "id": "GxQ-tvwpgKi9"
      },
      "source": [
        "epoch_num = np.linspace(1, len(out_loss), len(out_loss), endpoint=True)"
      ],
      "execution_count": 27,
      "outputs": []
    },
    {
      "cell_type": "code",
      "metadata": {
        "colab": {
          "base_uri": "https://localhost:8080/"
        },
        "id": "B4Ju7jlcgl1o",
        "outputId": "1d795e93-ae8a-4bc5-93c8-71c1f68ebc7b"
      },
      "source": [
        "# Make sure epoch number is defined correctly\n",
        "epoch_num"
      ],
      "execution_count": 28,
      "outputs": [
        {
          "output_type": "execute_result",
          "data": {
            "text/plain": [
              "array([ 1.,  2.,  3.,  4.,  5.,  6.,  7.,  8.,  9., 10., 11., 12., 13.,\n",
              "       14., 15., 16., 17., 18., 19., 20.])"
            ]
          },
          "metadata": {},
          "execution_count": 28
        }
      ]
    },
    {
      "cell_type": "code",
      "metadata": {
        "id": "lgmyW9gHgsAH"
      },
      "source": [
        "out_loss = np.array(out_loss)\n",
        "out_val_loss = np.array(out_val_loss)"
      ],
      "execution_count": 29,
      "outputs": []
    },
    {
      "cell_type": "code",
      "metadata": {
        "colab": {
          "base_uri": "https://localhost:8080/"
        },
        "id": "amvBzKRugzHg",
        "outputId": "fe8691d1-5e79-470f-9887-fae8155c6254"
      },
      "source": [
        "out_loss, out_val_loss"
      ],
      "execution_count": 30,
      "outputs": [
        {
          "output_type": "execute_result",
          "data": {
            "text/plain": [
              "(array([0.23208752, 0.23195577, 0.23182647, 0.2316989 , 0.23157315,\n",
              "        0.23144878, 0.23132575, 0.23120371, 0.23108216, 0.23096152,\n",
              "        0.23084114, 0.23072089, 0.23060024, 0.23047955, 0.23035839,\n",
              "        0.23023638, 0.23011358, 0.22998969, 0.22986446, 0.22973773]),\n",
              " array([0.2321135 , 0.23198242, 0.23185356, 0.23172666, 0.23160137,\n",
              "        0.23147744, 0.23135464, 0.23123267, 0.23111123, 0.23099034,\n",
              "        0.2308697 , 0.23074903, 0.2306281 , 0.23050676, 0.23038484,\n",
              "        0.23026212, 0.23013842, 0.23001365, 0.22988726, 0.22975932]))"
            ]
          },
          "metadata": {},
          "execution_count": 30
        }
      ]
    },
    {
      "cell_type": "code",
      "metadata": {
        "colab": {
          "base_uri": "https://localhost:8080/",
          "height": 614
        },
        "id": "Y_oHqo5bhAFm",
        "outputId": "777310d1-a65c-4127-d0c1-876e02d0847f"
      },
      "source": [
        "plt.figure(figsize=(10, 10))\n",
        "\n",
        "plt.plot(epoch_num, out_loss, color='red', linestyle='solid',\n",
        "         label='train loss')\n",
        "plt.plot(epoch_num, out_val_loss, color='blue', linestyle='solid',\n",
        "         label='val loss')\n",
        "\n",
        "plt.xlabel('epoch', fontsize=18)\n",
        "plt.ylabel('loss', fontsize=18)\n",
        "plt.legend(loc='best', fontsize=18)\n",
        "plt.show()"
      ],
      "execution_count": 31,
      "outputs": [
        {
          "output_type": "display_data",
          "data": {
            "image/png": "[encoded data removed]",
            "text/plain": [
              "<Figure size 720x720 with 1 Axes>"
            ]
          },
          "metadata": {
            "needs_background": "light"
          }
        }
      ]
    },
    {
      "cell_type": "markdown",
      "metadata": {
        "id": "_e97pOlS-5Ue"
      },
      "source": [
        "# Need to train a lot more, try epoch=100"
      ]
    },
    {
      "cell_type": "code",
      "metadata": {
        "id": "lMMgsOf8iKee",
        "colab": {
          "base_uri": "https://localhost:8080/"
        },
        "outputId": "bfe4efff-dd76-450b-e1c5-32e0636dba94"
      },
      "source": [
        "# Architecture is x_train x_train instead of x_train y_train bc it's an encoder\n",
        "ffnn_digit100=model_digits.fit(x_train, x_train, validation_data=(x_test, x_test),\n",
        "                            epochs=100, batch_size=100, verbose=1)"
      ],
      "execution_count": 32,
      "outputs": [
        {
          "output_type": "stream",
          "name": "stdout",
          "text": [
            "Epoch 1/100\n",
            "600/600 [==============================] - 2s 4ms/step - loss: 0.2296 - val_loss: 0.2296\n",
            "Epoch 2/100\n",
            "600/600 [==============================] - 2s 4ms/step - loss: 0.2295 - val_loss: 0.2295\n",
            "Epoch 3/100\n",
            "600/600 [==============================] - 2s 4ms/step - loss: 0.2293 - val_loss: 0.2294\n",
            "Epoch 4/100\n",
            "600/600 [==============================] - 2s 3ms/step - loss: 0.2292 - val_loss: 0.2292\n",
            "Epoch 5/100\n",
            "600/600 [==============================] - 2s 4ms/step - loss: 0.2291 - val_loss: 0.2291\n",
            "Epoch 6/100\n",
            "600/600 [==============================] - 2s 4ms/step - loss: 0.2289 - val_loss: 0.2289\n",
            "Epoch 7/100\n",
            "600/600 [==============================] - 2s 4ms/step - loss: 0.2288 - val_loss: 0.2288\n",
            "Epoch 8/100\n",
            "600/600 [==============================] - 2s 4ms/step - loss: 0.2286 - val_loss: 0.2287\n",
            "Epoch 9/100\n",
            "600/600 [==============================] - 2s 4ms/step - loss: 0.2285 - val_loss: 0.2285\n",
            "Epoch 10/100\n",
            "600/600 [==============================] - 2s 4ms/step - loss: 0.2283 - val_loss: 0.2283\n",
            "Epoch 11/100\n",
            "600/600 [==============================] - 2s 4ms/step - loss: 0.2282 - val_loss: 0.2282\n",
            "Epoch 12/100\n",
            "600/600 [==============================] - 2s 4ms/step - loss: 0.2280 - val_loss: 0.2280\n",
            "Epoch 13/100\n",
            "600/600 [==============================] - 2s 4ms/step - loss: 0.2278 - val_loss: 0.2278\n",
            "Epoch 14/100\n",
            "600/600 [==============================] - 2s 4ms/step - loss: 0.2277 - val_loss: 0.2277\n",
            "Epoch 15/100\n",
            "600/600 [==============================] - 2s 4ms/step - loss: 0.2275 - val_loss: 0.2275\n",
            "Epoch 16/100\n",
            "600/600 [==============================] - 2s 4ms/step - loss: 0.2273 - val_loss: 0.2273\n",
            "Epoch 17/100\n",
            "600/600 [==============================] - 2s 4ms/step - loss: 0.2271 - val_loss: 0.2271\n",
            "Epoch 18/100\n",
            "600/600 [==============================] - 2s 4ms/step - loss: 0.2269 - val_loss: 0.2269\n",
            "Epoch 19/100\n",
            "600/600 [==============================] - 2s 4ms/step - loss: 0.2267 - val_loss: 0.2267\n",
            "Epoch 20/100\n",
            "600/600 [==============================] - 2s 4ms/step - loss: 0.2265 - val_loss: 0.2265\n",
            "Epoch 21/100\n",
            "600/600 [==============================] - 2s 4ms/step - loss: 0.2263 - val_loss: 0.2262\n",
            "Epoch 22/100\n",
            "600/600 [==============================] - 2s 4ms/step - loss: 0.2260 - val_loss: 0.2260\n",
            "Epoch 23/100\n",
            "600/600 [==============================] - 2s 4ms/step - loss: 0.2258 - val_loss: 0.2257\n",
            "Epoch 24/100\n",
            "600/600 [==============================] - 2s 4ms/step - loss: 0.2255 - val_loss: 0.2255\n",
            "Epoch 25/100\n",
            "600/600 [==============================] - 2s 4ms/step - loss: 0.2253 - val_loss: 0.2252\n",
            "Epoch 26/100\n",
            "600/600 [==============================] - 2s 4ms/step - loss: 0.2250 - val_loss: 0.2249\n",
            "Epoch 27/100\n",
            "600/600 [==============================] - 2s 4ms/step - loss: 0.2247 - val_loss: 0.2246\n",
            "Epoch 28/100\n",
            "600/600 [==============================] - 2s 4ms/step - loss: 0.2244 - val_loss: 0.2243\n",
            "Epoch 29/100\n",
            "600/600 [==============================] - 2s 4ms/step - loss: 0.2241 - val_loss: 0.2239\n",
            "Epoch 30/100\n",
            "600/600 [==============================] - 2s 4ms/step - loss: 0.2237 - val_loss: 0.2236\n",
            "Epoch 31/100\n",
            "600/600 [==============================] - 2s 4ms/step - loss: 0.2234 - val_loss: 0.2232\n",
            "Epoch 32/100\n",
            "600/600 [==============================] - 2s 4ms/step - loss: 0.2230 - val_loss: 0.2228\n",
            "Epoch 33/100\n",
            "600/600 [==============================] - 2s 4ms/step - loss: 0.2226 - val_loss: 0.2224\n",
            "Epoch 34/100\n",
            "600/600 [==============================] - 2s 4ms/step - loss: 0.2222 - val_loss: 0.2220\n",
            "Epoch 35/100\n",
            "600/600 [==============================] - 2s 4ms/step - loss: 0.2217 - val_loss: 0.2215\n",
            "Epoch 36/100\n",
            "600/600 [==============================] - 2s 4ms/step - loss: 0.2213 - val_loss: 0.2210\n",
            "Epoch 37/100\n",
            "600/600 [==============================] - 2s 4ms/step - loss: 0.2208 - val_loss: 0.2205\n",
            "Epoch 38/100\n",
            "600/600 [==============================] - 2s 4ms/step - loss: 0.2202 - val_loss: 0.2199\n",
            "Epoch 39/100\n",
            "600/600 [==============================] - 2s 4ms/step - loss: 0.2197 - val_loss: 0.2193\n",
            "Epoch 40/100\n",
            "600/600 [==============================] - 2s 4ms/step - loss: 0.2190 - val_loss: 0.2187\n",
            "Epoch 41/100\n",
            "600/600 [==============================] - 2s 4ms/step - loss: 0.2184 - val_loss: 0.2180\n",
            "Epoch 42/100\n",
            "600/600 [==============================] - 2s 4ms/step - loss: 0.2177 - val_loss: 0.2173\n",
            "Epoch 43/100\n",
            "600/600 [==============================] - 2s 4ms/step - loss: 0.2170 - val_loss: 0.2166\n",
            "Epoch 44/100\n",
            "600/600 [==============================] - 2s 4ms/step - loss: 0.2162 - val_loss: 0.2157\n",
            "Epoch 45/100\n",
            "600/600 [==============================] - 2s 4ms/step - loss: 0.2154 - val_loss: 0.2149\n",
            "Epoch 46/100\n",
            "600/600 [==============================] - 2s 4ms/step - loss: 0.2145 - val_loss: 0.2139\n",
            "Epoch 47/100\n",
            "600/600 [==============================] - 2s 4ms/step - loss: 0.2135 - val_loss: 0.2129\n",
            "Epoch 48/100\n",
            "600/600 [==============================] - 2s 4ms/step - loss: 0.2125 - val_loss: 0.2119\n",
            "Epoch 49/100\n",
            "600/600 [==============================] - 2s 4ms/step - loss: 0.2114 - val_loss: 0.2107\n",
            "Epoch 50/100\n",
            "600/600 [==============================] - 2s 3ms/step - loss: 0.2102 - val_loss: 0.2095\n",
            "Epoch 51/100\n",
            "600/600 [==============================] - 2s 4ms/step - loss: 0.2090 - val_loss: 0.2082\n",
            "Epoch 52/100\n",
            "600/600 [==============================] - 2s 4ms/step - loss: 0.2076 - val_loss: 0.2068\n",
            "Epoch 53/100\n",
            "600/600 [==============================] - 2s 4ms/step - loss: 0.2062 - val_loss: 0.2053\n",
            "Epoch 54/100\n",
            "600/600 [==============================] - 2s 4ms/step - loss: 0.2046 - val_loss: 0.2036\n",
            "Epoch 55/100\n",
            "600/600 [==============================] - 2s 4ms/step - loss: 0.2030 - val_loss: 0.2019\n",
            "Epoch 56/100\n",
            "600/600 [==============================] - 2s 4ms/step - loss: 0.2012 - val_loss: 0.2001\n",
            "Epoch 57/100\n",
            "600/600 [==============================] - 2s 4ms/step - loss: 0.1993 - val_loss: 0.1981\n",
            "Epoch 58/100\n",
            "600/600 [==============================] - 2s 4ms/step - loss: 0.1973 - val_loss: 0.1960\n",
            "Epoch 59/100\n",
            "600/600 [==============================] - 2s 4ms/step - loss: 0.1951 - val_loss: 0.1937\n",
            "Epoch 60/100\n",
            "600/600 [==============================] - 2s 4ms/step - loss: 0.1928 - val_loss: 0.1913\n",
            "Epoch 61/100\n",
            "600/600 [==============================] - 2s 4ms/step - loss: 0.1904 - val_loss: 0.1888\n",
            "Epoch 62/100\n",
            "600/600 [==============================] - 2s 4ms/step - loss: 0.1878 - val_loss: 0.1861\n",
            "Epoch 63/100\n",
            "600/600 [==============================] - 2s 4ms/step - loss: 0.1850 - val_loss: 0.1832\n",
            "Epoch 64/100\n",
            "600/600 [==============================] - 2s 4ms/step - loss: 0.1821 - val_loss: 0.1802\n",
            "Epoch 65/100\n",
            "600/600 [==============================] - 2s 4ms/step - loss: 0.1790 - val_loss: 0.1770\n",
            "Epoch 66/100\n",
            "600/600 [==============================] - 2s 4ms/step - loss: 0.1758 - val_loss: 0.1737\n",
            "Epoch 67/100\n",
            "600/600 [==============================] - 2s 4ms/step - loss: 0.1724 - val_loss: 0.1703\n",
            "Epoch 68/100\n",
            "600/600 [==============================] - 2s 4ms/step - loss: 0.1689 - val_loss: 0.1667\n",
            "Epoch 69/100\n",
            "600/600 [==============================] - 2s 4ms/step - loss: 0.1653 - val_loss: 0.1630\n",
            "Epoch 70/100\n",
            "600/600 [==============================] - 2s 4ms/step - loss: 0.1615 - val_loss: 0.1591\n",
            "Epoch 71/100\n",
            "600/600 [==============================] - 2s 4ms/step - loss: 0.1577 - val_loss: 0.1552\n",
            "Epoch 72/100\n",
            "600/600 [==============================] - 2s 4ms/step - loss: 0.1538 - val_loss: 0.1512\n",
            "Epoch 73/100\n",
            "600/600 [==============================] - 2s 4ms/step - loss: 0.1497 - val_loss: 0.1472\n",
            "Epoch 74/100\n",
            "600/600 [==============================] - 2s 4ms/step - loss: 0.1457 - val_loss: 0.1431\n",
            "Epoch 75/100\n",
            "600/600 [==============================] - 2s 4ms/step - loss: 0.1416 - val_loss: 0.1391\n",
            "Epoch 76/100\n",
            "600/600 [==============================] - 2s 4ms/step - loss: 0.1376 - val_loss: 0.1350\n",
            "Epoch 77/100\n",
            "600/600 [==============================] - 2s 4ms/step - loss: 0.1336 - val_loss: 0.1310\n",
            "Epoch 78/100\n",
            "600/600 [==============================] - 2s 4ms/step - loss: 0.1296 - val_loss: 0.1271\n",
            "Epoch 79/100\n",
            "600/600 [==============================] - 2s 4ms/step - loss: 0.1258 - val_loss: 0.1233\n",
            "Epoch 80/100\n",
            "600/600 [==============================] - 2s 4ms/step - loss: 0.1220 - val_loss: 0.1197\n",
            "Epoch 81/100\n",
            "600/600 [==============================] - 2s 4ms/step - loss: 0.1184 - val_loss: 0.1161\n",
            "Epoch 82/100\n",
            "600/600 [==============================] - 2s 4ms/step - loss: 0.1150 - val_loss: 0.1128\n",
            "Epoch 83/100\n",
            "600/600 [==============================] - 2s 4ms/step - loss: 0.1117 - val_loss: 0.1096\n",
            "Epoch 84/100\n",
            "600/600 [==============================] - 2s 4ms/step - loss: 0.1086 - val_loss: 0.1066\n",
            "Epoch 85/100\n",
            "600/600 [==============================] - 2s 4ms/step - loss: 0.1056 - val_loss: 0.1038\n",
            "Epoch 86/100\n",
            "600/600 [==============================] - 2s 4ms/step - loss: 0.1029 - val_loss: 0.1012\n",
            "Epoch 87/100\n",
            "600/600 [==============================] - 2s 4ms/step - loss: 0.1004 - val_loss: 0.0988\n",
            "Epoch 88/100\n",
            "600/600 [==============================] - 2s 4ms/step - loss: 0.0980 - val_loss: 0.0966\n",
            "Epoch 89/100\n",
            "600/600 [==============================] - 2s 4ms/step - loss: 0.0959 - val_loss: 0.0945\n",
            "Epoch 90/100\n",
            "600/600 [==============================] - 2s 4ms/step - loss: 0.0939 - val_loss: 0.0926\n",
            "Epoch 91/100\n",
            "600/600 [==============================] - 2s 4ms/step - loss: 0.0921 - val_loss: 0.0909\n",
            "Epoch 92/100\n",
            "600/600 [==============================] - 2s 4ms/step - loss: 0.0904 - val_loss: 0.0893\n",
            "Epoch 93/100\n",
            "600/600 [==============================] - 2s 4ms/step - loss: 0.0889 - val_loss: 0.0879\n",
            "Epoch 94/100\n",
            "600/600 [==============================] - 2s 4ms/step - loss: 0.0875 - val_loss: 0.0866\n",
            "Epoch 95/100\n",
            "600/600 [==============================] - 2s 4ms/step - loss: 0.0862 - val_loss: 0.0854\n",
            "Epoch 96/100\n",
            "600/600 [==============================] - 2s 4ms/step - loss: 0.0851 - val_loss: 0.0843\n",
            "Epoch 97/100\n",
            "600/600 [==============================] - 2s 4ms/step - loss: 0.0840 - val_loss: 0.0834\n",
            "Epoch 98/100\n",
            "600/600 [==============================] - 2s 4ms/step - loss: 0.0831 - val_loss: 0.0825\n",
            "Epoch 99/100\n",
            "600/600 [==============================] - 2s 4ms/step - loss: 0.0822 - val_loss: 0.0817\n",
            "Epoch 100/100\n",
            "600/600 [==============================] - 2s 4ms/step - loss: 0.0814 - val_loss: 0.0809\n"
          ]
        }
      ]
    },
    {
      "cell_type": "code",
      "metadata": {
        "id": "bMTVLJIO_Lw6"
      },
      "source": [
        "out_loss = ffnn_digit100.history['loss']\n",
        "out_val_loss = ffnn_digit100.history['val_loss']"
      ],
      "execution_count": 33,
      "outputs": []
    },
    {
      "cell_type": "code",
      "metadata": {
        "colab": {
          "base_uri": "https://localhost:8080/"
        },
        "id": "ceAzQNfP_Qfq",
        "outputId": "83b072e0-02c5-4663-f008-9572f5ca1c6f"
      },
      "source": [
        "len(out_loss), len(out_val_loss)"
      ],
      "execution_count": 34,
      "outputs": [
        {
          "output_type": "execute_result",
          "data": {
            "text/plain": [
              "(100, 100)"
            ]
          },
          "metadata": {},
          "execution_count": 34
        }
      ]
    },
    {
      "cell_type": "code",
      "metadata": {
        "id": "qqOIoWFbA2Yq"
      },
      "source": [
        "epoch_num = np.linspace(1, len(out_loss), len(out_loss), endpoint=True)"
      ],
      "execution_count": 35,
      "outputs": []
    },
    {
      "cell_type": "code",
      "metadata": {
        "colab": {
          "base_uri": "https://localhost:8080/",
          "height": 614
        },
        "id": "YLou10Nt_VTh",
        "outputId": "19ae4c44-b077-469e-fce1-aa172b4f28ef"
      },
      "source": [
        "plt.figure(figsize=(10, 10))\n",
        "\n",
        "plt.plot(epoch_num, out_loss, color='red', linestyle='solid',\n",
        "         label='train loss')\n",
        "plt.plot(epoch_num, out_val_loss, color='blue', linestyle='solid',\n",
        "         label='val loss')\n",
        "\n",
        "plt.xlabel('epoch', fontsize=18)\n",
        "plt.ylabel('loss', fontsize=18)\n",
        "plt.legend(loc='best', fontsize=18)\n",
        "plt.show()"
      ],
      "execution_count": 36,
      "outputs": [
        {
          "output_type": "display_data",
          "data": {
            "image/png": "[encoded data removed]",
            "text/plain": [
              "<Figure size 720x720 with 1 Axes>"
            ]
          },
          "metadata": {
            "needs_background": "light"
          }
        }
      ]
    },
    {
      "cell_type": "markdown",
      "metadata": {
        "id": "fmbdzHbmBI7h"
      },
      "source": [
        "# Still need more training! (b/c algorithm is still learning), try epoch=200. Also try making learning rate more precise."
      ]
    },
    {
      "cell_type": "code",
      "metadata": {
        "id": "K3r7zxFLEsXn"
      },
      "source": [
        "opt = keras.optimizers.adam_v2.Adam(learning_rate=0.01)"
      ],
      "execution_count": 47,
      "outputs": []
    },
    {
      "cell_type": "code",
      "metadata": {
        "id": "_Bk7bQVQugzI"
      },
      "source": [
        "model_digits.compile(optimizer=opt, loss=\"mean_squared_error\")"
      ],
      "execution_count": 48,
      "outputs": []
    },
    {
      "cell_type": "code",
      "metadata": {
        "colab": {
          "base_uri": "https://localhost:8080/"
        },
        "id": "7on-gLu7BDkO",
        "outputId": "b12e141d-f3df-4df5-f896-75e6a432d244"
      },
      "source": [
        "# Architecture is x_train x_train instead of x_train y_train bc it's an encoder\n",
        "ffnn_digit200=model_digits.fit(x_train, x_train, validation_data=(x_test, x_test),\n",
        "                            epochs=200, batch_size=100, verbose=1)"
      ],
      "execution_count": 49,
      "outputs": [
        {
          "output_type": "stream",
          "name": "stdout",
          "text": [
            "Epoch 1/200\n",
            "600/600 [==============================] - 3s 4ms/step - loss: 0.0203 - val_loss: 0.0119\n",
            "Epoch 2/200\n",
            "600/600 [==============================] - 2s 4ms/step - loss: 0.0106 - val_loss: 0.0094\n",
            "Epoch 3/200\n",
            "600/600 [==============================] - 2s 3ms/step - loss: 0.0089 - val_loss: 0.0081\n",
            "Epoch 4/200\n",
            "600/600 [==============================] - 2s 4ms/step - loss: 0.0081 - val_loss: 0.0074\n",
            "Epoch 5/200\n",
            "600/600 [==============================] - 2s 3ms/step - loss: 0.0076 - val_loss: 0.0072\n",
            "Epoch 6/200\n",
            "600/600 [==============================] - 2s 4ms/step - loss: 0.0073 - val_loss: 0.0068\n",
            "Epoch 7/200\n",
            "600/600 [==============================] - 2s 4ms/step - loss: 0.0070 - val_loss: 0.0073\n",
            "Epoch 8/200\n",
            "600/600 [==============================] - 2s 4ms/step - loss: 0.0069 - val_loss: 0.0066\n",
            "Epoch 9/200\n",
            "600/600 [==============================] - 2s 3ms/step - loss: 0.0068 - val_loss: 0.0070\n",
            "Epoch 10/200\n",
            "600/600 [==============================] - 2s 4ms/step - loss: 0.0067 - val_loss: 0.0064\n",
            "Epoch 11/200\n",
            "600/600 [==============================] - 2s 3ms/step - loss: 0.0067 - val_loss: 0.0065\n",
            "Epoch 12/200\n",
            "600/600 [==============================] - 2s 4ms/step - loss: 0.0066 - val_loss: 0.0067\n",
            "Epoch 13/200\n",
            "600/600 [==============================] - 2s 3ms/step - loss: 0.0066 - val_loss: 0.0067\n",
            "Epoch 14/200\n",
            "600/600 [==============================] - 2s 3ms/step - loss: 0.0066 - val_loss: 0.0066\n",
            "Epoch 15/200\n",
            "600/600 [==============================] - 2s 4ms/step - loss: 0.0066 - val_loss: 0.0064\n",
            "Epoch 16/200\n",
            "600/600 [==============================] - 2s 3ms/step - loss: 0.0065 - val_loss: 0.0061\n",
            "Epoch 17/200\n",
            "600/600 [==============================] - 2s 3ms/step - loss: 0.0065 - val_loss: 0.0064\n",
            "Epoch 18/200\n",
            "600/600 [==============================] - 2s 3ms/step - loss: 0.0065 - val_loss: 0.0064\n",
            "Epoch 19/200\n",
            "600/600 [==============================] - 2s 3ms/step - loss: 0.0065 - val_loss: 0.0064\n",
            "Epoch 20/200\n",
            "600/600 [==============================] - 2s 4ms/step - loss: 0.0065 - val_loss: 0.0063\n",
            "Epoch 21/200\n",
            "600/600 [==============================] - 2s 3ms/step - loss: 0.0065 - val_loss: 0.0063\n",
            "Epoch 22/200\n",
            "600/600 [==============================] - 2s 3ms/step - loss: 0.0065 - val_loss: 0.0062\n",
            "Epoch 23/200\n",
            "600/600 [==============================] - 2s 4ms/step - loss: 0.0064 - val_loss: 0.0066\n",
            "Epoch 24/200\n",
            "600/600 [==============================] - 2s 3ms/step - loss: 0.0064 - val_loss: 0.0063\n",
            "Epoch 25/200\n",
            "600/600 [==============================] - 2s 3ms/step - loss: 0.0064 - val_loss: 0.0061\n",
            "Epoch 26/200\n",
            "600/600 [==============================] - 2s 3ms/step - loss: 0.0064 - val_loss: 0.0059\n",
            "Epoch 27/200\n",
            "600/600 [==============================] - 2s 3ms/step - loss: 0.0064 - val_loss: 0.0063\n",
            "Epoch 28/200\n",
            "600/600 [==============================] - 2s 3ms/step - loss: 0.0064 - val_loss: 0.0057\n",
            "Epoch 29/200\n",
            "600/600 [==============================] - 2s 3ms/step - loss: 0.0064 - val_loss: 0.0063\n",
            "Epoch 30/200\n",
            "600/600 [==============================] - 2s 3ms/step - loss: 0.0063 - val_loss: 0.0065\n",
            "Epoch 31/200\n",
            "600/600 [==============================] - 2s 4ms/step - loss: 0.0064 - val_loss: 0.0065\n",
            "Epoch 32/200\n",
            "600/600 [==============================] - 2s 3ms/step - loss: 0.0064 - val_loss: 0.0067\n",
            "Epoch 33/200\n",
            "600/600 [==============================] - 2s 3ms/step - loss: 0.0063 - val_loss: 0.0061\n",
            "Epoch 34/200\n",
            "600/600 [==============================] - 2s 4ms/step - loss: 0.0064 - val_loss: 0.0061\n",
            "Epoch 35/200\n",
            "600/600 [==============================] - 2s 4ms/step - loss: 0.0063 - val_loss: 0.0062\n",
            "Epoch 36/200\n",
            "600/600 [==============================] - 2s 4ms/step - loss: 0.0064 - val_loss: 0.0061\n",
            "Epoch 37/200\n",
            "600/600 [==============================] - 2s 3ms/step - loss: 0.0062 - val_loss: 0.0062\n",
            "Epoch 38/200\n",
            "600/600 [==============================] - 2s 3ms/step - loss: 0.0063 - val_loss: 0.0062\n",
            "Epoch 39/200\n",
            "600/600 [==============================] - 2s 3ms/step - loss: 0.0063 - val_loss: 0.0060\n",
            "Epoch 40/200\n",
            "600/600 [==============================] - 2s 4ms/step - loss: 0.0063 - val_loss: 0.0059\n",
            "Epoch 41/200\n",
            "600/600 [==============================] - 2s 3ms/step - loss: 0.0063 - val_loss: 0.0066\n",
            "Epoch 42/200\n",
            "600/600 [==============================] - 2s 3ms/step - loss: 0.0062 - val_loss: 0.0063\n",
            "Epoch 43/200\n",
            "600/600 [==============================] - 2s 4ms/step - loss: 0.0063 - val_loss: 0.0059\n",
            "Epoch 44/200\n",
            "600/600 [==============================] - 2s 4ms/step - loss: 0.0063 - val_loss: 0.0062\n",
            "Epoch 45/200\n",
            "600/600 [==============================] - 2s 3ms/step - loss: 0.0062 - val_loss: 0.0059\n",
            "Epoch 46/200\n",
            "600/600 [==============================] - 2s 4ms/step - loss: 0.0062 - val_loss: 0.0057\n",
            "Epoch 47/200\n",
            "600/600 [==============================] - 2s 4ms/step - loss: 0.0062 - val_loss: 0.0058\n",
            "Epoch 48/200\n",
            "600/600 [==============================] - 2s 4ms/step - loss: 0.0063 - val_loss: 0.0063\n",
            "Epoch 49/200\n",
            "600/600 [==============================] - 2s 3ms/step - loss: 0.0062 - val_loss: 0.0062\n",
            "Epoch 50/200\n",
            "600/600 [==============================] - 2s 3ms/step - loss: 0.0062 - val_loss: 0.0061\n",
            "Epoch 51/200\n",
            "600/600 [==============================] - 2s 4ms/step - loss: 0.0062 - val_loss: 0.0064\n",
            "Epoch 52/200\n",
            "600/600 [==============================] - 2s 4ms/step - loss: 0.0063 - val_loss: 0.0060\n",
            "Epoch 53/200\n",
            "600/600 [==============================] - 2s 4ms/step - loss: 0.0062 - val_loss: 0.0060\n",
            "Epoch 54/200\n",
            "600/600 [==============================] - 2s 4ms/step - loss: 0.0062 - val_loss: 0.0058\n",
            "Epoch 55/200\n",
            "600/600 [==============================] - 2s 3ms/step - loss: 0.0062 - val_loss: 0.0062\n",
            "Epoch 56/200\n",
            "600/600 [==============================] - 2s 4ms/step - loss: 0.0062 - val_loss: 0.0059\n",
            "Epoch 57/200\n",
            "600/600 [==============================] - 2s 3ms/step - loss: 0.0062 - val_loss: 0.0058\n",
            "Epoch 58/200\n",
            "600/600 [==============================] - 2s 4ms/step - loss: 0.0062 - val_loss: 0.0061\n",
            "Epoch 59/200\n",
            "600/600 [==============================] - 2s 3ms/step - loss: 0.0062 - val_loss: 0.0060\n",
            "Epoch 60/200\n",
            "600/600 [==============================] - 2s 4ms/step - loss: 0.0062 - val_loss: 0.0060\n",
            "Epoch 61/200\n",
            "600/600 [==============================] - 2s 3ms/step - loss: 0.0061 - val_loss: 0.0059\n",
            "Epoch 62/200\n",
            "600/600 [==============================] - 2s 4ms/step - loss: 0.0062 - val_loss: 0.0059\n",
            "Epoch 63/200\n",
            "600/600 [==============================] - 2s 3ms/step - loss: 0.0062 - val_loss: 0.0059\n",
            "Epoch 64/200\n",
            "600/600 [==============================] - 2s 4ms/step - loss: 0.0062 - val_loss: 0.0059\n",
            "Epoch 65/200\n",
            "600/600 [==============================] - 2s 4ms/step - loss: 0.0062 - val_loss: 0.0063\n",
            "Epoch 66/200\n",
            "600/600 [==============================] - 2s 4ms/step - loss: 0.0063 - val_loss: 0.0065\n",
            "Epoch 67/200\n",
            "600/600 [==============================] - 2s 4ms/step - loss: 0.0062 - val_loss: 0.0061\n",
            "Epoch 68/200\n",
            "600/600 [==============================] - 2s 4ms/step - loss: 0.0062 - val_loss: 0.0060\n",
            "Epoch 69/200\n",
            "600/600 [==============================] - 2s 3ms/step - loss: 0.0061 - val_loss: 0.0064\n",
            "Epoch 70/200\n",
            "600/600 [==============================] - 2s 3ms/step - loss: 0.0062 - val_loss: 0.0064\n",
            "Epoch 71/200\n",
            "600/600 [==============================] - 2s 3ms/step - loss: 0.0062 - val_loss: 0.0062\n",
            "Epoch 72/200\n",
            "600/600 [==============================] - 2s 3ms/step - loss: 0.0061 - val_loss: 0.0059\n",
            "Epoch 73/200\n",
            "600/600 [==============================] - 2s 3ms/step - loss: 0.0062 - val_loss: 0.0059\n",
            "Epoch 74/200\n",
            "600/600 [==============================] - 2s 4ms/step - loss: 0.0062 - val_loss: 0.0061\n",
            "Epoch 75/200\n",
            "600/600 [==============================] - 2s 3ms/step - loss: 0.0061 - val_loss: 0.0058\n",
            "Epoch 76/200\n",
            "600/600 [==============================] - 2s 3ms/step - loss: 0.0061 - val_loss: 0.0062\n",
            "Epoch 77/200\n",
            "600/600 [==============================] - 2s 4ms/step - loss: 0.0062 - val_loss: 0.0066\n",
            "Epoch 78/200\n",
            "600/600 [==============================] - 2s 4ms/step - loss: 0.0062 - val_loss: 0.0058\n",
            "Epoch 79/200\n",
            "600/600 [==============================] - 2s 4ms/step - loss: 0.0061 - val_loss: 0.0061\n",
            "Epoch 80/200\n",
            "600/600 [==============================] - 2s 4ms/step - loss: 0.0062 - val_loss: 0.0062\n",
            "Epoch 81/200\n",
            "600/600 [==============================] - 2s 3ms/step - loss: 0.0062 - val_loss: 0.0059\n",
            "Epoch 82/200\n",
            "600/600 [==============================] - 2s 4ms/step - loss: 0.0061 - val_loss: 0.0059\n",
            "Epoch 83/200\n",
            "600/600 [==============================] - 2s 4ms/step - loss: 0.0062 - val_loss: 0.0059\n",
            "Epoch 84/200\n",
            "600/600 [==============================] - 2s 3ms/step - loss: 0.0061 - val_loss: 0.0062\n",
            "Epoch 85/200\n",
            "600/600 [==============================] - 2s 4ms/step - loss: 0.0061 - val_loss: 0.0062\n",
            "Epoch 86/200\n",
            "600/600 [==============================] - 2s 4ms/step - loss: 0.0061 - val_loss: 0.0057\n",
            "Epoch 87/200\n",
            "600/600 [==============================] - 2s 4ms/step - loss: 0.0061 - val_loss: 0.0059\n",
            "Epoch 88/200\n",
            "600/600 [==============================] - 2s 3ms/step - loss: 0.0062 - val_loss: 0.0059\n",
            "Epoch 89/200\n",
            "600/600 [==============================] - 2s 3ms/step - loss: 0.0061 - val_loss: 0.0062\n",
            "Epoch 90/200\n",
            "600/600 [==============================] - 2s 4ms/step - loss: 0.0062 - val_loss: 0.0063\n",
            "Epoch 91/200\n",
            "600/600 [==============================] - 2s 4ms/step - loss: 0.0061 - val_loss: 0.0060\n",
            "Epoch 92/200\n",
            "600/600 [==============================] - 2s 4ms/step - loss: 0.0061 - val_loss: 0.0062\n",
            "Epoch 93/200\n",
            "600/600 [==============================] - 2s 3ms/step - loss: 0.0061 - val_loss: 0.0060\n",
            "Epoch 94/200\n",
            "600/600 [==============================] - 2s 3ms/step - loss: 0.0061 - val_loss: 0.0062\n",
            "Epoch 95/200\n",
            "600/600 [==============================] - 2s 4ms/step - loss: 0.0061 - val_loss: 0.0058\n",
            "Epoch 96/200\n",
            "600/600 [==============================] - 2s 4ms/step - loss: 0.0061 - val_loss: 0.0059\n",
            "Epoch 97/200\n",
            "600/600 [==============================] - 2s 3ms/step - loss: 0.0061 - val_loss: 0.0058\n",
            "Epoch 98/200\n",
            "600/600 [==============================] - 2s 3ms/step - loss: 0.0061 - val_loss: 0.0063\n",
            "Epoch 99/200\n",
            "600/600 [==============================] - 2s 3ms/step - loss: 0.0061 - val_loss: 0.0060\n",
            "Epoch 100/200\n",
            "600/600 [==============================] - 2s 3ms/step - loss: 0.0062 - val_loss: 0.0061\n",
            "Epoch 101/200\n",
            "600/600 [==============================] - 2s 3ms/step - loss: 0.0061 - val_loss: 0.0054\n",
            "Epoch 102/200\n",
            "600/600 [==============================] - 2s 3ms/step - loss: 0.0061 - val_loss: 0.0060\n",
            "Epoch 103/200\n",
            "600/600 [==============================] - 2s 4ms/step - loss: 0.0061 - val_loss: 0.0061\n",
            "Epoch 104/200\n",
            "600/600 [==============================] - 2s 4ms/step - loss: 0.0060 - val_loss: 0.0058\n",
            "Epoch 105/200\n",
            "600/600 [==============================] - 2s 3ms/step - loss: 0.0061 - val_loss: 0.0059\n",
            "Epoch 106/200\n",
            "600/600 [==============================] - 2s 3ms/step - loss: 0.0061 - val_loss: 0.0056\n",
            "Epoch 107/200\n",
            "600/600 [==============================] - 2s 3ms/step - loss: 0.0061 - val_loss: 0.0062\n",
            "Epoch 108/200\n",
            "600/600 [==============================] - 2s 3ms/step - loss: 0.0061 - val_loss: 0.0058\n",
            "Epoch 109/200\n",
            "600/600 [==============================] - 2s 4ms/step - loss: 0.0061 - val_loss: 0.0060\n",
            "Epoch 110/200\n",
            "600/600 [==============================] - 2s 3ms/step - loss: 0.0061 - val_loss: 0.0060\n",
            "Epoch 111/200\n",
            "600/600 [==============================] - 2s 3ms/step - loss: 0.0061 - val_loss: 0.0057\n",
            "Epoch 112/200\n",
            "600/600 [==============================] - 2s 3ms/step - loss: 0.0060 - val_loss: 0.0061\n",
            "Epoch 113/200\n",
            "600/600 [==============================] - 2s 3ms/step - loss: 0.0061 - val_loss: 0.0061\n",
            "Epoch 114/200\n",
            "600/600 [==============================] - 2s 3ms/step - loss: 0.0061 - val_loss: 0.0057\n",
            "Epoch 115/200\n",
            "600/600 [==============================] - 2s 3ms/step - loss: 0.0060 - val_loss: 0.0061\n",
            "Epoch 116/200\n",
            "600/600 [==============================] - 2s 4ms/step - loss: 0.0061 - val_loss: 0.0064\n",
            "Epoch 117/200\n",
            "600/600 [==============================] - 2s 4ms/step - loss: 0.0061 - val_loss: 0.0060\n",
            "Epoch 118/200\n",
            "600/600 [==============================] - 2s 4ms/step - loss: 0.0060 - val_loss: 0.0060\n",
            "Epoch 119/200\n",
            "600/600 [==============================] - 2s 4ms/step - loss: 0.0061 - val_loss: 0.0060\n",
            "Epoch 120/200\n",
            "600/600 [==============================] - 2s 3ms/step - loss: 0.0061 - val_loss: 0.0061\n",
            "Epoch 121/200\n",
            "600/600 [==============================] - 2s 3ms/step - loss: 0.0060 - val_loss: 0.0058\n",
            "Epoch 122/200\n",
            "600/600 [==============================] - 2s 4ms/step - loss: 0.0060 - val_loss: 0.0057\n",
            "Epoch 123/200\n",
            "600/600 [==============================] - 2s 4ms/step - loss: 0.0061 - val_loss: 0.0058\n",
            "Epoch 124/200\n",
            "600/600 [==============================] - 2s 4ms/step - loss: 0.0060 - val_loss: 0.0059\n",
            "Epoch 125/200\n",
            "600/600 [==============================] - 2s 4ms/step - loss: 0.0061 - val_loss: 0.0063\n",
            "Epoch 126/200\n",
            "600/600 [==============================] - 2s 3ms/step - loss: 0.0061 - val_loss: 0.0062\n",
            "Epoch 127/200\n",
            "600/600 [==============================] - 2s 4ms/step - loss: 0.0061 - val_loss: 0.0062\n",
            "Epoch 128/200\n",
            "600/600 [==============================] - 2s 4ms/step - loss: 0.0061 - val_loss: 0.0059\n",
            "Epoch 129/200\n",
            "600/600 [==============================] - 2s 3ms/step - loss: 0.0060 - val_loss: 0.0060\n",
            "Epoch 130/200\n",
            "600/600 [==============================] - 2s 3ms/step - loss: 0.0061 - val_loss: 0.0061\n",
            "Epoch 131/200\n",
            "600/600 [==============================] - 2s 3ms/step - loss: 0.0061 - val_loss: 0.0057\n",
            "Epoch 132/200\n",
            "600/600 [==============================] - 2s 3ms/step - loss: 0.0061 - val_loss: 0.0056\n",
            "Epoch 133/200\n",
            "600/600 [==============================] - 2s 4ms/step - loss: 0.0060 - val_loss: 0.0058\n",
            "Epoch 134/200\n",
            "600/600 [==============================] - 2s 4ms/step - loss: 0.0061 - val_loss: 0.0058\n",
            "Epoch 135/200\n",
            "600/600 [==============================] - 2s 4ms/step - loss: 0.0061 - val_loss: 0.0060\n",
            "Epoch 136/200\n",
            "600/600 [==============================] - 2s 4ms/step - loss: 0.0060 - val_loss: 0.0055\n",
            "Epoch 137/200\n",
            "600/600 [==============================] - 2s 4ms/step - loss: 0.0060 - val_loss: 0.0059\n",
            "Epoch 138/200\n",
            "600/600 [==============================] - 2s 4ms/step - loss: 0.0061 - val_loss: 0.0060\n",
            "Epoch 139/200\n",
            "600/600 [==============================] - 2s 4ms/step - loss: 0.0060 - val_loss: 0.0058\n",
            "Epoch 140/200\n",
            "600/600 [==============================] - 2s 4ms/step - loss: 0.0061 - val_loss: 0.0060\n",
            "Epoch 141/200\n",
            "600/600 [==============================] - 2s 4ms/step - loss: 0.0060 - val_loss: 0.0060\n",
            "Epoch 142/200\n",
            "600/600 [==============================] - 2s 4ms/step - loss: 0.0061 - val_loss: 0.0059\n",
            "Epoch 143/200\n",
            "600/600 [==============================] - 2s 3ms/step - loss: 0.0060 - val_loss: 0.0062\n",
            "Epoch 144/200\n",
            "600/600 [==============================] - 2s 3ms/step - loss: 0.0060 - val_loss: 0.0057\n",
            "Epoch 145/200\n",
            "600/600 [==============================] - 2s 3ms/step - loss: 0.0061 - val_loss: 0.0058\n",
            "Epoch 146/200\n",
            "600/600 [==============================] - 2s 3ms/step - loss: 0.0060 - val_loss: 0.0059\n",
            "Epoch 147/200\n",
            "600/600 [==============================] - 2s 3ms/step - loss: 0.0061 - val_loss: 0.0058\n",
            "Epoch 148/200\n",
            "600/600 [==============================] - 2s 4ms/step - loss: 0.0061 - val_loss: 0.0063\n",
            "Epoch 149/200\n",
            "600/600 [==============================] - 2s 4ms/step - loss: 0.0061 - val_loss: 0.0057\n",
            "Epoch 150/200\n",
            "600/600 [==============================] - 2s 3ms/step - loss: 0.0061 - val_loss: 0.0058\n",
            "Epoch 151/200\n",
            "600/600 [==============================] - 2s 4ms/step - loss: 0.0061 - val_loss: 0.0063\n",
            "Epoch 152/200\n",
            "600/600 [==============================] - 2s 3ms/step - loss: 0.0061 - val_loss: 0.0059\n",
            "Epoch 153/200\n",
            "600/600 [==============================] - 2s 4ms/step - loss: 0.0060 - val_loss: 0.0061\n",
            "Epoch 154/200\n",
            "600/600 [==============================] - 2s 3ms/step - loss: 0.0061 - val_loss: 0.0059\n",
            "Epoch 155/200\n",
            "600/600 [==============================] - 2s 4ms/step - loss: 0.0061 - val_loss: 0.0061\n",
            "Epoch 156/200\n",
            "600/600 [==============================] - 2s 3ms/step - loss: 0.0061 - val_loss: 0.0063\n",
            "Epoch 157/200\n",
            "600/600 [==============================] - 2s 3ms/step - loss: 0.0060 - val_loss: 0.0057\n",
            "Epoch 158/200\n",
            "600/600 [==============================] - 2s 3ms/step - loss: 0.0060 - val_loss: 0.0060\n",
            "Epoch 159/200\n",
            "600/600 [==============================] - 2s 4ms/step - loss: 0.0061 - val_loss: 0.0062\n",
            "Epoch 160/200\n",
            "600/600 [==============================] - 2s 4ms/step - loss: 0.0060 - val_loss: 0.0063\n",
            "Epoch 161/200\n",
            "600/600 [==============================] - 2s 4ms/step - loss: 0.0061 - val_loss: 0.0062\n",
            "Epoch 162/200\n",
            "600/600 [==============================] - 2s 4ms/step - loss: 0.0061 - val_loss: 0.0060\n",
            "Epoch 163/200\n",
            "600/600 [==============================] - 2s 4ms/step - loss: 0.0060 - val_loss: 0.0059\n",
            "Epoch 164/200\n",
            "600/600 [==============================] - 2s 4ms/step - loss: 0.0060 - val_loss: 0.0060\n",
            "Epoch 165/200\n",
            "600/600 [==============================] - 2s 4ms/step - loss: 0.0061 - val_loss: 0.0060\n",
            "Epoch 166/200\n",
            "600/600 [==============================] - 2s 3ms/step - loss: 0.0060 - val_loss: 0.0058\n",
            "Epoch 167/200\n",
            "600/600 [==============================] - 2s 4ms/step - loss: 0.0061 - val_loss: 0.0060\n",
            "Epoch 168/200\n",
            "600/600 [==============================] - 2s 4ms/step - loss: 0.0060 - val_loss: 0.0058\n",
            "Epoch 169/200\n",
            "600/600 [==============================] - 2s 4ms/step - loss: 0.0061 - val_loss: 0.0060\n",
            "Epoch 170/200\n",
            "600/600 [==============================] - 2s 4ms/step - loss: 0.0061 - val_loss: 0.0060\n",
            "Epoch 171/200\n",
            "600/600 [==============================] - 2s 4ms/step - loss: 0.0060 - val_loss: 0.0057\n",
            "Epoch 172/200\n",
            "600/600 [==============================] - 2s 4ms/step - loss: 0.0061 - val_loss: 0.0061\n",
            "Epoch 173/200\n",
            "600/600 [==============================] - 2s 4ms/step - loss: 0.0060 - val_loss: 0.0058\n",
            "Epoch 174/200\n",
            "600/600 [==============================] - 2s 3ms/step - loss: 0.0061 - val_loss: 0.0059\n",
            "Epoch 175/200\n",
            "600/600 [==============================] - 2s 3ms/step - loss: 0.0061 - val_loss: 0.0058\n",
            "Epoch 176/200\n",
            "600/600 [==============================] - 2s 4ms/step - loss: 0.0060 - val_loss: 0.0062\n",
            "Epoch 177/200\n",
            "600/600 [==============================] - 2s 3ms/step - loss: 0.0060 - val_loss: 0.0060\n",
            "Epoch 178/200\n",
            "600/600 [==============================] - 2s 4ms/step - loss: 0.0061 - val_loss: 0.0058\n",
            "Epoch 179/200\n",
            "600/600 [==============================] - 2s 4ms/step - loss: 0.0060 - val_loss: 0.0061\n",
            "Epoch 180/200\n",
            "600/600 [==============================] - 2s 4ms/step - loss: 0.0061 - val_loss: 0.0060\n",
            "Epoch 181/200\n",
            "600/600 [==============================] - 2s 4ms/step - loss: 0.0060 - val_loss: 0.0057\n",
            "Epoch 182/200\n",
            "600/600 [==============================] - 2s 4ms/step - loss: 0.0060 - val_loss: 0.0056\n",
            "Epoch 183/200\n",
            "600/600 [==============================] - 2s 3ms/step - loss: 0.0060 - val_loss: 0.0062\n",
            "Epoch 184/200\n",
            "600/600 [==============================] - 2s 4ms/step - loss: 0.0061 - val_loss: 0.0060\n",
            "Epoch 185/200\n",
            "600/600 [==============================] - 2s 4ms/step - loss: 0.0060 - val_loss: 0.0063\n",
            "Epoch 186/200\n",
            "600/600 [==============================] - 2s 4ms/step - loss: 0.0060 - val_loss: 0.0058\n",
            "Epoch 187/200\n",
            "600/600 [==============================] - 2s 4ms/step - loss: 0.0060 - val_loss: 0.0058\n",
            "Epoch 188/200\n",
            "600/600 [==============================] - 2s 4ms/step - loss: 0.0060 - val_loss: 0.0062\n",
            "Epoch 189/200\n",
            "600/600 [==============================] - 2s 4ms/step - loss: 0.0061 - val_loss: 0.0058\n",
            "Epoch 190/200\n",
            "600/600 [==============================] - 2s 4ms/step - loss: 0.0060 - val_loss: 0.0060\n",
            "Epoch 191/200\n",
            "600/600 [==============================] - 2s 4ms/step - loss: 0.0061 - val_loss: 0.0058\n",
            "Epoch 192/200\n",
            "600/600 [==============================] - 2s 4ms/step - loss: 0.0060 - val_loss: 0.0058\n",
            "Epoch 193/200\n",
            "600/600 [==============================] - 2s 4ms/step - loss: 0.0060 - val_loss: 0.0059\n",
            "Epoch 194/200\n",
            "600/600 [==============================] - 2s 4ms/step - loss: 0.0060 - val_loss: 0.0060\n",
            "Epoch 195/200\n",
            "600/600 [==============================] - 2s 4ms/step - loss: 0.0060 - val_loss: 0.0057\n",
            "Epoch 196/200\n",
            "600/600 [==============================] - 2s 4ms/step - loss: 0.0060 - val_loss: 0.0059\n",
            "Epoch 197/200\n",
            "600/600 [==============================] - 2s 4ms/step - loss: 0.0060 - val_loss: 0.0059\n",
            "Epoch 198/200\n",
            "600/600 [==============================] - 2s 4ms/step - loss: 0.0060 - val_loss: 0.0059\n",
            "Epoch 199/200\n",
            "600/600 [==============================] - 2s 4ms/step - loss: 0.0060 - val_loss: 0.0058\n",
            "Epoch 200/200\n",
            "600/600 [==============================] - 2s 3ms/step - loss: 0.0060 - val_loss: 0.0061\n"
          ]
        }
      ]
    },
    {
      "cell_type": "code",
      "metadata": {
        "id": "YxdzxuxMBUiA"
      },
      "source": [
        "out_loss = ffnn_digit200.history['loss']\n",
        "out_val_loss = ffnn_digit200.history['val_loss']"
      ],
      "execution_count": 50,
      "outputs": []
    },
    {
      "cell_type": "code",
      "metadata": {
        "id": "PIk5S8ZkBU8g"
      },
      "source": [
        "epoch_num = np.linspace(1, len(out_loss), len(out_loss), endpoint=True)"
      ],
      "execution_count": 51,
      "outputs": []
    },
    {
      "cell_type": "code",
      "metadata": {
        "colab": {
          "base_uri": "https://localhost:8080/",
          "height": 614
        },
        "id": "BOnS8RqIBY3r",
        "outputId": "05ec6c86-2aff-47c6-d861-f4b617920d38"
      },
      "source": [
        "plt.figure(figsize=(10, 10))\n",
        "\n",
        "plt.plot(epoch_num, out_loss, color='red', linestyle='solid',\n",
        "         label='train loss')\n",
        "plt.plot(epoch_num, out_val_loss, color='blue', linestyle='solid',\n",
        "         label='val loss')\n",
        "\n",
        "plt.xlabel('epoch', fontsize=18)\n",
        "plt.ylabel('loss', fontsize=18)\n",
        "plt.legend(loc='best', fontsize=18)\n",
        "plt.show()"
      ],
      "execution_count": 52,
      "outputs": [
        {
          "output_type": "display_data",
          "data": {
            "image/png": "[encoded data removed]",
            "text/plain": [
              "<Figure size 720x720 with 1 Axes>"
            ]
          },
          "metadata": {
            "needs_background": "light"
          }
        }
      ]
    },
    {
      "cell_type": "markdown",
      "metadata": {
        "id": "Kakovl6PDRn5"
      },
      "source": [
        "# Zoom in to ensure overtraining is not happening and that the algorithm isn't learning anymore (although it doesn't look like it)."
      ]
    },
    {
      "cell_type": "code",
      "metadata": {
        "colab": {
          "base_uri": "https://localhost:8080/",
          "height": 614
        },
        "id": "vwlJPoIVDaTK",
        "outputId": "16f3a013-9ce5-4a06-89a7-dbbb7e6fa208"
      },
      "source": [
        "plt.figure(figsize=(10, 10))\n",
        "\n",
        "plt.plot(epoch_num, out_loss, color='red', linestyle='solid',\n",
        "         label='train loss')\n",
        "plt.plot(epoch_num, out_val_loss, color='blue', linestyle='solid',\n",
        "         label='val loss')\n",
        "\n",
        "plt.xlim(left=125)\n",
        "plt.ylim(top=0.074)\n",
        "\n",
        "plt.xlabel('epoch', fontsize=18)\n",
        "plt.ylabel('loss', fontsize=18)\n",
        "plt.legend(loc='best', fontsize=18)\n",
        "plt.show()"
      ],
      "execution_count": 53,
      "outputs": [
        {
          "output_type": "display_data",
          "data": {
            "image/png": "[encoded data removed]",
            "text/plain": [
              "<Figure size 720x720 with 1 Axes>"
            ]
          },
          "metadata": {
            "needs_background": "light"
          }
        }
      ]
    },
    {
      "cell_type": "markdown",
      "metadata": {
        "id": "AxntG2OQDvA4"
      },
      "source": [
        "# Looks good. Still might be learning although it is not worth it to run for more epochs (not learning at a fast enough rate)."
      ]
    },
    {
      "cell_type": "markdown",
      "metadata": {
        "id": "VW1s337b_nr5"
      },
      "source": [
        "# Now predict what we would get from our FFNN"
      ]
    },
    {
      "cell_type": "code",
      "metadata": {
        "id": "6OnjbtgO_rH7"
      },
      "source": [
        "output_image64 = model_digits.predict(x_test)"
      ],
      "execution_count": 54,
      "outputs": []
    },
    {
      "cell_type": "code",
      "metadata": {
        "id": "J3eQiFn3_sgL"
      },
      "source": [
        "def compareinout(i, outim, testimg, initialshape=(28,28)):\n",
        "  '''\n",
        "  Function to plot the input and the target.\n",
        "  Plots the ith training data point.\n",
        "\n",
        "  Parameters:\n",
        "  i -> Index of training data to plot\n",
        "  outim -> Name of the predicted (target) image\n",
        "  testing -> Name of the testing data set to predict\n",
        "  initialshape -> Shape of the output image\n",
        "  '''\n",
        "  fig = plt.figure(figsize=(10,5))\n",
        "  ax = fig.add_subplot(121) \n",
        "  ax.imshow(testimg[i].reshape(initialshape) , cmap=\"bone\")\n",
        "  ax.get_xaxis().set_visible(False)\n",
        "  ax.get_yaxis().set_visible(False)\n",
        "  ax = fig.add_subplot(122) \n",
        "  ax.imshow(outim[i].reshape(initialshape) , cmap=\"bone\")\n",
        "  ax.get_xaxis().set_visible(False)\n",
        "  ax.get_yaxis().set_visible(False)\n"
      ],
      "execution_count": 55,
      "outputs": []
    },
    {
      "cell_type": "code",
      "metadata": {
        "colab": {
          "base_uri": "https://localhost:8080/",
          "height": 1000
        },
        "id": "5PZB9q4B_0u0",
        "outputId": "3a076907-2041-4e41-eaf1-d898b420f770"
      },
      "source": [
        "for i in range(10):\n",
        "  compareinout(i, output_image64, x_test)\n"
      ],
      "execution_count": 56,
      "outputs": [
        {
          "output_type": "display_data",
          "data": {
            "image/png": "[encoded data removed]",
            "text/plain": [
              "<Figure size 720x360 with 2 Axes>"
            ]
          },
          "metadata": {
            "needs_background": "light"
          }
        },
        {
          "output_type": "display_data",
          "data": {
            "image/png": "[encoded data removed]",
            "text/plain": [
              "<Figure size 720x360 with 2 Axes>"
            ]
          },
          "metadata": {
            "needs_background": "light"
          }
        },
        {
          "output_type": "display_data",
          "data": {
            "image/png": "[encoded data removed]",
            "text/plain": [
              "<Figure size 720x360 with 2 Axes>"
            ]
          },
          "metadata": {
            "needs_background": "light"
          }
        },
        {
          "output_type": "display_data",
          "data": {
            "image/png": "[encoded data removed]",
            "text/plain": [
              "<Figure size 720x360 with 2 Axes>"
            ]
          },
          "metadata": {
            "needs_background": "light"
          }
        },
        {
          "output_type": "display_data",
          "data": {
            "image/png": "[encoded data removed]",
            "text/plain": [
              "<Figure size 720x360 with 2 Axes>"
            ]
          },
          "metadata": {
            "needs_background": "light"
          }
        },
        {
          "output_type": "display_data",
          "data": {
            "image/png": "[encoded data removed]",
            "text/plain": [
              "<Figure size 720x360 with 2 Axes>"
            ]
          },
          "metadata": {
            "needs_background": "light"
          }
        },
        {
          "output_type": "display_data",
          "data": {
            "image/png": "[encoded data removed]",
            "text/plain": [
              "<Figure size 720x360 with 2 Axes>"
            ]
          },
          "metadata": {
            "needs_background": "light"
          }
        },
        {
          "output_type": "display_data",
          "data": {
            "image/png": "[encoded data removed]",
            "text/plain": [
              "<Figure size 720x360 with 2 Axes>"
            ]
          },
          "metadata": {
            "needs_background": "light"
          }
        },
        {
          "output_type": "display_data",
          "data": {
            "image/png": "[encoded data removed]",
            "text/plain": [
              "<Figure size 720x360 with 2 Axes>"
            ]
          },
          "metadata": {
            "needs_background": "light"
          }
        },
        {
          "output_type": "display_data",
          "data": {
            "image/png": "[encoded data removed]",
            "text/plain": [
              "<Figure size 720x360 with 2 Axes>"
            ]
          },
          "metadata": {
            "needs_background": "light"
          }
        }
      ]
    },
    {
      "cell_type": "code",
      "metadata": {
        "id": "K-_y1uyYEAxa"
      },
      "source": [
        ""
      ],
      "execution_count": null,
      "outputs": []
    }
  ]
}